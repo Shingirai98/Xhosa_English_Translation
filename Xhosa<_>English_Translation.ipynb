{
  "nbformat": 4,
  "nbformat_minor": 0,
  "metadata": {
    "colab": {
      "name": "Xhosa<->English Translation.ipynb",
      "provenance": [],
      "authorship_tag": "ABX9TyNolrnwlsJIlaR7AZMYh1H8",
      "include_colab_link": true
    },
    "kernelspec": {
      "name": "python3",
      "display_name": "Python 3"
    },
    "language_info": {
      "name": "python"
    },
    "accelerator": "GPU"
  },
  "cells": [
    {
      "cell_type": "markdown",
      "metadata": {
        "id": "view-in-github",
        "colab_type": "text"
      },
      "source": [
        "<a href=\"https://colab.research.google.com/github/Shingirai98/Xhosa_English_Translation/blob/main/Xhosa%3C_%3EEnglish_Translation.ipynb\" target=\"_parent\"><img src=\"https://colab.research.google.com/assets/colab-badge.svg\" alt=\"Open In Colab\"/></a>"
      ]
    },
    {
      "cell_type": "markdown",
      "metadata": {
        "id": "0yEFsvb0bX8T"
      },
      "source": [
        "Mount the drive to be used for storage of data"
      ]
    },
    {
      "cell_type": "code",
      "metadata": {
        "colab": {
          "base_uri": "https://localhost:8080/"
        },
        "id": "RROaiMCY0P1D",
        "outputId": "259a711a-455b-44b8-b5f8-a913f6b54893"
      },
      "source": [
        "from google.colab import drive\n",
        "drive.mount('/content/drive')"
      ],
      "execution_count": null,
      "outputs": [
        {
          "output_type": "stream",
          "name": "stdout",
          "text": [
            "Mounted at /content/drive\n"
          ]
        }
      ]
    },
    {
      "cell_type": "markdown",
      "metadata": {
        "id": "w9lQZ5hgbWN5"
      },
      "source": [
        "Setup source and target languages using the short hand from the JW300 JSON data"
      ]
    },
    {
      "cell_type": "code",
      "metadata": {
        "id": "azy86diBjeyT"
      },
      "source": [
        "# TODO: Set your source and target languages. Keep in mind, these traditionally use language codes as found here:\n",
        "# These will also become the suffix's of all vocab and corpus files used throughout\n",
        "import os\n",
        "source_language = \"en\"\n",
        "target_language = \"xh\" \n",
        "lc = False  # If True, lowercase the data.\n",
        "seed = 42  # Random seed for shuffling.\n",
        "tag = \"baseline\" # Give a unique name to your folder - this is to ensure you don't rewrite any models you've already submitted\n",
        "\n",
        "os.environ[\"src\"] = source_language # Sets them in bash as well, since we often use bash scripts\n",
        "os.environ[\"tgt\"] = target_language\n",
        "os.environ[\"tag\"] = tag\n",
        "\n",
        "# This will save it to a folder in our gdrive instead!\n",
        "!mkdir -p \"/content/drive/My Drive/masakhane/$tgt-$src-$tag\"\n",
        "os.environ[\"gdrive_path\"] = \"/content/drive/My Drive/masakhane/%s-%s-%s\" % (target_language, source_language, tag)"
      ],
      "execution_count": null,
      "outputs": []
    },
    {
      "cell_type": "code",
      "metadata": {
        "colab": {
          "base_uri": "https://localhost:8080/"
        },
        "id": "G4dgTc-GoOvm",
        "outputId": "05a20a26-e420-4a9a-992b-0fc4f75bbcbb"
      },
      "source": [
        "# confirm the availability of folder\n",
        "\n",
        "!echo $gdrive_path"
      ],
      "execution_count": null,
      "outputs": [
        {
          "output_type": "stream",
          "name": "stdout",
          "text": [
            "/content/drive/My Drive/masakhane/xh-en-baseline\n"
          ]
        }
      ]
    },
    {
      "cell_type": "code",
      "metadata": {
        "colab": {
          "base_uri": "https://localhost:8080/"
        },
        "id": "m5h1mMp1o-O5",
        "outputId": "62fe9cb1-0d7b-4bb2-e833-440bfc30c2a5"
      },
      "source": [
        "# install the opus tools\n",
        "! pip install opustools-pkg"
      ],
      "execution_count": null,
      "outputs": [
        {
          "output_type": "stream",
          "name": "stdout",
          "text": [
            "Collecting opustools-pkg\n",
            "  Downloading opustools_pkg-0.0.52-py3-none-any.whl (80 kB)\n",
            "\u001b[?25l\r\u001b[K     |████                            | 10 kB 24.6 MB/s eta 0:00:01\r\u001b[K     |████████                        | 20 kB 29.8 MB/s eta 0:00:01\r\u001b[K     |████████████▏                   | 30 kB 32.9 MB/s eta 0:00:01\r\u001b[K     |████████████████▏               | 40 kB 35.1 MB/s eta 0:00:01\r\u001b[K     |████████████████████▎           | 51 kB 30.4 MB/s eta 0:00:01\r\u001b[K     |████████████████████████▎       | 61 kB 31.6 MB/s eta 0:00:01\r\u001b[K     |████████████████████████████▎   | 71 kB 30.8 MB/s eta 0:00:01\r\u001b[K     |████████████████████████████████| 80 kB 9.0 MB/s \n",
            "\u001b[?25hInstalling collected packages: opustools-pkg\n",
            "Successfully installed opustools-pkg-0.0.52\n"
          ]
        }
      ]
    },
    {
      "cell_type": "code",
      "metadata": {
        "colab": {
          "base_uri": "https://localhost:8080/"
        },
        "id": "nLTDBzRbpMON",
        "outputId": "ade25371-36eb-435e-cf44-2f70fac67b2c"
      },
      "source": [
        "# Downloading our corpus\n",
        "! opus_read -d JW300 -s $src -t $tgt -wm moses -w jw300.$src jw300.$tgt -q\n",
        "\n",
        "# extract the corpus file\n",
        "! gunzip JW300_latest_xml_$src-$tgt.xml.gz"
      ],
      "execution_count": null,
      "outputs": [
        {
          "output_type": "stream",
          "name": "stdout",
          "text": [
            "\n",
            "Alignment file /proj/nlpl/data/OPUS/JW300/latest/xml/en-xh.xml.gz not found. The following files are available for downloading:\n",
            "\n",
            "   9 MB https://object.pouta.csc.fi/OPUS-JW300/v1c/xml/en-xh.xml.gz\n",
            " 274 MB https://object.pouta.csc.fi/OPUS-JW300/v1c/xml/en.zip\n",
            "  82 MB https://object.pouta.csc.fi/OPUS-JW300/v1c/xml/xh.zip\n",
            "\n",
            " 364 MB Total size\n",
            "./JW300_latest_xml_en-xh.xml.gz ... 100% of 9 MB\n",
            "./JW300_latest_xml_en.zip ... 100% of 274 MB\n",
            "./JW300_latest_xml_xh.zip ... 100% of 82 MB\n"
          ]
        }
      ]
    },
    {
      "cell_type": "code",
      "metadata": {
        "colab": {
          "base_uri": "https://localhost:8080/"
        },
        "id": "VK10HwFNptkg",
        "outputId": "baff8714-80e2-4c46-be81-4073647472c4"
      },
      "source": [
        "# Download the global test set.\n",
        "! wget https://raw.githubusercontent.com/juliakreutzer/masakhane/master/jw300_utils/test/test.en-any.en\n",
        "  \n",
        "# And the specific test set for this language pair.\n",
        "os.environ[\"trg\"] = target_language \n",
        "os.environ[\"src\"] = source_language \n",
        "\n",
        "! wget https://raw.githubusercontent.com/juliakreutzer/masakhane/master/jw300_utils/test/test.en-$trg.en \n",
        "! mv test.en-$trg.en test.en\n",
        "! wget https://raw.githubusercontent.com/juliakreutzer/masakhane/master/jw300_utils/test/test.en-$trg.$trg \n",
        "! mv test.en-$trg.$trg test.$trg"
      ],
      "execution_count": null,
      "outputs": [
        {
          "output_type": "stream",
          "name": "stdout",
          "text": [
            "--2021-10-10 15:29:36--  https://raw.githubusercontent.com/juliakreutzer/masakhane/master/jw300_utils/test/test.en-any.en\n",
            "Resolving raw.githubusercontent.com (raw.githubusercontent.com)... 185.199.108.133, 185.199.109.133, 185.199.110.133, ...\n",
            "Connecting to raw.githubusercontent.com (raw.githubusercontent.com)|185.199.108.133|:443... connected.\n",
            "HTTP request sent, awaiting response... 200 OK\n",
            "Length: 277791 (271K) [text/plain]\n",
            "Saving to: ‘test.en-any.en’\n",
            "\n",
            "\rtest.en-any.en        0%[                    ]       0  --.-KB/s               \rtest.en-any.en      100%[===================>] 271.28K  --.-KB/s    in 0.004s  \n",
            "\n",
            "2021-10-10 15:29:36 (60.9 MB/s) - ‘test.en-any.en’ saved [277791/277791]\n",
            "\n",
            "--2021-10-10 15:29:36--  https://raw.githubusercontent.com/juliakreutzer/masakhane/master/jw300_utils/test/test.en-xh.en\n",
            "Resolving raw.githubusercontent.com (raw.githubusercontent.com)... 185.199.108.133, 185.199.109.133, 185.199.110.133, ...\n",
            "Connecting to raw.githubusercontent.com (raw.githubusercontent.com)|185.199.108.133|:443... connected.\n",
            "HTTP request sent, awaiting response... 200 OK\n",
            "Length: 206162 (201K) [text/plain]\n",
            "Saving to: ‘test.en-xh.en’\n",
            "\n",
            "test.en-xh.en       100%[===================>] 201.33K  --.-KB/s    in 0.02s   \n",
            "\n",
            "2021-10-10 15:29:36 (11.7 MB/s) - ‘test.en-xh.en’ saved [206162/206162]\n",
            "\n",
            "--2021-10-10 15:29:37--  https://raw.githubusercontent.com/juliakreutzer/masakhane/master/jw300_utils/test/test.en-xh.xh\n",
            "Resolving raw.githubusercontent.com (raw.githubusercontent.com)... 185.199.108.133, 185.199.109.133, 185.199.110.133, ...\n",
            "Connecting to raw.githubusercontent.com (raw.githubusercontent.com)|185.199.108.133|:443... connected.\n",
            "HTTP request sent, awaiting response... 200 OK\n",
            "Length: 211374 (206K) [text/plain]\n",
            "Saving to: ‘test.en-xh.xh’\n",
            "\n",
            "test.en-xh.xh       100%[===================>] 206.42K  --.-KB/s    in 0.004s  \n",
            "\n",
            "2021-10-10 15:29:37 (50.0 MB/s) - ‘test.en-xh.xh’ saved [211374/211374]\n",
            "\n"
          ]
        }
      ]
    },
    {
      "cell_type": "code",
      "metadata": {
        "colab": {
          "base_uri": "https://localhost:8080/"
        },
        "id": "BKbFyw8qrSnK",
        "outputId": "1eac9aeb-ccc0-4c79-925b-beb0faaa1573"
      },
      "source": [
        "# Read the test data to filter from train and dev splits.\n",
        "# Store english portion in set for quick filtering checks.\n",
        "en_test_sents = set()\n",
        "filter_test_sents = \"test.en-any.en\"\n",
        "j = 0\n",
        "with open(filter_test_sents) as f:\n",
        "  for line in f:\n",
        "    en_test_sents.add(line.strip())\n",
        "    j += 1\n",
        "print('Loaded {} global test sentences to filter from the training/dev data.'.format(j))"
      ],
      "execution_count": null,
      "outputs": [
        {
          "output_type": "stream",
          "name": "stdout",
          "text": [
            "Loaded 3571 global test sentences to filter from the training/dev data.\n"
          ]
        }
      ]
    },
    {
      "cell_type": "code",
      "metadata": {
        "colab": {
          "base_uri": "https://localhost:8080/",
          "height": 159
        },
        "id": "yCmVg7A_sC3O",
        "outputId": "a04dbc3d-3fe1-4934-fa59-6019c860fcc4"
      },
      "source": [
        "import pandas as pd\n",
        "\n",
        "# TMX file to dataframe\n",
        "source_file = 'jw300.' + source_language\n",
        "target_file = 'jw300.' + target_language\n",
        "\n",
        "source = []\n",
        "target = []\n",
        "skip_lines = []  # Collect the line numbers of the source portion to skip the same lines for the target portion.\n",
        "with open(source_file) as f:\n",
        "    for i, line in enumerate(f):\n",
        "        # Skip sentences that are contained in the test set.\n",
        "        if line.strip() not in en_test_sents:\n",
        "            source.append(line.strip())\n",
        "        else:\n",
        "            skip_lines.append(i)             \n",
        "with open(target_file) as f:\n",
        "    for j, line in enumerate(f):\n",
        "        # Only add to corpus if corresponding source was not skipped.\n",
        "        if j not in skip_lines:\n",
        "            target.append(line.strip())\n",
        "    \n",
        "print('Loaded data and skipped {}/{} lines since contained in test set.'.format(len(skip_lines), i))\n",
        "    \n",
        "df = pd.DataFrame(zip(source, target), columns=['source_sentence', 'target_sentence'])\n",
        "# if you get TypeError: data argument can't be an iterator is because of your zip version run this below\n",
        "#df = pd.DataFrame(list(zip(source, target)), columns=['source_sentence', 'target_sentence'])\n",
        "df.head(3)"
      ],
      "execution_count": null,
      "outputs": [
        {
          "output_type": "stream",
          "name": "stdout",
          "text": [
            "Loaded data and skipped 5287/866747 lines since contained in test set.\n"
          ]
        },
        {
          "output_type": "execute_result",
          "data": {
            "text/html": [
              "<div>\n",
              "<style scoped>\n",
              "    .dataframe tbody tr th:only-of-type {\n",
              "        vertical-align: middle;\n",
              "    }\n",
              "\n",
              "    .dataframe tbody tr th {\n",
              "        vertical-align: top;\n",
              "    }\n",
              "\n",
              "    .dataframe thead th {\n",
              "        text-align: right;\n",
              "    }\n",
              "</style>\n",
              "<table border=\"1\" class=\"dataframe\">\n",
              "  <thead>\n",
              "    <tr style=\"text-align: right;\">\n",
              "      <th></th>\n",
              "      <th>source_sentence</th>\n",
              "      <th>target_sentence</th>\n",
              "    </tr>\n",
              "  </thead>\n",
              "  <tbody>\n",
              "    <tr>\n",
              "      <th>0</th>\n",
              "      <td>How One Marriage Was Saved</td>\n",
              "      <td>Indlela Owasindiswa Ngayo Lo Mtshato</td>\n",
              "    </tr>\n",
              "    <tr>\n",
              "      <th>1</th>\n",
              "      <td>“ The application of the counsel in the book M...</td>\n",
              "      <td>Omnye umfundi onoxabiso nowaseMzantsi Afrika w...</td>\n",
              "    </tr>\n",
              "    <tr>\n",
              "      <th>2</th>\n",
              "      <td>“ Chapter 5 , ‘ A Wife Who Is Dearly Loved , ’...</td>\n",
              "      <td>“ Isahluko 5 , esithi ‘ Umfazi Othandwa Kunene...</td>\n",
              "    </tr>\n",
              "  </tbody>\n",
              "</table>\n",
              "</div>"
            ],
            "text/plain": [
              "                                     source_sentence                                    target_sentence\n",
              "0                         How One Marriage Was Saved               Indlela Owasindiswa Ngayo Lo Mtshato\n",
              "1  “ The application of the counsel in the book M...  Omnye umfundi onoxabiso nowaseMzantsi Afrika w...\n",
              "2  “ Chapter 5 , ‘ A Wife Who Is Dearly Loved , ’...  “ Isahluko 5 , esithi ‘ Umfazi Othandwa Kunene..."
            ]
          },
          "metadata": {},
          "execution_count": 8
        }
      ]
    },
    {
      "cell_type": "markdown",
      "metadata": {
        "id": "8ucF50K3zQPM"
      },
      "source": [
        "Preprocessing and Export"
      ]
    },
    {
      "cell_type": "code",
      "metadata": {
        "id": "__eSBoVBvaCR",
        "colab": {
          "base_uri": "https://localhost:8080/"
        },
        "outputId": "1972b8e4-f338-48e9-b63a-20ad986eb9c7"
      },
      "source": [
        "# drop duplicate translations\n",
        "df_pp = df.drop_duplicates()\n",
        "\n",
        "# drop conflicting translations\n",
        "# (this is optional and something that you might want to comment out \n",
        "# depending on the size of your corpus)\n",
        "df_pp.drop_duplicates(subset='source_sentence', inplace=True)\n",
        "df_pp.drop_duplicates(subset='target_sentence', inplace=True)\n",
        "\n",
        "# Shuffle the data to remove bias in dev set selection.\n",
        "df_pp = df_pp.sample(frac=1, random_state=seed).reset_index(drop=True)"
      ],
      "execution_count": null,
      "outputs": [
        {
          "output_type": "stream",
          "name": "stderr",
          "text": [
            "/usr/local/lib/python3.7/dist-packages/ipykernel_launcher.py:7: SettingWithCopyWarning: \n",
            "A value is trying to be set on a copy of a slice from a DataFrame\n",
            "\n",
            "See the caveats in the documentation: https://pandas.pydata.org/pandas-docs/stable/user_guide/indexing.html#returning-a-view-versus-a-copy\n",
            "  import sys\n",
            "/usr/local/lib/python3.7/dist-packages/ipykernel_launcher.py:8: SettingWithCopyWarning: \n",
            "A value is trying to be set on a copy of a slice from a DataFrame\n",
            "\n",
            "See the caveats in the documentation: https://pandas.pydata.org/pandas-docs/stable/user_guide/indexing.html#returning-a-view-versus-a-copy\n",
            "  \n"
          ]
        }
      ]
    },
    {
      "cell_type": "markdown",
      "metadata": {
        "id": "qRebfZlF0-wn"
      },
      "source": [
        "Remove almost duplicate sentences in the test and training datasets"
      ]
    },
    {
      "cell_type": "code",
      "metadata": {
        "id": "qjpzlSEv1Fda",
        "colab": {
          "base_uri": "https://localhost:8080/"
        },
        "outputId": "60a21c20-3f67-4b82-d992-2f646ca1db43"
      },
      "source": [
        "# Install fuzzy wuzzy to remove \"almost duplicate\" sentences in the\n",
        "# test and training sets.\n",
        "! pip install fuzzywuzzy\n",
        "! pip install python-Levenshtein\n",
        "import time\n",
        "from fuzzywuzzy import process\n",
        "import numpy as np\n",
        "from os import cpu_count\n",
        "from functools import partial\n",
        "from multiprocessing import Pool\n",
        "\n",
        "\n",
        "# reset the index of the training set after previous filtering\n",
        "df_pp.reset_index(drop=False, inplace=True)\n",
        "\n",
        "# Remove samples from the training data set if they \"almost overlap\" with the\n",
        "# samples in the test set.\n",
        "\n",
        "# Filtering function. Adjust pad to narrow down the candidate matches to\n",
        "# within a certain length of characters of the given sample.\n",
        "def fuzzfilter(sample, candidates, pad):\n",
        "  candidates = [x for x in candidates if len(x) <= len(sample)+pad and len(x) >= len(sample)-pad] \n",
        "  if len(candidates) > 0:\n",
        "    return process.extractOne(sample, candidates)[1]\n",
        "  else:\n",
        "    return np.nan"
      ],
      "execution_count": null,
      "outputs": [
        {
          "output_type": "stream",
          "name": "stdout",
          "text": [
            "Collecting fuzzywuzzy\n",
            "  Downloading fuzzywuzzy-0.18.0-py2.py3-none-any.whl (18 kB)\n",
            "Installing collected packages: fuzzywuzzy\n",
            "Successfully installed fuzzywuzzy-0.18.0\n",
            "Collecting python-Levenshtein\n",
            "  Downloading python-Levenshtein-0.12.2.tar.gz (50 kB)\n",
            "\u001b[K     |████████████████████████████████| 50 kB 6.6 MB/s \n",
            "\u001b[?25hRequirement already satisfied: setuptools in /usr/local/lib/python3.7/dist-packages (from python-Levenshtein) (57.4.0)\n",
            "Building wheels for collected packages: python-Levenshtein\n",
            "  Building wheel for python-Levenshtein (setup.py) ... \u001b[?25l\u001b[?25hdone\n",
            "  Created wheel for python-Levenshtein: filename=python_Levenshtein-0.12.2-cp37-cp37m-linux_x86_64.whl size=149861 sha256=8af7cfe66cbe045bb32bc4b867d26211a3e5215854171943b88032c2f1d771b6\n",
            "  Stored in directory: /root/.cache/pip/wheels/05/5f/ca/7c4367734892581bb5ff896f15027a932c551080b2abd3e00d\n",
            "Successfully built python-Levenshtein\n",
            "Installing collected packages: python-Levenshtein\n",
            "Successfully installed python-Levenshtein-0.12.2\n"
          ]
        }
      ]
    },
    {
      "cell_type": "markdown",
      "metadata": {
        "id": "zDD37_GmzO3n"
      },
      "source": [
        "Split between the train/dev for the parallel corpora them saves them as separate files\n"
      ]
    },
    {
      "cell_type": "code",
      "metadata": {
        "id": "FUlWNE5nhOXS"
      },
      "source": [
        "# start_time = time.time()\n",
        "# ### iterating over pandas dataframe rows is not recomended, let use multi processing to apply the function\n",
        "\n",
        "# with Pool(cpu_count()-1) as pool:\n",
        "#     scores = pool.map(partial(fuzzfilter, candidates=list(en_test_sents), pad=5), df_pp['source_sentence'])\n",
        "# hours, rem = divmod(time.time() - start_time, 3600)\n",
        "# minutes, seconds = divmod(rem, 60)\n",
        "# print(\"done in {}h:{}min:{}seconds\".format(hours, minutes, seconds))\n",
        "\n",
        "# # Filter out \"almost overlapping samples\"\n",
        "# df_pp = df_pp.assign(scores=scores)\n",
        "# df_pp = df_pp[df_pp['scores'] < 95]"
      ],
      "execution_count": null,
      "outputs": []
    },
    {
      "cell_type": "code",
      "metadata": {
        "id": "vZZ4pIQD1xJa",
        "colab": {
          "base_uri": "https://localhost:8080/"
        },
        "outputId": "d46c7a22-12d7-4c51-9d24-2b956cada4eb"
      },
      "source": [
        "import csv\n",
        "\n",
        "# Do the split between dev/train and create parallel corpora\n",
        "num_dev_patterns = 1000\n",
        "\n",
        "# Optional: lower case the corpora - this will make it easier to generalize, but without proper casing.\n",
        "if lc:  # Julia: making lowercasing optional\n",
        "    df_pp[\"source_sentence\"] = df_pp[\"source_sentence\"].str.lower()\n",
        "    df_pp[\"target_sentence\"] = df_pp[\"target_sentence\"].str.lower()\n",
        "\n",
        "# Julia: test sets are already generated\n",
        "dev = df_pp.tail(num_dev_patterns) # Herman: Error in original\n",
        "stripped = df_pp.drop(df_pp.tail(num_dev_patterns).index)\n",
        "\n",
        "with open(\"train.\"+source_language, \"w\") as src_file, open(\"train.\"+target_language, \"w\") as trg_file:\n",
        "  for index, row in stripped.iterrows():\n",
        "    src_file.write(row[\"source_sentence\"]+\"\\n\")\n",
        "    trg_file.write(row[\"target_sentence\"]+\"\\n\")\n",
        "    \n",
        "with open(\"dev.\"+source_language, \"w\") as src_file, open(\"dev.\"+target_language, \"w\") as trg_file:\n",
        "  for index, row in dev.iterrows():\n",
        "    src_file.write(row[\"source_sentence\"]+\"\\n\")\n",
        "    trg_file.write(row[\"target_sentence\"]+\"\\n\")\n",
        "! head train.*\n",
        "! head dev.*"
      ],
      "execution_count": null,
      "outputs": [
        {
          "output_type": "stream",
          "name": "stdout",
          "text": [
            "==> train.en <==\n",
            "We want them to become our active companions , praising Jehovah .\n",
            "As my dear wife put it , our privileges have indeed been a joy beyond compare .\n",
            "It is also a personal joy to meet again the many Gilead missionaries still faithful in their foreign assignments .\n",
            "“ CALL THE ELDERS ”\n",
            "Might it be that you could make a concession from time to time ?\n",
            "It all depends upon the rotation system for the chairmanship in the governing body . ”\n",
            "▪ Drowsiness\n",
            "A dramatic vision revealed to the apostle John indicates the answer .\n",
            "I try not to think only of myself .\n",
            "I was born in 1955 into a Presbyterian family in the village of Calanga in the Manica District .\n",
            "\n",
            "==> train.xh <==\n",
            "Sifuna babe ngamadlelane ethu akhutheleyo ekudumiseni uYehova .\n",
            "Njengoko umfazi wam othandekayo watsho , eneneni amalungelo esiye sawaxhamla aye asibangela sanovuyo olungenakuthelekiswa nanto .\n",
            "Kwakhona kuluvuyo kum ukuhlangana kwakhona nabavangeli basemazweni abaninzi baseGiliyadi abasathembekileyo kwizabelo zabo zasemzini .\n",
            "‘ BIZA AMADODA AMAKHULU ’\n",
            "Ngaba mhlawumbi awunakunyenyisa ngamaxesha athile ?\n",
            "Konke kuxhomekeke kwinkqubo yokutshintshatshintsha usihlalo kwiqumrhu elilawulayo . ”\n",
            "▪ Ukozela\n",
            "Umbono ophawulekayo owatyhilelwa umpostile uYohane unikela impendulo .\n",
            "Ndizama ukuba ndingasoloko ndicinga ngam .\n",
            "Ndazalwa ngowe - 1955 kwintsapho yamaRhabe kwidolophana yaseCalanga kwiSithili saseManica .\n",
            "==> dev.en <==\n",
            "Then there are youths who must endure some type of chronic illness .\n",
            "Paul urged fellow Christians : “ Be long-suffering toward all . ” ( 1 Thessalonians 5 : 14 ) Since all of us are imperfect and make mistakes , surely we want people to be patient with us , to be long-suffering when we err in our dealings with them .\n",
            "16 Did the prophet Jeremiah find joy in his work ?\n",
            "And accepting discipline from Jehovah , as given by Christian elders , keeps us on the way to life. — Prov . 4 : 13 .\n",
            "The “ Perfect Vehicle ”\n",
            "Judgment Day will thus be a part of the accomplishment of God ’ s purpose to undo all the effects of the original rebellion against God in the garden of Eden .\n",
            "And his sisters , are they not all with us ? ”\n",
            "According to the Bible , those serving as ministers include whom ?\n",
            "“ Going to the meetings after a hospital stay can be a little challenging , but that is where I belong .\n",
            "The language of a nation is the gateway to its culture .\n",
            "\n",
            "==> dev.xh <==\n",
            "Kukho ke nolutsha olunyamezele isifo esithile esinganyangekiyo .\n",
            "UPawulos wabongoza amaKristu awayekhonza nawo esithi : “ Nizeke kade umsindo kubo bonke . ” ( 1 Tesalonika 5 : 14 ) Ekubeni sonke singafezekanga yaye sisenza iimpazamo , ngokuqinisekileyo sifuna abantu babe nomonde kuthi , bazeke kade umsindo xa sibaphatha ngendlela engafanelekanga .\n",
            "16 Ngaba umprofeti uYeremiya wayevuyiswa ngumsebenzi wakhe ?\n",
            "Nathi ke , xa siyamkela ingqeqesho kaYehova , njengoko inikelwa ngabadala abangamaKristu , sitsho sihlale kwindlela esa ebomini . — IMize . 4 : 13 .\n",
            "Esona Sithuthi Sifanelekileyo\n",
            "Ngaloo ndlela iMini yoMgwebo iya kuba yinxalenye yokuphunyezwa kwenjongo kaThixo yokulungisa imiphumo yokuvukelwa kukaThixo okokuqala kumyezo wase - Eden . [ Umbhalo osemazantsi ]\n",
            "Nabazalwana bakhe asingooYakobi , noYose , noSimon , noYuda , yini na ? ”\n",
            "Ngokutsho kweBhayibhile , abo bakhonza njengabalungiseleli baquka oobani ?\n",
            "Ukuya kwiintlanganiso emva kokuhlala esibhedlele kuba nzima maxa wambi , kodwa ndiyaya kuba yeyona ndawo yam leyo .\n",
            "Ukwazi ulwimi lohlanga oluthile kuyindlela yokwazi izithethe zalo .\n"
          ]
        }
      ]
    },
    {
      "cell_type": "markdown",
      "metadata": {
        "id": "-vT1jHqGnLWS"
      },
      "source": [
        "## Installation of JoeyNMT\n",
        "This is a simple, minimal Neural Machine Translation package for learning and teaching"
      ]
    },
    {
      "cell_type": "code",
      "metadata": {
        "colab": {
          "base_uri": "https://localhost:8080/"
        },
        "id": "ndgKut6bmrmn",
        "outputId": "62be97ac-1966-4542-e6f4-e88cf0389b92"
      },
      "source": [
        "\n",
        "\n",
        "# Install JoeyNMT\n",
        "! git clone https://github.com/joeynmt/joeynmt.git\n",
        "! cd joeynmt; pip3 install .\n",
        "# Install Pytorch with GPU support v1.7.1.\n",
        "! pip3 install torch -f https://download.pytorch.org/whl/torch_stable.html"
      ],
      "execution_count": null,
      "outputs": [
        {
          "output_type": "stream",
          "name": "stdout",
          "text": [
            "Cloning into 'joeynmt'...\n",
            "remote: Enumerating objects: 3224, done.\u001b[K\n",
            "remote: Counting objects: 100% (273/273), done.\u001b[K\n",
            "remote: Compressing objects: 100% (139/139), done.\u001b[K\n",
            "remote: Total 3224 (delta 157), reused 206 (delta 134), pack-reused 2951\u001b[K\n",
            "Receiving objects: 100% (3224/3224), 8.17 MiB | 19.87 MiB/s, done.\n",
            "Resolving deltas: 100% (2186/2186), done.\n",
            "Processing /content/joeynmt\n",
            "\u001b[33m  DEPRECATION: A future pip version will change local packages to be built in-place without first copying to a temporary directory. We recommend you use --use-feature=in-tree-build to test your packages with this new behavior before it becomes the default.\n",
            "   pip 21.3 will remove support for this functionality. You can find discussion regarding this at https://github.com/pypa/pip/issues/7555.\u001b[0m\n",
            "Requirement already satisfied: future in /usr/local/lib/python3.7/dist-packages (from joeynmt==1.3) (0.16.0)\n",
            "Requirement already satisfied: pillow in /usr/local/lib/python3.7/dist-packages (from joeynmt==1.3) (7.1.2)\n",
            "Requirement already satisfied: numpy>=1.19.5 in /usr/local/lib/python3.7/dist-packages (from joeynmt==1.3) (1.19.5)\n",
            "Requirement already satisfied: setuptools>=41.0.0 in /usr/local/lib/python3.7/dist-packages (from joeynmt==1.3) (57.4.0)\n",
            "Requirement already satisfied: torch>=1.9.0 in /usr/local/lib/python3.7/dist-packages (from joeynmt==1.3) (1.9.0+cu111)\n",
            "Requirement already satisfied: tensorboard>=1.15 in /usr/local/lib/python3.7/dist-packages (from joeynmt==1.3) (2.6.0)\n",
            "Requirement already satisfied: torchtext>=0.10.0 in /usr/local/lib/python3.7/dist-packages (from joeynmt==1.3) (0.10.0)\n",
            "Collecting sacrebleu>=2.0.0\n",
            "  Downloading sacrebleu-2.0.0-py3-none-any.whl (90 kB)\n",
            "\u001b[K     |████████████████████████████████| 90 kB 9.3 MB/s \n",
            "\u001b[?25hCollecting subword-nmt\n",
            "  Downloading subword_nmt-0.3.7-py2.py3-none-any.whl (26 kB)\n",
            "Requirement already satisfied: matplotlib in /usr/local/lib/python3.7/dist-packages (from joeynmt==1.3) (3.2.2)\n",
            "Requirement already satisfied: seaborn in /usr/local/lib/python3.7/dist-packages (from joeynmt==1.3) (0.11.2)\n",
            "Collecting pyyaml>=5.1\n",
            "  Downloading PyYAML-5.4.1-cp37-cp37m-manylinux1_x86_64.whl (636 kB)\n",
            "\u001b[K     |████████████████████████████████| 636 kB 41.8 MB/s \n",
            "\u001b[?25hCollecting pylint>=2.9.6\n",
            "  Downloading pylint-2.11.1-py3-none-any.whl (392 kB)\n",
            "\u001b[K     |████████████████████████████████| 392 kB 60.8 MB/s \n",
            "\u001b[?25hCollecting six==1.12\n",
            "  Downloading six-1.12.0-py2.py3-none-any.whl (10 kB)\n",
            "Collecting wrapt==1.11.1\n",
            "  Downloading wrapt-1.11.1.tar.gz (27 kB)\n",
            "Collecting platformdirs>=2.2.0\n",
            "  Downloading platformdirs-2.4.0-py3-none-any.whl (14 kB)\n",
            "Collecting mccabe<0.7,>=0.6\n",
            "  Downloading mccabe-0.6.1-py2.py3-none-any.whl (8.6 kB)\n",
            "Collecting astroid<2.9,>=2.8.0\n",
            "  Downloading astroid-2.8.2-py3-none-any.whl (246 kB)\n",
            "\u001b[K     |████████████████████████████████| 246 kB 67.9 MB/s \n",
            "\u001b[?25hRequirement already satisfied: toml>=0.7.1 in /usr/local/lib/python3.7/dist-packages (from pylint>=2.9.6->joeynmt==1.3) (0.10.2)\n",
            "Collecting typing-extensions>=3.10.0\n",
            "  Downloading typing_extensions-3.10.0.2-py3-none-any.whl (26 kB)\n",
            "Collecting isort<6,>=4.2.5\n",
            "  Downloading isort-5.9.3-py3-none-any.whl (106 kB)\n",
            "\u001b[K     |████████████████████████████████| 106 kB 58.6 MB/s \n",
            "\u001b[?25hCollecting lazy-object-proxy>=1.4.0\n",
            "  Downloading lazy_object_proxy-1.6.0-cp37-cp37m-manylinux1_x86_64.whl (55 kB)\n",
            "\u001b[K     |████████████████████████████████| 55 kB 4.1 MB/s \n",
            "\u001b[?25hCollecting typed-ast<1.5,>=1.4.0\n",
            "  Downloading typed_ast-1.4.3-cp37-cp37m-manylinux1_x86_64.whl (743 kB)\n",
            "\u001b[K     |████████████████████████████████| 743 kB 52.3 MB/s \n",
            "\u001b[?25hRequirement already satisfied: regex in /usr/local/lib/python3.7/dist-packages (from sacrebleu>=2.0.0->joeynmt==1.3) (2019.12.20)\n",
            "Collecting colorama\n",
            "  Downloading colorama-0.4.4-py2.py3-none-any.whl (16 kB)\n",
            "Collecting portalocker\n",
            "  Downloading portalocker-2.3.2-py2.py3-none-any.whl (15 kB)\n",
            "Requirement already satisfied: tabulate>=0.8.9 in /usr/local/lib/python3.7/dist-packages (from sacrebleu>=2.0.0->joeynmt==1.3) (0.8.9)\n",
            "Requirement already satisfied: google-auth<2,>=1.6.3 in /usr/local/lib/python3.7/dist-packages (from tensorboard>=1.15->joeynmt==1.3) (1.35.0)\n",
            "Requirement already satisfied: requests<3,>=2.21.0 in /usr/local/lib/python3.7/dist-packages (from tensorboard>=1.15->joeynmt==1.3) (2.23.0)\n",
            "Requirement already satisfied: absl-py>=0.4 in /usr/local/lib/python3.7/dist-packages (from tensorboard>=1.15->joeynmt==1.3) (0.12.0)\n",
            "Requirement already satisfied: protobuf>=3.6.0 in /usr/local/lib/python3.7/dist-packages (from tensorboard>=1.15->joeynmt==1.3) (3.17.3)\n",
            "Requirement already satisfied: wheel>=0.26 in /usr/local/lib/python3.7/dist-packages (from tensorboard>=1.15->joeynmt==1.3) (0.37.0)\n",
            "Requirement already satisfied: grpcio>=1.24.3 in /usr/local/lib/python3.7/dist-packages (from tensorboard>=1.15->joeynmt==1.3) (1.41.0)\n",
            "Requirement already satisfied: tensorboard-plugin-wit>=1.6.0 in /usr/local/lib/python3.7/dist-packages (from tensorboard>=1.15->joeynmt==1.3) (1.8.0)\n",
            "Requirement already satisfied: tensorboard-data-server<0.7.0,>=0.6.0 in /usr/local/lib/python3.7/dist-packages (from tensorboard>=1.15->joeynmt==1.3) (0.6.1)\n",
            "Requirement already satisfied: werkzeug>=0.11.15 in /usr/local/lib/python3.7/dist-packages (from tensorboard>=1.15->joeynmt==1.3) (1.0.1)\n",
            "Requirement already satisfied: google-auth-oauthlib<0.5,>=0.4.1 in /usr/local/lib/python3.7/dist-packages (from tensorboard>=1.15->joeynmt==1.3) (0.4.6)\n",
            "Requirement already satisfied: markdown>=2.6.8 in /usr/local/lib/python3.7/dist-packages (from tensorboard>=1.15->joeynmt==1.3) (3.3.4)\n",
            "Requirement already satisfied: cachetools<5.0,>=2.0.0 in /usr/local/lib/python3.7/dist-packages (from google-auth<2,>=1.6.3->tensorboard>=1.15->joeynmt==1.3) (4.2.4)\n",
            "Requirement already satisfied: rsa<5,>=3.1.4 in /usr/local/lib/python3.7/dist-packages (from google-auth<2,>=1.6.3->tensorboard>=1.15->joeynmt==1.3) (4.7.2)\n",
            "Requirement already satisfied: pyasn1-modules>=0.2.1 in /usr/local/lib/python3.7/dist-packages (from google-auth<2,>=1.6.3->tensorboard>=1.15->joeynmt==1.3) (0.2.8)\n",
            "Requirement already satisfied: requests-oauthlib>=0.7.0 in /usr/local/lib/python3.7/dist-packages (from google-auth-oauthlib<0.5,>=0.4.1->tensorboard>=1.15->joeynmt==1.3) (1.3.0)\n",
            "Requirement already satisfied: importlib-metadata in /usr/local/lib/python3.7/dist-packages (from markdown>=2.6.8->tensorboard>=1.15->joeynmt==1.3) (4.8.1)\n",
            "Requirement already satisfied: pyasn1<0.5.0,>=0.4.6 in /usr/local/lib/python3.7/dist-packages (from pyasn1-modules>=0.2.1->google-auth<2,>=1.6.3->tensorboard>=1.15->joeynmt==1.3) (0.4.8)\n",
            "Requirement already satisfied: idna<3,>=2.5 in /usr/local/lib/python3.7/dist-packages (from requests<3,>=2.21.0->tensorboard>=1.15->joeynmt==1.3) (2.10)\n",
            "Requirement already satisfied: chardet<4,>=3.0.2 in /usr/local/lib/python3.7/dist-packages (from requests<3,>=2.21.0->tensorboard>=1.15->joeynmt==1.3) (3.0.4)\n",
            "Requirement already satisfied: certifi>=2017.4.17 in /usr/local/lib/python3.7/dist-packages (from requests<3,>=2.21.0->tensorboard>=1.15->joeynmt==1.3) (2021.5.30)\n",
            "Requirement already satisfied: urllib3!=1.25.0,!=1.25.1,<1.26,>=1.21.1 in /usr/local/lib/python3.7/dist-packages (from requests<3,>=2.21.0->tensorboard>=1.15->joeynmt==1.3) (1.24.3)\n",
            "Requirement already satisfied: oauthlib>=3.0.0 in /usr/local/lib/python3.7/dist-packages (from requests-oauthlib>=0.7.0->google-auth-oauthlib<0.5,>=0.4.1->tensorboard>=1.15->joeynmt==1.3) (3.1.1)\n",
            "Requirement already satisfied: tqdm in /usr/local/lib/python3.7/dist-packages (from torchtext>=0.10.0->joeynmt==1.3) (4.62.3)\n",
            "Requirement already satisfied: zipp>=0.5 in /usr/local/lib/python3.7/dist-packages (from importlib-metadata->markdown>=2.6.8->tensorboard>=1.15->joeynmt==1.3) (3.6.0)\n",
            "Requirement already satisfied: pyparsing!=2.0.4,!=2.1.2,!=2.1.6,>=2.0.1 in /usr/local/lib/python3.7/dist-packages (from matplotlib->joeynmt==1.3) (2.4.7)\n",
            "Requirement already satisfied: cycler>=0.10 in /usr/local/lib/python3.7/dist-packages (from matplotlib->joeynmt==1.3) (0.10.0)\n",
            "Requirement already satisfied: kiwisolver>=1.0.1 in /usr/local/lib/python3.7/dist-packages (from matplotlib->joeynmt==1.3) (1.3.2)\n",
            "Requirement already satisfied: python-dateutil>=2.1 in /usr/local/lib/python3.7/dist-packages (from matplotlib->joeynmt==1.3) (2.8.2)\n",
            "Requirement already satisfied: scipy>=1.0 in /usr/local/lib/python3.7/dist-packages (from seaborn->joeynmt==1.3) (1.4.1)\n",
            "Requirement already satisfied: pandas>=0.23 in /usr/local/lib/python3.7/dist-packages (from seaborn->joeynmt==1.3) (1.1.5)\n",
            "Requirement already satisfied: pytz>=2017.2 in /usr/local/lib/python3.7/dist-packages (from pandas>=0.23->seaborn->joeynmt==1.3) (2018.9)\n",
            "Building wheels for collected packages: joeynmt, wrapt\n",
            "  Building wheel for joeynmt (setup.py) ... \u001b[?25l\u001b[?25hdone\n",
            "  Created wheel for joeynmt: filename=joeynmt-1.3-py3-none-any.whl size=86029 sha256=1b1137905d97279cb3af1ffa8d850c86c18446c571a643d5a10d0a0d3271f4d5\n",
            "  Stored in directory: /tmp/pip-ephem-wheel-cache-0dpuc9tj/wheels/0a/f4/bf/6c9d3b8efbfece6cd209f865be37382b02e7c3584df2e28ca4\n",
            "  Building wheel for wrapt (setup.py) ... \u001b[?25l\u001b[?25hdone\n",
            "  Created wheel for wrapt: filename=wrapt-1.11.1-cp37-cp37m-linux_x86_64.whl size=68431 sha256=e6d3e47c155f1347eb0ab773414f39260943efd3f8137fad231a20eab2ffb98d\n",
            "  Stored in directory: /root/.cache/pip/wheels/4e/58/9d/da8bad4545585ca52311498ff677647c95c7b690b3040171f8\n",
            "Successfully built joeynmt wrapt\n",
            "Installing collected packages: typing-extensions, six, wrapt, typed-ast, lazy-object-proxy, portalocker, platformdirs, mccabe, isort, colorama, astroid, subword-nmt, sacrebleu, pyyaml, pylint, joeynmt\n",
            "  Attempting uninstall: typing-extensions\n",
            "    Found existing installation: typing-extensions 3.7.4.3\n",
            "    Uninstalling typing-extensions-3.7.4.3:\n",
            "      Successfully uninstalled typing-extensions-3.7.4.3\n",
            "  Attempting uninstall: six\n",
            "    Found existing installation: six 1.15.0\n",
            "    Uninstalling six-1.15.0:\n",
            "      Successfully uninstalled six-1.15.0\n",
            "  Attempting uninstall: wrapt\n",
            "    Found existing installation: wrapt 1.12.1\n",
            "    Uninstalling wrapt-1.12.1:\n",
            "      Successfully uninstalled wrapt-1.12.1\n",
            "  Attempting uninstall: pyyaml\n",
            "    Found existing installation: PyYAML 3.13\n",
            "    Uninstalling PyYAML-3.13:\n",
            "      Successfully uninstalled PyYAML-3.13\n",
            "\u001b[31mERROR: pip's dependency resolver does not currently take into account all the packages that are installed. This behaviour is the source of the following dependency conflicts.\n",
            "tensorflow 2.6.0 requires six~=1.15.0, but you have six 1.12.0 which is incompatible.\n",
            "tensorflow 2.6.0 requires typing-extensions~=3.7.4, but you have typing-extensions 3.10.0.2 which is incompatible.\n",
            "tensorflow 2.6.0 requires wrapt~=1.12.1, but you have wrapt 1.11.1 which is incompatible.\n",
            "google-colab 1.0.0 requires six~=1.15.0, but you have six 1.12.0 which is incompatible.\n",
            "google-api-python-client 1.12.8 requires six<2dev,>=1.13.0, but you have six 1.12.0 which is incompatible.\n",
            "google-api-core 1.26.3 requires six>=1.13.0, but you have six 1.12.0 which is incompatible.\n",
            "datascience 0.10.6 requires folium==0.2.1, but you have folium 0.8.3 which is incompatible.\n",
            "albumentations 0.1.12 requires imgaug<0.2.7,>=0.2.5, but you have imgaug 0.2.9 which is incompatible.\u001b[0m\n",
            "Successfully installed astroid-2.8.2 colorama-0.4.4 isort-5.9.3 joeynmt-1.3 lazy-object-proxy-1.6.0 mccabe-0.6.1 platformdirs-2.4.0 portalocker-2.3.2 pylint-2.11.1 pyyaml-5.4.1 sacrebleu-2.0.0 six-1.12.0 subword-nmt-0.3.7 typed-ast-1.4.3 typing-extensions-3.10.0.2 wrapt-1.11.1\n",
            "Looking in links: https://download.pytorch.org/whl/torch_stable.html\n",
            "Requirement already satisfied: torch in /usr/local/lib/python3.7/dist-packages (1.9.0+cu111)\n",
            "Requirement already satisfied: typing-extensions in /usr/local/lib/python3.7/dist-packages (from torch) (3.10.0.2)\n"
          ]
        }
      ]
    },
    {
      "cell_type": "markdown",
      "metadata": {
        "id": "v8pDGN3RnKHS"
      },
      "source": [
        "##Preprocessing the data into Subword BPE Tokens"
      ]
    },
    {
      "cell_type": "code",
      "metadata": {
        "colab": {
          "base_uri": "https://localhost:8080/"
        },
        "id": "afbLspNgpR3p",
        "outputId": "62bb111d-12ca-4ec2-e6e1-40c2fa010ca0"
      },
      "source": [
        "from os import path\n",
        "os.environ[\"src\"] = source_language # Sets them in bash as well, since we often use bash scripts\n",
        "os.environ[\"tgt\"] = target_language\n",
        "\n",
        "# Learn BPEs on the training data.\n",
        "os.environ[\"data_path\"] = path.join(\"joeynmt\", \"data\",target_language + source_language ) # Herman! \n",
        "! subword-nmt learn-joint-bpe-and-vocab --input train.$src train.$tgt -s 4000 -o bpe.codes.4000 --write-vocabulary vocab.$src vocab.$tgt\n",
        "\n",
        "# Apply BPE splits to the development and test data.\n",
        "! subword-nmt apply-bpe -c bpe.codes.4000 --vocabulary vocab.$src < train.$src > train.bpe.$src\n",
        "! subword-nmt apply-bpe -c bpe.codes.4000 --vocabulary vocab.$tgt < train.$tgt > train.bpe.$tgt\n",
        "\n",
        "! subword-nmt apply-bpe -c bpe.codes.4000 --vocabulary vocab.$src < dev.$src > dev.bpe.$src\n",
        "! subword-nmt apply-bpe -c bpe.codes.4000 --vocabulary vocab.$tgt < dev.$tgt > dev.bpe.$tgt\n",
        "! subword-nmt apply-bpe -c bpe.codes.4000 --vocabulary vocab.$src < test.$src > test.bpe.$src\n",
        "! subword-nmt apply-bpe -c bpe.codes.4000 --vocabulary vocab.$tgt < test.$tgt > test.bpe.$tgt\n",
        "\n",
        "# Create directory, move everyone we care about to the correct location\n",
        "! mkdir -p $data_path\n",
        "! cp train.* $data_path\n",
        "! cp test.* $data_path\n",
        "! cp dev.* $data_path\n",
        "! cp bpe.codes.4000 $data_path\n",
        "! ls $data_path\n",
        "\n",
        "! cp train.* \"$gdrive_path\"\n",
        "! cp test.* \"$gdrive_path\"\n",
        "! cp dev.* \"$gdrive_path\"\n",
        "! cp bpe.codes.4000 \"$gdrive_path\"\n",
        "! ls \"$gdrive_path\"\n",
        "\n",
        "# Create that vocab using build_vocab\n",
        "! sudo chmod 777 joeynmt/scripts/build_vocab.py\n",
        "! joeynmt/scripts/build_vocab.py joeynmt/data/$tgt$src/train.bpe.$src joeynmt/data/$tgt$src/train.bpe.$tgt --output_path joeynmt/data/$tgt$src/vocab.txt\n",
        "\n",
        "# Some output\n",
        "! echo \"BPE Swahili Sentences\"\n",
        "! tail -n 5 test.bpe.$tgt\n",
        "! echo \"Combined BPE Vocab\"\n",
        "! tail -n 10 joeynmt/data/$tgt$src/vocab.txt  # Herman"
      ],
      "execution_count": null,
      "outputs": [
        {
          "output_type": "stream",
          "name": "stdout",
          "text": [
            "bpe.codes.4000\tdev.en\t     test.bpe.xh     test.xh\t   train.en\n",
            "dev.bpe.en\tdev.xh\t     test.en\t     train.bpe.en  train.xh\n",
            "dev.bpe.xh\ttest.bpe.en  test.en-any.en  train.bpe.xh\n",
            "bpe.codes.4000\tdev.en\ttest.bpe.en  test.en-any.en  train.bpe.xh\n",
            "dev.bpe.en\tdev.xh\ttest.bpe.xh  test.xh\t     train.en\n",
            "dev.bpe.xh\tmodels\ttest.en      train.bpe.en    train.xh\n",
            "BPE Swahili Sentences\n",
            "Oku kwa@@ ph@@ umela ekubeni nd@@ id@@ ume njengom@@ ntu ong@@ any@@ anis@@ ekanga .\n",
            "Xa nd@@ afunda inyaniso , and@@ izange nd@@ iph@@ inde nd@@ iv@@ ume ukuq@@ hubeka ndis@@ enza oko , naku@@ beni ndand@@ ihl@@ awul@@ wa um@@ v@@ uzo on@@ c@@ um@@ isayo .\n",
            "Nd@@ ing@@ umzekelo om@@ hle ko@@ onyana bam abab@@ ini yaye nd@@ iye nd@@ af@@ anel@@ ekela amalung@@ elo ang@@ akumbi ebandleni .\n",
            "Nd@@ az@@ iwa njengom@@ ntu on@@ yanisekileyo ngabantu end@@ ish@@ ish@@ ina kunye nabo kwan@@ abahl@@ ol@@ i boku@@ m@@ a kwem@@ ali ye@@ enk@@ amp@@ ani ( t@@ a@@ x a@@ ud@@ it@@ ors ) . ”\n",
            "U@@ R@@ ute wa@@ f@@ ud@@ ukela kwa@@ Sirayeli apho way@@ eza ku@@ kwazi uku@@ nq@@ ula oy@@ ena Thixo w@@ okwenyaniso .\n",
            "Combined BPE Vocab\n",
            "õ\n",
            "Ù@@\n",
            "betw@@\n",
            "̆\n",
            "Í\n",
            "Ο@@\n",
            "¥\n",
            "ź@@\n",
            "anekiso\n",
            "?@@\n"
          ]
        }
      ]
    },
    {
      "cell_type": "code",
      "metadata": {
        "colab": {
          "base_uri": "https://localhost:8080/"
        },
        "id": "AMOouv3K183J",
        "outputId": "512d0517-825b-42a5-f21a-195c70e55f4f"
      },
      "source": [
        "# Also move everything we care about to a mounted location in google drive (relevant if running in colab) at gdrive_path\n",
        "! cp train.* \"$gdrive_path\"\n",
        "! cp test.* \"$gdrive_path\"\n",
        "! cp dev.* \"$gdrive_path\"\n",
        "! cp bpe.codes.4000 \"$gdrive_path\"\n",
        "! ls \"$gdrive_path\""
      ],
      "execution_count": null,
      "outputs": [
        {
          "output_type": "stream",
          "name": "stdout",
          "text": [
            "bpe.codes.4000\tdev.en\ttest.bpe.en  test.en-any.en  train.bpe.xh\n",
            "dev.bpe.en\tdev.xh\ttest.bpe.xh  test.xh\t     train.en\n",
            "dev.bpe.xh\tmodels\ttest.en      train.bpe.en    train.xh\n"
          ]
        }
      ]
    },
    {
      "cell_type": "code",
      "metadata": {
        "id": "eqk_sgJz7Cky"
      },
      "source": [
        "name = '%s%s' % (target_language, source_language)\n",
        "# gdrive_path = os.environ[\"gdrive_path\"]\n",
        "\n",
        "# Create the config\n",
        "config = \"\"\"\n",
        "name: \"{target_language}{source_language}_reverse_transformer\"\n",
        "\n",
        "data:\n",
        "    src: \"{target_language}\"\n",
        "    trg: \"{source_language}\"\n",
        "    train: \"data/{name}/train.bpe\"\n",
        "    dev:   \"data/{name}/dev.bpe\"\n",
        "    test:  \"data/{name}/test.bpe\"\n",
        "    level: \"bpe\"\n",
        "    lowercase: False\n",
        "    max_sent_length: 100\n",
        "    src_vocab: \"data/{name}/vocab.txt\"\n",
        "    trg_vocab: \"data/{name}/vocab.txt\"\n",
        "\n",
        "testing:\n",
        "    beam_size: 5\n",
        "    alpha: 1.0\n",
        "\n",
        "training:\n",
        "    #load_model: \"{gdrive_path}/models/{name}_transformer/1.ckpt\" # if uncommented, load a pre-trained model from this checkpoint\n",
        "    random_seed: 42\n",
        "    optimizer: \"adam\"\n",
        "    normalization: \"tokens\"\n",
        "    adam_betas: [0.9, 0.999] \n",
        "    scheduling: \"plateau\"           # TODO: try switching from plateau to Noam scheduling\n",
        "    patience: 5                     # For plateau: decrease learning rate by decrease_factor if validation score has not improved for this many validation rounds.\n",
        "    learning_rate_factor: 0.5       # factor for Noam scheduler (used with Transformer)\n",
        "    learning_rate_warmup: 1000      # warmup steps for Noam scheduler (used with Transformer)\n",
        "    decrease_factor: 0.7\n",
        "    loss: \"crossentropy\"\n",
        "    learning_rate: 0.0003\n",
        "    learning_rate_min: 0.00000001\n",
        "    weight_decay: 0.0\n",
        "    label_smoothing: 0.1\n",
        "    batch_size: 4096\n",
        "    batch_type: \"token\"\n",
        "    eval_batch_size: 3600\n",
        "    eval_batch_type: \"token\"\n",
        "    batch_multiplier: 1\n",
        "    early_stopping_metric: \"ppl\"\n",
        "    epochs: 5                  # TODO: Decrease for when playing around and checking of working. Around 30 is sufficient to check if its working at all\n",
        "    validation_freq: 1000          # TODO: Set to at least once per epoch.\n",
        "    logging_freq: 100\n",
        "    eval_metric: \"bleu\"\n",
        "    model_dir: \"models/{name}_reverse_transformer\"\n",
        "    overwrite: True              # TODO: Set to True if you want to overwrite possibly existing models. \n",
        "    shuffle: True\n",
        "    use_cuda: True\n",
        "    max_output_length: 100\n",
        "    print_valid_sents: [0, 1, 2, 3]\n",
        "    keep_last_ckpts: 3\n",
        "\n",
        "model:\n",
        "    initializer: \"xavier\"\n",
        "    bias_initializer: \"zeros\"\n",
        "    init_gain: 1.0\n",
        "    embed_initializer: \"xavier\"\n",
        "    embed_init_gain: 1.0\n",
        "    tied_embeddings: True\n",
        "    tied_softmax: True\n",
        "    encoder:\n",
        "        type: \"transformer\"\n",
        "        num_layers: 6\n",
        "        num_heads: 4             # TODO: Increase to 8 for larger data.\n",
        "        embeddings:\n",
        "            embedding_dim: 256   # TODO: Increase to 512 for larger data.\n",
        "            scale: True\n",
        "            dropout: 0.2\n",
        "        # typically ff_size = 4 x hidden_size\n",
        "        hidden_size: 256         # TODO: Increase to 512 for larger data.\n",
        "        ff_size: 1024            # TODO: Increase to 2048 for larger data.\n",
        "        dropout: 0.3\n",
        "    decoder:\n",
        "        type: \"transformer\"\n",
        "        num_layers: 6\n",
        "        num_heads: 4              # TODO: Increase to 8 for larger data.\n",
        "        embeddings:\n",
        "            embedding_dim: 256    # TODO: Increase to 512 for larger data.\n",
        "            scale: True\n",
        "            dropout: 0.2\n",
        "        # typically ff_size = 4 x hidden_size\n",
        "        hidden_size: 256         # TODO: Increase to 512 for larger data.\n",
        "        ff_size: 1024            # TODO: Increase to 2048 for larger data.\n",
        "        dropout: 0.3\n",
        "\"\"\".format(name=name, gdrive_path=os.environ[\"gdrive_path\"], source_language=source_language, target_language=target_language)\n",
        "with open(\"joeynmt/configs/transformer_reverse_{name}.yaml\".format(name=name),'w') as f:\n",
        "    f.write(config)\n"
      ],
      "execution_count": null,
      "outputs": []
    },
    {
      "cell_type": "code",
      "metadata": {
        "colab": {
          "base_uri": "https://localhost:8080/"
        },
        "id": "umCeTzsc7XA7",
        "outputId": "ab2e54c7-3bbe-4434-b30b-39151937225b"
      },
      "source": [
        "# Train the model\n",
        "# You can press Ctrl-C to stop. And then run the next cell to save your checkpoints! \n",
        "!cd joeynmt; python3 -m joeynmt train configs/transformer_reverse_$tgt$src.yaml"
      ],
      "execution_count": null,
      "outputs": [
        {
          "output_type": "stream",
          "name": "stdout",
          "text": [
            "2021-10-10 15:39:03,000 - INFO - root - Hello! This is Joey-NMT (version 1.3).\n",
            "2021-10-10 15:39:03,135 - INFO - joeynmt.data - Loading training data...\n",
            "2021-10-10 15:39:20,324 - INFO - joeynmt.data - Building vocabulary...\n",
            "2021-10-10 15:39:20,685 - INFO - joeynmt.data - Loading dev data...\n",
            "2021-10-10 15:39:20,788 - INFO - joeynmt.data - Loading test data...\n",
            "2021-10-10 15:39:20,814 - INFO - joeynmt.data - Data loaded.\n",
            "2021-10-10 15:39:20,814 - INFO - joeynmt.model - Building an encoder-decoder model...\n",
            "2021-10-10 15:39:21,221 - INFO - joeynmt.model - Enc-dec model built.\n",
            "2021-10-10 15:39:22,504 - INFO - joeynmt.training - Total params: 12201472\n",
            "2021-10-10 15:39:22,507 - WARNING - joeynmt.training - `keep_last_ckpts` option is outdated. Please use `keep_best_ckpts`, instead.\n",
            "2021-10-10 15:39:22,508 - INFO - joeynmt.helpers - cfg.name                           : xhen_reverse_transformer\n",
            "2021-10-10 15:39:22,508 - INFO - joeynmt.helpers - cfg.data.src                       : xh\n",
            "2021-10-10 15:39:22,508 - INFO - joeynmt.helpers - cfg.data.trg                       : en\n",
            "2021-10-10 15:39:22,508 - INFO - joeynmt.helpers - cfg.data.train                     : data/xhen/train.bpe\n",
            "2021-10-10 15:39:22,508 - INFO - joeynmt.helpers - cfg.data.dev                       : data/xhen/dev.bpe\n",
            "2021-10-10 15:39:22,508 - INFO - joeynmt.helpers - cfg.data.test                      : data/xhen/test.bpe\n",
            "2021-10-10 15:39:22,509 - INFO - joeynmt.helpers - cfg.data.level                     : bpe\n",
            "2021-10-10 15:39:22,509 - INFO - joeynmt.helpers - cfg.data.lowercase                 : False\n",
            "2021-10-10 15:39:22,509 - INFO - joeynmt.helpers - cfg.data.max_sent_length           : 100\n",
            "2021-10-10 15:39:22,509 - INFO - joeynmt.helpers - cfg.data.src_vocab                 : data/xhen/vocab.txt\n",
            "2021-10-10 15:39:22,509 - INFO - joeynmt.helpers - cfg.data.trg_vocab                 : data/xhen/vocab.txt\n",
            "2021-10-10 15:39:22,509 - INFO - joeynmt.helpers - cfg.testing.beam_size              : 5\n",
            "2021-10-10 15:39:22,509 - INFO - joeynmt.helpers - cfg.testing.alpha                  : 1.0\n",
            "2021-10-10 15:39:22,509 - INFO - joeynmt.helpers - cfg.training.random_seed           : 42\n",
            "2021-10-10 15:39:22,509 - INFO - joeynmt.helpers - cfg.training.optimizer             : adam\n",
            "2021-10-10 15:39:22,509 - INFO - joeynmt.helpers - cfg.training.normalization         : tokens\n",
            "2021-10-10 15:39:22,509 - INFO - joeynmt.helpers - cfg.training.adam_betas            : [0.9, 0.999]\n",
            "2021-10-10 15:39:22,509 - INFO - joeynmt.helpers - cfg.training.scheduling            : plateau\n",
            "2021-10-10 15:39:22,510 - INFO - joeynmt.helpers - cfg.training.patience              : 5\n",
            "2021-10-10 15:39:22,510 - INFO - joeynmt.helpers - cfg.training.learning_rate_factor  : 0.5\n",
            "2021-10-10 15:39:22,510 - INFO - joeynmt.helpers - cfg.training.learning_rate_warmup  : 1000\n",
            "2021-10-10 15:39:22,510 - INFO - joeynmt.helpers - cfg.training.decrease_factor       : 0.7\n",
            "2021-10-10 15:39:22,510 - INFO - joeynmt.helpers - cfg.training.loss                  : crossentropy\n",
            "2021-10-10 15:39:22,510 - INFO - joeynmt.helpers - cfg.training.learning_rate         : 0.0003\n",
            "2021-10-10 15:39:22,510 - INFO - joeynmt.helpers - cfg.training.learning_rate_min     : 1e-08\n",
            "2021-10-10 15:39:22,510 - INFO - joeynmt.helpers - cfg.training.weight_decay          : 0.0\n",
            "2021-10-10 15:39:22,510 - INFO - joeynmt.helpers - cfg.training.label_smoothing       : 0.1\n",
            "2021-10-10 15:39:22,510 - INFO - joeynmt.helpers - cfg.training.batch_size            : 4096\n",
            "2021-10-10 15:39:22,510 - INFO - joeynmt.helpers - cfg.training.batch_type            : token\n",
            "2021-10-10 15:39:22,510 - INFO - joeynmt.helpers - cfg.training.eval_batch_size       : 3600\n",
            "2021-10-10 15:39:22,510 - INFO - joeynmt.helpers - cfg.training.eval_batch_type       : token\n",
            "2021-10-10 15:39:22,511 - INFO - joeynmt.helpers - cfg.training.batch_multiplier      : 1\n",
            "2021-10-10 15:39:22,511 - INFO - joeynmt.helpers - cfg.training.early_stopping_metric : ppl\n",
            "2021-10-10 15:39:22,511 - INFO - joeynmt.helpers - cfg.training.epochs                : 5\n",
            "2021-10-10 15:39:22,511 - INFO - joeynmt.helpers - cfg.training.validation_freq       : 1000\n",
            "2021-10-10 15:39:22,511 - INFO - joeynmt.helpers - cfg.training.logging_freq          : 100\n",
            "2021-10-10 15:39:22,511 - INFO - joeynmt.helpers - cfg.training.eval_metric           : bleu\n",
            "2021-10-10 15:39:22,511 - INFO - joeynmt.helpers - cfg.training.model_dir             : models/xhen_reverse_transformer\n",
            "2021-10-10 15:39:22,511 - INFO - joeynmt.helpers - cfg.training.overwrite             : True\n",
            "2021-10-10 15:39:22,511 - INFO - joeynmt.helpers - cfg.training.shuffle               : True\n",
            "2021-10-10 15:39:22,511 - INFO - joeynmt.helpers - cfg.training.use_cuda              : True\n",
            "2021-10-10 15:39:22,511 - INFO - joeynmt.helpers - cfg.training.max_output_length     : 100\n",
            "2021-10-10 15:39:22,511 - INFO - joeynmt.helpers - cfg.training.print_valid_sents     : [0, 1, 2, 3]\n",
            "2021-10-10 15:39:22,511 - INFO - joeynmt.helpers - cfg.training.keep_last_ckpts       : 3\n",
            "2021-10-10 15:39:22,512 - INFO - joeynmt.helpers - cfg.model.initializer              : xavier\n",
            "2021-10-10 15:39:22,512 - INFO - joeynmt.helpers - cfg.model.bias_initializer         : zeros\n",
            "2021-10-10 15:39:22,512 - INFO - joeynmt.helpers - cfg.model.init_gain                : 1.0\n",
            "2021-10-10 15:39:22,512 - INFO - joeynmt.helpers - cfg.model.embed_initializer        : xavier\n",
            "2021-10-10 15:39:22,512 - INFO - joeynmt.helpers - cfg.model.embed_init_gain          : 1.0\n",
            "2021-10-10 15:39:22,512 - INFO - joeynmt.helpers - cfg.model.tied_embeddings          : True\n",
            "2021-10-10 15:39:22,512 - INFO - joeynmt.helpers - cfg.model.tied_softmax             : True\n",
            "2021-10-10 15:39:22,512 - INFO - joeynmt.helpers - cfg.model.encoder.type             : transformer\n",
            "2021-10-10 15:39:22,512 - INFO - joeynmt.helpers - cfg.model.encoder.num_layers       : 6\n",
            "2021-10-10 15:39:22,512 - INFO - joeynmt.helpers - cfg.model.encoder.num_heads        : 4\n",
            "2021-10-10 15:39:22,512 - INFO - joeynmt.helpers - cfg.model.encoder.embeddings.embedding_dim : 256\n",
            "2021-10-10 15:39:22,512 - INFO - joeynmt.helpers - cfg.model.encoder.embeddings.scale : True\n",
            "2021-10-10 15:39:22,512 - INFO - joeynmt.helpers - cfg.model.encoder.embeddings.dropout : 0.2\n",
            "2021-10-10 15:39:22,513 - INFO - joeynmt.helpers - cfg.model.encoder.hidden_size      : 256\n",
            "2021-10-10 15:39:22,513 - INFO - joeynmt.helpers - cfg.model.encoder.ff_size          : 1024\n",
            "2021-10-10 15:39:22,513 - INFO - joeynmt.helpers - cfg.model.encoder.dropout          : 0.3\n",
            "2021-10-10 15:39:22,513 - INFO - joeynmt.helpers - cfg.model.decoder.type             : transformer\n",
            "2021-10-10 15:39:22,513 - INFO - joeynmt.helpers - cfg.model.decoder.num_layers       : 6\n",
            "2021-10-10 15:39:22,513 - INFO - joeynmt.helpers - cfg.model.decoder.num_heads        : 4\n",
            "2021-10-10 15:39:22,513 - INFO - joeynmt.helpers - cfg.model.decoder.embeddings.embedding_dim : 256\n",
            "2021-10-10 15:39:22,513 - INFO - joeynmt.helpers - cfg.model.decoder.embeddings.scale : True\n",
            "2021-10-10 15:39:22,513 - INFO - joeynmt.helpers - cfg.model.decoder.embeddings.dropout : 0.2\n",
            "2021-10-10 15:39:22,513 - INFO - joeynmt.helpers - cfg.model.decoder.hidden_size      : 256\n",
            "2021-10-10 15:39:22,513 - INFO - joeynmt.helpers - cfg.model.decoder.ff_size          : 1024\n",
            "2021-10-10 15:39:22,513 - INFO - joeynmt.helpers - cfg.model.decoder.dropout          : 0.3\n",
            "2021-10-10 15:39:22,513 - INFO - joeynmt.helpers - Data set sizes: \n",
            "\ttrain 771093,\n",
            "\tvalid 1000,\n",
            "\ttest 2711\n",
            "2021-10-10 15:39:22,514 - INFO - joeynmt.helpers - First training example:\n",
            "\t[SRC] S@@ ifuna babe ngam@@ ad@@ l@@ elane ethu akh@@ uth@@ eleyo eku@@ dum@@ iseni uYehova .\n",
            "\t[TRG] We want them to become our ac@@ tive comp@@ an@@ ions , pra@@ is@@ ing Jehovah .\n",
            "2021-10-10 15:39:22,514 - INFO - joeynmt.helpers - First 10 words (src): (0) <unk> (1) <pad> (2) <s> (3) </s> (4) . (5) , (6) the (7) : (8) to (9) of\n",
            "2021-10-10 15:39:22,514 - INFO - joeynmt.helpers - First 10 words (trg): (0) <unk> (1) <pad> (2) <s> (3) </s> (4) . (5) , (6) the (7) : (8) to (9) of\n",
            "2021-10-10 15:39:22,514 - INFO - joeynmt.helpers - Number of Src words (types): 4458\n",
            "2021-10-10 15:39:22,514 - INFO - joeynmt.helpers - Number of Trg words (types): 4458\n",
            "2021-10-10 15:39:22,514 - INFO - joeynmt.training - Model(\n",
            "\tencoder=TransformerEncoder(num_layers=6, num_heads=4),\n",
            "\tdecoder=TransformerDecoder(num_layers=6, num_heads=4),\n",
            "\tsrc_embed=Embeddings(embedding_dim=256, vocab_size=4458),\n",
            "\ttrg_embed=Embeddings(embedding_dim=256, vocab_size=4458))\n",
            "2021-10-10 15:39:22,518 - INFO - joeynmt.training - Train stats:\n",
            "\tdevice: cpu\n",
            "\tn_gpu: 0\n",
            "\t16-bits training: False\n",
            "\tgradient accumulation: 1\n",
            "\tbatch size per device: 4096\n",
            "\ttotal batch size (w. parallel & accumulation): 4096\n",
            "2021-10-10 15:39:22,518 - INFO - joeynmt.training - EPOCH 1\n",
            "2021-10-10 15:50:24,234 - INFO - joeynmt.training - Epoch   1, Step:      100, Batch Loss:     5.608910, Tokens per Sec:      222, Lr: 0.000300\n",
            "2021-10-10 16:01:29,227 - INFO - joeynmt.training - Epoch   1, Step:      200, Batch Loss:     5.402979, Tokens per Sec:      228, Lr: 0.000300\n",
            "2021-10-10 16:12:30,510 - INFO - joeynmt.training - Epoch   1, Step:      300, Batch Loss:     5.253297, Tokens per Sec:      216, Lr: 0.000300\n",
            "2021-10-10 16:23:24,434 - INFO - joeynmt.training - Epoch   1, Step:      400, Batch Loss:     5.044086, Tokens per Sec:      228, Lr: 0.000300\n",
            "2021-10-10 16:34:26,600 - INFO - joeynmt.training - Epoch   1, Step:      500, Batch Loss:     4.797233, Tokens per Sec:      220, Lr: 0.000300\n",
            "2021-10-10 16:45:26,157 - INFO - joeynmt.training - Epoch   1, Step:      600, Batch Loss:     4.695516, Tokens per Sec:      224, Lr: 0.000300\n",
            "2021-10-10 16:56:29,082 - INFO - joeynmt.training - Epoch   1, Step:      700, Batch Loss:     4.657607, Tokens per Sec:      222, Lr: 0.000300\n",
            "2021-10-10 17:07:41,371 - INFO - joeynmt.training - Epoch   1, Step:      800, Batch Loss:     4.593776, Tokens per Sec:      220, Lr: 0.000300\n",
            "2021-10-10 17:18:46,475 - INFO - joeynmt.training - Epoch   1, Step:      900, Batch Loss:     4.424155, Tokens per Sec:      224, Lr: 0.000300\n",
            "2021-10-10 17:29:47,059 - INFO - joeynmt.training - Epoch   1, Step:     1000, Batch Loss:     4.437006, Tokens per Sec:      224, Lr: 0.000300\n",
            "2021-10-10 17:57:20,820 - WARNING - sacrebleu - That's 100 lines that end in a tokenized period ('.')\n",
            "2021-10-10 17:57:20,820 - WARNING - sacrebleu - It looks like you forgot to detokenize your test data, which may hurt your score.\n",
            "2021-10-10 17:57:20,820 - WARNING - sacrebleu - If you insist your data is detokenized, or don't care, you can suppress this message with the `force` parameter.\n",
            "2021-10-10 17:57:20,827 - INFO - joeynmt.training - Hooray! New best validation result [ppl]!\n",
            "2021-10-10 17:57:21,229 - INFO - joeynmt.training - Example #0\n",
            "2021-10-10 17:57:21,229 - INFO - joeynmt.training - \tSource:     Kukho ke nolutsha olunyamezele isifo esithile esinganyangekiyo .\n",
            "2021-10-10 17:57:21,229 - INFO - joeynmt.training - \tReference:  Then there are youths who must endure some type of chronic illness .\n",
            "2021-10-10 17:57:21,230 - INFO - joeynmt.training - \tHypothesis: He was a mate to be be a mate .\n",
            "2021-10-10 17:57:21,230 - INFO - joeynmt.training - Example #1\n",
            "2021-10-10 17:57:21,230 - INFO - joeynmt.training - \tSource:     UPawulos wabongoza amaKristu awayekhonza nawo esithi : “ Nizeke kade umsindo kubo bonke . ” ( 1 Tesalonika 5 : 14 ) Ekubeni sonke singafezekanga yaye sisenza iimpazamo , ngokuqinisekileyo sifuna abantu babe nomonde kuthi , bazeke kade umsindo xa sibaphatha ngendlela engafanelekanga .\n",
            "2021-10-10 17:57:21,230 - INFO - joeynmt.training - \tReference:  Paul urged fellow Christians : “ Be long-suffering toward all . ” ( 1 Thessalonians 5 : 14 ) Since all of us are imperfect and make mistakes , surely we want people to be patient with us , to be long-suffering when we err in our dealings with them .\n",
            "2021-10-10 17:57:21,230 - INFO - joeynmt.training - \tHypothesis: He will be be be be “ I have be be to “ the Bible ” ” ” and the Bible ” — the Bible . ” ( 1 : 5 ) But you will be be be be be be to be to be to be to be to be to be to be to be to be to be to be to be to be to be to be to be to be to be to be to be to be to be to be to the Bible .\n",
            "2021-10-10 17:57:21,230 - INFO - joeynmt.training - Example #2\n",
            "2021-10-10 17:57:21,230 - INFO - joeynmt.training - \tSource:     16 Ngaba umprofeti uYeremiya wayevuyiswa ngumsebenzi wakhe ?\n",
            "2021-10-10 17:57:21,231 - INFO - joeynmt.training - \tReference:  16 Did the prophet Jeremiah find joy in his work ?\n",
            "2021-10-10 17:57:21,231 - INFO - joeynmt.training - \tHypothesis: 2 What did the Bible ’ s Witnesses ?\n",
            "2021-10-10 17:57:21,231 - INFO - joeynmt.training - Example #3\n",
            "2021-10-10 17:57:21,231 - INFO - joeynmt.training - \tSource:     Nathi ke , xa siyamkela ingqeqesho kaYehova , njengoko inikelwa ngabadala abangamaKristu , sitsho sihlale kwindlela esa ebomini . — IMize . 4 : 13 .\n",
            "2021-10-10 17:57:21,231 - INFO - joeynmt.training - \tReference:  And accepting discipline from Jehovah , as given by Christian elders , keeps us on the way to life. — Prov . 4 : 13 .\n",
            "2021-10-10 17:57:21,231 - INFO - joeynmt.training - \tHypothesis: In example , the Bible , the Bible of the Bible , we have be be be to be to be to be to be to be to be to be to be to be to be to be to be to be to the Bible . — Psalm 1 : 5 .\n",
            "2021-10-10 17:57:21,231 - INFO - joeynmt.training - Validation result (greedy) at epoch   1, step     1000: bleu:   1.37, loss: 129630.1406, ppl:  75.8420, duration: 1654.1720s\n",
            "2021-10-10 18:08:23,647 - INFO - joeynmt.training - Epoch   1, Step:     1100, Batch Loss:     4.366530, Tokens per Sec:      225, Lr: 0.000300\n",
            "2021-10-10 18:19:19,358 - INFO - joeynmt.training - Epoch   1, Step:     1200, Batch Loss:     4.240107, Tokens per Sec:      226, Lr: 0.000300\n",
            "2021-10-10 18:30:22,994 - INFO - joeynmt.training - Epoch   1, Step:     1300, Batch Loss:     4.203923, Tokens per Sec:      220, Lr: 0.000300\n",
            "2021-10-10 18:41:28,391 - INFO - joeynmt.training - Epoch   1, Step:     1400, Batch Loss:     4.322760, Tokens per Sec:      221, Lr: 0.000300\n",
            "2021-10-10 18:52:27,027 - INFO - joeynmt.training - Epoch   1, Step:     1500, Batch Loss:     4.118024, Tokens per Sec:      221, Lr: 0.000300\n",
            "2021-10-10 19:03:31,433 - INFO - joeynmt.training - Epoch   1, Step:     1600, Batch Loss:     4.070315, Tokens per Sec:      226, Lr: 0.000300\n",
            "2021-10-10 19:14:30,461 - INFO - joeynmt.training - Epoch   1, Step:     1700, Batch Loss:     4.225734, Tokens per Sec:      224, Lr: 0.000300\n",
            "2021-10-10 19:25:32,671 - INFO - joeynmt.training - Epoch   1, Step:     1800, Batch Loss:     4.062616, Tokens per Sec:      225, Lr: 0.000300\n",
            "2021-10-10 19:36:29,924 - INFO - joeynmt.training - Epoch   1, Step:     1900, Batch Loss:     3.910580, Tokens per Sec:      229, Lr: 0.000300\n",
            "2021-10-10 19:47:27,626 - INFO - joeynmt.training - Epoch   1, Step:     2000, Batch Loss:     4.065711, Tokens per Sec:      225, Lr: 0.000300\n",
            "2021-10-10 20:08:00,332 - WARNING - sacrebleu - That's 100 lines that end in a tokenized period ('.')\n",
            "2021-10-10 20:08:00,332 - WARNING - sacrebleu - It looks like you forgot to detokenize your test data, which may hurt your score.\n",
            "2021-10-10 20:08:00,332 - WARNING - sacrebleu - If you insist your data is detokenized, or don't care, you can suppress this message with the `force` parameter.\n",
            "2021-10-10 20:08:00,339 - INFO - joeynmt.training - Hooray! New best validation result [ppl]!\n",
            "2021-10-10 20:08:00,849 - INFO - joeynmt.training - Example #0\n",
            "2021-10-10 20:08:00,849 - INFO - joeynmt.training - \tSource:     Kukho ke nolutsha olunyamezele isifo esithile esinganyangekiyo .\n",
            "2021-10-10 20:08:00,849 - INFO - joeynmt.training - \tReference:  Then there are youths who must endure some type of chronic illness .\n",
            "2021-10-10 20:08:00,849 - INFO - joeynmt.training - \tHypothesis: It is a few of the world and the world .\n",
            "2021-10-10 20:08:00,849 - INFO - joeynmt.training - Example #1\n",
            "2021-10-10 20:08:00,849 - INFO - joeynmt.training - \tSource:     UPawulos wabongoza amaKristu awayekhonza nawo esithi : “ Nizeke kade umsindo kubo bonke . ” ( 1 Tesalonika 5 : 14 ) Ekubeni sonke singafezekanga yaye sisenza iimpazamo , ngokuqinisekileyo sifuna abantu babe nomonde kuthi , bazeke kade umsindo xa sibaphatha ngendlela engafanelekanga .\n",
            "2021-10-10 20:08:00,849 - INFO - joeynmt.training - \tReference:  Paul urged fellow Christians : “ Be long-suffering toward all . ” ( 1 Thessalonians 5 : 14 ) Since all of us are imperfect and make mistakes , surely we want people to be patient with us , to be long-suffering when we err in our dealings with them .\n",
            "2021-10-10 20:08:00,849 - INFO - joeynmt.training - \tHypothesis: Paul wrote : “ The Bible is not not to be a good news of the world . ” ( 1 Corinthians 1 : 1 ) In the world , we have been been been been been been to be a person , and they have been been to be to be to be a person , and they have been been to be a person .\n",
            "2021-10-10 20:08:00,849 - INFO - joeynmt.training - Example #2\n",
            "2021-10-10 20:08:00,850 - INFO - joeynmt.training - \tSource:     16 Ngaba umprofeti uYeremiya wayevuyiswa ngumsebenzi wakhe ?\n",
            "2021-10-10 20:08:00,850 - INFO - joeynmt.training - \tReference:  16 Did the prophet Jeremiah find joy in his work ?\n",
            "2021-10-10 20:08:00,850 - INFO - joeynmt.training - \tHypothesis: 10 What did Jesus ’ s words to be a good news ?\n",
            "2021-10-10 20:08:00,850 - INFO - joeynmt.training - Example #3\n",
            "2021-10-10 20:08:00,850 - INFO - joeynmt.training - \tSource:     Nathi ke , xa siyamkela ingqeqesho kaYehova , njengoko inikelwa ngabadala abangamaKristu , sitsho sihlale kwindlela esa ebomini . — IMize . 4 : 13 .\n",
            "2021-10-10 20:08:00,850 - INFO - joeynmt.training - \tReference:  And accepting discipline from Jehovah , as given by Christian elders , keeps us on the way to life. — Prov . 4 : 13 .\n",
            "2021-10-10 20:08:00,850 - INFO - joeynmt.training - \tHypothesis: For example , we have been to Jehovah ’ s Witnesses , Jehovah ’ s Witnesses , and the Bible ’ s Witnesses , and the Bible ’ s Witnesses are not to be a Christian congregation . — RES 4 : 13 .\n",
            "2021-10-10 20:08:00,850 - INFO - joeynmt.training - Validation result (greedy) at epoch   1, step     2000: bleu:   3.32, loss: 113981.3516, ppl:  44.9748, duration: 1233.2240s\n",
            "2021-10-10 20:18:58,327 - INFO - joeynmt.training - Epoch   1, Step:     2100, Batch Loss:     4.009504, Tokens per Sec:      223, Lr: 0.000300\n",
            "Traceback (most recent call last):\n",
            "  File \"/usr/lib/python3.7/runpy.py\", line 193, in _run_module_as_main\n",
            "    \"__main__\", mod_spec)\n",
            "  File \"/usr/lib/python3.7/runpy.py\", line 85, in _run_code\n",
            "    exec(code, run_globals)\n",
            "  File \"/content/joeynmt/joeynmt/__main__.py\", line 48, in <module>\n",
            "    main()\n",
            "  File \"/content/joeynmt/joeynmt/__main__.py\", line 35, in main\n",
            "    train(cfg_file=args.config_path, skip_test=args.skip_test)\n",
            "  File \"/content/joeynmt/joeynmt/training.py\", line 846, in train\n",
            "    trainer.train_and_validate(train_data=train_data, valid_data=dev_data)\n",
            "  File \"/content/joeynmt/joeynmt/training.py\", line 447, in train_and_validate\n",
            "    batch_loss += self._train_step(batch)\n",
            "  File \"/content/joeynmt/joeynmt/training.py\", line 539, in _train_step\n",
            "    batch_loss, _, _, _ = self.model(return_type=\"loss\", **vars(batch))\n",
            "  File \"/usr/local/lib/python3.7/dist-packages/torch/nn/modules/module.py\", line 1051, in _call_impl\n",
            "    return forward_call(*input, **kwargs)\n",
            "  File \"/content/joeynmt/joeynmt/model.py\", line 84, in forward\n",
            "    out, _, _, _ = self._encode_decode(**kwargs)\n",
            "  File \"/content/joeynmt/joeynmt/model.py\", line 136, in _encode_decode\n",
            "    trg_mask=trg_mask, **kwargs)\n",
            "  File \"/content/joeynmt/joeynmt/model.py\", line 177, in _decode\n",
            "    **_kwargs)\n",
            "  File \"/usr/local/lib/python3.7/dist-packages/torch/nn/modules/module.py\", line 1051, in _call_impl\n",
            "    return forward_call(*input, **kwargs)\n",
            "  File \"/content/joeynmt/joeynmt/decoders.py\", line 539, in forward\n",
            "    src_mask=src_mask, trg_mask=trg_mask)\n",
            "  File \"/usr/local/lib/python3.7/dist-packages/torch/nn/modules/module.py\", line 1051, in _call_impl\n",
            "    return forward_call(*input, **kwargs)\n",
            "  File \"/content/joeynmt/joeynmt/transformer_layers.py\", line 268, in forward\n",
            "    h2 = self.src_trg_att(memory, memory, h1_norm, mask=src_mask)\n",
            "  File \"/usr/local/lib/python3.7/dist-packages/torch/nn/modules/module.py\", line 1051, in _call_impl\n",
            "    return forward_call(*input, **kwargs)\n",
            "  File \"/content/joeynmt/joeynmt/transformer_layers.py\", line 54, in forward\n",
            "    k = self.k_layer(k)\n",
            "  File \"/usr/local/lib/python3.7/dist-packages/torch/nn/modules/module.py\", line 1051, in _call_impl\n",
            "    return forward_call(*input, **kwargs)\n",
            "  File \"/usr/local/lib/python3.7/dist-packages/torch/nn/modules/linear.py\", line 96, in forward\n",
            "    return F.linear(input, self.weight, self.bias)\n",
            "  File \"/usr/local/lib/python3.7/dist-packages/torch/nn/functional.py\", line 1847, in linear\n",
            "    return torch._C._nn.linear(input, weight, bias)\n",
            "KeyboardInterrupt\n",
            "^C\n"
          ]
        }
      ]
    },
    {
      "cell_type": "code",
      "metadata": {
        "id": "Zr7zzMpEmCFA"
      },
      "source": [
        "# Copy the created models from the notebook storage to google drive for persistant storage \n",
        "!cp -r joeynmt/models/${tgt}${src}_reverse_transformer/* \"$gdrive_path/models/${src}${tgt}_reverse_transformer/\""
      ],
      "execution_count": null,
      "outputs": []
    },
    {
      "cell_type": "code",
      "metadata": {
        "colab": {
          "base_uri": "https://localhost:8080/"
        },
        "id": "vx1eTU9umCuH",
        "outputId": "88812f98-48f1-4ee2-cf45-fc776cb05b3c"
      },
      "source": [
        "# Output our validation accuracy\n",
        "! cat \"$gdrive_path/models/${src}${tgt}_reverse_transformer/validations.txt\""
      ],
      "execution_count": null,
      "outputs": [
        {
          "output_type": "stream",
          "name": "stdout",
          "text": [
            "Steps: 1000\tLoss: 129630.14062\tPPL: 75.84197\tbleu: 1.37018\tLR: 0.00030000\t*\n",
            "Steps: 2000\tLoss: 113981.35156\tPPL: 44.97481\tbleu: 3.32479\tLR: 0.00030000\t*\n"
          ]
        }
      ]
    },
    {
      "cell_type": "code",
      "metadata": {
        "colab": {
          "base_uri": "https://localhost:8080/"
        },
        "id": "TB8YB_ZKd-Go",
        "outputId": "4b2639a0-be09-4f01-b1e0-96d0848ab48b"
      },
      "source": [
        "# Test our model\n",
        "! cd joeynmt; python3 -m joeynmt test \"$gdrive_path/models/${src}${tgt}_reverse_transformer/config.yaml\""
      ],
      "execution_count": null,
      "outputs": [
        {
          "output_type": "stream",
          "name": "stdout",
          "text": [
            "2021-10-10 20:27:56,907 - INFO - root - Hello! This is Joey-NMT (version 1.3).\n",
            "2021-10-10 20:27:56,908 - INFO - joeynmt.data - Building vocabulary...\n",
            "2021-10-10 20:27:57,257 - INFO - joeynmt.data - Loading dev data...\n",
            "2021-10-10 20:27:57,269 - INFO - joeynmt.data - Loading test data...\n",
            "2021-10-10 20:27:57,335 - INFO - joeynmt.data - Data loaded.\n",
            "2021-10-10 20:27:57,358 - INFO - joeynmt.prediction - Process device: cpu, n_gpu: 0, batch_size per device: 3600\n",
            "2021-10-10 20:27:57,358 - INFO - joeynmt.prediction - Loading model from models/xhen_reverse_transformer/2000.ckpt\n",
            "2021-10-10 20:27:57,502 - INFO - joeynmt.model - Building an encoder-decoder model...\n",
            "2021-10-10 20:27:57,752 - INFO - joeynmt.model - Enc-dec model built.\n",
            "2021-10-10 20:27:57,783 - INFO - joeynmt.prediction - Decoding on dev set (data/xhen/dev.bpe.en)...\n",
            "2021-10-10 21:02:25,741 - WARNING - sacrebleu - That's 100 lines that end in a tokenized period ('.')\n",
            "2021-10-10 21:02:25,742 - WARNING - sacrebleu - It looks like you forgot to detokenize your test data, which may hurt your score.\n",
            "2021-10-10 21:02:25,742 - WARNING - sacrebleu - If you insist your data is detokenized, or don't care, you can suppress this message with the `force` parameter.\n",
            "2021-10-10 21:02:25,747 - INFO - joeynmt.prediction -  dev bleu[13a]:   3.84 [Beam search decoding with beam size = 5 and alpha = 1.0]\n",
            "2021-10-10 21:02:25,747 - INFO - joeynmt.prediction - Decoding on test set (data/xhen/test.bpe.en)...\n",
            "2021-10-10 22:19:43,221 - WARNING - sacrebleu - That's 100 lines that end in a tokenized period ('.')\n",
            "2021-10-10 22:19:43,221 - WARNING - sacrebleu - It looks like you forgot to detokenize your test data, which may hurt your score.\n",
            "2021-10-10 22:19:43,221 - WARNING - sacrebleu - If you insist your data is detokenized, or don't care, you can suppress this message with the `force` parameter.\n",
            "2021-10-10 22:19:43,233 - INFO - joeynmt.prediction - test bleu[13a]:   6.03 [Beam search decoding with beam size = 5 and alpha = 1.0]\n"
          ]
        }
      ]
    }
  ]
}