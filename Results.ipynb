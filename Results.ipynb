{
  "nbformat": 4,
  "nbformat_minor": 0,
  "metadata": {
    "colab": {
      "name": "Results.ipynb",
      "provenance": [],
      "authorship_tag": "ABX9TyPLilCknWbRH7K6yRkslejg",
      "include_colab_link": true
    },
    "kernelspec": {
      "name": "python3",
      "display_name": "Python 3"
    },
    "language_info": {
      "name": "python"
    }
  },
  "cells": [
    {
      "cell_type": "markdown",
      "metadata": {
        "id": "view-in-github",
        "colab_type": "text"
      },
      "source": [
        "<a href=\"https://colab.research.google.com/github/Shingirai98/Xhosa_English_Translation/blob/main/Results.ipynb\" target=\"_parent\"><img src=\"https://colab.research.google.com/assets/colab-badge.svg\" alt=\"Open In Colab\"/></a>"
      ]
    },
    {
      "cell_type": "code",
      "metadata": {
        "colab": {
          "base_uri": "https://localhost:8080/"
        },
        "id": "hYjG1zUDdzKX",
        "outputId": "d31c6407-27e8-4c1d-f860-7f6a22872cf8"
      },
      "source": [
        "# Libraries\n",
        "from google.colab import drive\n",
        "drive.mount('/content/drive')"
      ],
      "execution_count": 1,
      "outputs": [
        {
          "output_type": "stream",
          "name": "stdout",
          "text": [
            "Mounted at /content/drive\n"
          ]
        }
      ]
    },
    {
      "cell_type": "code",
      "metadata": {
        "id": "_pDrvttYd-eF"
      },
      "source": [
        "# library imports\n",
        "import pandas as pd\n",
        "import matplotlib.pyplot as plt\n",
        "import os\n",
        "\n"
      ],
      "execution_count": 3,
      "outputs": []
    },
    {
      "cell_type": "code",
      "metadata": {
        "id": "h3ycc4EKfD0b"
      },
      "source": [
        "def var_init(tag):\n",
        "  source_language = \"en\"\n",
        "  target_language = \"xh\"\n",
        "  os.environ[\"src\"] = source_language # Sets them in bash as well, since we often use bash scripts\n",
        "  os.environ[\"tgt\"] = target_language\n",
        "  os.environ[\"tag\"] = tag\n",
        "  tag = tag\n",
        "  os.environ[\"gdrive_path\"] = \"/content/drive/My Drive/m/%s-%s-%s\" % (target_language, source_language, tag)\n"
      ],
      "execution_count": 13,
      "outputs": []
    },
    {
      "cell_type": "code",
      "metadata": {
        "id": "WIC4ZlxOiidR"
      },
      "source": [
        "vars = [\"noam_0.65lr\",\"baseline-noam\", \"baseline_10epochs\", \"baseline\"]"
      ],
      "execution_count": 7,
      "outputs": []
    },
    {
      "cell_type": "code",
      "metadata": {
        "colab": {
          "base_uri": "https://localhost:8080/"
        },
        "id": "xj27goflgoVf",
        "outputId": "054b566a-737c-46f2-e098-c82985cf7a57"
      },
      "source": [
        "var_init(vars[1])\n",
        "!echo $gdrive_path"
      ],
      "execution_count": 17,
      "outputs": [
        {
          "output_type": "stream",
          "name": "stdout",
          "text": [
            "/content/drive/My Drive/m/xh-en-baseline-noam\n"
          ]
        }
      ]
    },
    {
      "cell_type": "code",
      "metadata": {
        "id": "GQPLRfDmtfim"
      },
      "source": [
        "def check_float(potential_float):\n",
        "    try:\n",
        "        float(potential_float)\n",
        "        return True\n",
        "    except ValueError:\n",
        "        return False\n"
      ],
      "execution_count": 27,
      "outputs": []
    },
    {
      "cell_type": "code",
      "metadata": {
        "id": "cyueNVER0M0K"
      },
      "source": [
        "def toDataFrame(val):\n",
        "  with open(val) as f:\n",
        "    for i, line in enumerate(f):\n",
        "      for word in line.split():\n",
        "        if check_float(word):\n",
        "          vals.append(float(word))\n",
        "        elif word.isdigit():\n",
        "          vals.append(int(word))\n",
        "\n",
        "  for i in range(0, len(vals)//5):\n",
        "    steps.append(vals[5*i])\n",
        "    loss.append(vals[(5*i)+1])\n",
        "    ppl.append(vals[(5*i)+2])\n",
        "    bleu_score.append(vals[(5*i)+3])\n",
        "\n",
        "  data = {'Steps': steps, 'Loss': loss, 'PPL': ppl, 'bleu':bleu_score}\n",
        "  df = pd.DataFrame(data) \n",
        "  return df"
      ],
      "execution_count": 49,
      "outputs": []
    },
    {
      "cell_type": "code",
      "metadata": {
        "colab": {
          "base_uri": "https://localhost:8080/",
          "height": 432
        },
        "id": "ptFKlk7_guLo",
        "outputId": "7b6ee224-3f1d-4023-845e-87bda03a4b96"
      },
      "source": [
        "# source_file = 'xhosanavy.' + source_language\n",
        "# target_file = 'xhosanavy.' + target_language\n",
        "vals = []\n",
        "steps = []\n",
        "loss = []\n",
        "ppl = []\n",
        "bleu_score = []\n",
        "# lr = []\n",
        "val = \"drive/My Drive/m/xh-en-\"+vars[1]+\"/models/xhen_reverse_transformer/validations.txt\"\n",
        "\n",
        "#skip_lines = []  # Collect the line numbers of the source portion to skip the same lines for the target portion.\n",
        " \n",
        "\n",
        "table1 = toDataFrame(val)\n",
        "ax = plt.gca()\n",
        "\n",
        "table1.plot(kind='line',x='Steps',y='bleu',ax=ax)\n",
        "\n",
        "print(table1)\n",
        "plt.show()\n"
      ],
      "execution_count": 55,
      "outputs": [
        {
          "output_type": "stream",
          "name": "stdout",
          "text": [
            "    Steps          Loss       PPL     bleu\n",
            "0  1000.0  109041.10156  73.91766  0.19118\n",
            "1  2000.0   93268.50781  39.66772  1.56570\n",
            "2  3000.0   85527.91406  29.22663  2.32087\n",
            "3  4000.0   80839.14844  24.28973  3.60188\n",
            "4  5000.0   77384.58594  21.19426  4.12418\n",
            "5  6000.0   74894.38281  19.21061  5.16321\n",
            "6  7000.0   72969.06250  17.80512  5.78062\n",
            "7  8000.0   71347.20312  16.70127  6.01452\n"
          ]
        },
        {
          "output_type": "display_data",
          "data": {
            "image/png": "[encoded data removed]",
            "text/plain": [
              "<Figure size 432x288 with 1 Axes>"
            ]
          },
          "metadata": {
            "needs_background": "light"
          }
        }
      ]
    },
    {
      "cell_type": "code",
      "metadata": {
        "id": "SVLH-k0Fp_ae"
      },
      "source": [
        ""
      ],
      "execution_count": null,
      "outputs": []
    }
  ]
}