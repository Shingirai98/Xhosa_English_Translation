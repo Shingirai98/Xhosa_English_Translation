{
  "nbformat": 4,
  "nbformat_minor": 0,
  "metadata": {
    "colab": {
      "name": "Results.ipynb",
      "provenance": [],
      "authorship_tag": "ABX9TyNKTDs8tN/t0CB3mClNh0aV",
      "include_colab_link": true
    },
    "kernelspec": {
      "name": "python3",
      "display_name": "Python 3"
    },
    "language_info": {
      "name": "python"
    }
  },
  "cells": [
    {
      "cell_type": "markdown",
      "metadata": {
        "id": "view-in-github",
        "colab_type": "text"
      },
      "source": [
        "<a href=\"https://colab.research.google.com/github/Shingirai98/Xhosa_English_Translation/blob/main/Results.ipynb\" target=\"_parent\"><img src=\"https://colab.research.google.com/assets/colab-badge.svg\" alt=\"Open In Colab\"/></a>"
      ]
    },
    {
      "cell_type": "code",
      "metadata": {
        "colab": {
          "base_uri": "https://localhost:8080/"
        },
        "id": "hYjG1zUDdzKX",
        "outputId": "88f414db-df76-450c-f0dd-c01c7c297705"
      },
      "source": [
        "# Libraries\n",
        "from google.colab import drive\n",
        "drive.mount('/content/drive')"
      ],
      "execution_count": 2,
      "outputs": [
        {
          "output_type": "stream",
          "name": "stdout",
          "text": [
            "Mounted at /content/drive\n"
          ]
        }
      ]
    },
    {
      "cell_type": "code",
      "metadata": {
        "id": "_pDrvttYd-eF"
      },
      "source": [
        "# library imports\n",
        "import pandas as pd\n",
        "import matplotlib.pyplot as plt\n",
        "import os\n",
        "import seaborn as sns\n",
        "from IPython.display import HTML\n",
        "from google.colab import data_table"
      ],
      "execution_count": 17,
      "outputs": []
    },
    {
      "cell_type": "code",
      "metadata": {
        "id": "h3ycc4EKfD0b"
      },
      "source": [
        "def var_init(tag):\n",
        "  source_language = \"en\"\n",
        "  target_language = \"xh\"\n",
        "  os.environ[\"src\"] = source_language # Sets them in bash as well, since we often use bash scripts\n",
        "  os.environ[\"tgt\"] = target_language\n",
        "  os.environ[\"tag\"] = tag\n",
        "  tag = tag\n",
        "  os.environ[\"gdrive_path\"] = \"/content/drive/My Drive/m/%s-%s-%s\" % (target_language, source_language, tag)\n"
      ],
      "execution_count": 4,
      "outputs": []
    },
    {
      "cell_type": "code",
      "metadata": {
        "id": "WIC4ZlxOiidR"
      },
      "source": [
        "vars = [\"noam_0.65lr\",\"baseline-noam\", \"baseline_10epochs\", \"baseline\", \"noam_0.35lr\",\"noam_df.9\"]"
      ],
      "execution_count": 71,
      "outputs": []
    },
    {
      "cell_type": "code",
      "metadata": {
        "colab": {
          "base_uri": "https://localhost:8080/"
        },
        "id": "xj27goflgoVf",
        "outputId": "09d337b5-148d-4913-bba7-1c2c36f394da"
      },
      "source": [
        "var_init(vars[1])\n",
        "!echo $gdrive_path"
      ],
      "execution_count": 6,
      "outputs": [
        {
          "output_type": "stream",
          "name": "stdout",
          "text": [
            "/content/drive/My Drive/m/xh-en-baseline-noam\n"
          ]
        }
      ]
    },
    {
      "cell_type": "code",
      "metadata": {
        "id": "GQPLRfDmtfim"
      },
      "source": [
        "def check_float(potential_float):\n",
        "    try:\n",
        "        float(potential_float)\n",
        "        return True\n",
        "    except ValueError:\n",
        "        return False\n"
      ],
      "execution_count": 7,
      "outputs": []
    },
    {
      "cell_type": "code",
      "metadata": {
        "id": "cyueNVER0M0K"
      },
      "source": [
        "def toDataFrame(val):\n",
        "  vals = []\n",
        "  steps = []\n",
        "  loss = []\n",
        "  ppl = []\n",
        "  bleu_score = []\n",
        "  with open(val) as f:\n",
        "    for i, line in enumerate(f):\n",
        "      for word in line.split():\n",
        "        if check_float(word):\n",
        "          vals.append(float(word))\n",
        "        elif word.isdigit():\n",
        "          vals.append(int(word))\n",
        "\n",
        "  for i in range(0, len(vals)//5):\n",
        "    steps.append(vals[5*i])\n",
        "    loss.append(vals[(5*i)+1])\n",
        "    ppl.append(vals[(5*i)+2])\n",
        "    bleu_score.append(vals[(5*i)+3])\n",
        "\n",
        "  data = {'Steps': steps, 'Loss': loss, 'PPL': ppl, 'bleu':bleu_score}\n",
        "  df = pd.DataFrame(data) \n",
        "  return df"
      ],
      "execution_count": 49,
      "outputs": []
    },
    {
      "cell_type": "code",
      "metadata": {
        "id": "niSRxgTbuI_n"
      },
      "source": [
        "def color_negative_red(value):\n",
        "  \"\"\"\n",
        "  Colors elements in a dateframe\n",
        "  green if positive and red if\n",
        "  negative. Does not color NaN\n",
        "  values.\n",
        "  \"\"\"\n",
        "\n",
        "  if value < 1:\n",
        "    color = 'red'\n",
        "  elif value >= 1 and value < 5:\n",
        "    color = 'yellow'\n",
        "  else:\n",
        "    color = 'green'\n",
        "\n",
        "  return 'color: %s' % color"
      ],
      "execution_count": 15,
      "outputs": []
    },
    {
      "cell_type": "code",
      "metadata": {
        "id": "ORVii3xGxhWA"
      },
      "source": [
        "def disp_tab(current_var):\n",
        "  val = \"drive/My Drive/m/xh-en-\"+current_var+\"/models/xhen_reverse_transformer/validations.txt\"\n",
        "  table1 = toDataFrame(val)\n",
        "  \n",
        "  data_table.enable_dataframe_formatter()\n",
        "  return table1"
      ],
      "execution_count": 50,
      "outputs": []
    },
    {
      "cell_type": "code",
      "metadata": {
        "id": "SY-6AxjZzzGE"
      },
      "source": [
        "def disp_plot(current_var):\n",
        "  ax = plt.gca()\n",
        "  val = \"drive/My Drive/m/xh-en-\"+current_var+\"/models/xhen_reverse_transformer/validations.txt\"\n",
        "  table1 = toDataFrame(val)\n",
        "  table1.plot(kind='line',x='Steps',y='bleu',ax=ax)\n",
        "  plt.xlabel('Number of Steps')\n",
        "  plt.ylabel('BLEU score')\n",
        "  plt.title(current_var)\n",
        "\n",
        "  plt.legend()"
      ],
      "execution_count": 54,
      "outputs": []
    },
    {
      "cell_type": "code",
      "metadata": {
        "colab": {
          "base_uri": "https://localhost:8080/",
          "height": 257
        },
        "id": "ptFKlk7_guLo",
        "outputId": "b25d6401-14c2-43a5-b8bb-26078d016b9b"
      },
      "source": [
        "# source_file = 'xhosanavy.' + source_language\n",
        "# target_file = 'xhosanavy.' + target_language\n",
        "\n",
        "# lr = []\n",
        "current_var = vars[1]\n",
        "disp_tab(current_var)"
      ],
      "execution_count": 41,
      "outputs": [
        {
          "output_type": "execute_result",
          "data": {
            "application/vnd.google.colaboratory.module+javascript": "\n      import \"https://ssl.gstatic.com/colaboratory/data_table/a6224c040fa35dcf/data_table.js\";\n\n      window.createDataTable({\n        data: [[{\n            'v': 0,\n            'f': \"0\",\n        },\n{\n            'v': 1000.0,\n            'f': \"1000.0\",\n        },\n{\n            'v': 109041.10156,\n            'f': \"109041.10156\",\n        },\n{\n            'v': 73.91766,\n            'f': \"73.91766\",\n        },\n{\n            'v': 0.19118,\n            'f': \"0.19118\",\n        }],\n [{\n            'v': 1,\n            'f': \"1\",\n        },\n{\n            'v': 2000.0,\n            'f': \"2000.0\",\n        },\n{\n            'v': 93268.50781,\n            'f': \"93268.50781\",\n        },\n{\n            'v': 39.66772,\n            'f': \"39.66772\",\n        },\n{\n            'v': 1.5657,\n            'f': \"1.5657\",\n        }],\n [{\n            'v': 2,\n            'f': \"2\",\n        },\n{\n            'v': 3000.0,\n            'f': \"3000.0\",\n        },\n{\n            'v': 85527.91406,\n            'f': \"85527.91406\",\n        },\n{\n            'v': 29.22663,\n            'f': \"29.22663\",\n        },\n{\n            'v': 2.32087,\n            'f': \"2.32087\",\n        }],\n [{\n            'v': 3,\n            'f': \"3\",\n        },\n{\n            'v': 4000.0,\n            'f': \"4000.0\",\n        },\n{\n            'v': 80839.14844,\n            'f': \"80839.14844\",\n        },\n{\n            'v': 24.28973,\n            'f': \"24.28973\",\n        },\n{\n            'v': 3.60188,\n            'f': \"3.60188\",\n        }],\n [{\n            'v': 4,\n            'f': \"4\",\n        },\n{\n            'v': 5000.0,\n            'f': \"5000.0\",\n        },\n{\n            'v': 77384.58594,\n            'f': \"77384.58594\",\n        },\n{\n            'v': 21.19426,\n            'f': \"21.19426\",\n        },\n{\n            'v': 4.12418,\n            'f': \"4.12418\",\n        }],\n [{\n            'v': 5,\n            'f': \"5\",\n        },\n{\n            'v': 6000.0,\n            'f': \"6000.0\",\n        },\n{\n            'v': 74894.38281,\n            'f': \"74894.38281\",\n        },\n{\n            'v': 19.21061,\n            'f': \"19.21061\",\n        },\n{\n            'v': 5.16321,\n            'f': \"5.16321\",\n        }],\n [{\n            'v': 6,\n            'f': \"6\",\n        },\n{\n            'v': 7000.0,\n            'f': \"7000.0\",\n        },\n{\n            'v': 72969.0625,\n            'f': \"72969.0625\",\n        },\n{\n            'v': 17.80512,\n            'f': \"17.80512\",\n        },\n{\n            'v': 5.78062,\n            'f': \"5.78062\",\n        }],\n [{\n            'v': 7,\n            'f': \"7\",\n        },\n{\n            'v': 8000.0,\n            'f': \"8000.0\",\n        },\n{\n            'v': 71347.20312,\n            'f': \"71347.20312\",\n        },\n{\n            'v': 16.70127,\n            'f': \"16.70127\",\n        },\n{\n            'v': 6.01452,\n            'f': \"6.01452\",\n        }]],\n        columns: [[\"number\", \"index\"], [\"number\", \"Steps\"], [\"number\", \"Loss\"], [\"number\", \"PPL\"], [\"number\", \"bleu\"]],\n        columnOptions: [{\"width\": \"1px\", \"className\": \"index_column\"}],\n        rowsPerPage: 25,\n        helpUrl: \"https://colab.research.google.com/notebooks/data_table.ipynb\",\n        suppressOutputScrolling: true,\n        minimumWidth: undefined,\n      });\n    ",
            "text/html": [
              "<div>\n",
              "<style scoped>\n",
              "    .dataframe tbody tr th:only-of-type {\n",
              "        vertical-align: middle;\n",
              "    }\n",
              "\n",
              "    .dataframe tbody tr th {\n",
              "        vertical-align: top;\n",
              "    }\n",
              "\n",
              "    .dataframe thead th {\n",
              "        text-align: right;\n",
              "    }\n",
              "</style>\n",
              "<table border=\"1\" class=\"dataframe\">\n",
              "  <thead>\n",
              "    <tr style=\"text-align: right;\">\n",
              "      <th></th>\n",
              "      <th>Steps</th>\n",
              "      <th>Loss</th>\n",
              "      <th>PPL</th>\n",
              "      <th>bleu</th>\n",
              "    </tr>\n",
              "  </thead>\n",
              "  <tbody>\n",
              "    <tr>\n",
              "      <th>0</th>\n",
              "      <td>1000.0</td>\n",
              "      <td>109041.10156</td>\n",
              "      <td>73.91766</td>\n",
              "      <td>0.19118</td>\n",
              "    </tr>\n",
              "    <tr>\n",
              "      <th>1</th>\n",
              "      <td>2000.0</td>\n",
              "      <td>93268.50781</td>\n",
              "      <td>39.66772</td>\n",
              "      <td>1.56570</td>\n",
              "    </tr>\n",
              "    <tr>\n",
              "      <th>2</th>\n",
              "      <td>3000.0</td>\n",
              "      <td>85527.91406</td>\n",
              "      <td>29.22663</td>\n",
              "      <td>2.32087</td>\n",
              "    </tr>\n",
              "    <tr>\n",
              "      <th>3</th>\n",
              "      <td>4000.0</td>\n",
              "      <td>80839.14844</td>\n",
              "      <td>24.28973</td>\n",
              "      <td>3.60188</td>\n",
              "    </tr>\n",
              "    <tr>\n",
              "      <th>4</th>\n",
              "      <td>5000.0</td>\n",
              "      <td>77384.58594</td>\n",
              "      <td>21.19426</td>\n",
              "      <td>4.12418</td>\n",
              "    </tr>\n",
              "    <tr>\n",
              "      <th>5</th>\n",
              "      <td>6000.0</td>\n",
              "      <td>74894.38281</td>\n",
              "      <td>19.21061</td>\n",
              "      <td>5.16321</td>\n",
              "    </tr>\n",
              "    <tr>\n",
              "      <th>6</th>\n",
              "      <td>7000.0</td>\n",
              "      <td>72969.06250</td>\n",
              "      <td>17.80512</td>\n",
              "      <td>5.78062</td>\n",
              "    </tr>\n",
              "    <tr>\n",
              "      <th>7</th>\n",
              "      <td>8000.0</td>\n",
              "      <td>71347.20312</td>\n",
              "      <td>16.70127</td>\n",
              "      <td>6.01452</td>\n",
              "    </tr>\n",
              "  </tbody>\n",
              "</table>\n",
              "</div>"
            ],
            "text/plain": [
              "    Steps          Loss       PPL     bleu\n",
              "0  1000.0  109041.10156  73.91766  0.19118\n",
              "1  2000.0   93268.50781  39.66772  1.56570\n",
              "2  3000.0   85527.91406  29.22663  2.32087\n",
              "3  4000.0   80839.14844  24.28973  3.60188\n",
              "4  5000.0   77384.58594  21.19426  4.12418\n",
              "5  6000.0   74894.38281  19.21061  5.16321\n",
              "6  7000.0   72969.06250  17.80512  5.78062\n",
              "7  8000.0   71347.20312  16.70127  6.01452"
            ]
          },
          "metadata": {},
          "execution_count": 41
        }
      ]
    },
    {
      "cell_type": "code",
      "metadata": {
        "colab": {
          "base_uri": "https://localhost:8080/",
          "height": 295
        },
        "id": "ZeqWeuxxxH3-",
        "outputId": "28c411e5-d6d1-4663-d56d-da3b8c1f4dc3"
      },
      "source": [
        "disp_plot(current_var)"
      ],
      "execution_count": 31,
      "outputs": [
        {
          "output_type": "display_data",
          "data": {
            "image/png": "[encoded data removed]",
            "text/plain": [
              "<Figure size 432x288 with 1 Axes>"
            ]
          },
          "metadata": {
            "needs_background": "light"
          }
        }
      ]
    },
    {
      "cell_type": "code",
      "metadata": {
        "colab": {
          "base_uri": "https://localhost:8080/",
          "height": 194
        },
        "id": "LYVmstcl0GQu",
        "outputId": "ea900831-eed8-4f58-e416-4cf2a5b88e51"
      },
      "source": [
        "df = disp_tab(vars[2])\n",
        "df.head(5)\n"
      ],
      "execution_count": 60,
      "outputs": [
        {
          "output_type": "execute_result",
          "data": {
            "application/vnd.google.colaboratory.module+javascript": "\n      import \"https://ssl.gstatic.com/colaboratory/data_table/a6224c040fa35dcf/data_table.js\";\n\n      window.createDataTable({\n        data: [[{\n            'v': 0,\n            'f': \"0\",\n        },\n{\n            'v': 1000.0,\n            'f': \"1000.0\",\n        },\n{\n            'v': 112401.5,\n            'f': \"112401.5\",\n        },\n{\n            'v': 84.39928,\n            'f': \"84.39928\",\n        },\n{\n            'v': 0.31721,\n            'f': \"0.31721\",\n        }],\n [{\n            'v': 1,\n            'f': \"1\",\n        },\n{\n            'v': 2000.0,\n            'f': \"2000.0\",\n        },\n{\n            'v': 99845.14062,\n            'f': \"99845.14062\",\n        },\n{\n            'v': 51.42185,\n            'f': \"51.42185\",\n        },\n{\n            'v': 0.80554,\n            'f': \"0.80554\",\n        }],\n [{\n            'v': 2,\n            'f': \"2\",\n        },\n{\n            'v': 3000.0,\n            'f': \"3000.0\",\n        },\n{\n            'v': 91615.40625,\n            'f': \"91615.40625\",\n        },\n{\n            'v': 37.16262,\n            'f': \"37.16262\",\n        },\n{\n            'v': 1.80184,\n            'f': \"1.80184\",\n        }],\n [{\n            'v': 3,\n            'f': \"3\",\n        },\n{\n            'v': 4000.0,\n            'f': \"4000.0\",\n        },\n{\n            'v': 85857.57031,\n            'f': \"85857.57031\",\n        },\n{\n            'v': 29.60932,\n            'f': \"29.60932\",\n        },\n{\n            'v': 2.66721,\n            'f': \"2.66721\",\n        }],\n [{\n            'v': 4,\n            'f': \"4\",\n        },\n{\n            'v': 5000.0,\n            'f': \"5000.0\",\n        },\n{\n            'v': 81840.14844,\n            'f': \"81840.14844\",\n        },\n{\n            'v': 25.26841,\n            'f': \"25.26841\",\n        },\n{\n            'v': 3.06048,\n            'f': \"3.06048\",\n        }]],\n        columns: [[\"number\", \"index\"], [\"number\", \"Steps\"], [\"number\", \"Loss\"], [\"number\", \"PPL\"], [\"number\", \"bleu\"]],\n        columnOptions: [{\"width\": \"1px\", \"className\": \"index_column\"}],\n        rowsPerPage: 25,\n        helpUrl: \"https://colab.research.google.com/notebooks/data_table.ipynb\",\n        suppressOutputScrolling: true,\n        minimumWidth: undefined,\n      });\n    ",
            "text/html": [
              "<div>\n",
              "<style scoped>\n",
              "    .dataframe tbody tr th:only-of-type {\n",
              "        vertical-align: middle;\n",
              "    }\n",
              "\n",
              "    .dataframe tbody tr th {\n",
              "        vertical-align: top;\n",
              "    }\n",
              "\n",
              "    .dataframe thead th {\n",
              "        text-align: right;\n",
              "    }\n",
              "</style>\n",
              "<table border=\"1\" class=\"dataframe\">\n",
              "  <thead>\n",
              "    <tr style=\"text-align: right;\">\n",
              "      <th></th>\n",
              "      <th>Steps</th>\n",
              "      <th>Loss</th>\n",
              "      <th>PPL</th>\n",
              "      <th>bleu</th>\n",
              "    </tr>\n",
              "  </thead>\n",
              "  <tbody>\n",
              "    <tr>\n",
              "      <th>0</th>\n",
              "      <td>1000.0</td>\n",
              "      <td>112401.50000</td>\n",
              "      <td>84.39928</td>\n",
              "      <td>0.31721</td>\n",
              "    </tr>\n",
              "    <tr>\n",
              "      <th>1</th>\n",
              "      <td>2000.0</td>\n",
              "      <td>99845.14062</td>\n",
              "      <td>51.42185</td>\n",
              "      <td>0.80554</td>\n",
              "    </tr>\n",
              "    <tr>\n",
              "      <th>2</th>\n",
              "      <td>3000.0</td>\n",
              "      <td>91615.40625</td>\n",
              "      <td>37.16262</td>\n",
              "      <td>1.80184</td>\n",
              "    </tr>\n",
              "    <tr>\n",
              "      <th>3</th>\n",
              "      <td>4000.0</td>\n",
              "      <td>85857.57031</td>\n",
              "      <td>29.60932</td>\n",
              "      <td>2.66721</td>\n",
              "    </tr>\n",
              "    <tr>\n",
              "      <th>4</th>\n",
              "      <td>5000.0</td>\n",
              "      <td>81840.14844</td>\n",
              "      <td>25.26841</td>\n",
              "      <td>3.06048</td>\n",
              "    </tr>\n",
              "  </tbody>\n",
              "</table>\n",
              "</div>"
            ],
            "text/plain": [
              "    Steps          Loss       PPL     bleu\n",
              "0  1000.0  112401.50000  84.39928  0.31721\n",
              "1  2000.0   99845.14062  51.42185  0.80554\n",
              "2  3000.0   91615.40625  37.16262  1.80184\n",
              "3  4000.0   85857.57031  29.60932  2.66721\n",
              "4  5000.0   81840.14844  25.26841  3.06048"
            ]
          },
          "metadata": {},
          "execution_count": 60
        }
      ]
    },
    {
      "cell_type": "code",
      "metadata": {
        "id": "CKN7qzF7Xrk6",
        "outputId": "9f463792-d0d7-45e0-f7ea-2b67bf21c1f9",
        "colab": {
          "base_uri": "https://localhost:8080/",
          "height": 194
        }
      },
      "source": [
        "df.tail(5)"
      ],
      "execution_count": 59,
      "outputs": [
        {
          "output_type": "execute_result",
          "data": {
            "application/vnd.google.colaboratory.module+javascript": "\n      import \"https://ssl.gstatic.com/colaboratory/data_table/a6224c040fa35dcf/data_table.js\";\n\n      window.createDataTable({\n        data: [[{\n            'v': 21,\n            'f': \"21\",\n        },\n{\n            'v': 22000.0,\n            'f': \"22000.0\",\n        },\n{\n            'v': 59594.57812,\n            'f': \"59594.57812\",\n        },\n{\n            'v': 10.50347,\n            'f': \"10.50347\",\n        },\n{\n            'v': 11.76584,\n            'f': \"11.76584\",\n        }],\n [{\n            'v': 22,\n            'f': \"22\",\n        },\n{\n            'v': 23000.0,\n            'f': \"23000.0\",\n        },\n{\n            'v': 59046.58594,\n            'f': \"59046.58594\",\n        },\n{\n            'v': 10.27878,\n            'f': \"10.27878\",\n        },\n{\n            'v': 11.6261,\n            'f': \"11.6261\",\n        }],\n [{\n            'v': 23,\n            'f': \"23\",\n        },\n{\n            'v': 24000.0,\n            'f': \"24000.0\",\n        },\n{\n            'v': 58398.76953,\n            'f': \"58398.76953\",\n        },\n{\n            'v': 10.01934,\n            'f': \"10.01934\",\n        },\n{\n            'v': 12.43508,\n            'f': \"12.43508\",\n        }],\n [{\n            'v': 24,\n            'f': \"24\",\n        },\n{\n            'v': 25000.0,\n            'f': \"25000.0\",\n        },\n{\n            'v': 57910.75781,\n            'f': \"57910.75781\",\n        },\n{\n            'v': 9.82824,\n            'f': \"9.82824\",\n        },\n{\n            'v': 12.91821,\n            'f': \"12.91821\",\n        }],\n [{\n            'v': 25,\n            'f': \"25\",\n        },\n{\n            'v': 26000.0,\n            'f': \"26000.0\",\n        },\n{\n            'v': 57375.89453,\n            'f': \"57375.89453\",\n        },\n{\n            'v': 9.62297,\n            'f': \"9.62297\",\n        },\n{\n            'v': 13.01399,\n            'f': \"13.01399\",\n        }]],\n        columns: [[\"number\", \"index\"], [\"number\", \"Steps\"], [\"number\", \"Loss\"], [\"number\", \"PPL\"], [\"number\", \"bleu\"]],\n        columnOptions: [{\"width\": \"1px\", \"className\": \"index_column\"}],\n        rowsPerPage: 25,\n        helpUrl: \"https://colab.research.google.com/notebooks/data_table.ipynb\",\n        suppressOutputScrolling: true,\n        minimumWidth: undefined,\n      });\n    ",
            "text/html": [
              "<div>\n",
              "<style scoped>\n",
              "    .dataframe tbody tr th:only-of-type {\n",
              "        vertical-align: middle;\n",
              "    }\n",
              "\n",
              "    .dataframe tbody tr th {\n",
              "        vertical-align: top;\n",
              "    }\n",
              "\n",
              "    .dataframe thead th {\n",
              "        text-align: right;\n",
              "    }\n",
              "</style>\n",
              "<table border=\"1\" class=\"dataframe\">\n",
              "  <thead>\n",
              "    <tr style=\"text-align: right;\">\n",
              "      <th></th>\n",
              "      <th>Steps</th>\n",
              "      <th>Loss</th>\n",
              "      <th>PPL</th>\n",
              "      <th>bleu</th>\n",
              "    </tr>\n",
              "  </thead>\n",
              "  <tbody>\n",
              "    <tr>\n",
              "      <th>21</th>\n",
              "      <td>22000.0</td>\n",
              "      <td>59594.57812</td>\n",
              "      <td>10.50347</td>\n",
              "      <td>11.76584</td>\n",
              "    </tr>\n",
              "    <tr>\n",
              "      <th>22</th>\n",
              "      <td>23000.0</td>\n",
              "      <td>59046.58594</td>\n",
              "      <td>10.27878</td>\n",
              "      <td>11.62610</td>\n",
              "    </tr>\n",
              "    <tr>\n",
              "      <th>23</th>\n",
              "      <td>24000.0</td>\n",
              "      <td>58398.76953</td>\n",
              "      <td>10.01934</td>\n",
              "      <td>12.43508</td>\n",
              "    </tr>\n",
              "    <tr>\n",
              "      <th>24</th>\n",
              "      <td>25000.0</td>\n",
              "      <td>57910.75781</td>\n",
              "      <td>9.82824</td>\n",
              "      <td>12.91821</td>\n",
              "    </tr>\n",
              "    <tr>\n",
              "      <th>25</th>\n",
              "      <td>26000.0</td>\n",
              "      <td>57375.89453</td>\n",
              "      <td>9.62297</td>\n",
              "      <td>13.01399</td>\n",
              "    </tr>\n",
              "  </tbody>\n",
              "</table>\n",
              "</div>"
            ],
            "text/plain": [
              "      Steps         Loss       PPL      bleu\n",
              "21  22000.0  59594.57812  10.50347  11.76584\n",
              "22  23000.0  59046.58594  10.27878  11.62610\n",
              "23  24000.0  58398.76953  10.01934  12.43508\n",
              "24  25000.0  57910.75781   9.82824  12.91821\n",
              "25  26000.0  57375.89453   9.62297  13.01399"
            ]
          },
          "metadata": {},
          "execution_count": 59
        }
      ]
    },
    {
      "cell_type": "code",
      "metadata": {
        "colab": {
          "base_uri": "https://localhost:8080/",
          "height": 295
        },
        "id": "71JTTViy0Vn0",
        "outputId": "c40df3f9-21e8-4c19-fc65-bb90556a8629"
      },
      "source": [
        "disp_plot(vars[2])"
      ],
      "execution_count": 55,
      "outputs": [
        {
          "output_type": "display_data",
          "data": {
            "image/png": "[encoded data removed]",
            "text/plain": [
              "<Figure size 432x288 with 1 Axes>"
            ]
          },
          "metadata": {
            "needs_background": "light"
          }
        }
      ]
    },
    {
      "cell_type": "code",
      "metadata": {
        "colab": {
          "base_uri": "https://localhost:8080/",
          "height": 257
        },
        "id": "tLDTO1-y0iV7",
        "outputId": "d49148ce-6316-4750-aa7d-818816094ed2"
      },
      "source": [
        "disp_tab(vars[3])"
      ],
      "execution_count": 56,
      "outputs": [
        {
          "output_type": "execute_result",
          "data": {
            "application/vnd.google.colaboratory.module+javascript": "\n      import \"https://ssl.gstatic.com/colaboratory/data_table/a6224c040fa35dcf/data_table.js\";\n\n      window.createDataTable({\n        data: [[{\n            'v': 0,\n            'f': \"0\",\n        },\n{\n            'v': 1000.0,\n            'f': \"1000.0\",\n        },\n{\n            'v': 112401.5,\n            'f': \"112401.5\",\n        },\n{\n            'v': 84.39928,\n            'f': \"84.39928\",\n        },\n{\n            'v': 0.31721,\n            'f': \"0.31721\",\n        }],\n [{\n            'v': 1,\n            'f': \"1\",\n        },\n{\n            'v': 2000.0,\n            'f': \"2000.0\",\n        },\n{\n            'v': 99845.14062,\n            'f': \"99845.14062\",\n        },\n{\n            'v': 51.42185,\n            'f': \"51.42185\",\n        },\n{\n            'v': 0.80554,\n            'f': \"0.80554\",\n        }],\n [{\n            'v': 2,\n            'f': \"2\",\n        },\n{\n            'v': 3000.0,\n            'f': \"3000.0\",\n        },\n{\n            'v': 91615.40625,\n            'f': \"91615.40625\",\n        },\n{\n            'v': 37.16262,\n            'f': \"37.16262\",\n        },\n{\n            'v': 1.80184,\n            'f': \"1.80184\",\n        }],\n [{\n            'v': 3,\n            'f': \"3\",\n        },\n{\n            'v': 4000.0,\n            'f': \"4000.0\",\n        },\n{\n            'v': 85857.57031,\n            'f': \"85857.57031\",\n        },\n{\n            'v': 29.60932,\n            'f': \"29.60932\",\n        },\n{\n            'v': 2.66721,\n            'f': \"2.66721\",\n        }],\n [{\n            'v': 4,\n            'f': \"4\",\n        },\n{\n            'v': 5000.0,\n            'f': \"5000.0\",\n        },\n{\n            'v': 81840.14844,\n            'f': \"81840.14844\",\n        },\n{\n            'v': 25.26841,\n            'f': \"25.26841\",\n        },\n{\n            'v': 3.06048,\n            'f': \"3.06048\",\n        }],\n [{\n            'v': 5,\n            'f': \"5\",\n        },\n{\n            'v': 6000.0,\n            'f': \"6000.0\",\n        },\n{\n            'v': 78571.08594,\n            'f': \"78571.08594\",\n        },\n{\n            'v': 22.2102,\n            'f': \"22.2102\",\n        },\n{\n            'v': 4.06724,\n            'f': \"4.06724\",\n        }],\n [{\n            'v': 6,\n            'f': \"6\",\n        },\n{\n            'v': 7000.0,\n            'f': \"7000.0\",\n        },\n{\n            'v': 75983.10156,\n            'f': \"75983.10156\",\n        },\n{\n            'v': 20.05394,\n            'f': \"20.05394\",\n        },\n{\n            'v': 5.11519,\n            'f': \"5.11519\",\n        }],\n [{\n            'v': 7,\n            'f': \"7\",\n        },\n{\n            'v': 8000.0,\n            'f': \"8000.0\",\n        },\n{\n            'v': 74091.54688,\n            'f': \"74091.54688\",\n        },\n{\n            'v': 18.61153,\n            'f': \"18.61153\",\n        },\n{\n            'v': 5.42913,\n            'f': \"5.42913\",\n        }]],\n        columns: [[\"number\", \"index\"], [\"number\", \"Steps\"], [\"number\", \"Loss\"], [\"number\", \"PPL\"], [\"number\", \"bleu\"]],\n        columnOptions: [{\"width\": \"1px\", \"className\": \"index_column\"}],\n        rowsPerPage: 25,\n        helpUrl: \"https://colab.research.google.com/notebooks/data_table.ipynb\",\n        suppressOutputScrolling: true,\n        minimumWidth: undefined,\n      });\n    ",
            "text/html": [
              "<div>\n",
              "<style scoped>\n",
              "    .dataframe tbody tr th:only-of-type {\n",
              "        vertical-align: middle;\n",
              "    }\n",
              "\n",
              "    .dataframe tbody tr th {\n",
              "        vertical-align: top;\n",
              "    }\n",
              "\n",
              "    .dataframe thead th {\n",
              "        text-align: right;\n",
              "    }\n",
              "</style>\n",
              "<table border=\"1\" class=\"dataframe\">\n",
              "  <thead>\n",
              "    <tr style=\"text-align: right;\">\n",
              "      <th></th>\n",
              "      <th>Steps</th>\n",
              "      <th>Loss</th>\n",
              "      <th>PPL</th>\n",
              "      <th>bleu</th>\n",
              "    </tr>\n",
              "  </thead>\n",
              "  <tbody>\n",
              "    <tr>\n",
              "      <th>0</th>\n",
              "      <td>1000.0</td>\n",
              "      <td>112401.50000</td>\n",
              "      <td>84.39928</td>\n",
              "      <td>0.31721</td>\n",
              "    </tr>\n",
              "    <tr>\n",
              "      <th>1</th>\n",
              "      <td>2000.0</td>\n",
              "      <td>99845.14062</td>\n",
              "      <td>51.42185</td>\n",
              "      <td>0.80554</td>\n",
              "    </tr>\n",
              "    <tr>\n",
              "      <th>2</th>\n",
              "      <td>3000.0</td>\n",
              "      <td>91615.40625</td>\n",
              "      <td>37.16262</td>\n",
              "      <td>1.80184</td>\n",
              "    </tr>\n",
              "    <tr>\n",
              "      <th>3</th>\n",
              "      <td>4000.0</td>\n",
              "      <td>85857.57031</td>\n",
              "      <td>29.60932</td>\n",
              "      <td>2.66721</td>\n",
              "    </tr>\n",
              "    <tr>\n",
              "      <th>4</th>\n",
              "      <td>5000.0</td>\n",
              "      <td>81840.14844</td>\n",
              "      <td>25.26841</td>\n",
              "      <td>3.06048</td>\n",
              "    </tr>\n",
              "    <tr>\n",
              "      <th>5</th>\n",
              "      <td>6000.0</td>\n",
              "      <td>78571.08594</td>\n",
              "      <td>22.21020</td>\n",
              "      <td>4.06724</td>\n",
              "    </tr>\n",
              "    <tr>\n",
              "      <th>6</th>\n",
              "      <td>7000.0</td>\n",
              "      <td>75983.10156</td>\n",
              "      <td>20.05394</td>\n",
              "      <td>5.11519</td>\n",
              "    </tr>\n",
              "    <tr>\n",
              "      <th>7</th>\n",
              "      <td>8000.0</td>\n",
              "      <td>74091.54688</td>\n",
              "      <td>18.61153</td>\n",
              "      <td>5.42913</td>\n",
              "    </tr>\n",
              "  </tbody>\n",
              "</table>\n",
              "</div>"
            ],
            "text/plain": [
              "    Steps          Loss       PPL     bleu\n",
              "0  1000.0  112401.50000  84.39928  0.31721\n",
              "1  2000.0   99845.14062  51.42185  0.80554\n",
              "2  3000.0   91615.40625  37.16262  1.80184\n",
              "3  4000.0   85857.57031  29.60932  2.66721\n",
              "4  5000.0   81840.14844  25.26841  3.06048\n",
              "5  6000.0   78571.08594  22.21020  4.06724\n",
              "6  7000.0   75983.10156  20.05394  5.11519\n",
              "7  8000.0   74091.54688  18.61153  5.42913"
            ]
          },
          "metadata": {},
          "execution_count": 56
        }
      ]
    },
    {
      "cell_type": "code",
      "metadata": {
        "colab": {
          "base_uri": "https://localhost:8080/",
          "height": 295
        },
        "id": "ZEbEIjKS_wQY",
        "outputId": "32a9ebe3-e1a1-4e4a-c4c8-07c36a611d3e"
      },
      "source": [
        "disp_plot(vars[3])"
      ],
      "execution_count": 57,
      "outputs": [
        {
          "output_type": "display_data",
          "data": {
            "image/png": "[encoded data removed]",
            "text/plain": [
              "<Figure size 432x288 with 1 Axes>"
            ]
          },
          "metadata": {
            "needs_background": "light"
          }
        }
      ]
    },
    {
      "cell_type": "code",
      "metadata": {
        "id": "cfN0kxwWYZDb",
        "outputId": "9d9905b4-c7dd-4d00-b14f-ae58c9ffb18a",
        "colab": {
          "base_uri": "https://localhost:8080/",
          "height": 257
        }
      },
      "source": [
        "disp_tab(vars[0])"
      ],
      "execution_count": 61,
      "outputs": [
        {
          "output_type": "execute_result",
          "data": {
            "application/vnd.google.colaboratory.module+javascript": "\n      import \"https://ssl.gstatic.com/colaboratory/data_table/a6224c040fa35dcf/data_table.js\";\n\n      window.createDataTable({\n        data: [[{\n            'v': 0,\n            'f': \"0\",\n        },\n{\n            'v': 1000.0,\n            'f': \"1000.0\",\n        },\n{\n            'v': 107506.36719,\n            'f': \"107506.36719\",\n        },\n{\n            'v': 69.57385,\n            'f': \"69.57385\",\n        },\n{\n            'v': 0.20796,\n            'f': \"0.20796\",\n        }],\n [{\n            'v': 1,\n            'f': \"1\",\n        },\n{\n            'v': 2000.0,\n            'f': \"2000.0\",\n        },\n{\n            'v': 93039.58594,\n            'f': \"93039.58594\",\n        },\n{\n            'v': 39.31099,\n            'f': \"39.31099\",\n        },\n{\n            'v': 1.46233,\n            'f': \"1.46233\",\n        }],\n [{\n            'v': 2,\n            'f': \"2\",\n        },\n{\n            'v': 3000.0,\n            'f': \"3000.0\",\n        },\n{\n            'v': 85724.65625,\n            'f': \"85724.65625\",\n        },\n{\n            'v': 29.45443,\n            'f': \"29.45443\",\n        },\n{\n            'v': 2.23058,\n            'f': \"2.23058\",\n        }],\n [{\n            'v': 3,\n            'f': \"3\",\n        },\n{\n            'v': 4000.0,\n            'f': \"4000.0\",\n        },\n{\n            'v': 80888.46094,\n            'f': \"80888.46094\",\n        },\n{\n            'v': 24.33704,\n            'f': \"24.33704\",\n        },\n{\n            'v': 3.24241,\n            'f': \"3.24241\",\n        }],\n [{\n            'v': 4,\n            'f': \"4\",\n        },\n{\n            'v': 5000.0,\n            'f': \"5000.0\",\n        },\n{\n            'v': 77325.76562,\n            'f': \"77325.76562\",\n        },\n{\n            'v': 21.14513,\n            'f': \"21.14513\",\n        },\n{\n            'v': 3.72451,\n            'f': \"3.72451\",\n        }],\n [{\n            'v': 5,\n            'f': \"5\",\n        },\n{\n            'v': 6000.0,\n            'f': \"6000.0\",\n        },\n{\n            'v': 74717.91406,\n            'f': \"74717.91406\",\n        },\n{\n            'v': 19.0773,\n            'f': \"19.0773\",\n        },\n{\n            'v': 4.43925,\n            'f': \"4.43925\",\n        }],\n [{\n            'v': 6,\n            'f': \"6\",\n        },\n{\n            'v': 7000.0,\n            'f': \"7000.0\",\n        },\n{\n            'v': 72859.25,\n            'f': \"72859.25\",\n        },\n{\n            'v': 17.72813,\n            'f': \"17.72813\",\n        },\n{\n            'v': 4.90788,\n            'f': \"4.90788\",\n        }],\n [{\n            'v': 7,\n            'f': \"7\",\n        },\n{\n            'v': 8000.0,\n            'f': \"8000.0\",\n        },\n{\n            'v': 71176.64844,\n            'f': \"71176.64844\",\n        },\n{\n            'v': 16.58924,\n            'f': \"16.58924\",\n        },\n{\n            'v': 5.39422,\n            'f': \"5.39422\",\n        }]],\n        columns: [[\"number\", \"index\"], [\"number\", \"Steps\"], [\"number\", \"Loss\"], [\"number\", \"PPL\"], [\"number\", \"bleu\"]],\n        columnOptions: [{\"width\": \"1px\", \"className\": \"index_column\"}],\n        rowsPerPage: 25,\n        helpUrl: \"https://colab.research.google.com/notebooks/data_table.ipynb\",\n        suppressOutputScrolling: true,\n        minimumWidth: undefined,\n      });\n    ",
            "text/html": [
              "<div>\n",
              "<style scoped>\n",
              "    .dataframe tbody tr th:only-of-type {\n",
              "        vertical-align: middle;\n",
              "    }\n",
              "\n",
              "    .dataframe tbody tr th {\n",
              "        vertical-align: top;\n",
              "    }\n",
              "\n",
              "    .dataframe thead th {\n",
              "        text-align: right;\n",
              "    }\n",
              "</style>\n",
              "<table border=\"1\" class=\"dataframe\">\n",
              "  <thead>\n",
              "    <tr style=\"text-align: right;\">\n",
              "      <th></th>\n",
              "      <th>Steps</th>\n",
              "      <th>Loss</th>\n",
              "      <th>PPL</th>\n",
              "      <th>bleu</th>\n",
              "    </tr>\n",
              "  </thead>\n",
              "  <tbody>\n",
              "    <tr>\n",
              "      <th>0</th>\n",
              "      <td>1000.0</td>\n",
              "      <td>107506.36719</td>\n",
              "      <td>69.57385</td>\n",
              "      <td>0.20796</td>\n",
              "    </tr>\n",
              "    <tr>\n",
              "      <th>1</th>\n",
              "      <td>2000.0</td>\n",
              "      <td>93039.58594</td>\n",
              "      <td>39.31099</td>\n",
              "      <td>1.46233</td>\n",
              "    </tr>\n",
              "    <tr>\n",
              "      <th>2</th>\n",
              "      <td>3000.0</td>\n",
              "      <td>85724.65625</td>\n",
              "      <td>29.45443</td>\n",
              "      <td>2.23058</td>\n",
              "    </tr>\n",
              "    <tr>\n",
              "      <th>3</th>\n",
              "      <td>4000.0</td>\n",
              "      <td>80888.46094</td>\n",
              "      <td>24.33704</td>\n",
              "      <td>3.24241</td>\n",
              "    </tr>\n",
              "    <tr>\n",
              "      <th>4</th>\n",
              "      <td>5000.0</td>\n",
              "      <td>77325.76562</td>\n",
              "      <td>21.14513</td>\n",
              "      <td>3.72451</td>\n",
              "    </tr>\n",
              "    <tr>\n",
              "      <th>5</th>\n",
              "      <td>6000.0</td>\n",
              "      <td>74717.91406</td>\n",
              "      <td>19.07730</td>\n",
              "      <td>4.43925</td>\n",
              "    </tr>\n",
              "    <tr>\n",
              "      <th>6</th>\n",
              "      <td>7000.0</td>\n",
              "      <td>72859.25000</td>\n",
              "      <td>17.72813</td>\n",
              "      <td>4.90788</td>\n",
              "    </tr>\n",
              "    <tr>\n",
              "      <th>7</th>\n",
              "      <td>8000.0</td>\n",
              "      <td>71176.64844</td>\n",
              "      <td>16.58924</td>\n",
              "      <td>5.39422</td>\n",
              "    </tr>\n",
              "  </tbody>\n",
              "</table>\n",
              "</div>"
            ],
            "text/plain": [
              "    Steps          Loss       PPL     bleu\n",
              "0  1000.0  107506.36719  69.57385  0.20796\n",
              "1  2000.0   93039.58594  39.31099  1.46233\n",
              "2  3000.0   85724.65625  29.45443  2.23058\n",
              "3  4000.0   80888.46094  24.33704  3.24241\n",
              "4  5000.0   77325.76562  21.14513  3.72451\n",
              "5  6000.0   74717.91406  19.07730  4.43925\n",
              "6  7000.0   72859.25000  17.72813  4.90788\n",
              "7  8000.0   71176.64844  16.58924  5.39422"
            ]
          },
          "metadata": {},
          "execution_count": 61
        }
      ]
    },
    {
      "cell_type": "code",
      "metadata": {
        "colab": {
          "base_uri": "https://localhost:8080/",
          "height": 295
        },
        "id": "u7kh2o9k_y2v",
        "outputId": "07730912-817c-4f01-daa0-495b468a3805"
      },
      "source": [
        "disp_plot(vars[0])"
      ],
      "execution_count": 62,
      "outputs": [
        {
          "output_type": "display_data",
          "data": {
            "image/png": "[encoded data removed]",
            "text/plain": [
              "<Figure size 432x288 with 1 Axes>"
            ]
          },
          "metadata": {
            "needs_background": "light"
          }
        }
      ]
    },
    {
      "cell_type": "code",
      "metadata": {
        "id": "iMGz4P67YeFN",
        "outputId": "d6be8569-3648-443a-82b9-6d1dc2228179",
        "colab": {
          "base_uri": "https://localhost:8080/",
          "height": 257
        }
      },
      "source": [
        "disp_tab(vars[4])"
      ],
      "execution_count": 67,
      "outputs": [
        {
          "output_type": "execute_result",
          "data": {
            "application/vnd.google.colaboratory.module+javascript": "\n      import \"https://ssl.gstatic.com/colaboratory/data_table/a6224c040fa35dcf/data_table.js\";\n\n      window.createDataTable({\n        data: [[{\n            'v': 0,\n            'f': \"0\",\n        },\n{\n            'v': 1000.0,\n            'f': \"1000.0\",\n        },\n{\n            'v': 107506.36719,\n            'f': \"107506.36719\",\n        },\n{\n            'v': 69.57385,\n            'f': \"69.57385\",\n        },\n{\n            'v': 0.20796,\n            'f': \"0.20796\",\n        }],\n [{\n            'v': 1,\n            'f': \"1\",\n        },\n{\n            'v': 2000.0,\n            'f': \"2000.0\",\n        },\n{\n            'v': 93039.58594,\n            'f': \"93039.58594\",\n        },\n{\n            'v': 39.31099,\n            'f': \"39.31099\",\n        },\n{\n            'v': 1.46233,\n            'f': \"1.46233\",\n        }],\n [{\n            'v': 2,\n            'f': \"2\",\n        },\n{\n            'v': 3000.0,\n            'f': \"3000.0\",\n        },\n{\n            'v': 85724.65625,\n            'f': \"85724.65625\",\n        },\n{\n            'v': 29.45443,\n            'f': \"29.45443\",\n        },\n{\n            'v': 2.23058,\n            'f': \"2.23058\",\n        }],\n [{\n            'v': 3,\n            'f': \"3\",\n        },\n{\n            'v': 4000.0,\n            'f': \"4000.0\",\n        },\n{\n            'v': 80888.46094,\n            'f': \"80888.46094\",\n        },\n{\n            'v': 24.33704,\n            'f': \"24.33704\",\n        },\n{\n            'v': 3.24241,\n            'f': \"3.24241\",\n        }],\n [{\n            'v': 4,\n            'f': \"4\",\n        },\n{\n            'v': 5000.0,\n            'f': \"5000.0\",\n        },\n{\n            'v': 77325.76562,\n            'f': \"77325.76562\",\n        },\n{\n            'v': 21.14513,\n            'f': \"21.14513\",\n        },\n{\n            'v': 3.72451,\n            'f': \"3.72451\",\n        }],\n [{\n            'v': 5,\n            'f': \"5\",\n        },\n{\n            'v': 6000.0,\n            'f': \"6000.0\",\n        },\n{\n            'v': 74717.91406,\n            'f': \"74717.91406\",\n        },\n{\n            'v': 19.0773,\n            'f': \"19.0773\",\n        },\n{\n            'v': 4.43925,\n            'f': \"4.43925\",\n        }],\n [{\n            'v': 6,\n            'f': \"6\",\n        },\n{\n            'v': 7000.0,\n            'f': \"7000.0\",\n        },\n{\n            'v': 72859.25,\n            'f': \"72859.25\",\n        },\n{\n            'v': 17.72813,\n            'f': \"17.72813\",\n        },\n{\n            'v': 4.90788,\n            'f': \"4.90788\",\n        }],\n [{\n            'v': 7,\n            'f': \"7\",\n        },\n{\n            'v': 8000.0,\n            'f': \"8000.0\",\n        },\n{\n            'v': 71176.64844,\n            'f': \"71176.64844\",\n        },\n{\n            'v': 16.58924,\n            'f': \"16.58924\",\n        },\n{\n            'v': 5.39422,\n            'f': \"5.39422\",\n        }]],\n        columns: [[\"number\", \"index\"], [\"number\", \"Steps\"], [\"number\", \"Loss\"], [\"number\", \"PPL\"], [\"number\", \"bleu\"]],\n        columnOptions: [{\"width\": \"1px\", \"className\": \"index_column\"}],\n        rowsPerPage: 25,\n        helpUrl: \"https://colab.research.google.com/notebooks/data_table.ipynb\",\n        suppressOutputScrolling: true,\n        minimumWidth: undefined,\n      });\n    ",
            "text/html": [
              "<div>\n",
              "<style scoped>\n",
              "    .dataframe tbody tr th:only-of-type {\n",
              "        vertical-align: middle;\n",
              "    }\n",
              "\n",
              "    .dataframe tbody tr th {\n",
              "        vertical-align: top;\n",
              "    }\n",
              "\n",
              "    .dataframe thead th {\n",
              "        text-align: right;\n",
              "    }\n",
              "</style>\n",
              "<table border=\"1\" class=\"dataframe\">\n",
              "  <thead>\n",
              "    <tr style=\"text-align: right;\">\n",
              "      <th></th>\n",
              "      <th>Steps</th>\n",
              "      <th>Loss</th>\n",
              "      <th>PPL</th>\n",
              "      <th>bleu</th>\n",
              "    </tr>\n",
              "  </thead>\n",
              "  <tbody>\n",
              "    <tr>\n",
              "      <th>0</th>\n",
              "      <td>1000.0</td>\n",
              "      <td>107506.36719</td>\n",
              "      <td>69.57385</td>\n",
              "      <td>0.20796</td>\n",
              "    </tr>\n",
              "    <tr>\n",
              "      <th>1</th>\n",
              "      <td>2000.0</td>\n",
              "      <td>93039.58594</td>\n",
              "      <td>39.31099</td>\n",
              "      <td>1.46233</td>\n",
              "    </tr>\n",
              "    <tr>\n",
              "      <th>2</th>\n",
              "      <td>3000.0</td>\n",
              "      <td>85724.65625</td>\n",
              "      <td>29.45443</td>\n",
              "      <td>2.23058</td>\n",
              "    </tr>\n",
              "    <tr>\n",
              "      <th>3</th>\n",
              "      <td>4000.0</td>\n",
              "      <td>80888.46094</td>\n",
              "      <td>24.33704</td>\n",
              "      <td>3.24241</td>\n",
              "    </tr>\n",
              "    <tr>\n",
              "      <th>4</th>\n",
              "      <td>5000.0</td>\n",
              "      <td>77325.76562</td>\n",
              "      <td>21.14513</td>\n",
              "      <td>3.72451</td>\n",
              "    </tr>\n",
              "    <tr>\n",
              "      <th>5</th>\n",
              "      <td>6000.0</td>\n",
              "      <td>74717.91406</td>\n",
              "      <td>19.07730</td>\n",
              "      <td>4.43925</td>\n",
              "    </tr>\n",
              "    <tr>\n",
              "      <th>6</th>\n",
              "      <td>7000.0</td>\n",
              "      <td>72859.25000</td>\n",
              "      <td>17.72813</td>\n",
              "      <td>4.90788</td>\n",
              "    </tr>\n",
              "    <tr>\n",
              "      <th>7</th>\n",
              "      <td>8000.0</td>\n",
              "      <td>71176.64844</td>\n",
              "      <td>16.58924</td>\n",
              "      <td>5.39422</td>\n",
              "    </tr>\n",
              "  </tbody>\n",
              "</table>\n",
              "</div>"
            ],
            "text/plain": [
              "    Steps          Loss       PPL     bleu\n",
              "0  1000.0  107506.36719  69.57385  0.20796\n",
              "1  2000.0   93039.58594  39.31099  1.46233\n",
              "2  3000.0   85724.65625  29.45443  2.23058\n",
              "3  4000.0   80888.46094  24.33704  3.24241\n",
              "4  5000.0   77325.76562  21.14513  3.72451\n",
              "5  6000.0   74717.91406  19.07730  4.43925\n",
              "6  7000.0   72859.25000  17.72813  4.90788\n",
              "7  8000.0   71176.64844  16.58924  5.39422"
            ]
          },
          "metadata": {},
          "execution_count": 67
        }
      ]
    },
    {
      "cell_type": "code",
      "metadata": {
        "id": "BvRt5pzoZJuw",
        "outputId": "40faa8ee-41f6-4f9b-876c-7189f3dbc012",
        "colab": {
          "base_uri": "https://localhost:8080/",
          "height": 295
        }
      },
      "source": [
        "disp_plot(vars[4])"
      ],
      "execution_count": 68,
      "outputs": [
        {
          "output_type": "display_data",
          "data": {
            "image/png": "[encoded data removed]",
            "text/plain": [
              "<Figure size 432x288 with 1 Axes>"
            ]
          },
          "metadata": {
            "needs_background": "light"
          }
        }
      ]
    },
    {
      "cell_type": "code",
      "metadata": {
        "id": "_4Z_iyafaIY1",
        "outputId": "df4843f2-909c-4fff-ab4a-fca9719789e8",
        "colab": {
          "base_uri": "https://localhost:8080/",
          "height": 257
        }
      },
      "source": [
        "disp_tab(vars[5])"
      ],
      "execution_count": 72,
      "outputs": [
        {
          "output_type": "execute_result",
          "data": {
            "application/vnd.google.colaboratory.module+javascript": "\n      import \"https://ssl.gstatic.com/colaboratory/data_table/a6224c040fa35dcf/data_table.js\";\n\n      window.createDataTable({\n        data: [[{\n            'v': 0,\n            'f': \"0\",\n        },\n{\n            'v': 1000.0,\n            'f': \"1000.0\",\n        },\n{\n            'v': 109041.10156,\n            'f': \"109041.10156\",\n        },\n{\n            'v': 73.91766,\n            'f': \"73.91766\",\n        },\n{\n            'v': 0.19118,\n            'f': \"0.19118\",\n        }],\n [{\n            'v': 1,\n            'f': \"1\",\n        },\n{\n            'v': 2000.0,\n            'f': \"2000.0\",\n        },\n{\n            'v': 93268.50781,\n            'f': \"93268.50781\",\n        },\n{\n            'v': 39.66772,\n            'f': \"39.66772\",\n        },\n{\n            'v': 1.5657,\n            'f': \"1.5657\",\n        }],\n [{\n            'v': 2,\n            'f': \"2\",\n        },\n{\n            'v': 3000.0,\n            'f': \"3000.0\",\n        },\n{\n            'v': 85527.91406,\n            'f': \"85527.91406\",\n        },\n{\n            'v': 29.22663,\n            'f': \"29.22663\",\n        },\n{\n            'v': 2.32087,\n            'f': \"2.32087\",\n        }],\n [{\n            'v': 3,\n            'f': \"3\",\n        },\n{\n            'v': 4000.0,\n            'f': \"4000.0\",\n        },\n{\n            'v': 80839.14844,\n            'f': \"80839.14844\",\n        },\n{\n            'v': 24.28973,\n            'f': \"24.28973\",\n        },\n{\n            'v': 3.60188,\n            'f': \"3.60188\",\n        }],\n [{\n            'v': 4,\n            'f': \"4\",\n        },\n{\n            'v': 5000.0,\n            'f': \"5000.0\",\n        },\n{\n            'v': 77384.58594,\n            'f': \"77384.58594\",\n        },\n{\n            'v': 21.19426,\n            'f': \"21.19426\",\n        },\n{\n            'v': 4.12418,\n            'f': \"4.12418\",\n        }],\n [{\n            'v': 5,\n            'f': \"5\",\n        },\n{\n            'v': 6000.0,\n            'f': \"6000.0\",\n        },\n{\n            'v': 74894.38281,\n            'f': \"74894.38281\",\n        },\n{\n            'v': 19.21061,\n            'f': \"19.21061\",\n        },\n{\n            'v': 5.16321,\n            'f': \"5.16321\",\n        }],\n [{\n            'v': 6,\n            'f': \"6\",\n        },\n{\n            'v': 7000.0,\n            'f': \"7000.0\",\n        },\n{\n            'v': 72969.0625,\n            'f': \"72969.0625\",\n        },\n{\n            'v': 17.80512,\n            'f': \"17.80512\",\n        },\n{\n            'v': 5.78062,\n            'f': \"5.78062\",\n        }],\n [{\n            'v': 7,\n            'f': \"7\",\n        },\n{\n            'v': 8000.0,\n            'f': \"8000.0\",\n        },\n{\n            'v': 71347.20312,\n            'f': \"71347.20312\",\n        },\n{\n            'v': 16.70127,\n            'f': \"16.70127\",\n        },\n{\n            'v': 6.01452,\n            'f': \"6.01452\",\n        }]],\n        columns: [[\"number\", \"index\"], [\"number\", \"Steps\"], [\"number\", \"Loss\"], [\"number\", \"PPL\"], [\"number\", \"bleu\"]],\n        columnOptions: [{\"width\": \"1px\", \"className\": \"index_column\"}],\n        rowsPerPage: 25,\n        helpUrl: \"https://colab.research.google.com/notebooks/data_table.ipynb\",\n        suppressOutputScrolling: true,\n        minimumWidth: undefined,\n      });\n    ",
            "text/html": [
              "<div>\n",
              "<style scoped>\n",
              "    .dataframe tbody tr th:only-of-type {\n",
              "        vertical-align: middle;\n",
              "    }\n",
              "\n",
              "    .dataframe tbody tr th {\n",
              "        vertical-align: top;\n",
              "    }\n",
              "\n",
              "    .dataframe thead th {\n",
              "        text-align: right;\n",
              "    }\n",
              "</style>\n",
              "<table border=\"1\" class=\"dataframe\">\n",
              "  <thead>\n",
              "    <tr style=\"text-align: right;\">\n",
              "      <th></th>\n",
              "      <th>Steps</th>\n",
              "      <th>Loss</th>\n",
              "      <th>PPL</th>\n",
              "      <th>bleu</th>\n",
              "    </tr>\n",
              "  </thead>\n",
              "  <tbody>\n",
              "    <tr>\n",
              "      <th>0</th>\n",
              "      <td>1000.0</td>\n",
              "      <td>109041.10156</td>\n",
              "      <td>73.91766</td>\n",
              "      <td>0.19118</td>\n",
              "    </tr>\n",
              "    <tr>\n",
              "      <th>1</th>\n",
              "      <td>2000.0</td>\n",
              "      <td>93268.50781</td>\n",
              "      <td>39.66772</td>\n",
              "      <td>1.56570</td>\n",
              "    </tr>\n",
              "    <tr>\n",
              "      <th>2</th>\n",
              "      <td>3000.0</td>\n",
              "      <td>85527.91406</td>\n",
              "      <td>29.22663</td>\n",
              "      <td>2.32087</td>\n",
              "    </tr>\n",
              "    <tr>\n",
              "      <th>3</th>\n",
              "      <td>4000.0</td>\n",
              "      <td>80839.14844</td>\n",
              "      <td>24.28973</td>\n",
              "      <td>3.60188</td>\n",
              "    </tr>\n",
              "    <tr>\n",
              "      <th>4</th>\n",
              "      <td>5000.0</td>\n",
              "      <td>77384.58594</td>\n",
              "      <td>21.19426</td>\n",
              "      <td>4.12418</td>\n",
              "    </tr>\n",
              "    <tr>\n",
              "      <th>5</th>\n",
              "      <td>6000.0</td>\n",
              "      <td>74894.38281</td>\n",
              "      <td>19.21061</td>\n",
              "      <td>5.16321</td>\n",
              "    </tr>\n",
              "    <tr>\n",
              "      <th>6</th>\n",
              "      <td>7000.0</td>\n",
              "      <td>72969.06250</td>\n",
              "      <td>17.80512</td>\n",
              "      <td>5.78062</td>\n",
              "    </tr>\n",
              "    <tr>\n",
              "      <th>7</th>\n",
              "      <td>8000.0</td>\n",
              "      <td>71347.20312</td>\n",
              "      <td>16.70127</td>\n",
              "      <td>6.01452</td>\n",
              "    </tr>\n",
              "  </tbody>\n",
              "</table>\n",
              "</div>"
            ],
            "text/plain": [
              "    Steps          Loss       PPL     bleu\n",
              "0  1000.0  109041.10156  73.91766  0.19118\n",
              "1  2000.0   93268.50781  39.66772  1.56570\n",
              "2  3000.0   85527.91406  29.22663  2.32087\n",
              "3  4000.0   80839.14844  24.28973  3.60188\n",
              "4  5000.0   77384.58594  21.19426  4.12418\n",
              "5  6000.0   74894.38281  19.21061  5.16321\n",
              "6  7000.0   72969.06250  17.80512  5.78062\n",
              "7  8000.0   71347.20312  16.70127  6.01452"
            ]
          },
          "metadata": {},
          "execution_count": 72
        }
      ]
    },
    {
      "cell_type": "code",
      "metadata": {
        "id": "_SRaxaybZ-Zw",
        "outputId": "b4a59965-f576-4b3a-87c3-d390665cbba1",
        "colab": {
          "base_uri": "https://localhost:8080/",
          "height": 295
        }
      },
      "source": [
        "disp_plot(vars[5])"
      ],
      "execution_count": 73,
      "outputs": [
        {
          "output_type": "display_data",
          "data": {
            "image/png": "[encoded data removed]",
            "text/plain": [
              "<Figure size 432x288 with 1 Axes>"
            ]
          },
          "metadata": {
            "needs_background": "light"
          }
        }
      ]
    }
  ]
}