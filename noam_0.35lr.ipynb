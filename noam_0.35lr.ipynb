{
  "nbformat": 4,
  "nbformat_minor": 0,
  "metadata": {
    "colab": {
      "name": "Copy of Xhosa<->English Translation.ipynb",
      "provenance": [],
      "authorship_tag": "ABX9TyMRF6GLQYGPg8nhTW7azHBE",
      "include_colab_link": true
    },
    "kernelspec": {
      "name": "python3",
      "display_name": "Python 3"
    },
    "language_info": {
      "name": "python"
    },
    "accelerator": "GPU"
  },
  "cells": [
    {
      "cell_type": "markdown",
      "metadata": {
        "id": "view-in-github",
        "colab_type": "text"
      },
      "source": [
        "<a href=\"https://colab.research.google.com/github/Shingirai98/Xhosa_English_Translation/blob/main/noam_0.35lr.ipynb\" target=\"_parent\"><img src=\"https://colab.research.google.com/assets/colab-badge.svg\" alt=\"Open In Colab\"/></a>"
      ]
    },
    {
      "cell_type": "markdown",
      "metadata": {
        "id": "0yEFsvb0bX8T"
      },
      "source": [
        "Mount the drive to be used for storage of data"
      ]
    },
    {
      "cell_type": "code",
      "metadata": {
        "colab": {
          "base_uri": "https://localhost:8080/"
        },
        "id": "RROaiMCY0P1D",
        "outputId": "e129b618-ab14-44b4-b8cd-d4dd4f01ae7f"
      },
      "source": [
        "from google.colab import drive\n",
        "drive.mount('/content/drive')"
      ],
      "execution_count": 45,
      "outputs": [
        {
          "output_type": "stream",
          "name": "stdout",
          "text": [
            "Drive already mounted at /content/drive; to attempt to forcibly remount, call drive.mount(\"/content/drive\", force_remount=True).\n"
          ]
        }
      ]
    },
    {
      "cell_type": "markdown",
      "metadata": {
        "id": "w9lQZ5hgbWN5"
      },
      "source": [
        "Setup source and target languages using the short hand from the JW300 JSON data"
      ]
    },
    {
      "cell_type": "code",
      "metadata": {
        "id": "azy86diBjeyT"
      },
      "source": [
        "# TODO: Set your source and target languages. Keep in mind, these traditionally use language codes as found here:\n",
        "# These will also become the suffix's of all vocab and corpus files used throughout\n",
        "import os\n",
        "source_language = \"en\"\n",
        "target_language = \"xh\" \n",
        "lc = False  # If True, lowercase the data.\n",
        "seed = 42  # Random seed for shuffling.\n",
        "tag = \"noam_0.35lr\" # Give a unique name to your folder - this is to ensure you don't rewrite any models you've already submitted\n",
        "\n",
        "os.environ[\"src\"] = source_language # Sets them in bash as well, since we often use bash scripts\n",
        "os.environ[\"tgt\"] = target_language\n",
        "os.environ[\"tag\"] = tag\n",
        "\n",
        "# This will save it to a folder in our gdrive instead!\n",
        "!mkdir -p \"/content/drive/My Drive/m/$tgt-$src-$tag/models\"\n",
        "os.environ[\"gdrive_path\"] = \"/content/drive/My Drive/m/%s-%s-%s\" % (target_language, source_language, tag)"
      ],
      "execution_count": 46,
      "outputs": []
    },
    {
      "cell_type": "code",
      "metadata": {
        "colab": {
          "base_uri": "https://localhost:8080/"
        },
        "id": "G4dgTc-GoOvm",
        "outputId": "07486cbc-11ff-4683-a85f-9f58717e9a69"
      },
      "source": [
        "# confirm the availability of folder\n",
        "\n",
        "!echo $gdrive_path"
      ],
      "execution_count": 47,
      "outputs": [
        {
          "output_type": "stream",
          "name": "stdout",
          "text": [
            "/content/drive/My Drive/m/xh-en-noam_0.35lr\n"
          ]
        }
      ]
    },
    {
      "cell_type": "code",
      "metadata": {
        "colab": {
          "base_uri": "https://localhost:8080/"
        },
        "id": "m5h1mMp1o-O5",
        "outputId": "bd7a2130-d696-4241-a486-86aa6fc791e5"
      },
      "source": [
        "# install the opus tools\n",
        "! pip install opustools-pkg"
      ],
      "execution_count": 48,
      "outputs": [
        {
          "output_type": "stream",
          "name": "stdout",
          "text": [
            "Requirement already satisfied: opustools-pkg in /usr/local/lib/python3.7/dist-packages (0.0.52)\n"
          ]
        }
      ]
    },
    {
      "cell_type": "code",
      "metadata": {
        "colab": {
          "base_uri": "https://localhost:8080/"
        },
        "id": "nLTDBzRbpMON",
        "outputId": "ca7835c2-937e-48db-e28b-f54f1f8e7c1a"
      },
      "source": [
        "# Downloading our corpus\n",
        "! opus_read -d XhosaNavy -s $src -t $tgt -wm moses -w xhosanavy.$src xhosanavy.$tgt -q\n",
        "\n",
        "# extract the corpus file\n",
        "! gunzip XhosaNavy_latest_xml_$src-$tgt.xml.gz"
      ],
      "execution_count": 49,
      "outputs": [
        {
          "output_type": "stream",
          "name": "stdout",
          "text": [
            "\n",
            "Alignment file /proj/nlpl/data/OPUS/XhosaNavy/latest/xml/en-xh.xml.gz not found. The following files are available for downloading:\n",
            "\n",
            "        ./XhosaNavy_latest_xml_en.zip already exists\n",
            "        ./XhosaNavy_latest_xml_xh.zip already exists\n",
            " 379 KB https://object.pouta.csc.fi/OPUS-XhosaNavy/v1/xml/en-xh.xml.gz\n",
            "\n",
            " 379 KB Total size\n",
            "./XhosaNavy_latest_xml_en-xh.xml.gz ... 100% of 379 KB\n",
            "gzip: XhosaNavy_latest_xml_en-xh.xml already exists; do you wish to overwrite (y or n)? y\n"
          ]
        }
      ]
    },
    {
      "cell_type": "code",
      "metadata": {
        "colab": {
          "base_uri": "https://localhost:8080/"
        },
        "id": "VK10HwFNptkg",
        "outputId": "a9e8e81d-5b9a-476e-9875-8381ad12fb53"
      },
      "source": [
        "# Download the global test set.\n",
        "! wget https://raw.githubusercontent.com/juliakreutzer/masakhane/master/jw300_utils/test/test.en-any.en\n",
        "  \n",
        "# And the specific test set for this language pair.\n",
        "os.environ[\"trg\"] = target_language \n",
        "os.environ[\"src\"] = source_language \n",
        "\n",
        "! wget https://raw.githubusercontent.com/juliakreutzer/masakhane/master/jw300_utils/test/test.en-$trg.en \n",
        "! mv test.en-$trg.en test.en\n",
        "! wget https://raw.githubusercontent.com/juliakreutzer/masakhane/master/jw300_utils/test/test.en-$trg.$trg \n",
        "! mv test.en-$trg.$trg test.$trg"
      ],
      "execution_count": 50,
      "outputs": [
        {
          "output_type": "stream",
          "name": "stdout",
          "text": [
            "--2021-10-28 18:12:16--  https://raw.githubusercontent.com/juliakreutzer/masakhane/master/jw300_utils/test/test.en-any.en\n",
            "Resolving raw.githubusercontent.com (raw.githubusercontent.com)... 185.199.111.133, 185.199.108.133, 185.199.110.133, ...\n",
            "Connecting to raw.githubusercontent.com (raw.githubusercontent.com)|185.199.111.133|:443... connected.\n",
            "HTTP request sent, awaiting response... 200 OK\n",
            "Length: 277791 (271K) [text/plain]\n",
            "Saving to: ‘test.en-any.en.2’\n",
            "\n",
            "test.en-any.en.2    100%[===================>] 271.28K  --.-KB/s    in 0.03s   \n",
            "\n",
            "2021-10-28 18:12:16 (8.82 MB/s) - ‘test.en-any.en.2’ saved [277791/277791]\n",
            "\n",
            "--2021-10-28 18:12:16--  https://raw.githubusercontent.com/juliakreutzer/masakhane/master/jw300_utils/test/test.en-xh.en\n",
            "Resolving raw.githubusercontent.com (raw.githubusercontent.com)... 185.199.111.133, 185.199.108.133, 185.199.110.133, ...\n",
            "Connecting to raw.githubusercontent.com (raw.githubusercontent.com)|185.199.111.133|:443... connected.\n",
            "HTTP request sent, awaiting response... 200 OK\n",
            "Length: 206162 (201K) [text/plain]\n",
            "Saving to: ‘test.en-xh.en’\n",
            "\n",
            "test.en-xh.en       100%[===================>] 201.33K  --.-KB/s    in 0.02s   \n",
            "\n",
            "2021-10-28 18:12:16 (7.91 MB/s) - ‘test.en-xh.en’ saved [206162/206162]\n",
            "\n",
            "--2021-10-28 18:12:16--  https://raw.githubusercontent.com/juliakreutzer/masakhane/master/jw300_utils/test/test.en-xh.xh\n",
            "Resolving raw.githubusercontent.com (raw.githubusercontent.com)... 185.199.108.133, 185.199.109.133, 185.199.110.133, ...\n",
            "Connecting to raw.githubusercontent.com (raw.githubusercontent.com)|185.199.108.133|:443... connected.\n",
            "HTTP request sent, awaiting response... 200 OK\n",
            "Length: 211374 (206K) [text/plain]\n",
            "Saving to: ‘test.en-xh.xh’\n",
            "\n",
            "test.en-xh.xh       100%[===================>] 206.42K  --.-KB/s    in 0.02s   \n",
            "\n",
            "2021-10-28 18:12:17 (8.31 MB/s) - ‘test.en-xh.xh’ saved [211374/211374]\n",
            "\n"
          ]
        }
      ]
    },
    {
      "cell_type": "code",
      "metadata": {
        "colab": {
          "base_uri": "https://localhost:8080/"
        },
        "id": "BKbFyw8qrSnK",
        "outputId": "50214c45-b28a-417d-cfce-c3da8a1eb4d5"
      },
      "source": [
        "# Read the test data to filter from train and dev splits.\n",
        "# Store english portion in set for quick filtering checks.\n",
        "en_test_sents = set()\n",
        "filter_test_sents = \"test.en-any.en\"\n",
        "j = 0\n",
        "with open(filter_test_sents) as f:\n",
        "  for line in f:\n",
        "    en_test_sents.add(line.strip())\n",
        "    j += 1\n",
        "print('Loaded {} global test sentences to filter from the training/dev data.'.format(j))"
      ],
      "execution_count": 51,
      "outputs": [
        {
          "output_type": "stream",
          "name": "stdout",
          "text": [
            "Loaded 3571 global test sentences to filter from the training/dev data.\n"
          ]
        }
      ]
    },
    {
      "cell_type": "code",
      "metadata": {
        "colab": {
          "base_uri": "https://localhost:8080/",
          "height": 159
        },
        "id": "yCmVg7A_sC3O",
        "outputId": "b4765552-e8dc-4b5b-bcf4-38587eddf2db"
      },
      "source": [
        "import pandas as pd\n",
        "\n",
        "# TMX file to dataframe\n",
        "source_file = 'xhosanavy.' + source_language\n",
        "target_file = 'xhosanavy.' + target_language\n",
        "\n",
        "source = []\n",
        "target = []\n",
        "skip_lines = []  # Collect the line numbers of the source portion to skip the same lines for the target portion.\n",
        "with open(source_file) as f:\n",
        "    for i, line in enumerate(f):\n",
        "        # Skip sentences that are contained in the test set.\n",
        "        if line.strip() not in en_test_sents:\n",
        "            source.append(line.strip())\n",
        "        else:\n",
        "            skip_lines.append(i)             \n",
        "with open(target_file) as f:\n",
        "    for j, line in enumerate(f):\n",
        "        # Only add to corpus if corresponding source was not skipped.\n",
        "        if j not in skip_lines:\n",
        "            target.append(line.strip())\n",
        "    \n",
        "print('Loaded data and skipped {}/{} lines since contained in test set.'.format(len(skip_lines), i))\n",
        "    \n",
        "df = pd.DataFrame(zip(source, target), columns=['source_sentence', 'target_sentence'])\n",
        "# if you get TypeError: data argument can't be an iterator is because of your zip version run this below\n",
        "#df = pd.DataFrame(list(zip(source, target)), columns=['source_sentence', 'target_sentence'])\n",
        "df.head(3)"
      ],
      "execution_count": 52,
      "outputs": [
        {
          "output_type": "stream",
          "name": "stdout",
          "text": [
            "Loaded data and skipped 1/50097 lines since contained in test set.\n"
          ]
        },
        {
          "output_type": "execute_result",
          "data": {
            "text/html": [
              "<div>\n",
              "<style scoped>\n",
              "    .dataframe tbody tr th:only-of-type {\n",
              "        vertical-align: middle;\n",
              "    }\n",
              "\n",
              "    .dataframe tbody tr th {\n",
              "        vertical-align: top;\n",
              "    }\n",
              "\n",
              "    .dataframe thead th {\n",
              "        text-align: right;\n",
              "    }\n",
              "</style>\n",
              "<table border=\"1\" class=\"dataframe\">\n",
              "  <thead>\n",
              "    <tr style=\"text-align: right;\">\n",
              "      <th></th>\n",
              "      <th>source_sentence</th>\n",
              "      <th>target_sentence</th>\n",
              "    </tr>\n",
              "  </thead>\n",
              "  <tbody>\n",
              "    <tr>\n",
              "      <th>0</th>\n",
              "      <td>Rope and its Usage</td>\n",
              "      <td>Intambo nomsebenzi ewenzayo .</td>\n",
              "    </tr>\n",
              "    <tr>\n",
              "      <th>1</th>\n",
              "      <td>In this chapter are described the various type...</td>\n",
              "      <td>Kwesi sahluko sixelelwa ngendindi zeentambo at...</td>\n",
              "    </tr>\n",
              "    <tr>\n",
              "      <th>2</th>\n",
              "      <td>The chapter has been divided into seven sectio...</td>\n",
              "      <td>Esi sahluko sahlulwa - hlulwe kasixhenxe , zic...</td>\n",
              "    </tr>\n",
              "  </tbody>\n",
              "</table>\n",
              "</div>"
            ],
            "text/plain": [
              "                                     source_sentence                                    target_sentence\n",
              "0                                 Rope and its Usage                      Intambo nomsebenzi ewenzayo .\n",
              "1  In this chapter are described the various type...  Kwesi sahluko sixelelwa ngendindi zeentambo at...\n",
              "2  The chapter has been divided into seven sectio...  Esi sahluko sahlulwa - hlulwe kasixhenxe , zic..."
            ]
          },
          "metadata": {},
          "execution_count": 52
        }
      ]
    },
    {
      "cell_type": "markdown",
      "metadata": {
        "id": "8ucF50K3zQPM"
      },
      "source": [
        "Preprocessing and Export"
      ]
    },
    {
      "cell_type": "code",
      "metadata": {
        "id": "__eSBoVBvaCR",
        "colab": {
          "base_uri": "https://localhost:8080/"
        },
        "outputId": "e8af5983-6556-483e-9586-4e5a6d10fa9a"
      },
      "source": [
        "# drop duplicate translations\n",
        "df_pp = df.drop_duplicates()\n",
        "\n",
        "# drop conflicting translations\n",
        "# (this is optional and something that you might want to comment out \n",
        "# depending on the size of your corpus)\n",
        "df_pp.drop_duplicates(subset='source_sentence', inplace=True)\n",
        "df_pp.drop_duplicates(subset='target_sentence', inplace=True)\n",
        "\n",
        "# Shuffle the data to remove bias in dev set selection.\n",
        "df_pp = df_pp.sample(frac=1, random_state=seed).reset_index(drop=True)"
      ],
      "execution_count": 53,
      "outputs": [
        {
          "output_type": "stream",
          "name": "stderr",
          "text": [
            "/usr/local/lib/python3.7/dist-packages/ipykernel_launcher.py:7: SettingWithCopyWarning: \n",
            "A value is trying to be set on a copy of a slice from a DataFrame\n",
            "\n",
            "See the caveats in the documentation: https://pandas.pydata.org/pandas-docs/stable/user_guide/indexing.html#returning-a-view-versus-a-copy\n",
            "  import sys\n",
            "/usr/local/lib/python3.7/dist-packages/ipykernel_launcher.py:8: SettingWithCopyWarning: \n",
            "A value is trying to be set on a copy of a slice from a DataFrame\n",
            "\n",
            "See the caveats in the documentation: https://pandas.pydata.org/pandas-docs/stable/user_guide/indexing.html#returning-a-view-versus-a-copy\n",
            "  \n"
          ]
        }
      ]
    },
    {
      "cell_type": "markdown",
      "metadata": {
        "id": "qRebfZlF0-wn"
      },
      "source": [
        "Remove almost duplicate sentences in the test and training datasets"
      ]
    },
    {
      "cell_type": "code",
      "metadata": {
        "id": "qjpzlSEv1Fda",
        "colab": {
          "base_uri": "https://localhost:8080/"
        },
        "outputId": "72cf27f6-f817-4dc3-864a-064d335ecdab"
      },
      "source": [
        "# Install fuzzy wuzzy to remove \"almost duplicate\" sentences in the\n",
        "# test and training sets.\n",
        "! pip install fuzzywuzzy\n",
        "! pip install python-Levenshtein\n",
        "import time\n",
        "from fuzzywuzzy import process\n",
        "import numpy as np\n",
        "from os import cpu_count\n",
        "from functools import partial\n",
        "from multiprocessing import Pool\n",
        "\n",
        "\n",
        "# reset the index of the training set after previous filtering\n",
        "df_pp.reset_index(drop=False, inplace=True)\n",
        "\n",
        "# Remove samples from the training data set if they \"almost overlap\" with the\n",
        "# samples in the test set.\n",
        "\n",
        "# Filtering function. Adjust pad to narrow down the candidate matches to\n",
        "# within a certain length of characters of the given sample.\n",
        "def fuzzfilter(sample, candidates, pad):\n",
        "  candidates = [x for x in candidates if len(x) <= len(sample)+pad and len(x) >= len(sample)-pad] \n",
        "  if len(candidates) > 0:\n",
        "    return process.extractOne(sample, candidates)[1]\n",
        "  else:\n",
        "    return np.nan"
      ],
      "execution_count": 54,
      "outputs": [
        {
          "output_type": "stream",
          "name": "stdout",
          "text": [
            "Requirement already satisfied: fuzzywuzzy in /usr/local/lib/python3.7/dist-packages (0.18.0)\n",
            "Requirement already satisfied: python-Levenshtein in /usr/local/lib/python3.7/dist-packages (0.12.2)\n",
            "Requirement already satisfied: setuptools in /usr/local/lib/python3.7/dist-packages (from python-Levenshtein) (57.4.0)\n"
          ]
        }
      ]
    },
    {
      "cell_type": "markdown",
      "metadata": {
        "id": "zDD37_GmzO3n"
      },
      "source": [
        "Split between the train/dev for the parallel corpora them saves them as separate files\n"
      ]
    },
    {
      "cell_type": "code",
      "metadata": {
        "id": "FUlWNE5nhOXS"
      },
      "source": [
        "# start_time = time.time()\n",
        "# # ### iterating over pandas dataframe rows is not recomended, let use multi processing to apply the function\n",
        "\n",
        "# with Pool(cpu_count()-1) as pool:\n",
        "#     scores = pool.map(partial(fuzzfilter, candidates=list(en_test_sents), pad=5), df_pp['source_sentence'])\n",
        "# hours, rem = divmod(time.time() - start_time, 3600)\n",
        "# minutes, seconds = divmod(rem, 60)\n",
        "# print(\"done in {}h:{}min:{}seconds\".format(hours, minutes, seconds))\n",
        "\n",
        "# # Filter out \"almost overlapping samples\"\n",
        "# df_pp = df_pp.assign(scores=scores)\n",
        "# df_pp = df_pp[df_pp['scores'] < 95]"
      ],
      "execution_count": 55,
      "outputs": []
    },
    {
      "cell_type": "code",
      "metadata": {
        "id": "vZZ4pIQD1xJa",
        "colab": {
          "base_uri": "https://localhost:8080/"
        },
        "outputId": "140aa303-02c3-454f-a616-7f4f13af76ac"
      },
      "source": [
        "import csv\n",
        "\n",
        "# Do the split between dev/train and create parallel corpora\n",
        "num_dev_patterns = 1000\n",
        "\n",
        "# Optional: lower case the corpora - this will make it easier to generalize, but without proper casing.\n",
        "if lc:  # Julia: making lowercasing optional\n",
        "    df_pp[\"source_sentence\"] = df_pp[\"source_sentence\"].str.lower()\n",
        "    df_pp[\"target_sentence\"] = df_pp[\"target_sentence\"].str.lower()\n",
        "\n",
        "# Julia: test sets are already generated\n",
        "dev = df_pp.tail(num_dev_patterns) # Herman: Error in original\n",
        "stripped = df_pp.drop(df_pp.tail(num_dev_patterns).index)\n",
        "\n",
        "with open(\"train.\"+source_language, \"w\") as src_file, open(\"train.\"+target_language, \"w\") as trg_file:\n",
        "  for index, row in stripped.iterrows():\n",
        "    src_file.write(row[\"source_sentence\"]+\"\\n\")\n",
        "    trg_file.write(row[\"target_sentence\"]+\"\\n\")\n",
        "    \n",
        "with open(\"dev.\"+source_language, \"w\") as src_file, open(\"dev.\"+target_language, \"w\") as trg_file:\n",
        "  for index, row in dev.iterrows():\n",
        "    src_file.write(row[\"source_sentence\"]+\"\\n\")\n",
        "    trg_file.write(row[\"target_sentence\"]+\"\\n\")\n",
        "! head train.*\n",
        "! head dev.*"
      ],
      "execution_count": 56,
      "outputs": [
        {
          "output_type": "stream",
          "name": "stdout",
          "text": [
            "==> train.bpe.en <==\n",
            "It is adv@@ is@@ able to st@@ op engines , however , a little later than us@@ ual .\n",
            "H@@ er@@ m@@ es , of the H@@ igh@@ fl@@ y@@ er class , was conver@@ ted into a se@@ a@@ pl@@ ane carri@@ er just before the war .\n",
            "C@@ oun@@ ter@@ mine\n",
            "E@@ ven in the future , ships for the carriage of general cargo will not exc@@ eed a deadweight of 2@@ 5@@ ,000 tons , with the maj@@ ority having dead@@ we@@ ights of about 12@@ ,000 to 1@@ 5@@ ,000 tons .\n",
            "Their ch@@ ief char@@ ac@@ ter@@ ist@@ ic was speed .\n",
            "This naval strength dec@@ lin@@ ed a little after the war .\n",
            "He does not re@@ b@@ uke an in@@ experi@@ enc@@ ed Officer of the Watch who oc@@ cas@@ ion@@ ally c@@ alls him on some tr@@ iv@@ ial pre@@ t@@ ext .\n",
            "For this rem@@ ar@@ k@@ able instrum@@ ent , could keep ac@@ cur@@ ate time for a long period at sea des@@ p@@ ite chang@@ es of tem@@ per@@ ature and the mo@@ tion of the vessel .\n",
            "To exp@@ ed@@ ite the ad@@ min@@ is@@ tr@@ ation of a dec@@ eas@@ ed 's est@@ ate , the following doc@@ um@@ ents must be kept in a saf@@ e place .\n",
            "They are a type of port@@ able wal@@ kwa@@ y construc@@ ted of either wood or al@@ um@@ in@@ i@@ um .\n",
            "\n",
            "==> train.bpe.xh <==\n",
            "K@@ uc@@ ety@@ iswa ukuba um@@ ise i-injini , nak@@ anj@@ ani kancinci kun@@ e s@@ iqhelo .\n",
            "H@@ er@@ m@@ es ( is@@ ith@@ uny@@ wa ) w@@ od@@ idi olun@@ en@@ jongo eziph@@ akamileyo wat@@ sh@@ intsh@@ elwa kw@@ inqwelo nt@@ aka yolwandle eph@@ ath@@ ayo kanye phambi kw@@ emfazwe .\n",
            "Ibh@@ ombu yoku@@ z@@ ikhus@@ ela elwandle\n",
            "N@@ aku@@ bom@@ i ob@@ uz@@ ayo , iinqanawa zokuth@@ utha umthwalo jikelele az@@ in@@ ak@@ od@@ lula ubunzima bom@@ th@@ u@@ walo w@@ an@@ qanawa w@@ amashumi amabini anesihlanu amawaka eetoni , kwis@@ ininzi esin@@ obunzima bom@@ thwalo wenqanawa esin@@ am@@ alunga n@@ eshumi elin@@ amb@@ ini lam@@ awaka ukuya kwis@@ h@@ umi elines@@ ihlanu se@@ etoni .\n",
            "Eyona N@@ k@@ osi il@@ uph@@ awu yay@@ i sis@@ antya .\n",
            "Ok@@ o kom@@ elela kom@@ khosi was@@ elwandle ke@@ hla kancinci emva kw@@ emfazwe .\n",
            "A@@ k@@ al@@ ihl@@ awuli ig@@ osa eling@@ en@@ am@@ av@@ a noku@@ mb@@ iza kwenye yam@@ amp@@ ung@@ e .\n",
            "O@@ kuku@@ q@@ walas@@ eleka kwes@@ isixhobo , kung@@ agc@@ ina khus@@ elekileyo ixesha elide be@@ hlala elwandle nangona bang@@ am@@ osh@@ wa kuku@@ tsh@@ intsha kob@@ ushushu kunye ne@@ entsh@@ ukumo zenqanawa .\n",
            "Uku@@ khawul@@ ez@@ isa ukul@@ awulwa kom@@ hlaba wom@@ f@@ i ( k@@ azi ) , la ma@@ x@@ w@@ ebh@@ u al@@ andelayo kumele agc@@ in@@ we kwindawo ekh@@ us@@ elekileyo .\n",
            "Kukho i@@ intlobo eziph@@ ath@@ ekayo xa u@@ hamba ez@@ akhiwe ng@@ amaplanga okanye ngo@@ hlobo lwes@@ inyithi es@@ im@@ hl@@ ophe esil@@ ula esil@@ ush@@ ic@@ a .\n",
            "\n",
            "==> train.en <==\n",
            "It is advisable to stop engines , however , a little later than usual .\n",
            "Hermes , of the Highflyer class , was converted into a seaplane carrier just before the war .\n",
            "Countermine\n",
            "Even in the future , ships for the carriage of general cargo will not exceed a deadweight of 25,000 tons , with the majority having deadweights of about 12,000 to 15,000 tons .\n",
            "Their chief characteristic was speed .\n",
            "This naval strength declined a little after the war .\n",
            "He does not rebuke an inexperienced Officer of the Watch who occasionally calls him on some trivial pretext .\n",
            "For this remarkable instrument , could keep accurate time for a long period at sea despite changes of temperature and the motion of the vessel .\n",
            "To expedite the administration of a deceased 's estate , the following documents must be kept in a safe place .\n",
            "They are a type of portable walkway constructed of either wood or aluminium .\n",
            "\n",
            "==> train.xh <==\n",
            "Kucetyiswa ukuba umise i-injini , nakanjani kancinci kune siqhelo .\n",
            "Hermes ( isithunywa ) wodidi olunenjongo eziphakamileyo watshintshelwa kwinqwelo ntaka yolwandle ephathayo kanye phambi kwemfazwe .\n",
            "Ibhombu yokuzikhusela elwandle\n",
            "Nakubomi obuzayo , iinqanawa zokuthutha umthwalo jikelele azinakodlula ubunzima bomthuwalo wanqanawa wamashumi amabini anesihlanu amawaka eetoni , kwisininzi esinobunzima bomthwalo wenqanawa esinamalunga neshumi elinambini lamawaka ukuya kwishumi elinesihlanu seetoni .\n",
            "Eyona Nkosi iluphawu yayi sisantya .\n",
            "Oko komelela komkhosi waselwandle kehla kancinci emva kwemfazwe .\n",
            "Akalihlawuli igosa elingenamava nokumbiza kwenye yamampunge .\n",
            "Okukuqwalaseleka kwesisixhobo , kungagcina khuselekileyo ixesha elide behlala elwandle nangona bangamoshwa kukutshintsha kobushushu kunye neentshukumo zenqanawa .\n",
            "Ukukhawulezisa ukulawulwa komhlaba womfi ( kazi ) , la maxwebhu alandelayo kumele agcinwe kwindawo ekhuselekileyo .\n",
            "Kukho iintlobo eziphathekayo xa uhamba ezakhiwe ngamaplanga okanye ngohlobo lwesinyithi esimhlophe esilula esilushica .\n",
            "==> dev.bpe.en <==\n",
            "1@@ 5@@ 3 . S@@ AR@@ T\n",
            "This could cause or allow the fire to re@@ ign@@ ite .\n",
            "The det@@ ails are required in order to re@@ fut@@ e or sub@@ st@@ ant@@ i@@ ate c@@ la@@ im@@ s for loss or damage of gear sub@@ sequ@@ ently made by the f@@ ish@@ ing vessels conc@@ er@@ ned .\n",
            "D@@ ec@@ ks are sup@@ por@@ ted by be@@ ams which ext@@ end ath@@ war@@ t@@ ships between the fr@@ ames .\n",
            "W@@ id@@ th is up to 50 mil@@ es .\n",
            "Th@@ at part of a vessel where the pl@@ ank@@ s beg@@ in to b@@ end as they approach the stern .\n",
            "To un@@ int@@ ent@@ ion@@ ally swing the ship around bro@@ ad@@ side to a wave .\n",
            "These were the D@@ i@@ ad@@ ems of the l@@ ate 18@@ 9@@ 0s .\n",
            "9@@ 9 . R@@ ad@@ io re@@ pe@@ ater\n",
            "In practice , er@@ ro@@ r can be cal@@ c@@ ul@@ ated and applied in one 's head , but for re@@ ference it is always adv@@ is@@ able to rec@@ or@@ d the fig@@ ures on the chart .\n",
            "\n",
            "==> dev.bpe.xh <==\n",
            "1@@ 5@@ 3 . I-@@ S@@ AR@@ T\n",
            "Oku kung@@ ab@@ angela okanye kwam@@ k@@ eleke em@@ lil@@ weni ngoku l@@ um@@ eka .\n",
            "Kum@@ ele ukuba inqanawa zin@@ es@@ iqhubi esiph@@ ambili kw@@ ik@@ qub@@ o ekh@@ awulez@@ ileyo .\n",
            "Im@@ ig@@ ony@@ etho ixh@@ ath@@ ise ngem@@ iq@@ adi en@@ ab@@ ela inq@@ am@@ lez@@ e inqanawe ph@@ ak@@ at@@ bi kw@@ ef@@ re@@ yim@@ c@@ i .\n",
            "Ub@@ ubanzi b@@ um@@ alunga ne@@ em@@ ayile ezingamashumi amahlanu .\n",
            "Indawo yes@@ ikhephe apho a@@ qala khona amaplanga uku@@ go@@ ba njengoko ef@@ ikelela kumva w@@ aso .\n",
            "Uku@@ jik@@ ela inqanawe ngokung@@ ekho nj@@ ong@@ weni ng@@ ecala eliph@@ ezu kwamanzi ukuya kum@@ aza .\n",
            "Zaz@@ iz@@ i@@ D@@ i@@ ad@@ em@@ s zoku@@ ph@@ ela ko@@ o@@ 19@@ 80 .\n",
            "9@@ 9 . Is@@ iph@@ ithi s@@ ik@@ an@@ omathotholo\n",
            "E@@ ku@@ z@@ iqh@@ el@@ anis@@ eni , imp@@ azamo ing@@ ab@@ alwa okanye is@@ etyenziswe kw@@ intloko , kodwa ukwenzela uku@@ ngal@@ ib@@ eli okanye ukukh@@ angela , ku@@ c@@ ety@@ iswa ukuba ubh@@ ale am@@ anani kw@@ itsh@@ ati .\n",
            "\n",
            "==> dev.en <==\n",
            "153 . SART\n",
            "This could cause or allow the fire to reignite .\n",
            "The details are required in order to refute or substantiate claims for loss or damage of gear subsequently made by the fishing vessels concerned .\n",
            "Decks are supported by beams which extend athwartships between the frames .\n",
            "Width is up to 50 miles .\n",
            "That part of a vessel where the planks begin to bend as they approach the stern .\n",
            "To unintentionally swing the ship around broadside to a wave .\n",
            "These were the Diadems of the late 1890s .\n",
            "99 . Radio repeater\n",
            "In practice , error can be calculated and applied in one 's head , but for reference it is always advisable to record the figures on the chart .\n",
            "\n",
            "==> dev.xh <==\n",
            "153 . I-SART\n",
            "Oku kungabangela okanye kwamkeleke emlilweni ngoku lumeka .\n",
            "Kumele ukuba inqanawa zinesiqhubi esiphambili kwikqubo ekhawulezileyo .\n",
            "Imigonyetho ixhathise ngemiqadi enabela inqamleze inqanawe phakatbi kwefreyimci .\n",
            "Ububanzi bumalunga neemayile ezingamashumi amahlanu .\n",
            "Indawo yesikhephe apho aqala khona amaplanga ukugoba njengoko efikelela kumva waso .\n",
            "Ukujikela inqanawe ngokungekho njongweni ngecala eliphezu kwamanzi ukuya kumaza .\n",
            "ZaziziDiadems zokuphela koo1980 .\n",
            "99 . Isiphithi sikanomathotholo\n",
            "Ekuziqhelaniseni , impazamo ingabalwa okanye isetyenziswe kwintloko , kodwa ukwenzela ukungalibeli okanye ukukhangela , kucetyiswa ukuba ubhale amanani kwitshati .\n"
          ]
        }
      ]
    },
    {
      "cell_type": "markdown",
      "metadata": {
        "id": "-vT1jHqGnLWS"
      },
      "source": [
        "## Installation of JoeyNMT\n",
        "This is a simple, minimal Neural Machine Translation package for learning and teaching"
      ]
    },
    {
      "cell_type": "code",
      "metadata": {
        "colab": {
          "base_uri": "https://localhost:8080/"
        },
        "id": "ndgKut6bmrmn",
        "outputId": "6d4e6dba-bcbe-4317-d963-77c825eae386"
      },
      "source": [
        "\n",
        "\n",
        "# Install JoeyNMT\n",
        "! git clone https://github.com/joeynmt/joeynmt.git\n",
        "! cd joeynmt; pip3 install .\n",
        "# Install Pytorch with GPU support v1.7.1.\n",
        "! pip3 install torch -f https://download.pytorch.org/whl/torch_stable.html"
      ],
      "execution_count": 57,
      "outputs": [
        {
          "output_type": "stream",
          "name": "stdout",
          "text": [
            "fatal: destination path 'joeynmt' already exists and is not an empty directory.\n",
            "Processing /content/joeynmt\n",
            "\u001b[33m  DEPRECATION: A future pip version will change local packages to be built in-place without first copying to a temporary directory. We recommend you use --use-feature=in-tree-build to test your packages with this new behavior before it becomes the default.\n",
            "   pip 21.3 will remove support for this functionality. You can find discussion regarding this at https://github.com/pypa/pip/issues/7555.\u001b[0m\n",
            "Requirement already satisfied: future in /usr/local/lib/python3.7/dist-packages (from joeynmt==1.3) (0.16.0)\n",
            "Requirement already satisfied: pillow in /usr/local/lib/python3.7/dist-packages (from joeynmt==1.3) (7.1.2)\n",
            "Requirement already satisfied: numpy>=1.19.5 in /usr/local/lib/python3.7/dist-packages (from joeynmt==1.3) (1.19.5)\n",
            "Requirement already satisfied: setuptools>=41.0.0 in /usr/local/lib/python3.7/dist-packages (from joeynmt==1.3) (57.4.0)\n",
            "Requirement already satisfied: torch>=1.9.0 in /usr/local/lib/python3.7/dist-packages (from joeynmt==1.3) (1.9.0+cu111)\n",
            "Requirement already satisfied: tensorboard>=1.15 in /usr/local/lib/python3.7/dist-packages (from joeynmt==1.3) (2.6.0)\n",
            "Requirement already satisfied: torchtext>=0.10.0 in /usr/local/lib/python3.7/dist-packages (from joeynmt==1.3) (0.10.0)\n",
            "Requirement already satisfied: sacrebleu>=2.0.0 in /usr/local/lib/python3.7/dist-packages (from joeynmt==1.3) (2.0.0)\n",
            "Requirement already satisfied: subword-nmt in /usr/local/lib/python3.7/dist-packages (from joeynmt==1.3) (0.3.7)\n",
            "Requirement already satisfied: matplotlib in /usr/local/lib/python3.7/dist-packages (from joeynmt==1.3) (3.2.2)\n",
            "Requirement already satisfied: seaborn in /usr/local/lib/python3.7/dist-packages (from joeynmt==1.3) (0.11.2)\n",
            "Requirement already satisfied: pyyaml>=5.1 in /usr/local/lib/python3.7/dist-packages (from joeynmt==1.3) (6.0)\n",
            "Requirement already satisfied: pylint>=2.9.6 in /usr/local/lib/python3.7/dist-packages (from joeynmt==1.3) (2.11.1)\n",
            "Requirement already satisfied: six==1.12 in /usr/local/lib/python3.7/dist-packages (from joeynmt==1.3) (1.12.0)\n",
            "Requirement already satisfied: wrapt==1.11.1 in /usr/local/lib/python3.7/dist-packages (from joeynmt==1.3) (1.11.1)\n",
            "Requirement already satisfied: toml>=0.7.1 in /usr/local/lib/python3.7/dist-packages (from pylint>=2.9.6->joeynmt==1.3) (0.10.2)\n",
            "Requirement already satisfied: mccabe<0.7,>=0.6 in /usr/local/lib/python3.7/dist-packages (from pylint>=2.9.6->joeynmt==1.3) (0.6.1)\n",
            "Requirement already satisfied: astroid<2.9,>=2.8.0 in /usr/local/lib/python3.7/dist-packages (from pylint>=2.9.6->joeynmt==1.3) (2.8.4)\n",
            "Requirement already satisfied: platformdirs>=2.2.0 in /usr/local/lib/python3.7/dist-packages (from pylint>=2.9.6->joeynmt==1.3) (2.4.0)\n",
            "Requirement already satisfied: typing-extensions>=3.10.0 in /usr/local/lib/python3.7/dist-packages (from pylint>=2.9.6->joeynmt==1.3) (3.10.0.2)\n",
            "Requirement already satisfied: isort<6,>=4.2.5 in /usr/local/lib/python3.7/dist-packages (from pylint>=2.9.6->joeynmt==1.3) (5.9.3)\n",
            "Requirement already satisfied: typed-ast<1.5,>=1.4.0 in /usr/local/lib/python3.7/dist-packages (from astroid<2.9,>=2.8.0->pylint>=2.9.6->joeynmt==1.3) (1.4.3)\n",
            "Requirement already satisfied: lazy-object-proxy>=1.4.0 in /usr/local/lib/python3.7/dist-packages (from astroid<2.9,>=2.8.0->pylint>=2.9.6->joeynmt==1.3) (1.6.0)\n",
            "Requirement already satisfied: portalocker in /usr/local/lib/python3.7/dist-packages (from sacrebleu>=2.0.0->joeynmt==1.3) (2.3.2)\n",
            "Requirement already satisfied: regex in /usr/local/lib/python3.7/dist-packages (from sacrebleu>=2.0.0->joeynmt==1.3) (2019.12.20)\n",
            "Requirement already satisfied: colorama in /usr/local/lib/python3.7/dist-packages (from sacrebleu>=2.0.0->joeynmt==1.3) (0.4.4)\n",
            "Requirement already satisfied: tabulate>=0.8.9 in /usr/local/lib/python3.7/dist-packages (from sacrebleu>=2.0.0->joeynmt==1.3) (0.8.9)\n",
            "Requirement already satisfied: tensorboard-data-server<0.7.0,>=0.6.0 in /usr/local/lib/python3.7/dist-packages (from tensorboard>=1.15->joeynmt==1.3) (0.6.1)\n",
            "Requirement already satisfied: google-auth-oauthlib<0.5,>=0.4.1 in /usr/local/lib/python3.7/dist-packages (from tensorboard>=1.15->joeynmt==1.3) (0.4.6)\n",
            "Requirement already satisfied: requests<3,>=2.21.0 in /usr/local/lib/python3.7/dist-packages (from tensorboard>=1.15->joeynmt==1.3) (2.23.0)\n",
            "Requirement already satisfied: absl-py>=0.4 in /usr/local/lib/python3.7/dist-packages (from tensorboard>=1.15->joeynmt==1.3) (0.12.0)\n",
            "Requirement already satisfied: google-auth<2,>=1.6.3 in /usr/local/lib/python3.7/dist-packages (from tensorboard>=1.15->joeynmt==1.3) (1.35.0)\n",
            "Requirement already satisfied: werkzeug>=0.11.15 in /usr/local/lib/python3.7/dist-packages (from tensorboard>=1.15->joeynmt==1.3) (1.0.1)\n",
            "Requirement already satisfied: protobuf>=3.6.0 in /usr/local/lib/python3.7/dist-packages (from tensorboard>=1.15->joeynmt==1.3) (3.17.3)\n",
            "Requirement already satisfied: wheel>=0.26 in /usr/local/lib/python3.7/dist-packages (from tensorboard>=1.15->joeynmt==1.3) (0.37.0)\n",
            "Requirement already satisfied: tensorboard-plugin-wit>=1.6.0 in /usr/local/lib/python3.7/dist-packages (from tensorboard>=1.15->joeynmt==1.3) (1.8.0)\n",
            "Requirement already satisfied: markdown>=2.6.8 in /usr/local/lib/python3.7/dist-packages (from tensorboard>=1.15->joeynmt==1.3) (3.3.4)\n",
            "Requirement already satisfied: grpcio>=1.24.3 in /usr/local/lib/python3.7/dist-packages (from tensorboard>=1.15->joeynmt==1.3) (1.41.0)\n",
            "Requirement already satisfied: cachetools<5.0,>=2.0.0 in /usr/local/lib/python3.7/dist-packages (from google-auth<2,>=1.6.3->tensorboard>=1.15->joeynmt==1.3) (4.2.4)\n",
            "Requirement already satisfied: rsa<5,>=3.1.4 in /usr/local/lib/python3.7/dist-packages (from google-auth<2,>=1.6.3->tensorboard>=1.15->joeynmt==1.3) (4.7.2)\n",
            "Requirement already satisfied: pyasn1-modules>=0.2.1 in /usr/local/lib/python3.7/dist-packages (from google-auth<2,>=1.6.3->tensorboard>=1.15->joeynmt==1.3) (0.2.8)\n",
            "Requirement already satisfied: requests-oauthlib>=0.7.0 in /usr/local/lib/python3.7/dist-packages (from google-auth-oauthlib<0.5,>=0.4.1->tensorboard>=1.15->joeynmt==1.3) (1.3.0)\n",
            "Requirement already satisfied: importlib-metadata in /usr/local/lib/python3.7/dist-packages (from markdown>=2.6.8->tensorboard>=1.15->joeynmt==1.3) (4.8.1)\n",
            "Requirement already satisfied: pyasn1<0.5.0,>=0.4.6 in /usr/local/lib/python3.7/dist-packages (from pyasn1-modules>=0.2.1->google-auth<2,>=1.6.3->tensorboard>=1.15->joeynmt==1.3) (0.4.8)\n",
            "Requirement already satisfied: certifi>=2017.4.17 in /usr/local/lib/python3.7/dist-packages (from requests<3,>=2.21.0->tensorboard>=1.15->joeynmt==1.3) (2021.5.30)\n",
            "Requirement already satisfied: idna<3,>=2.5 in /usr/local/lib/python3.7/dist-packages (from requests<3,>=2.21.0->tensorboard>=1.15->joeynmt==1.3) (2.10)\n",
            "Requirement already satisfied: urllib3!=1.25.0,!=1.25.1,<1.26,>=1.21.1 in /usr/local/lib/python3.7/dist-packages (from requests<3,>=2.21.0->tensorboard>=1.15->joeynmt==1.3) (1.24.3)\n",
            "Requirement already satisfied: chardet<4,>=3.0.2 in /usr/local/lib/python3.7/dist-packages (from requests<3,>=2.21.0->tensorboard>=1.15->joeynmt==1.3) (3.0.4)\n",
            "Requirement already satisfied: oauthlib>=3.0.0 in /usr/local/lib/python3.7/dist-packages (from requests-oauthlib>=0.7.0->google-auth-oauthlib<0.5,>=0.4.1->tensorboard>=1.15->joeynmt==1.3) (3.1.1)\n",
            "Requirement already satisfied: tqdm in /usr/local/lib/python3.7/dist-packages (from torchtext>=0.10.0->joeynmt==1.3) (4.62.3)\n",
            "Requirement already satisfied: zipp>=0.5 in /usr/local/lib/python3.7/dist-packages (from importlib-metadata->markdown>=2.6.8->tensorboard>=1.15->joeynmt==1.3) (3.6.0)\n",
            "Requirement already satisfied: kiwisolver>=1.0.1 in /usr/local/lib/python3.7/dist-packages (from matplotlib->joeynmt==1.3) (1.3.2)\n",
            "Requirement already satisfied: pyparsing!=2.0.4,!=2.1.2,!=2.1.6,>=2.0.1 in /usr/local/lib/python3.7/dist-packages (from matplotlib->joeynmt==1.3) (2.4.7)\n",
            "Requirement already satisfied: python-dateutil>=2.1 in /usr/local/lib/python3.7/dist-packages (from matplotlib->joeynmt==1.3) (2.8.2)\n",
            "Requirement already satisfied: cycler>=0.10 in /usr/local/lib/python3.7/dist-packages (from matplotlib->joeynmt==1.3) (0.10.0)\n",
            "Requirement already satisfied: scipy>=1.0 in /usr/local/lib/python3.7/dist-packages (from seaborn->joeynmt==1.3) (1.4.1)\n",
            "Requirement already satisfied: pandas>=0.23 in /usr/local/lib/python3.7/dist-packages (from seaborn->joeynmt==1.3) (1.1.5)\n",
            "Requirement already satisfied: pytz>=2017.2 in /usr/local/lib/python3.7/dist-packages (from pandas>=0.23->seaborn->joeynmt==1.3) (2018.9)\n",
            "Building wheels for collected packages: joeynmt\n",
            "  Building wheel for joeynmt (setup.py) ... \u001b[?25l\u001b[?25hdone\n",
            "  Created wheel for joeynmt: filename=joeynmt-1.3-py3-none-any.whl size=86029 sha256=6d07b77240ea9f68d922cbbd01d8f287b36174f90cfaf6a683a009a02f4017b7\n",
            "  Stored in directory: /tmp/pip-ephem-wheel-cache-bb0_29z0/wheels/0a/f4/bf/6c9d3b8efbfece6cd209f865be37382b02e7c3584df2e28ca4\n",
            "Successfully built joeynmt\n",
            "Installing collected packages: joeynmt\n",
            "  Attempting uninstall: joeynmt\n",
            "    Found existing installation: joeynmt 1.3\n",
            "    Uninstalling joeynmt-1.3:\n",
            "      Successfully uninstalled joeynmt-1.3\n",
            "Successfully installed joeynmt-1.3\n",
            "Looking in links: https://download.pytorch.org/whl/torch_stable.html\n",
            "Requirement already satisfied: torch in /usr/local/lib/python3.7/dist-packages (1.9.0+cu111)\n",
            "Requirement already satisfied: typing-extensions in /usr/local/lib/python3.7/dist-packages (from torch) (3.10.0.2)\n"
          ]
        }
      ]
    },
    {
      "cell_type": "markdown",
      "metadata": {
        "id": "v8pDGN3RnKHS"
      },
      "source": [
        "##Preprocessing the data into Subword BPE Tokens"
      ]
    },
    {
      "cell_type": "code",
      "metadata": {
        "colab": {
          "base_uri": "https://localhost:8080/"
        },
        "id": "afbLspNgpR3p",
        "outputId": "f9edfa9c-9dd9-493a-e5c7-d2ec2c718330"
      },
      "source": [
        "from os import path\n",
        "os.environ[\"src\"] = source_language # Sets them in bash as well, since we often use bash scripts\n",
        "os.environ[\"tgt\"] = target_language\n",
        "\n",
        "# Learn BPEs on the training data.\n",
        "os.environ[\"data_path\"] = path.join(\"joeynmt\", \"data\",target_language + source_language ) # Herman! \n",
        "! subword-nmt learn-joint-bpe-and-vocab --input train.$src train.$tgt -s 4000 -o bpe.codes.4000 --write-vocabulary vocab.$src vocab.$tgt\n",
        "\n",
        "# Apply BPE splits to the development and test data.\n",
        "! subword-nmt apply-bpe -c bpe.codes.4000 --vocabulary vocab.$src < train.$src > train.bpe.$src\n",
        "! subword-nmt apply-bpe -c bpe.codes.4000 --vocabulary vocab.$tgt < train.$tgt > train.bpe.$tgt\n",
        "\n",
        "! subword-nmt apply-bpe -c bpe.codes.4000 --vocabulary vocab.$src < dev.$src > dev.bpe.$src\n",
        "! subword-nmt apply-bpe -c bpe.codes.4000 --vocabulary vocab.$tgt < dev.$tgt > dev.bpe.$tgt\n",
        "! subword-nmt apply-bpe -c bpe.codes.4000 --vocabulary vocab.$src < test.$src > test.bpe.$src\n",
        "! subword-nmt apply-bpe -c bpe.codes.4000 --vocabulary vocab.$tgt < test.$tgt > test.bpe.$tgt\n",
        "\n",
        "# Create directory, move everyone we care about to the correct location\n",
        "! mkdir -p $data_path\n",
        "! cp train.* $data_path\n",
        "! cp test.* $data_path\n",
        "! cp dev.* $data_path\n",
        "! cp bpe.codes.4000 $data_path\n",
        "! ls $data_path\n",
        "\n",
        "! cp train.* \"$gdrive_path\"\n",
        "! cp test.* \"$gdrive_path\"\n",
        "! cp dev.* \"$gdrive_path\"\n",
        "! cp bpe.codes.4000 \"$gdrive_path\"\n",
        "! ls \"$gdrive_path\"\n",
        "\n",
        "# Create that vocab using build_vocab\n",
        "! sudo chmod 777 joeynmt/scripts/build_vocab.py\n",
        "! joeynmt/scripts/build_vocab.py joeynmt/data/$tgt$src/train.bpe.$src joeynmt/data/$tgt$src/train.bpe.$tgt --output_path joeynmt/data/$tgt$src/vocab.txt\n",
        "\n",
        "# Some output\n",
        "! echo \"BPE isiXhosa Sentences\"\n",
        "! tail -n 5 test.bpe.$tgt\n",
        "! echo \"Combined BPE Vocab\"\n",
        "! tail -n 10 joeynmt/data/$tgt$src/vocab.txt  # Herman"
      ],
      "execution_count": 58,
      "outputs": [
        {
          "output_type": "stream",
          "name": "stdout",
          "text": [
            "bpe.codes.4000\tdev.xh\t     test.en-any.en    train.bpe.en  vocab.txt\n",
            "dev.bpe.en\ttest.bpe.en  test.en-any.en.1  train.bpe.xh\n",
            "dev.bpe.xh\ttest.bpe.xh  test.en-any.en.2  train.en\n",
            "dev.en\t\ttest.en      test.xh\t       train.xh\n",
            "bpe.codes.4000\tdev.en\ttest.bpe.en  test.en-any.en    test.xh\t     train.en\n",
            "dev.bpe.en\tdev.xh\ttest.bpe.xh  test.en-any.en.1  train.bpe.en  train.xh\n",
            "dev.bpe.xh\tmodels\ttest.en      test.en-any.en.2  train.bpe.xh\n",
            "BPE isiXhosa Sentences\n",
            "Oku kw@@ aph@@ umela ekub@@ eni nd@@ id@@ ume njengom@@ ntu ong@@ any@@ anis@@ ekanga .\n",
            "Xa nd@@ af@@ und@@ a iny@@ aniso , and@@ iz@@ ange nd@@ iph@@ inde nd@@ iv@@ ume uku@@ qhub@@ eka n@@ dis@@ enza oko , naku@@ b@@ eni nd@@ and@@ ihl@@ awulwa um@@ v@@ uzo on@@ c@@ um@@ isayo .\n",
            "N@@ d@@ ing@@ umzekelo om@@ hle ko@@ ony@@ ana b@@ am ab@@ abini yaye n@@ di@@ ye nd@@ af@@ an@@ elek@@ ela am@@ alung@@ elo ang@@ akumbi eb@@ andl@@ eni .\n",
            "N@@ d@@ aziwa njengom@@ ntu ony@@ anis@@ ekileyo ngab@@ antu end@@ ish@@ ish@@ ina kunye n@@ abo kwan@@ ab@@ ahl@@ ol@@ i boku@@ m@@ a kwem@@ ali ye@@ enk@@ amp@@ ani ( ta@@ x a@@ ud@@ it@@ ors ) . ”\n",
            "U@@ R@@ ute w@@ af@@ ud@@ ukela kwa@@ S@@ ir@@ ay@@ eli apho way@@ eza ku@@ kw@@ azi ukun@@ q@@ ula oy@@ ena Th@@ ix@@ o wo@@ kw@@ eny@@ aniso .\n",
            "Combined BPE Vocab\n",
            "ﾲ\n",
            "¾@@\n",
            ">\n",
            "•\n",
            "IEE@@\n",
            "ü@@\n",
            "ﾅ\n",
            "trib@@\n",
            "<\n",
            "\n"
          ]
        }
      ]
    },
    {
      "cell_type": "code",
      "metadata": {
        "colab": {
          "base_uri": "https://localhost:8080/"
        },
        "id": "AMOouv3K183J",
        "outputId": "872bb545-0106-45a6-d99e-7c77cd92796a"
      },
      "source": [
        "# Also move everything we care about to a mounted location in google drive (relevant if running in colab) at gdrive_path\n",
        "! cp train.* \"$gdrive_path\"\n",
        "! cp test.* \"$gdrive_path\"\n",
        "! cp dev.* \"$gdrive_path\"\n",
        "! cp bpe.codes.4000 \"$gdrive_path\"\n",
        "! ls \"$gdrive_path\""
      ],
      "execution_count": 59,
      "outputs": [
        {
          "output_type": "stream",
          "name": "stdout",
          "text": [
            "bpe.codes.4000\tdev.en\ttest.bpe.en  test.en-any.en    test.xh\t     train.en\n",
            "dev.bpe.en\tdev.xh\ttest.bpe.xh  test.en-any.en.1  train.bpe.en  train.xh\n",
            "dev.bpe.xh\tmodels\ttest.en      test.en-any.en.2  train.bpe.xh\n"
          ]
        }
      ]
    },
    {
      "cell_type": "code",
      "metadata": {
        "id": "eqk_sgJz7Cky"
      },
      "source": [
        "name = '%s%s' % (target_language, source_language)\n",
        "# gdrive_path = os.environ[\"gdrive_path\"]\n",
        "\n",
        "# Create the config\n",
        "config = \"\"\"\n",
        "name: \"{target_language}{source_language}_reverse_transformer\"\n",
        "\n",
        "data:\n",
        "    src: \"{target_language}\"\n",
        "    trg: \"{source_language}\"\n",
        "    train: \"data/{name}/train.bpe\"\n",
        "    dev:   \"data/{name}/dev.bpe\"\n",
        "    test:  \"data/{name}/test.bpe\"\n",
        "    level: \"bpe\"\n",
        "    lowercase: False\n",
        "    max_sent_length: 100\n",
        "    src_vocab: \"data/{name}/vocab.txt\"\n",
        "    trg_vocab: \"data/{name}/vocab.txt\"\n",
        "\n",
        "testing:\n",
        "    beam_size: 5\n",
        "    alpha: 1.0\n",
        "\n",
        "training:\n",
        "    #load_model: \"{gdrive_path}/models/{name}_transformer/1.ckpt\" # if uncommented, load a pre-trained model from this checkpoint\n",
        "    random_seed: 42\n",
        "    optimizer: \"adam\"\n",
        "    normalization: \"tokens\"\n",
        "    adam_betas: [0.9, 0.999] \n",
        "    scheduling: \"noam\"           \n",
        "    patience: 5                     \n",
        "    learning_rate_factor: 0.35       \n",
        "    learning_rate_warmup: 1000      \n",
        "    decrease_factor: 0.7\n",
        "    loss: \"crossentropy\"\n",
        "    learning_rate: 0.0003\n",
        "    learning_rate_min: 0.00000001\n",
        "    weight_decay: 0.0\n",
        "    label_smoothing: 0.1\n",
        "    batch_size: 4096\n",
        "    batch_type: \"token\"\n",
        "    eval_batch_size: 3600\n",
        "    eval_batch_type: \"token\"\n",
        "    batch_multiplier: 1\n",
        "    early_stopping_metric: \"ppl\"\n",
        "    epochs: 10                  \n",
        "    validation_freq: 1000          \n",
        "    logging_freq: 100\n",
        "    eval_metric: \"bleu\"\n",
        "    model_dir: \"models/{name}_reverse_transformer\"\n",
        "    overwrite: False              \n",
        "    shuffle: True\n",
        "    use_cuda: True\n",
        "    max_output_length: 100\n",
        "    print_valid_sents: [0, 1, 2, 3]\n",
        "    keep_last_ckpts: 3\n",
        "\n",
        "model:\n",
        "    initializer: \"xavier\"\n",
        "    bias_initializer: \"zeros\"\n",
        "    init_gain: 1.0\n",
        "    embed_initializer: \"xavier\"\n",
        "    embed_init_gain: 1.0\n",
        "    tied_embeddings: True\n",
        "    tied_softmax: True\n",
        "    encoder:\n",
        "        type: \"transformer\"\n",
        "        num_layers: 6\n",
        "        num_heads: 4             \n",
        "        embeddings:\n",
        "            embedding_dim: 256   \n",
        "            scale: True\n",
        "            dropout: 0.2\n",
        "        # typically ff_size = 4 x hidden_size\n",
        "        hidden_size: 256         \n",
        "        ff_size: 1024            \n",
        "        dropout: 0.3\n",
        "    decoder:\n",
        "        type: \"transformer\"\n",
        "        num_layers: 6\n",
        "        num_heads: 4              \n",
        "        embeddings:\n",
        "            embedding_dim: 256    \n",
        "            scale: True\n",
        "            dropout: 0.2\n",
        "        # typically ff_size = 4 x hidden_size\n",
        "        hidden_size: 256         \n",
        "        ff_size: 1024            \n",
        "        dropout: 0.3\n",
        "\"\"\".format(name=name, gdrive_path=os.environ[\"gdrive_path\"], source_language=source_language, target_language=target_language)\n",
        "with open(\"joeynmt/configs/transformer_reverse_{name}.yaml\".format(name=name),'w') as f:\n",
        "    f.write(config)\n"
      ],
      "execution_count": 60,
      "outputs": []
    },
    {
      "cell_type": "code",
      "metadata": {
        "colab": {
          "base_uri": "https://localhost:8080/"
        },
        "id": "umCeTzsc7XA7",
        "outputId": "10c1f247-3dce-4c6d-b220-0e3154ed445b"
      },
      "source": [
        "# Train the model\n",
        "# You can press Ctrl-C to stop. And then run the next cell to save your checkpoints! \n",
        "!cd joeynmt; python3 -m joeynmt train configs/transformer_reverse_$tgt$src.yaml"
      ],
      "execution_count": 67,
      "outputs": [
        {
          "output_type": "stream",
          "name": "stdout",
          "text": [
            "Traceback (most recent call last):\n",
            "  File \"/usr/lib/python3.7/runpy.py\", line 193, in _run_module_as_main\n",
            "    \"__main__\", mod_spec)\n",
            "  File \"/usr/lib/python3.7/runpy.py\", line 85, in _run_code\n",
            "    exec(code, run_globals)\n",
            "  File \"/content/joeynmt/joeynmt/__main__.py\", line 48, in <module>\n",
            "    main()\n",
            "  File \"/content/joeynmt/joeynmt/__main__.py\", line 35, in main\n",
            "    train(cfg_file=args.config_path, skip_test=args.skip_test)\n",
            "  File \"/content/joeynmt/joeynmt/training.py\", line 808, in train\n",
            "    \"overwrite\", False))\n",
            "  File \"/content/joeynmt/joeynmt/helpers.py\", line 45, in make_model_dir\n",
            "    \"Model directory exists and overwriting is disabled.\")\n",
            "FileExistsError: Model directory exists and overwriting is disabled.\n"
          ]
        }
      ]
    },
    {
      "cell_type": "code",
      "metadata": {
        "id": "Zr7zzMpEmCFA"
      },
      "source": [
        "# Copy the created models from the notebook storage to google drive for persistant storage \n",
        "!cp -r joeynmt/models/${tgt}${src}_reverse_transformer/ \"$gdrive_path/models/${tgt}${src}_reverse_transformer/\""
      ],
      "execution_count": 62,
      "outputs": []
    },
    {
      "cell_type": "code",
      "metadata": {
        "colab": {
          "base_uri": "https://localhost:8080/"
        },
        "id": "vx1eTU9umCuH",
        "outputId": "c68ee3d3-26b3-4b17-afe2-f41e0cb919c8"
      },
      "source": [
        "# Output our validation accuracy\n",
        "! cat \"$gdrive_path/models/${tgt}${src}_reverse_transformer/${tgt}${src}_reverse_transformer/validations.txt\""
      ],
      "execution_count": 69,
      "outputs": [
        {
          "output_type": "stream",
          "name": "stdout",
          "text": [
            "Steps: 1000\tLoss: 107506.36719\tPPL: 69.57385\tbleu: 0.20796\tLR: 0.00128468\t*\n",
            "Steps: 2000\tLoss: 93039.58594\tPPL: 39.31099\tbleu: 1.46233\tLR: 0.00090840\t*\n",
            "Steps: 3000\tLoss: 85724.65625\tPPL: 29.45443\tbleu: 2.23058\tLR: 0.00074171\t*\n",
            "Steps: 4000\tLoss: 80888.46094\tPPL: 24.33704\tbleu: 3.24241\tLR: 0.00064234\t*\n",
            "Steps: 5000\tLoss: 77325.76562\tPPL: 21.14513\tbleu: 3.72451\tLR: 0.00057452\t*\n",
            "Steps: 6000\tLoss: 74717.91406\tPPL: 19.07730\tbleu: 4.43925\tLR: 0.00052447\t*\n",
            "Steps: 7000\tLoss: 72859.25000\tPPL: 17.72813\tbleu: 4.90788\tLR: 0.00048556\t*\n",
            "Steps: 8000\tLoss: 71176.64844\tPPL: 16.58924\tbleu: 5.39422\tLR: 0.00045420\t*\n"
          ]
        }
      ]
    },
    {
      "cell_type": "code",
      "metadata": {
        "colab": {
          "base_uri": "https://localhost:8080/"
        },
        "id": "TB8YB_ZKd-Go",
        "outputId": "d964d445-f73c-49ff-be3a-ca24cd00084c"
      },
      "source": [
        "# Test our model\n",
        "! cd joeynmt; python3 -m joeynmt test \"$gdrive_path/models/${tgt}${src}_reverse_transformer/${tgt}${src}_reverse_transformer/config.yaml\""
      ],
      "execution_count": 70,
      "outputs": [
        {
          "output_type": "stream",
          "name": "stdout",
          "text": [
            "2021-10-28 18:17:40,813 - INFO - root - Hello! This is Joey-NMT (version 1.3).\n",
            "2021-10-28 18:17:40,814 - INFO - joeynmt.data - Building vocabulary...\n",
            "2021-10-28 18:17:41,101 - INFO - joeynmt.data - Loading dev data...\n",
            "2021-10-28 18:17:41,111 - INFO - joeynmt.data - Loading test data...\n",
            "2021-10-28 18:17:41,177 - INFO - joeynmt.data - Data loaded.\n",
            "2021-10-28 18:17:41,204 - INFO - joeynmt.prediction - Process device: cuda, n_gpu: 1, batch_size per device: 3600\n",
            "2021-10-28 18:17:41,205 - INFO - joeynmt.prediction - Loading model from models/xhen_reverse_transformer/best.ckpt\n",
            "2021-10-28 18:17:43,888 - INFO - joeynmt.model - Building an encoder-decoder model...\n",
            "2021-10-28 18:17:44,153 - INFO - joeynmt.model - Enc-dec model built.\n",
            "2021-10-28 18:17:44,233 - INFO - joeynmt.prediction - Decoding on dev set (data/xhen/dev.bpe.en)...\n",
            "2021-10-28 18:20:21,302 - WARNING - sacrebleu - That's 100 lines that end in a tokenized period ('.')\n",
            "2021-10-28 18:20:21,302 - WARNING - sacrebleu - It looks like you forgot to detokenize your test data, which may hurt your score.\n",
            "2021-10-28 18:20:21,302 - WARNING - sacrebleu - If you insist your data is detokenized, or don't care, you can suppress this message with the `force` parameter.\n",
            "2021-10-28 18:20:21,308 - INFO - joeynmt.prediction -  dev bleu[13a]:   6.63 [Beam search decoding with beam size = 5 and alpha = 1.0]\n",
            "2021-10-28 18:20:21,308 - INFO - joeynmt.prediction - Decoding on test set (data/xhen/test.bpe.en)...\n",
            "2021-10-28 18:28:04,981 - WARNING - sacrebleu - That's 100 lines that end in a tokenized period ('.')\n",
            "2021-10-28 18:28:04,981 - WARNING - sacrebleu - It looks like you forgot to detokenize your test data, which may hurt your score.\n",
            "2021-10-28 18:28:04,981 - WARNING - sacrebleu - If you insist your data is detokenized, or don't care, you can suppress this message with the `force` parameter.\n",
            "2021-10-28 18:28:04,994 - INFO - joeynmt.prediction - test bleu[13a]:   0.89 [Beam search decoding with beam size = 5 and alpha = 1.0]\n"
          ]
        }
      ]
    },
    {
      "cell_type": "code",
      "metadata": {
        "id": "8RwGhTxW_1iL",
        "colab": {
          "base_uri": "https://localhost:8080/"
        },
        "outputId": "bdfada57-3820-4408-d924-ac8fe3dc4ebf"
      },
      "source": [
        "# Human eval test\n",
        "! cd joeynmt; touch my_input.txt\n",
        "! cd joeynmt; echo $'Esi sahluko sahlulwa - hlulwe kasixhenxe , zicalulwe ngokulandelayo' > my_input.txt\n",
        "! cd joeynmt; python3 -m joeynmt translate \"$gdrive_path/models/${tgt}${src}_reverse_transformer/${tgt}${src}_reverse_transformer/config.yaml\" < my_input.txt\n",
        "#! echo myinput.txt"
      ],
      "execution_count": 73,
      "outputs": [
        {
          "output_type": "stream",
          "name": "stdout",
          "text": [
            "2021-10-28 18:45:41,217 - INFO - root - Hello! This is Joey-NMT (version 1.3).\n",
            "2021-10-28 18:45:41,516 - INFO - joeynmt.prediction - Loading model from models/xhen_reverse_transformer/best.ckpt\n",
            "2021-10-28 18:45:44,054 - INFO - joeynmt.model - Building an encoder-decoder model...\n",
            "2021-10-28 18:45:44,340 - INFO - joeynmt.model - Enc-dec model built.\n",
            "This is in fact , however , a sense .\n"
          ]
        }
      ]
    },
    {
      "cell_type": "code",
      "metadata": {
        "id": "4E0LBTZyBPzT",
        "colab": {
          "base_uri": "https://localhost:8080/"
        },
        "outputId": "c28a1f73-6afd-4eed-c873-8279d7d1185e"
      },
      "source": [
        "# Human eval test\n",
        "! cd joeynmt; touch my_input.txt\n",
        "! cd joeynmt; echo $'Ndilahlekelwe yi isingxobo' > my_input.txt\n",
        "! cd joeynmt; python3 -m joeynmt translate \"$gdrive_path/models/${tgt}${src}_reverse_transformer/${tgt}${src}_reverse_transformer/config.yaml\" < my_input.txt\n",
        "#! echo myinput.txt"
      ],
      "execution_count": 74,
      "outputs": [
        {
          "output_type": "stream",
          "name": "stdout",
          "text": [
            "2021-10-28 18:45:51,505 - INFO - root - Hello! This is Joey-NMT (version 1.3).\n",
            "2021-10-28 18:45:51,808 - INFO - joeynmt.prediction - Loading model from models/xhen_reverse_transformer/best.ckpt\n",
            "2021-10-28 18:45:54,302 - INFO - joeynmt.model - Building an encoder-decoder model...\n",
            "2021-10-28 18:45:54,590 - INFO - joeynmt.model - Enc-dec model built.\n",
            "Assistant .\n"
          ]
        }
      ]
    },
    {
      "cell_type": "code",
      "metadata": {
        "id": "U95HbfrPxhd7"
      },
      "source": [
        ""
      ],
      "execution_count": 66,
      "outputs": []
    }
  ]
}