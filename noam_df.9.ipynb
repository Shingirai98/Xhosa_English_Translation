{
  "nbformat": 4,
  "nbformat_minor": 0,
  "metadata": {
    "colab": {
      "name": "Copy of Xhosa<->English Translation.ipynb",
      "provenance": [],
      "authorship_tag": "ABX9TyMX4Cfw1RX0rmfI11ks/Jz7",
      "include_colab_link": true
    },
    "kernelspec": {
      "name": "python3",
      "display_name": "Python 3"
    },
    "language_info": {
      "name": "python"
    },
    "accelerator": "GPU"
  },
  "cells": [
    {
      "cell_type": "markdown",
      "metadata": {
        "id": "view-in-github",
        "colab_type": "text"
      },
      "source": [
        "<a href=\"https://colab.research.google.com/github/Shingirai98/Xhosa_English_Translation/blob/main/noam_df.9.ipynb\" target=\"_parent\"><img src=\"https://colab.research.google.com/assets/colab-badge.svg\" alt=\"Open In Colab\"/></a>"
      ]
    },
    {
      "cell_type": "markdown",
      "metadata": {
        "id": "0yEFsvb0bX8T"
      },
      "source": [
        "Mount the drive to be used for storage of data"
      ]
    },
    {
      "cell_type": "code",
      "metadata": {
        "colab": {
          "base_uri": "https://localhost:8080/"
        },
        "id": "RROaiMCY0P1D",
        "outputId": "d600dd94-ae73-41e7-b222-bcbb81e53da5"
      },
      "source": [
        "from google.colab import drive\n",
        "drive.mount('/content/drive')"
      ],
      "execution_count": 1,
      "outputs": [
        {
          "output_type": "stream",
          "name": "stdout",
          "text": [
            "Mounted at /content/drive\n"
          ]
        }
      ]
    },
    {
      "cell_type": "markdown",
      "metadata": {
        "id": "w9lQZ5hgbWN5"
      },
      "source": [
        "Setup source and target languages using the short hand from the JW300 JSON data"
      ]
    },
    {
      "cell_type": "code",
      "metadata": {
        "id": "azy86diBjeyT"
      },
      "source": [
        "# TODO: Set your source and target languages. Keep in mind, these traditionally use language codes as found here:\n",
        "# These will also become the suffix's of all vocab and corpus files used throughout\n",
        "import os\n",
        "source_language = \"en\"\n",
        "target_language = \"xh\" \n",
        "lc = False  # If True, lowercase the data.\n",
        "seed = 42  # Random seed for shuffling.\n",
        "tag = \"noam_df.9\" # Give a unique name to your folder - this is to ensure you don't rewrite any models you've already submitted\n",
        "\n",
        "os.environ[\"src\"] = source_language # Sets them in bash as well, since we often use bash scripts\n",
        "os.environ[\"tgt\"] = target_language\n",
        "os.environ[\"tag\"] = tag\n",
        "\n",
        "# This will save it to a folder in our gdrive instead!\n",
        "!mkdir -p \"/content/drive/My Drive/m/$tgt-$src-$tag/models\"\n",
        "os.environ[\"gdrive_path\"] = \"/content/drive/My Drive/m/%s-%s-%s\" % (target_language, source_language, tag)"
      ],
      "execution_count": 2,
      "outputs": []
    },
    {
      "cell_type": "code",
      "metadata": {
        "colab": {
          "base_uri": "https://localhost:8080/"
        },
        "id": "G4dgTc-GoOvm",
        "outputId": "0c5d696e-4c06-4224-9588-75c44a3d8a2f"
      },
      "source": [
        "# confirm the availability of folder\n",
        "\n",
        "!echo $gdrive_path"
      ],
      "execution_count": 3,
      "outputs": [
        {
          "output_type": "stream",
          "name": "stdout",
          "text": [
            "/content/drive/My Drive/m/xh-en-noam_df.9\n"
          ]
        }
      ]
    },
    {
      "cell_type": "code",
      "metadata": {
        "colab": {
          "base_uri": "https://localhost:8080/"
        },
        "id": "m5h1mMp1o-O5",
        "outputId": "0e5d6f2b-5526-47ef-d6bf-66f9d796f839"
      },
      "source": [
        "# install the opus tools\n",
        "! pip install opustools-pkg"
      ],
      "execution_count": 4,
      "outputs": [
        {
          "output_type": "stream",
          "name": "stdout",
          "text": [
            "Collecting opustools-pkg\n",
            "  Downloading opustools_pkg-0.0.52-py3-none-any.whl (80 kB)\n",
            "\u001b[?25l\r\u001b[K     |████                            | 10 kB 19.3 MB/s eta 0:00:01\r\u001b[K     |████████                        | 20 kB 21.3 MB/s eta 0:00:01\r\u001b[K     |████████████▏                   | 30 kB 12.0 MB/s eta 0:00:01\r\u001b[K     |████████████████▏               | 40 kB 10.0 MB/s eta 0:00:01\r\u001b[K     |████████████████████▎           | 51 kB 5.4 MB/s eta 0:00:01\r\u001b[K     |████████████████████████▎       | 61 kB 6.0 MB/s eta 0:00:01\r\u001b[K     |████████████████████████████▎   | 71 kB 5.8 MB/s eta 0:00:01\r\u001b[K     |████████████████████████████████| 80 kB 4.0 MB/s \n",
            "\u001b[?25hInstalling collected packages: opustools-pkg\n",
            "Successfully installed opustools-pkg-0.0.52\n"
          ]
        }
      ]
    },
    {
      "cell_type": "code",
      "metadata": {
        "colab": {
          "base_uri": "https://localhost:8080/"
        },
        "id": "nLTDBzRbpMON",
        "outputId": "9ba4b4dc-a65d-44e3-d8d2-794de707b2a9"
      },
      "source": [
        "# Downloading our corpus\n",
        "! opus_read -d XhosaNavy -s $src -t $tgt -wm moses -w xhosanavy.$src xhosanavy.$tgt -q\n",
        "\n",
        "# extract the corpus file\n",
        "! gunzip XhosaNavy_latest_xml_$src-$tgt.xml.gz"
      ],
      "execution_count": 5,
      "outputs": [
        {
          "output_type": "stream",
          "name": "stdout",
          "text": [
            "\n",
            "Alignment file /proj/nlpl/data/OPUS/XhosaNavy/latest/xml/en-xh.xml.gz not found. The following files are available for downloading:\n",
            "\n",
            " 379 KB https://object.pouta.csc.fi/OPUS-XhosaNavy/v1/xml/en-xh.xml.gz\n",
            "  10 MB https://object.pouta.csc.fi/OPUS-XhosaNavy/v1/xml/en.zip\n",
            "   4 MB https://object.pouta.csc.fi/OPUS-XhosaNavy/v1/xml/xh.zip\n",
            "\n",
            "  14 MB Total size\n",
            "./XhosaNavy_latest_xml_en-xh.xml.gz ... 100% of 379 KB\n",
            "./XhosaNavy_latest_xml_en.zip ... 100% of 10 MB\n",
            "./XhosaNavy_latest_xml_xh.zip ... 100% of 4 MB\n"
          ]
        }
      ]
    },
    {
      "cell_type": "code",
      "metadata": {
        "colab": {
          "base_uri": "https://localhost:8080/"
        },
        "id": "VK10HwFNptkg",
        "outputId": "f882fcc0-ea7c-4d99-c0b5-d48a007541a7"
      },
      "source": [
        "# Download the global test set.\n",
        "! wget https://raw.githubusercontent.com/juliakreutzer/masakhane/master/jw300_utils/test/test.en-any.en\n",
        "  \n",
        "# And the specific test set for this language pair.\n",
        "os.environ[\"trg\"] = target_language \n",
        "os.environ[\"src\"] = source_language \n",
        "\n",
        "! wget https://raw.githubusercontent.com/juliakreutzer/masakhane/master/jw300_utils/test/test.en-$trg.en \n",
        "! mv test.en-$trg.en test.en\n",
        "! wget https://raw.githubusercontent.com/juliakreutzer/masakhane/master/jw300_utils/test/test.en-$trg.$trg \n",
        "! mv test.en-$trg.$trg test.$trg"
      ],
      "execution_count": 6,
      "outputs": [
        {
          "output_type": "stream",
          "name": "stdout",
          "text": [
            "--2021-10-30 20:05:10--  https://raw.githubusercontent.com/juliakreutzer/masakhane/master/jw300_utils/test/test.en-any.en\n",
            "Resolving raw.githubusercontent.com (raw.githubusercontent.com)... 185.199.108.133, 185.199.109.133, 185.199.110.133, ...\n",
            "Connecting to raw.githubusercontent.com (raw.githubusercontent.com)|185.199.108.133|:443... connected.\n",
            "HTTP request sent, awaiting response... 200 OK\n",
            "Length: 277791 (271K) [text/plain]\n",
            "Saving to: ‘test.en-any.en’\n",
            "\n",
            "test.en-any.en      100%[===================>] 271.28K  --.-KB/s    in 0.03s   \n",
            "\n",
            "2021-10-30 20:05:10 (8.70 MB/s) - ‘test.en-any.en’ saved [277791/277791]\n",
            "\n",
            "--2021-10-30 20:05:10--  https://raw.githubusercontent.com/juliakreutzer/masakhane/master/jw300_utils/test/test.en-xh.en\n",
            "Resolving raw.githubusercontent.com (raw.githubusercontent.com)... 185.199.108.133, 185.199.109.133, 185.199.110.133, ...\n",
            "Connecting to raw.githubusercontent.com (raw.githubusercontent.com)|185.199.108.133|:443... connected.\n",
            "HTTP request sent, awaiting response... 200 OK\n",
            "Length: 206162 (201K) [text/plain]\n",
            "Saving to: ‘test.en-xh.en’\n",
            "\n",
            "test.en-xh.en       100%[===================>] 201.33K  --.-KB/s    in 0.02s   \n",
            "\n",
            "2021-10-30 20:05:11 (8.19 MB/s) - ‘test.en-xh.en’ saved [206162/206162]\n",
            "\n",
            "--2021-10-30 20:05:11--  https://raw.githubusercontent.com/juliakreutzer/masakhane/master/jw300_utils/test/test.en-xh.xh\n",
            "Resolving raw.githubusercontent.com (raw.githubusercontent.com)... 185.199.108.133, 185.199.109.133, 185.199.110.133, ...\n",
            "Connecting to raw.githubusercontent.com (raw.githubusercontent.com)|185.199.108.133|:443... connected.\n",
            "HTTP request sent, awaiting response... 200 OK\n",
            "Length: 211374 (206K) [text/plain]\n",
            "Saving to: ‘test.en-xh.xh’\n",
            "\n",
            "test.en-xh.xh       100%[===================>] 206.42K  --.-KB/s    in 0.03s   \n",
            "\n",
            "2021-10-30 20:05:11 (7.79 MB/s) - ‘test.en-xh.xh’ saved [211374/211374]\n",
            "\n"
          ]
        }
      ]
    },
    {
      "cell_type": "code",
      "metadata": {
        "colab": {
          "base_uri": "https://localhost:8080/"
        },
        "id": "BKbFyw8qrSnK",
        "outputId": "158bd08e-f992-4a83-8c3e-ec83d210bd32"
      },
      "source": [
        "# Read the test data to filter from train and dev splits.\n",
        "# Store english portion in set for quick filtering checks.\n",
        "en_test_sents = set()\n",
        "filter_test_sents = \"test.en-any.en\"\n",
        "j = 0\n",
        "with open(filter_test_sents) as f:\n",
        "  for line in f:\n",
        "    en_test_sents.add(line.strip())\n",
        "    j += 1\n",
        "print('Loaded {} global test sentences to filter from the training/dev data.'.format(j))"
      ],
      "execution_count": 7,
      "outputs": [
        {
          "output_type": "stream",
          "name": "stdout",
          "text": [
            "Loaded 3571 global test sentences to filter from the training/dev data.\n"
          ]
        }
      ]
    },
    {
      "cell_type": "code",
      "metadata": {
        "colab": {
          "base_uri": "https://localhost:8080/",
          "height": 159
        },
        "id": "yCmVg7A_sC3O",
        "outputId": "40dfb95a-e9b8-48f3-9958-051176bb7a96"
      },
      "source": [
        "import pandas as pd\n",
        "\n",
        "# TMX file to dataframe\n",
        "source_file = 'xhosanavy.' + source_language\n",
        "target_file = 'xhosanavy.' + target_language\n",
        "\n",
        "source = []\n",
        "target = []\n",
        "skip_lines = []  # Collect the line numbers of the source portion to skip the same lines for the target portion.\n",
        "with open(source_file) as f:\n",
        "    for i, line in enumerate(f):\n",
        "        # Skip sentences that are contained in the test set.\n",
        "        if line.strip() not in en_test_sents:\n",
        "            source.append(line.strip())\n",
        "        else:\n",
        "            skip_lines.append(i)             \n",
        "with open(target_file) as f:\n",
        "    for j, line in enumerate(f):\n",
        "        # Only add to corpus if corresponding source was not skipped.\n",
        "        if j not in skip_lines:\n",
        "            target.append(line.strip())\n",
        "    \n",
        "print('Loaded data and skipped {}/{} lines since contained in test set.'.format(len(skip_lines), i))\n",
        "    \n",
        "df = pd.DataFrame(zip(source, target), columns=['source_sentence', 'target_sentence'])\n",
        "# if you get TypeError: data argument can't be an iterator is because of your zip version run this below\n",
        "#df = pd.DataFrame(list(zip(source, target)), columns=['source_sentence', 'target_sentence'])\n",
        "df.head(3)"
      ],
      "execution_count": 8,
      "outputs": [
        {
          "output_type": "stream",
          "name": "stdout",
          "text": [
            "Loaded data and skipped 1/50097 lines since contained in test set.\n"
          ]
        },
        {
          "output_type": "execute_result",
          "data": {
            "text/html": [
              "<div>\n",
              "<style scoped>\n",
              "    .dataframe tbody tr th:only-of-type {\n",
              "        vertical-align: middle;\n",
              "    }\n",
              "\n",
              "    .dataframe tbody tr th {\n",
              "        vertical-align: top;\n",
              "    }\n",
              "\n",
              "    .dataframe thead th {\n",
              "        text-align: right;\n",
              "    }\n",
              "</style>\n",
              "<table border=\"1\" class=\"dataframe\">\n",
              "  <thead>\n",
              "    <tr style=\"text-align: right;\">\n",
              "      <th></th>\n",
              "      <th>source_sentence</th>\n",
              "      <th>target_sentence</th>\n",
              "    </tr>\n",
              "  </thead>\n",
              "  <tbody>\n",
              "    <tr>\n",
              "      <th>0</th>\n",
              "      <td>Rope and its Usage</td>\n",
              "      <td>Intambo nomsebenzi ewenzayo .</td>\n",
              "    </tr>\n",
              "    <tr>\n",
              "      <th>1</th>\n",
              "      <td>In this chapter are described the various type...</td>\n",
              "      <td>Kwesi sahluko sixelelwa ngendindi zeentambo at...</td>\n",
              "    </tr>\n",
              "    <tr>\n",
              "      <th>2</th>\n",
              "      <td>The chapter has been divided into seven sectio...</td>\n",
              "      <td>Esi sahluko sahlulwa - hlulwe kasixhenxe , zic...</td>\n",
              "    </tr>\n",
              "  </tbody>\n",
              "</table>\n",
              "</div>"
            ],
            "text/plain": [
              "                                     source_sentence                                    target_sentence\n",
              "0                                 Rope and its Usage                      Intambo nomsebenzi ewenzayo .\n",
              "1  In this chapter are described the various type...  Kwesi sahluko sixelelwa ngendindi zeentambo at...\n",
              "2  The chapter has been divided into seven sectio...  Esi sahluko sahlulwa - hlulwe kasixhenxe , zic..."
            ]
          },
          "metadata": {},
          "execution_count": 8
        }
      ]
    },
    {
      "cell_type": "markdown",
      "metadata": {
        "id": "8ucF50K3zQPM"
      },
      "source": [
        "Preprocessing and Export"
      ]
    },
    {
      "cell_type": "code",
      "metadata": {
        "id": "__eSBoVBvaCR",
        "colab": {
          "base_uri": "https://localhost:8080/"
        },
        "outputId": "bcf427ed-4b2b-4211-802e-cf2348251564"
      },
      "source": [
        "# drop duplicate translations\n",
        "df_pp = df.drop_duplicates()\n",
        "\n",
        "# drop conflicting translations\n",
        "# (this is optional and something that you might want to comment out \n",
        "# depending on the size of your corpus)\n",
        "df_pp.drop_duplicates(subset='source_sentence', inplace=True)\n",
        "df_pp.drop_duplicates(subset='target_sentence', inplace=True)\n",
        "\n",
        "# Shuffle the data to remove bias in dev set selection.\n",
        "df_pp = df_pp.sample(frac=1, random_state=seed).reset_index(drop=True)"
      ],
      "execution_count": 9,
      "outputs": [
        {
          "output_type": "stream",
          "name": "stderr",
          "text": [
            "/usr/local/lib/python3.7/dist-packages/ipykernel_launcher.py:7: SettingWithCopyWarning: \n",
            "A value is trying to be set on a copy of a slice from a DataFrame\n",
            "\n",
            "See the caveats in the documentation: https://pandas.pydata.org/pandas-docs/stable/user_guide/indexing.html#returning-a-view-versus-a-copy\n",
            "  import sys\n",
            "/usr/local/lib/python3.7/dist-packages/ipykernel_launcher.py:8: SettingWithCopyWarning: \n",
            "A value is trying to be set on a copy of a slice from a DataFrame\n",
            "\n",
            "See the caveats in the documentation: https://pandas.pydata.org/pandas-docs/stable/user_guide/indexing.html#returning-a-view-versus-a-copy\n",
            "  \n"
          ]
        }
      ]
    },
    {
      "cell_type": "markdown",
      "metadata": {
        "id": "qRebfZlF0-wn"
      },
      "source": [
        "Remove almost duplicate sentences in the test and training datasets"
      ]
    },
    {
      "cell_type": "code",
      "metadata": {
        "id": "qjpzlSEv1Fda",
        "colab": {
          "base_uri": "https://localhost:8080/"
        },
        "outputId": "8e5dbb80-2fab-4566-cf45-00633394b296"
      },
      "source": [
        "# Install fuzzy wuzzy to remove \"almost duplicate\" sentences in the\n",
        "# test and training sets.\n",
        "! pip install fuzzywuzzy\n",
        "! pip install python-Levenshtein\n",
        "import time\n",
        "from fuzzywuzzy import process\n",
        "import numpy as np\n",
        "from os import cpu_count\n",
        "from functools import partial\n",
        "from multiprocessing import Pool\n",
        "\n",
        "\n",
        "# reset the index of the training set after previous filtering\n",
        "df_pp.reset_index(drop=False, inplace=True)\n",
        "\n",
        "# Remove samples from the training data set if they \"almost overlap\" with the\n",
        "# samples in the test set.\n",
        "\n",
        "# Filtering function. Adjust pad to narrow down the candidate matches to\n",
        "# within a certain length of characters of the given sample.\n",
        "def fuzzfilter(sample, candidates, pad):\n",
        "  candidates = [x for x in candidates if len(x) <= len(sample)+pad and len(x) >= len(sample)-pad] \n",
        "  if len(candidates) > 0:\n",
        "    return process.extractOne(sample, candidates)[1]\n",
        "  else:\n",
        "    return np.nan"
      ],
      "execution_count": 10,
      "outputs": [
        {
          "output_type": "stream",
          "name": "stdout",
          "text": [
            "Collecting fuzzywuzzy\n",
            "  Downloading fuzzywuzzy-0.18.0-py2.py3-none-any.whl (18 kB)\n",
            "Installing collected packages: fuzzywuzzy\n",
            "Successfully installed fuzzywuzzy-0.18.0\n",
            "Collecting python-Levenshtein\n",
            "  Downloading python-Levenshtein-0.12.2.tar.gz (50 kB)\n",
            "\u001b[K     |████████████████████████████████| 50 kB 3.1 MB/s \n",
            "\u001b[?25hRequirement already satisfied: setuptools in /usr/local/lib/python3.7/dist-packages (from python-Levenshtein) (57.4.0)\n",
            "Building wheels for collected packages: python-Levenshtein\n",
            "  Building wheel for python-Levenshtein (setup.py) ... \u001b[?25l\u001b[?25hdone\n",
            "  Created wheel for python-Levenshtein: filename=python_Levenshtein-0.12.2-cp37-cp37m-linux_x86_64.whl size=149867 sha256=589e440c54b96d2a793f0dfef670f9b0bce57a749472ab6f14610d2671f525fe\n",
            "  Stored in directory: /root/.cache/pip/wheels/05/5f/ca/7c4367734892581bb5ff896f15027a932c551080b2abd3e00d\n",
            "Successfully built python-Levenshtein\n",
            "Installing collected packages: python-Levenshtein\n",
            "Successfully installed python-Levenshtein-0.12.2\n"
          ]
        }
      ]
    },
    {
      "cell_type": "markdown",
      "metadata": {
        "id": "zDD37_GmzO3n"
      },
      "source": [
        "Split between the train/dev for the parallel corpora them saves them as separate files\n"
      ]
    },
    {
      "cell_type": "code",
      "metadata": {
        "id": "FUlWNE5nhOXS"
      },
      "source": [
        "# start_time = time.time()\n",
        "# # ### iterating over pandas dataframe rows is not recomended, let use multi processing to apply the function\n",
        "\n",
        "# with Pool(cpu_count()-1) as pool:\n",
        "#     scores = pool.map(partial(fuzzfilter, candidates=list(en_test_sents), pad=5), df_pp['source_sentence'])\n",
        "# hours, rem = divmod(time.time() - start_time, 3600)\n",
        "# minutes, seconds = divmod(rem, 60)\n",
        "# print(\"done in {}h:{}min:{}seconds\".format(hours, minutes, seconds))\n",
        "\n",
        "# # Filter out \"almost overlapping samples\"\n",
        "# df_pp = df_pp.assign(scores=scores)\n",
        "# df_pp = df_pp[df_pp['scores'] < 95]"
      ],
      "execution_count": 11,
      "outputs": []
    },
    {
      "cell_type": "code",
      "metadata": {
        "id": "vZZ4pIQD1xJa",
        "colab": {
          "base_uri": "https://localhost:8080/"
        },
        "outputId": "28a8a091-4b59-4f47-c3a8-d4bcbdb94000"
      },
      "source": [
        "import csv\n",
        "\n",
        "# Do the split between dev/train and create parallel corpora\n",
        "num_dev_patterns = 1000\n",
        "\n",
        "# Optional: lower case the corpora - this will make it easier to generalize, but without proper casing.\n",
        "if lc:  # Julia: making lowercasing optional\n",
        "    df_pp[\"source_sentence\"] = df_pp[\"source_sentence\"].str.lower()\n",
        "    df_pp[\"target_sentence\"] = df_pp[\"target_sentence\"].str.lower()\n",
        "\n",
        "# Julia: test sets are already generated\n",
        "dev = df_pp.tail(num_dev_patterns) # Herman: Error in original\n",
        "stripped = df_pp.drop(df_pp.tail(num_dev_patterns).index)\n",
        "\n",
        "with open(\"train.\"+source_language, \"w\") as src_file, open(\"train.\"+target_language, \"w\") as trg_file:\n",
        "  for index, row in stripped.iterrows():\n",
        "    src_file.write(row[\"source_sentence\"]+\"\\n\")\n",
        "    trg_file.write(row[\"target_sentence\"]+\"\\n\")\n",
        "    \n",
        "with open(\"dev.\"+source_language, \"w\") as src_file, open(\"dev.\"+target_language, \"w\") as trg_file:\n",
        "  for index, row in dev.iterrows():\n",
        "    src_file.write(row[\"source_sentence\"]+\"\\n\")\n",
        "    trg_file.write(row[\"target_sentence\"]+\"\\n\")\n",
        "! head train.*\n",
        "! head dev.*"
      ],
      "execution_count": 12,
      "outputs": [
        {
          "output_type": "stream",
          "name": "stdout",
          "text": [
            "==> train.en <==\n",
            "It is advisable to stop engines , however , a little later than usual .\n",
            "Hermes , of the Highflyer class , was converted into a seaplane carrier just before the war .\n",
            "Countermine\n",
            "Even in the future , ships for the carriage of general cargo will not exceed a deadweight of 25,000 tons , with the majority having deadweights of about 12,000 to 15,000 tons .\n",
            "Their chief characteristic was speed .\n",
            "This naval strength declined a little after the war .\n",
            "He does not rebuke an inexperienced Officer of the Watch who occasionally calls him on some trivial pretext .\n",
            "For this remarkable instrument , could keep accurate time for a long period at sea despite changes of temperature and the motion of the vessel .\n",
            "To expedite the administration of a deceased 's estate , the following documents must be kept in a safe place .\n",
            "They are a type of portable walkway constructed of either wood or aluminium .\n",
            "\n",
            "==> train.xh <==\n",
            "Kucetyiswa ukuba umise i-injini , nakanjani kancinci kune siqhelo .\n",
            "Hermes ( isithunywa ) wodidi olunenjongo eziphakamileyo watshintshelwa kwinqwelo ntaka yolwandle ephathayo kanye phambi kwemfazwe .\n",
            "Ibhombu yokuzikhusela elwandle\n",
            "Nakubomi obuzayo , iinqanawa zokuthutha umthwalo jikelele azinakodlula ubunzima bomthuwalo wanqanawa wamashumi amabini anesihlanu amawaka eetoni , kwisininzi esinobunzima bomthwalo wenqanawa esinamalunga neshumi elinambini lamawaka ukuya kwishumi elinesihlanu seetoni .\n",
            "Eyona Nkosi iluphawu yayi sisantya .\n",
            "Oko komelela komkhosi waselwandle kehla kancinci emva kwemfazwe .\n",
            "Akalihlawuli igosa elingenamava nokumbiza kwenye yamampunge .\n",
            "Okukuqwalaseleka kwesisixhobo , kungagcina khuselekileyo ixesha elide behlala elwandle nangona bangamoshwa kukutshintsha kobushushu kunye neentshukumo zenqanawa .\n",
            "Ukukhawulezisa ukulawulwa komhlaba womfi ( kazi ) , la maxwebhu alandelayo kumele agcinwe kwindawo ekhuselekileyo .\n",
            "Kukho iintlobo eziphathekayo xa uhamba ezakhiwe ngamaplanga okanye ngohlobo lwesinyithi esimhlophe esilula esilushica .\n",
            "==> dev.en <==\n",
            "153 . SART\n",
            "This could cause or allow the fire to reignite .\n",
            "The details are required in order to refute or substantiate claims for loss or damage of gear subsequently made by the fishing vessels concerned .\n",
            "Decks are supported by beams which extend athwartships between the frames .\n",
            "Width is up to 50 miles .\n",
            "That part of a vessel where the planks begin to bend as they approach the stern .\n",
            "To unintentionally swing the ship around broadside to a wave .\n",
            "These were the Diadems of the late 1890s .\n",
            "99 . Radio repeater\n",
            "In practice , error can be calculated and applied in one 's head , but for reference it is always advisable to record the figures on the chart .\n",
            "\n",
            "==> dev.xh <==\n",
            "153 . I-SART\n",
            "Oku kungabangela okanye kwamkeleke emlilweni ngoku lumeka .\n",
            "Kumele ukuba inqanawa zinesiqhubi esiphambili kwikqubo ekhawulezileyo .\n",
            "Imigonyetho ixhathise ngemiqadi enabela inqamleze inqanawe phakatbi kwefreyimci .\n",
            "Ububanzi bumalunga neemayile ezingamashumi amahlanu .\n",
            "Indawo yesikhephe apho aqala khona amaplanga ukugoba njengoko efikelela kumva waso .\n",
            "Ukujikela inqanawe ngokungekho njongweni ngecala eliphezu kwamanzi ukuya kumaza .\n",
            "ZaziziDiadems zokuphela koo1980 .\n",
            "99 . Isiphithi sikanomathotholo\n",
            "Ekuziqhelaniseni , impazamo ingabalwa okanye isetyenziswe kwintloko , kodwa ukwenzela ukungalibeli okanye ukukhangela , kucetyiswa ukuba ubhale amanani kwitshati .\n"
          ]
        }
      ]
    },
    {
      "cell_type": "markdown",
      "metadata": {
        "id": "-vT1jHqGnLWS"
      },
      "source": [
        "## Installation of JoeyNMT\n",
        "This is a simple, minimal Neural Machine Translation package for learning and teaching"
      ]
    },
    {
      "cell_type": "code",
      "metadata": {
        "colab": {
          "base_uri": "https://localhost:8080/"
        },
        "id": "ndgKut6bmrmn",
        "outputId": "8dcf1fe2-1e11-46de-ad2e-ea39a32a54b9"
      },
      "source": [
        "\n",
        "\n",
        "# Install JoeyNMT\n",
        "! git clone https://github.com/joeynmt/joeynmt.git\n",
        "! cd joeynmt; pip3 install .\n",
        "# Install Pytorch with GPU support v1.7.1.\n",
        "! pip3 install torch -f https://download.pytorch.org/whl/torch_stable.html"
      ],
      "execution_count": 13,
      "outputs": [
        {
          "output_type": "stream",
          "name": "stdout",
          "text": [
            "Cloning into 'joeynmt'...\n",
            "remote: Enumerating objects: 3224, done.\u001b[K\n",
            "remote: Counting objects: 100% (273/273), done.\u001b[K\n",
            "remote: Compressing objects: 100% (142/142), done.\u001b[K\n",
            "remote: Total 3224 (delta 155), reused 209 (delta 131), pack-reused 2951\u001b[K\n",
            "Receiving objects: 100% (3224/3224), 8.18 MiB | 15.96 MiB/s, done.\n",
            "Resolving deltas: 100% (2184/2184), done.\n",
            "Processing /content/joeynmt\n",
            "\u001b[33m  DEPRECATION: A future pip version will change local packages to be built in-place without first copying to a temporary directory. We recommend you use --use-feature=in-tree-build to test your packages with this new behavior before it becomes the default.\n",
            "   pip 21.3 will remove support for this functionality. You can find discussion regarding this at https://github.com/pypa/pip/issues/7555.\u001b[0m\n",
            "Requirement already satisfied: future in /usr/local/lib/python3.7/dist-packages (from joeynmt==1.3) (0.16.0)\n",
            "Requirement already satisfied: pillow in /usr/local/lib/python3.7/dist-packages (from joeynmt==1.3) (7.1.2)\n",
            "Requirement already satisfied: numpy>=1.19.5 in /usr/local/lib/python3.7/dist-packages (from joeynmt==1.3) (1.19.5)\n",
            "Requirement already satisfied: setuptools>=41.0.0 in /usr/local/lib/python3.7/dist-packages (from joeynmt==1.3) (57.4.0)\n",
            "Requirement already satisfied: torch>=1.9.0 in /usr/local/lib/python3.7/dist-packages (from joeynmt==1.3) (1.9.0+cu111)\n",
            "Requirement already satisfied: tensorboard>=1.15 in /usr/local/lib/python3.7/dist-packages (from joeynmt==1.3) (2.6.0)\n",
            "Requirement already satisfied: torchtext>=0.10.0 in /usr/local/lib/python3.7/dist-packages (from joeynmt==1.3) (0.10.0)\n",
            "Collecting sacrebleu>=2.0.0\n",
            "  Downloading sacrebleu-2.0.0-py3-none-any.whl (90 kB)\n",
            "\u001b[K     |████████████████████████████████| 90 kB 3.8 MB/s \n",
            "\u001b[?25hCollecting subword-nmt\n",
            "  Downloading subword_nmt-0.3.7-py2.py3-none-any.whl (26 kB)\n",
            "Requirement already satisfied: matplotlib in /usr/local/lib/python3.7/dist-packages (from joeynmt==1.3) (3.2.2)\n",
            "Requirement already satisfied: seaborn in /usr/local/lib/python3.7/dist-packages (from joeynmt==1.3) (0.11.2)\n",
            "Collecting pyyaml>=5.1\n",
            "  Downloading PyYAML-6.0-cp37-cp37m-manylinux_2_5_x86_64.manylinux1_x86_64.manylinux_2_12_x86_64.manylinux2010_x86_64.whl (596 kB)\n",
            "\u001b[K     |████████████████████████████████| 596 kB 17.9 MB/s \n",
            "\u001b[?25hCollecting pylint>=2.9.6\n",
            "  Downloading pylint-2.11.1-py3-none-any.whl (392 kB)\n",
            "\u001b[K     |████████████████████████████████| 392 kB 38.2 MB/s \n",
            "\u001b[?25hCollecting six==1.12\n",
            "  Downloading six-1.12.0-py2.py3-none-any.whl (10 kB)\n",
            "Collecting wrapt==1.11.1\n",
            "  Downloading wrapt-1.11.1.tar.gz (27 kB)\n",
            "Collecting mccabe<0.7,>=0.6\n",
            "  Downloading mccabe-0.6.1-py2.py3-none-any.whl (8.6 kB)\n",
            "Collecting astroid<2.9,>=2.8.0\n",
            "  Downloading astroid-2.8.4-py3-none-any.whl (246 kB)\n",
            "\u001b[K     |████████████████████████████████| 246 kB 43.6 MB/s \n",
            "\u001b[?25hRequirement already satisfied: toml>=0.7.1 in /usr/local/lib/python3.7/dist-packages (from pylint>=2.9.6->joeynmt==1.3) (0.10.2)\n",
            "Collecting typing-extensions>=3.10.0\n",
            "  Downloading typing_extensions-3.10.0.2-py3-none-any.whl (26 kB)\n",
            "Collecting isort<6,>=4.2.5\n",
            "  Downloading isort-5.9.3-py3-none-any.whl (106 kB)\n",
            "\u001b[K     |████████████████████████████████| 106 kB 48.6 MB/s \n",
            "\u001b[?25hCollecting platformdirs>=2.2.0\n",
            "  Downloading platformdirs-2.4.0-py3-none-any.whl (14 kB)\n",
            "Collecting lazy-object-proxy>=1.4.0\n",
            "  Downloading lazy_object_proxy-1.6.0-cp37-cp37m-manylinux1_x86_64.whl (55 kB)\n",
            "\u001b[K     |████████████████████████████████| 55 kB 3.6 MB/s \n",
            "\u001b[?25hCollecting typed-ast<1.5,>=1.4.0\n",
            "  Downloading typed_ast-1.4.3-cp37-cp37m-manylinux1_x86_64.whl (743 kB)\n",
            "\u001b[K     |████████████████████████████████| 743 kB 35.6 MB/s \n",
            "\u001b[?25hCollecting portalocker\n",
            "  Downloading portalocker-2.3.2-py2.py3-none-any.whl (15 kB)\n",
            "Requirement already satisfied: tabulate>=0.8.9 in /usr/local/lib/python3.7/dist-packages (from sacrebleu>=2.0.0->joeynmt==1.3) (0.8.9)\n",
            "Requirement already satisfied: regex in /usr/local/lib/python3.7/dist-packages (from sacrebleu>=2.0.0->joeynmt==1.3) (2019.12.20)\n",
            "Collecting colorama\n",
            "  Downloading colorama-0.4.4-py2.py3-none-any.whl (16 kB)\n",
            "Requirement already satisfied: google-auth-oauthlib<0.5,>=0.4.1 in /usr/local/lib/python3.7/dist-packages (from tensorboard>=1.15->joeynmt==1.3) (0.4.6)\n",
            "Requirement already satisfied: tensorboard-plugin-wit>=1.6.0 in /usr/local/lib/python3.7/dist-packages (from tensorboard>=1.15->joeynmt==1.3) (1.8.0)\n",
            "Requirement already satisfied: protobuf>=3.6.0 in /usr/local/lib/python3.7/dist-packages (from tensorboard>=1.15->joeynmt==1.3) (3.17.3)\n",
            "Requirement already satisfied: requests<3,>=2.21.0 in /usr/local/lib/python3.7/dist-packages (from tensorboard>=1.15->joeynmt==1.3) (2.23.0)\n",
            "Requirement already satisfied: absl-py>=0.4 in /usr/local/lib/python3.7/dist-packages (from tensorboard>=1.15->joeynmt==1.3) (0.12.0)\n",
            "Requirement already satisfied: werkzeug>=0.11.15 in /usr/local/lib/python3.7/dist-packages (from tensorboard>=1.15->joeynmt==1.3) (1.0.1)\n",
            "Requirement already satisfied: wheel>=0.26 in /usr/local/lib/python3.7/dist-packages (from tensorboard>=1.15->joeynmt==1.3) (0.37.0)\n",
            "Requirement already satisfied: google-auth<2,>=1.6.3 in /usr/local/lib/python3.7/dist-packages (from tensorboard>=1.15->joeynmt==1.3) (1.35.0)\n",
            "Requirement already satisfied: tensorboard-data-server<0.7.0,>=0.6.0 in /usr/local/lib/python3.7/dist-packages (from tensorboard>=1.15->joeynmt==1.3) (0.6.1)\n",
            "Requirement already satisfied: markdown>=2.6.8 in /usr/local/lib/python3.7/dist-packages (from tensorboard>=1.15->joeynmt==1.3) (3.3.4)\n",
            "Requirement already satisfied: grpcio>=1.24.3 in /usr/local/lib/python3.7/dist-packages (from tensorboard>=1.15->joeynmt==1.3) (1.41.0)\n",
            "Requirement already satisfied: pyasn1-modules>=0.2.1 in /usr/local/lib/python3.7/dist-packages (from google-auth<2,>=1.6.3->tensorboard>=1.15->joeynmt==1.3) (0.2.8)\n",
            "Requirement already satisfied: rsa<5,>=3.1.4 in /usr/local/lib/python3.7/dist-packages (from google-auth<2,>=1.6.3->tensorboard>=1.15->joeynmt==1.3) (4.7.2)\n",
            "Requirement already satisfied: cachetools<5.0,>=2.0.0 in /usr/local/lib/python3.7/dist-packages (from google-auth<2,>=1.6.3->tensorboard>=1.15->joeynmt==1.3) (4.2.4)\n",
            "Requirement already satisfied: requests-oauthlib>=0.7.0 in /usr/local/lib/python3.7/dist-packages (from google-auth-oauthlib<0.5,>=0.4.1->tensorboard>=1.15->joeynmt==1.3) (1.3.0)\n",
            "Requirement already satisfied: importlib-metadata in /usr/local/lib/python3.7/dist-packages (from markdown>=2.6.8->tensorboard>=1.15->joeynmt==1.3) (4.8.1)\n",
            "Requirement already satisfied: pyasn1<0.5.0,>=0.4.6 in /usr/local/lib/python3.7/dist-packages (from pyasn1-modules>=0.2.1->google-auth<2,>=1.6.3->tensorboard>=1.15->joeynmt==1.3) (0.4.8)\n",
            "Requirement already satisfied: urllib3!=1.25.0,!=1.25.1,<1.26,>=1.21.1 in /usr/local/lib/python3.7/dist-packages (from requests<3,>=2.21.0->tensorboard>=1.15->joeynmt==1.3) (1.24.3)\n",
            "Requirement already satisfied: idna<3,>=2.5 in /usr/local/lib/python3.7/dist-packages (from requests<3,>=2.21.0->tensorboard>=1.15->joeynmt==1.3) (2.10)\n",
            "Requirement already satisfied: chardet<4,>=3.0.2 in /usr/local/lib/python3.7/dist-packages (from requests<3,>=2.21.0->tensorboard>=1.15->joeynmt==1.3) (3.0.4)\n",
            "Requirement already satisfied: certifi>=2017.4.17 in /usr/local/lib/python3.7/dist-packages (from requests<3,>=2.21.0->tensorboard>=1.15->joeynmt==1.3) (2021.5.30)\n",
            "Requirement already satisfied: oauthlib>=3.0.0 in /usr/local/lib/python3.7/dist-packages (from requests-oauthlib>=0.7.0->google-auth-oauthlib<0.5,>=0.4.1->tensorboard>=1.15->joeynmt==1.3) (3.1.1)\n",
            "Requirement already satisfied: tqdm in /usr/local/lib/python3.7/dist-packages (from torchtext>=0.10.0->joeynmt==1.3) (4.62.3)\n",
            "Requirement already satisfied: zipp>=0.5 in /usr/local/lib/python3.7/dist-packages (from importlib-metadata->markdown>=2.6.8->tensorboard>=1.15->joeynmt==1.3) (3.6.0)\n",
            "Requirement already satisfied: cycler>=0.10 in /usr/local/lib/python3.7/dist-packages (from matplotlib->joeynmt==1.3) (0.10.0)\n",
            "Requirement already satisfied: pyparsing!=2.0.4,!=2.1.2,!=2.1.6,>=2.0.1 in /usr/local/lib/python3.7/dist-packages (from matplotlib->joeynmt==1.3) (2.4.7)\n",
            "Requirement already satisfied: python-dateutil>=2.1 in /usr/local/lib/python3.7/dist-packages (from matplotlib->joeynmt==1.3) (2.8.2)\n",
            "Requirement already satisfied: kiwisolver>=1.0.1 in /usr/local/lib/python3.7/dist-packages (from matplotlib->joeynmt==1.3) (1.3.2)\n",
            "Requirement already satisfied: pandas>=0.23 in /usr/local/lib/python3.7/dist-packages (from seaborn->joeynmt==1.3) (1.1.5)\n",
            "Requirement already satisfied: scipy>=1.0 in /usr/local/lib/python3.7/dist-packages (from seaborn->joeynmt==1.3) (1.4.1)\n",
            "Requirement already satisfied: pytz>=2017.2 in /usr/local/lib/python3.7/dist-packages (from pandas>=0.23->seaborn->joeynmt==1.3) (2018.9)\n",
            "Building wheels for collected packages: joeynmt, wrapt\n",
            "  Building wheel for joeynmt (setup.py) ... \u001b[?25l\u001b[?25hdone\n",
            "  Created wheel for joeynmt: filename=joeynmt-1.3-py3-none-any.whl size=86029 sha256=c319dad392dd14dccce798a4db034f4615f06505f26093dec4889f8ea11f9070\n",
            "  Stored in directory: /tmp/pip-ephem-wheel-cache-rx9e2vbk/wheels/0a/f4/bf/6c9d3b8efbfece6cd209f865be37382b02e7c3584df2e28ca4\n",
            "  Building wheel for wrapt (setup.py) ... \u001b[?25l\u001b[?25hdone\n",
            "  Created wheel for wrapt: filename=wrapt-1.11.1-cp37-cp37m-linux_x86_64.whl size=68442 sha256=325f3420e58d246ef009fc54439cc0973b2bc1e4f7bd4701c6a41a3f55ed2c7d\n",
            "  Stored in directory: /root/.cache/pip/wheels/4e/58/9d/da8bad4545585ca52311498ff677647c95c7b690b3040171f8\n",
            "Successfully built joeynmt wrapt\n",
            "Installing collected packages: typing-extensions, six, wrapt, typed-ast, lazy-object-proxy, portalocker, platformdirs, mccabe, isort, colorama, astroid, subword-nmt, sacrebleu, pyyaml, pylint, joeynmt\n",
            "  Attempting uninstall: typing-extensions\n",
            "    Found existing installation: typing-extensions 3.7.4.3\n",
            "    Uninstalling typing-extensions-3.7.4.3:\n",
            "      Successfully uninstalled typing-extensions-3.7.4.3\n",
            "  Attempting uninstall: six\n",
            "    Found existing installation: six 1.15.0\n",
            "    Uninstalling six-1.15.0:\n",
            "      Successfully uninstalled six-1.15.0\n",
            "  Attempting uninstall: wrapt\n",
            "    Found existing installation: wrapt 1.12.1\n",
            "    Uninstalling wrapt-1.12.1:\n",
            "      Successfully uninstalled wrapt-1.12.1\n",
            "  Attempting uninstall: pyyaml\n",
            "    Found existing installation: PyYAML 3.13\n",
            "    Uninstalling PyYAML-3.13:\n",
            "      Successfully uninstalled PyYAML-3.13\n",
            "\u001b[31mERROR: pip's dependency resolver does not currently take into account all the packages that are installed. This behaviour is the source of the following dependency conflicts.\n",
            "tensorflow 2.6.0 requires six~=1.15.0, but you have six 1.12.0 which is incompatible.\n",
            "tensorflow 2.6.0 requires typing-extensions~=3.7.4, but you have typing-extensions 3.10.0.2 which is incompatible.\n",
            "tensorflow 2.6.0 requires wrapt~=1.12.1, but you have wrapt 1.11.1 which is incompatible.\n",
            "google-colab 1.0.0 requires six~=1.15.0, but you have six 1.12.0 which is incompatible.\n",
            "google-api-python-client 1.12.8 requires six<2dev,>=1.13.0, but you have six 1.12.0 which is incompatible.\n",
            "google-api-core 1.26.3 requires six>=1.13.0, but you have six 1.12.0 which is incompatible.\n",
            "datascience 0.10.6 requires folium==0.2.1, but you have folium 0.8.3 which is incompatible.\n",
            "albumentations 0.1.12 requires imgaug<0.2.7,>=0.2.5, but you have imgaug 0.2.9 which is incompatible.\u001b[0m\n",
            "Successfully installed astroid-2.8.4 colorama-0.4.4 isort-5.9.3 joeynmt-1.3 lazy-object-proxy-1.6.0 mccabe-0.6.1 platformdirs-2.4.0 portalocker-2.3.2 pylint-2.11.1 pyyaml-6.0 sacrebleu-2.0.0 six-1.12.0 subword-nmt-0.3.7 typed-ast-1.4.3 typing-extensions-3.10.0.2 wrapt-1.11.1\n",
            "Looking in links: https://download.pytorch.org/whl/torch_stable.html\n",
            "Requirement already satisfied: torch in /usr/local/lib/python3.7/dist-packages (1.9.0+cu111)\n",
            "Requirement already satisfied: typing-extensions in /usr/local/lib/python3.7/dist-packages (from torch) (3.10.0.2)\n"
          ]
        }
      ]
    },
    {
      "cell_type": "markdown",
      "metadata": {
        "id": "v8pDGN3RnKHS"
      },
      "source": [
        "##Preprocessing the data into Subword BPE Tokens"
      ]
    },
    {
      "cell_type": "code",
      "metadata": {
        "colab": {
          "base_uri": "https://localhost:8080/"
        },
        "id": "afbLspNgpR3p",
        "outputId": "fa815094-e52f-46e9-879e-dc2d07021f2c"
      },
      "source": [
        "from os import path\n",
        "os.environ[\"src\"] = source_language # Sets them in bash as well, since we often use bash scripts\n",
        "os.environ[\"tgt\"] = target_language\n",
        "\n",
        "# Learn BPEs on the training data.\n",
        "os.environ[\"data_path\"] = path.join(\"joeynmt\", \"data\",target_language + source_language ) # Herman! \n",
        "! subword-nmt learn-joint-bpe-and-vocab --input train.$src train.$tgt -s 4000 -o bpe.codes.4000 --write-vocabulary vocab.$src vocab.$tgt\n",
        "\n",
        "# Apply BPE splits to the development and test data.\n",
        "! subword-nmt apply-bpe -c bpe.codes.4000 --vocabulary vocab.$src < train.$src > train.bpe.$src\n",
        "! subword-nmt apply-bpe -c bpe.codes.4000 --vocabulary vocab.$tgt < train.$tgt > train.bpe.$tgt\n",
        "\n",
        "! subword-nmt apply-bpe -c bpe.codes.4000 --vocabulary vocab.$src < dev.$src > dev.bpe.$src\n",
        "! subword-nmt apply-bpe -c bpe.codes.4000 --vocabulary vocab.$tgt < dev.$tgt > dev.bpe.$tgt\n",
        "! subword-nmt apply-bpe -c bpe.codes.4000 --vocabulary vocab.$src < test.$src > test.bpe.$src\n",
        "! subword-nmt apply-bpe -c bpe.codes.4000 --vocabulary vocab.$tgt < test.$tgt > test.bpe.$tgt\n",
        "\n",
        "# Create directory, move everyone we care about to the correct location\n",
        "! mkdir -p $data_path\n",
        "! cp train.* $data_path\n",
        "! cp test.* $data_path\n",
        "! cp dev.* $data_path\n",
        "! cp bpe.codes.4000 $data_path\n",
        "! ls $data_path\n",
        "\n",
        "! cp train.* \"$gdrive_path\"\n",
        "! cp test.* \"$gdrive_path\"\n",
        "! cp dev.* \"$gdrive_path\"\n",
        "! cp bpe.codes.4000 \"$gdrive_path\"\n",
        "! ls \"$gdrive_path\"\n",
        "\n",
        "# Create that vocab using build_vocab\n",
        "! sudo chmod 777 joeynmt/scripts/build_vocab.py\n",
        "! joeynmt/scripts/build_vocab.py joeynmt/data/$tgt$src/train.bpe.$src joeynmt/data/$tgt$src/train.bpe.$tgt --output_path joeynmt/data/$tgt$src/vocab.txt\n",
        "\n",
        "# Some output\n",
        "! echo \"BPE isiXhosa Sentences\"\n",
        "! tail -n 5 test.bpe.$tgt\n",
        "! echo \"Combined BPE Vocab\"\n",
        "! tail -n 10 joeynmt/data/$tgt$src/vocab.txt  # Herman"
      ],
      "execution_count": 14,
      "outputs": [
        {
          "output_type": "stream",
          "name": "stdout",
          "text": [
            "bpe.codes.4000\tdev.en\t     test.bpe.xh     test.xh\t   train.en\n",
            "dev.bpe.en\tdev.xh\t     test.en\t     train.bpe.en  train.xh\n",
            "dev.bpe.xh\ttest.bpe.en  test.en-any.en  train.bpe.xh\n",
            "bpe.codes.4000\tdev.xh\t     test.en\t       test.en-any.en.3  train.en\n",
            "dev.bpe.en\tmodels\t     test.en-any.en    test.xh\t\t train.xh\n",
            "dev.bpe.xh\ttest.bpe.en  test.en-any.en.1  train.bpe.en\n",
            "dev.en\t\ttest.bpe.xh  test.en-any.en.2  train.bpe.xh\n",
            "BPE isiXhosa Sentences\n",
            "Oku kw@@ aph@@ umela ekub@@ eni nd@@ id@@ ume njengom@@ ntu ong@@ any@@ anis@@ ekanga .\n",
            "Xa nd@@ af@@ und@@ a iny@@ aniso , and@@ iz@@ ange nd@@ iph@@ inde nd@@ iv@@ ume uku@@ qhub@@ eka n@@ dis@@ enza oko , naku@@ b@@ eni nd@@ and@@ ihl@@ awulwa um@@ v@@ uzo on@@ c@@ um@@ isayo .\n",
            "N@@ d@@ ing@@ umzekelo om@@ hle ko@@ ony@@ ana b@@ am ab@@ abini yaye n@@ di@@ ye nd@@ af@@ an@@ elek@@ ela am@@ alung@@ elo ang@@ akumbi eb@@ andl@@ eni .\n",
            "N@@ d@@ aziwa njengom@@ ntu ony@@ anis@@ ekileyo ngab@@ antu end@@ ish@@ ish@@ ina kunye n@@ abo kwan@@ ab@@ ahl@@ ol@@ i boku@@ m@@ a kwem@@ ali ye@@ enk@@ amp@@ ani ( ta@@ x a@@ ud@@ it@@ ors ) . ”\n",
            "U@@ R@@ ute w@@ af@@ ud@@ ukela kwa@@ S@@ ir@@ ay@@ eli apho way@@ eza ku@@ kw@@ azi ukun@@ q@@ ula oy@@ ena Th@@ ix@@ o wo@@ kw@@ eny@@ aniso .\n",
            "Combined BPE Vocab\n",
            "ﾲ\n",
            "¾@@\n",
            ">\n",
            "•\n",
            "IEE@@\n",
            "ü@@\n",
            "ﾅ\n",
            "trib@@\n",
            "<\n",
            "\n"
          ]
        }
      ]
    },
    {
      "cell_type": "code",
      "metadata": {
        "colab": {
          "base_uri": "https://localhost:8080/"
        },
        "id": "AMOouv3K183J",
        "outputId": "1f556f68-9c1b-439b-dc79-6ac03fd223f6"
      },
      "source": [
        "# Also move everything we care about to a mounted location in google drive (relevant if running in colab) at gdrive_path\n",
        "! cp train.* \"$gdrive_path\"\n",
        "! cp test.* \"$gdrive_path\"\n",
        "! cp dev.* \"$gdrive_path\"\n",
        "! cp bpe.codes.4000 \"$gdrive_path\"\n",
        "! ls \"$gdrive_path\""
      ],
      "execution_count": 15,
      "outputs": [
        {
          "output_type": "stream",
          "name": "stdout",
          "text": [
            "bpe.codes.4000\tdev.xh\t     test.en\t       test.en-any.en.3  train.en\n",
            "dev.bpe.en\tmodels\t     test.en-any.en    test.xh\t\t train.xh\n",
            "dev.bpe.xh\ttest.bpe.en  test.en-any.en.1  train.bpe.en\n",
            "dev.en\t\ttest.bpe.xh  test.en-any.en.2  train.bpe.xh\n"
          ]
        }
      ]
    },
    {
      "cell_type": "code",
      "metadata": {
        "id": "eqk_sgJz7Cky"
      },
      "source": [
        "name = '%s%s' % (target_language, source_language)\n",
        "# gdrive_path = os.environ[\"gdrive_path\"]\n",
        "\n",
        "# Create the config\n",
        "config = \"\"\"\n",
        "name: \"{target_language}{source_language}_reverse_transformer\"\n",
        "\n",
        "data:\n",
        "    src: \"{target_language}\"\n",
        "    trg: \"{source_language}\"\n",
        "    train: \"data/{name}/train.bpe\"\n",
        "    dev:   \"data/{name}/dev.bpe\"\n",
        "    test:  \"data/{name}/test.bpe\"\n",
        "    level: \"bpe\"\n",
        "    lowercase: False\n",
        "    max_sent_length: 100\n",
        "    src_vocab: \"data/{name}/vocab.txt\"\n",
        "    trg_vocab: \"data/{name}/vocab.txt\"\n",
        "\n",
        "testing:\n",
        "    beam_size: 5\n",
        "    alpha: 1.0\n",
        "\n",
        "training:\n",
        "    #load_model: \"{gdrive_path}/models/{name}_transformer/1.ckpt\" # if uncommented, load a pre-trained model from this checkpoint\n",
        "    random_seed: 42\n",
        "    optimizer: \"adam\"\n",
        "    normalization: \"tokens\"\n",
        "    adam_betas: [0.9, 0.999] \n",
        "    scheduling: \"noam\"           \n",
        "    patience: 5                     \n",
        "    learning_rate_factor: 0.5       \n",
        "    learning_rate_warmup: 1000      \n",
        "    decrease_factor: 0.9\n",
        "    loss: \"crossentropy\"\n",
        "    learning_rate: 0.0003\n",
        "    learning_rate_min: 0.00000001\n",
        "    weight_decay: 0.0\n",
        "    label_smoothing: 0.1\n",
        "    batch_size: 4096\n",
        "    batch_type: \"token\"\n",
        "    eval_batch_size: 3600\n",
        "    eval_batch_type: \"token\"\n",
        "    batch_multiplier: 1\n",
        "    early_stopping_metric: \"ppl\"\n",
        "    epochs: 10                  \n",
        "    validation_freq: 1000          \n",
        "    logging_freq: 100\n",
        "    eval_metric: \"bleu\"\n",
        "    model_dir: \"models/{name}_reverse_transformer\"\n",
        "    overwrite: True              \n",
        "    shuffle: True\n",
        "    use_cuda: True\n",
        "    max_output_length: 100\n",
        "    print_valid_sents: [0, 1, 2, 3]\n",
        "    keep_last_ckpts: 3\n",
        "\n",
        "model:\n",
        "    initializer: \"xavier\"\n",
        "    bias_initializer: \"zeros\"\n",
        "    init_gain: 1.0\n",
        "    embed_initializer: \"xavier\"\n",
        "    embed_init_gain: 1.0\n",
        "    tied_embeddings: True\n",
        "    tied_softmax: True\n",
        "    encoder:\n",
        "        type: \"transformer\"\n",
        "        num_layers: 6\n",
        "        num_heads: 4             \n",
        "        embeddings:\n",
        "            embedding_dim: 256   \n",
        "            scale: True\n",
        "            dropout: 0.2\n",
        "        # typically ff_size = 4 x hidden_size\n",
        "        hidden_size: 256         \n",
        "        ff_size: 1024            \n",
        "        dropout: 0.3\n",
        "    decoder:\n",
        "        type: \"transformer\"\n",
        "        num_layers: 6\n",
        "        num_heads: 4              \n",
        "        embeddings:\n",
        "            embedding_dim: 256    \n",
        "            scale: True\n",
        "            dropout: 0.2\n",
        "        # typically ff_size = 4 x hidden_size\n",
        "        hidden_size: 256         \n",
        "        ff_size: 1024            \n",
        "        dropout: 0.3\n",
        "\"\"\".format(name=name, gdrive_path=os.environ[\"gdrive_path\"], source_language=source_language, target_language=target_language)\n",
        "with open(\"joeynmt/configs/transformer_reverse_{name}.yaml\".format(name=name),'w') as f:\n",
        "    f.write(config)\n"
      ],
      "execution_count": 16,
      "outputs": []
    },
    {
      "cell_type": "code",
      "metadata": {
        "colab": {
          "base_uri": "https://localhost:8080/"
        },
        "id": "umCeTzsc7XA7",
        "outputId": "aa2ab98b-85a3-4be9-84ab-14de5379cd88"
      },
      "source": [
        "# Train the model\n",
        "# You can press Ctrl-C to stop. And then run the next cell to save your checkpoints! \n",
        "!cd joeynmt; python3 -m joeynmt train configs/transformer_reverse_$tgt$src.yaml"
      ],
      "execution_count": 17,
      "outputs": [
        {
          "output_type": "stream",
          "name": "stdout",
          "text": [
            "2021-10-30 20:07:04,286 - INFO - root - Hello! This is Joey-NMT (version 1.3).\n",
            "2021-10-30 20:07:04,349 - INFO - joeynmt.data - Loading training data...\n",
            "2021-10-30 20:07:04,992 - INFO - joeynmt.data - Building vocabulary...\n",
            "2021-10-30 20:07:05,261 - INFO - joeynmt.data - Loading dev data...\n",
            "2021-10-30 20:07:05,274 - INFO - joeynmt.data - Loading test data...\n",
            "2021-10-30 20:07:05,436 - INFO - joeynmt.data - Data loaded.\n",
            "2021-10-30 20:07:05,437 - INFO - joeynmt.model - Building an encoder-decoder model...\n",
            "2021-10-30 20:07:05,863 - INFO - joeynmt.model - Enc-dec model built.\n",
            "2021-10-30 20:07:07,323 - INFO - joeynmt.training - Total params: 12135424\n",
            "2021-10-30 20:07:07,326 - WARNING - joeynmt.training - `keep_last_ckpts` option is outdated. Please use `keep_best_ckpts`, instead.\n",
            "2021-10-30 20:07:26,633 - INFO - joeynmt.helpers - cfg.name                           : xhen_reverse_transformer\n",
            "2021-10-30 20:07:26,633 - INFO - joeynmt.helpers - cfg.data.src                       : xh\n",
            "2021-10-30 20:07:26,633 - INFO - joeynmt.helpers - cfg.data.trg                       : en\n",
            "2021-10-30 20:07:26,633 - INFO - joeynmt.helpers - cfg.data.train                     : data/xhen/train.bpe\n",
            "2021-10-30 20:07:26,633 - INFO - joeynmt.helpers - cfg.data.dev                       : data/xhen/dev.bpe\n",
            "2021-10-30 20:07:26,633 - INFO - joeynmt.helpers - cfg.data.test                      : data/xhen/test.bpe\n",
            "2021-10-30 20:07:26,634 - INFO - joeynmt.helpers - cfg.data.level                     : bpe\n",
            "2021-10-30 20:07:26,634 - INFO - joeynmt.helpers - cfg.data.lowercase                 : False\n",
            "2021-10-30 20:07:26,634 - INFO - joeynmt.helpers - cfg.data.max_sent_length           : 100\n",
            "2021-10-30 20:07:26,634 - INFO - joeynmt.helpers - cfg.data.src_vocab                 : data/xhen/vocab.txt\n",
            "2021-10-30 20:07:26,634 - INFO - joeynmt.helpers - cfg.data.trg_vocab                 : data/xhen/vocab.txt\n",
            "2021-10-30 20:07:26,634 - INFO - joeynmt.helpers - cfg.testing.beam_size              : 5\n",
            "2021-10-30 20:07:26,634 - INFO - joeynmt.helpers - cfg.testing.alpha                  : 1.0\n",
            "2021-10-30 20:07:26,634 - INFO - joeynmt.helpers - cfg.training.random_seed           : 42\n",
            "2021-10-30 20:07:26,635 - INFO - joeynmt.helpers - cfg.training.optimizer             : adam\n",
            "2021-10-30 20:07:26,635 - INFO - joeynmt.helpers - cfg.training.normalization         : tokens\n",
            "2021-10-30 20:07:26,635 - INFO - joeynmt.helpers - cfg.training.adam_betas            : [0.9, 0.999]\n",
            "2021-10-30 20:07:26,635 - INFO - joeynmt.helpers - cfg.training.scheduling            : noam\n",
            "2021-10-30 20:07:26,635 - INFO - joeynmt.helpers - cfg.training.patience              : 5\n",
            "2021-10-30 20:07:26,635 - INFO - joeynmt.helpers - cfg.training.learning_rate_factor  : 0.5\n",
            "2021-10-30 20:07:26,635 - INFO - joeynmt.helpers - cfg.training.learning_rate_warmup  : 1000\n",
            "2021-10-30 20:07:26,635 - INFO - joeynmt.helpers - cfg.training.decrease_factor       : 0.9\n",
            "2021-10-30 20:07:26,636 - INFO - joeynmt.helpers - cfg.training.loss                  : crossentropy\n",
            "2021-10-30 20:07:26,636 - INFO - joeynmt.helpers - cfg.training.learning_rate         : 0.0003\n",
            "2021-10-30 20:07:26,636 - INFO - joeynmt.helpers - cfg.training.learning_rate_min     : 1e-08\n",
            "2021-10-30 20:07:26,636 - INFO - joeynmt.helpers - cfg.training.weight_decay          : 0.0\n",
            "2021-10-30 20:07:26,636 - INFO - joeynmt.helpers - cfg.training.label_smoothing       : 0.1\n",
            "2021-10-30 20:07:26,636 - INFO - joeynmt.helpers - cfg.training.batch_size            : 4096\n",
            "2021-10-30 20:07:26,636 - INFO - joeynmt.helpers - cfg.training.batch_type            : token\n",
            "2021-10-30 20:07:26,636 - INFO - joeynmt.helpers - cfg.training.eval_batch_size       : 3600\n",
            "2021-10-30 20:07:26,636 - INFO - joeynmt.helpers - cfg.training.eval_batch_type       : token\n",
            "2021-10-30 20:07:26,637 - INFO - joeynmt.helpers - cfg.training.batch_multiplier      : 1\n",
            "2021-10-30 20:07:26,637 - INFO - joeynmt.helpers - cfg.training.early_stopping_metric : ppl\n",
            "2021-10-30 20:07:26,637 - INFO - joeynmt.helpers - cfg.training.epochs                : 10\n",
            "2021-10-30 20:07:26,637 - INFO - joeynmt.helpers - cfg.training.validation_freq       : 1000\n",
            "2021-10-30 20:07:26,637 - INFO - joeynmt.helpers - cfg.training.logging_freq          : 100\n",
            "2021-10-30 20:07:26,637 - INFO - joeynmt.helpers - cfg.training.eval_metric           : bleu\n",
            "2021-10-30 20:07:26,638 - INFO - joeynmt.helpers - cfg.training.model_dir             : models/xhen_reverse_transformer\n",
            "2021-10-30 20:07:26,638 - INFO - joeynmt.helpers - cfg.training.overwrite             : True\n",
            "2021-10-30 20:07:26,638 - INFO - joeynmt.helpers - cfg.training.shuffle               : True\n",
            "2021-10-30 20:07:26,638 - INFO - joeynmt.helpers - cfg.training.use_cuda              : True\n",
            "2021-10-30 20:07:26,638 - INFO - joeynmt.helpers - cfg.training.max_output_length     : 100\n",
            "2021-10-30 20:07:26,638 - INFO - joeynmt.helpers - cfg.training.print_valid_sents     : [0, 1, 2, 3]\n",
            "2021-10-30 20:07:26,638 - INFO - joeynmt.helpers - cfg.training.keep_last_ckpts       : 3\n",
            "2021-10-30 20:07:26,638 - INFO - joeynmt.helpers - cfg.model.initializer              : xavier\n",
            "2021-10-30 20:07:26,639 - INFO - joeynmt.helpers - cfg.model.bias_initializer         : zeros\n",
            "2021-10-30 20:07:26,639 - INFO - joeynmt.helpers - cfg.model.init_gain                : 1.0\n",
            "2021-10-30 20:07:26,639 - INFO - joeynmt.helpers - cfg.model.embed_initializer        : xavier\n",
            "2021-10-30 20:07:26,639 - INFO - joeynmt.helpers - cfg.model.embed_init_gain          : 1.0\n",
            "2021-10-30 20:07:26,639 - INFO - joeynmt.helpers - cfg.model.tied_embeddings          : True\n",
            "2021-10-30 20:07:26,639 - INFO - joeynmt.helpers - cfg.model.tied_softmax             : True\n",
            "2021-10-30 20:07:26,639 - INFO - joeynmt.helpers - cfg.model.encoder.type             : transformer\n",
            "2021-10-30 20:07:26,640 - INFO - joeynmt.helpers - cfg.model.encoder.num_layers       : 6\n",
            "2021-10-30 20:07:26,640 - INFO - joeynmt.helpers - cfg.model.encoder.num_heads        : 4\n",
            "2021-10-30 20:07:26,640 - INFO - joeynmt.helpers - cfg.model.encoder.embeddings.embedding_dim : 256\n",
            "2021-10-30 20:07:26,640 - INFO - joeynmt.helpers - cfg.model.encoder.embeddings.scale : True\n",
            "2021-10-30 20:07:26,640 - INFO - joeynmt.helpers - cfg.model.encoder.embeddings.dropout : 0.2\n",
            "2021-10-30 20:07:26,640 - INFO - joeynmt.helpers - cfg.model.encoder.hidden_size      : 256\n",
            "2021-10-30 20:07:26,640 - INFO - joeynmt.helpers - cfg.model.encoder.ff_size          : 1024\n",
            "2021-10-30 20:07:26,640 - INFO - joeynmt.helpers - cfg.model.encoder.dropout          : 0.3\n",
            "2021-10-30 20:07:26,641 - INFO - joeynmt.helpers - cfg.model.decoder.type             : transformer\n",
            "2021-10-30 20:07:26,641 - INFO - joeynmt.helpers - cfg.model.decoder.num_layers       : 6\n",
            "2021-10-30 20:07:26,641 - INFO - joeynmt.helpers - cfg.model.decoder.num_heads        : 4\n",
            "2021-10-30 20:07:26,641 - INFO - joeynmt.helpers - cfg.model.decoder.embeddings.embedding_dim : 256\n",
            "2021-10-30 20:07:26,641 - INFO - joeynmt.helpers - cfg.model.decoder.embeddings.scale : True\n",
            "2021-10-30 20:07:26,641 - INFO - joeynmt.helpers - cfg.model.decoder.embeddings.dropout : 0.2\n",
            "2021-10-30 20:07:26,641 - INFO - joeynmt.helpers - cfg.model.decoder.hidden_size      : 256\n",
            "2021-10-30 20:07:26,641 - INFO - joeynmt.helpers - cfg.model.decoder.ff_size          : 1024\n",
            "2021-10-30 20:07:26,642 - INFO - joeynmt.helpers - cfg.model.decoder.dropout          : 0.3\n",
            "2021-10-30 20:07:26,642 - INFO - joeynmt.helpers - Data set sizes: \n",
            "\ttrain 45749,\n",
            "\tvalid 1000,\n",
            "\ttest 2711\n",
            "2021-10-30 20:07:26,642 - INFO - joeynmt.helpers - First training example:\n",
            "\t[SRC] K@@ uc@@ ety@@ iswa ukuba um@@ ise i-injini , nak@@ anj@@ ani kancinci kun@@ e s@@ iqhelo .\n",
            "\t[TRG] It is adv@@ is@@ able to st@@ op engines , however , a little later than us@@ ual .\n",
            "2021-10-30 20:07:26,642 - INFO - joeynmt.helpers - First 10 words (src): (0) <unk> (1) <pad> (2) <s> (3) </s> (4) . (5) the (6) , (7) of (8) a (9) to\n",
            "2021-10-30 20:07:26,642 - INFO - joeynmt.helpers - First 10 words (trg): (0) <unk> (1) <pad> (2) <s> (3) </s> (4) . (5) the (6) , (7) of (8) a (9) to\n",
            "2021-10-30 20:07:26,642 - INFO - joeynmt.helpers - Number of Src words (types): 4200\n",
            "2021-10-30 20:07:26,642 - INFO - joeynmt.helpers - Number of Trg words (types): 4200\n",
            "2021-10-30 20:07:26,643 - INFO - joeynmt.training - Model(\n",
            "\tencoder=TransformerEncoder(num_layers=6, num_heads=4),\n",
            "\tdecoder=TransformerDecoder(num_layers=6, num_heads=4),\n",
            "\tsrc_embed=Embeddings(embedding_dim=256, vocab_size=4200),\n",
            "\ttrg_embed=Embeddings(embedding_dim=256, vocab_size=4200))\n",
            "2021-10-30 20:07:26,647 - INFO - joeynmt.training - Train stats:\n",
            "\tdevice: cuda\n",
            "\tn_gpu: 1\n",
            "\t16-bits training: False\n",
            "\tgradient accumulation: 1\n",
            "\tbatch size per device: 4096\n",
            "\ttotal batch size (w. parallel & accumulation): 4096\n",
            "2021-10-30 20:07:26,647 - INFO - joeynmt.training - EPOCH 1\n",
            "2021-10-30 20:08:01,557 - INFO - joeynmt.training - Epoch   1, Step:      100, Batch Loss:     6.083482, Tokens per Sec:     3721, Lr: 0.000099\n",
            "2021-10-30 20:08:36,254 - INFO - joeynmt.training - Epoch   1, Step:      200, Batch Loss:     5.519787, Tokens per Sec:     3835, Lr: 0.000198\n",
            "2021-10-30 20:09:11,107 - INFO - joeynmt.training - Epoch   1, Step:      300, Batch Loss:     5.459889, Tokens per Sec:     3905, Lr: 0.000296\n",
            "2021-10-30 20:09:46,120 - INFO - joeynmt.training - Epoch   1, Step:      400, Batch Loss:     5.241068, Tokens per Sec:     3784, Lr: 0.000395\n",
            "2021-10-30 20:10:21,148 - INFO - joeynmt.training - Epoch   1, Step:      500, Batch Loss:     4.874321, Tokens per Sec:     3820, Lr: 0.000494\n",
            "2021-10-30 20:10:56,085 - INFO - joeynmt.training - Epoch   1, Step:      600, Batch Loss:     4.717834, Tokens per Sec:     3894, Lr: 0.000593\n",
            "2021-10-30 20:11:30,932 - INFO - joeynmt.training - Epoch   1, Step:      700, Batch Loss:     4.742465, Tokens per Sec:     3800, Lr: 0.000692\n",
            "2021-10-30 20:12:06,082 - INFO - joeynmt.training - Epoch   1, Step:      800, Batch Loss:     4.570010, Tokens per Sec:     3863, Lr: 0.000791\n",
            "2021-10-30 20:12:30,959 - INFO - joeynmt.training - Epoch   1: total training loss 4560.93\n",
            "2021-10-30 20:12:30,959 - INFO - joeynmt.training - EPOCH 2\n",
            "2021-10-30 20:12:40,806 - INFO - joeynmt.training - Epoch   2, Step:      900, Batch Loss:     4.342923, Tokens per Sec:     3714, Lr: 0.000889\n",
            "2021-10-30 20:13:15,635 - INFO - joeynmt.training - Epoch   2, Step:     1000, Batch Loss:     4.379757, Tokens per Sec:     3865, Lr: 0.000988\n",
            "2021-10-30 20:14:53,736 - WARNING - sacrebleu - That's 100 lines that end in a tokenized period ('.')\n",
            "2021-10-30 20:14:53,736 - WARNING - sacrebleu - It looks like you forgot to detokenize your test data, which may hurt your score.\n",
            "2021-10-30 20:14:53,737 - WARNING - sacrebleu - If you insist your data is detokenized, or don't care, you can suppress this message with the `force` parameter.\n",
            "2021-10-30 20:14:53,748 - INFO - joeynmt.training - Hooray! New best validation result [ppl]!\n",
            "2021-10-30 20:14:54,187 - INFO - joeynmt.training - Example #0\n",
            "2021-10-30 20:14:54,187 - INFO - joeynmt.training - \tSource:     153 . I-SART\n",
            "2021-10-30 20:14:54,188 - INFO - joeynmt.training - \tReference:  153 . SART\n",
            "2021-10-30 20:14:54,188 - INFO - joeynmt.training - \tHypothesis: SAOS .\n",
            "2021-10-30 20:14:54,188 - INFO - joeynmt.training - Example #1\n",
            "2021-10-30 20:14:54,188 - INFO - joeynmt.training - \tSource:     Oku kungabangela okanye kwamkeleke emlilweni ngoku lumeka .\n",
            "2021-10-30 20:14:54,188 - INFO - joeynmt.training - \tReference:  This could cause or allow the fire to reignite .\n",
            "2021-10-30 20:14:54,189 - INFO - joeynmt.training - \tHypothesis: This is then used to the ship is used to the ship .\n",
            "2021-10-30 20:14:54,189 - INFO - joeynmt.training - Example #2\n",
            "2021-10-30 20:14:54,189 - INFO - joeynmt.training - \tSource:     Kumele ukuba inqanawa zinesiqhubi esiphambili kwikqubo ekhawulezileyo .\n",
            "2021-10-30 20:14:54,189 - INFO - joeynmt.training - \tReference:  The details are required in order to refute or substantiate claims for loss or damage of gear subsequently made by the fishing vessels concerned .\n",
            "2021-10-30 20:14:54,189 - INFO - joeynmt.training - \tHypothesis: The ship is then then used to the ship 's ship 's ship 's ship 's ship 's ship 's ship .\n",
            "2021-10-30 20:14:54,189 - INFO - joeynmt.training - Example #3\n",
            "2021-10-30 20:14:54,190 - INFO - joeynmt.training - \tSource:     Imigonyetho ixhathise ngemiqadi enabela inqamleze inqanawe phakatbi kwefreyimci .\n",
            "2021-10-30 20:14:54,190 - INFO - joeynmt.training - \tReference:  Decks are supported by beams which extend athwartships between the frames .\n",
            "2021-10-30 20:14:54,190 - INFO - joeynmt.training - \tHypothesis: The ship is then used to the ship 's ship 's ship 's ship 's ship 's ship 's ship 's ship 's ship 's ship 's ship 's ship 's ship 's ship 's ship 's ship 's ship 's ship 's ship 's ship 's ship 's ship 's ship 's ship 's ship 's ship 's ship 's ship 's ship 's ship 's ship 's ship 's ship 's ship 's ship 's ship 's ship 's ship 's ship 's ship 's ship 's ship 's ship 's ship 's ship 's ship 's ship\n",
            "2021-10-30 20:14:54,190 - INFO - joeynmt.training - Validation result (greedy) at epoch   2, step     1000: bleu:   0.19, loss: 109041.1016, ppl:  73.9177, duration: 98.5553s\n",
            "2021-10-30 20:15:28,987 - INFO - joeynmt.training - Epoch   2, Step:     1100, Batch Loss:     4.380503, Tokens per Sec:     3850, Lr: 0.000942\n",
            "2021-10-30 20:16:03,822 - INFO - joeynmt.training - Epoch   2, Step:     1200, Batch Loss:     4.213771, Tokens per Sec:     3781, Lr: 0.000902\n",
            "2021-10-30 20:16:38,733 - INFO - joeynmt.training - Epoch   2, Step:     1300, Batch Loss:     4.217852, Tokens per Sec:     3838, Lr: 0.000867\n",
            "2021-10-30 20:17:13,526 - INFO - joeynmt.training - Epoch   2, Step:     1400, Batch Loss:     4.178963, Tokens per Sec:     3852, Lr: 0.000835\n",
            "2021-10-30 20:17:48,337 - INFO - joeynmt.training - Epoch   2, Step:     1500, Batch Loss:     3.981187, Tokens per Sec:     3908, Lr: 0.000807\n",
            "2021-10-30 20:18:23,111 - INFO - joeynmt.training - Epoch   2, Step:     1600, Batch Loss:     4.004461, Tokens per Sec:     3910, Lr: 0.000781\n",
            "2021-10-30 20:18:58,141 - INFO - joeynmt.training - Epoch   2, Step:     1700, Batch Loss:     3.958475, Tokens per Sec:     3818, Lr: 0.000758\n",
            "2021-10-30 20:19:12,701 - INFO - joeynmt.training - Epoch   2: total training loss 3612.18\n",
            "2021-10-30 20:19:12,702 - INFO - joeynmt.training - EPOCH 3\n",
            "2021-10-30 20:19:33,140 - INFO - joeynmt.training - Epoch   3, Step:     1800, Batch Loss:     3.833703, Tokens per Sec:     3812, Lr: 0.000737\n",
            "2021-10-30 20:20:07,994 - INFO - joeynmt.training - Epoch   3, Step:     1900, Batch Loss:     3.888029, Tokens per Sec:     3796, Lr: 0.000717\n",
            "2021-10-30 20:20:42,385 - INFO - joeynmt.training - Epoch   3, Step:     2000, Batch Loss:     3.672640, Tokens per Sec:     3902, Lr: 0.000699\n",
            "2021-10-30 20:21:40,976 - WARNING - sacrebleu - That's 100 lines that end in a tokenized period ('.')\n",
            "2021-10-30 20:21:40,976 - WARNING - sacrebleu - It looks like you forgot to detokenize your test data, which may hurt your score.\n",
            "2021-10-30 20:21:40,977 - WARNING - sacrebleu - If you insist your data is detokenized, or don't care, you can suppress this message with the `force` parameter.\n",
            "2021-10-30 20:21:40,982 - INFO - joeynmt.training - Hooray! New best validation result [ppl]!\n",
            "2021-10-30 20:21:41,406 - INFO - joeynmt.training - Example #0\n",
            "2021-10-30 20:21:41,407 - INFO - joeynmt.training - \tSource:     153 . I-SART\n",
            "2021-10-30 20:21:41,407 - INFO - joeynmt.training - \tReference:  153 . SART\n",
            "2021-10-30 20:21:41,407 - INFO - joeynmt.training - \tHypothesis: 11 . ( 2 )\n",
            "2021-10-30 20:21:41,408 - INFO - joeynmt.training - Example #1\n",
            "2021-10-30 20:21:41,408 - INFO - joeynmt.training - \tSource:     Oku kungabangela okanye kwamkeleke emlilweni ngoku lumeka .\n",
            "2021-10-30 20:21:41,408 - INFO - joeynmt.training - \tReference:  This could cause or allow the fire to reignite .\n",
            "2021-10-30 20:21:41,408 - INFO - joeynmt.training - \tHypothesis: This is used for a tug or a good tug .\n",
            "2021-10-30 20:21:41,409 - INFO - joeynmt.training - Example #2\n",
            "2021-10-30 20:21:41,409 - INFO - joeynmt.training - \tSource:     Kumele ukuba inqanawa zinesiqhubi esiphambili kwikqubo ekhawulezileyo .\n",
            "2021-10-30 20:21:41,409 - INFO - joeynmt.training - \tReference:  The details are required in order to refute or substantiate claims for loss or damage of gear subsequently made by the fishing vessels concerned .\n",
            "2021-10-30 20:21:41,409 - INFO - joeynmt.training - \tHypothesis: In the ship is not to be made in the ship 's side .\n",
            "2021-10-30 20:21:41,409 - INFO - joeynmt.training - Example #3\n",
            "2021-10-30 20:21:41,410 - INFO - joeynmt.training - \tSource:     Imigonyetho ixhathise ngemiqadi enabela inqamleze inqanawe phakatbi kwefreyimci .\n",
            "2021-10-30 20:21:41,410 - INFO - joeynmt.training - \tReference:  Decks are supported by beams which extend athwartships between the frames .\n",
            "2021-10-30 20:21:41,410 - INFO - joeynmt.training - \tHypothesis: The backs of the deck and the ship 's side , and the ship is not not not not the same time .\n",
            "2021-10-30 20:21:41,410 - INFO - joeynmt.training - Validation result (greedy) at epoch   3, step     2000: bleu:   1.57, loss: 93268.5078, ppl:  39.6677, duration: 59.0250s\n",
            "2021-10-30 20:22:16,346 - INFO - joeynmt.training - Epoch   3, Step:     2100, Batch Loss:     3.670644, Tokens per Sec:     3862, Lr: 0.000682\n",
            "2021-10-30 20:22:51,387 - INFO - joeynmt.training - Epoch   3, Step:     2200, Batch Loss:     3.721590, Tokens per Sec:     3762, Lr: 0.000666\n",
            "2021-10-30 20:23:26,726 - INFO - joeynmt.training - Epoch   3, Step:     2300, Batch Loss:     3.762685, Tokens per Sec:     3838, Lr: 0.000652\n",
            "2021-10-30 20:24:01,781 - INFO - joeynmt.training - Epoch   3, Step:     2400, Batch Loss:     3.717440, Tokens per Sec:     3827, Lr: 0.000638\n",
            "2021-10-30 20:24:36,201 - INFO - joeynmt.training - Epoch   3, Step:     2500, Batch Loss:     3.626453, Tokens per Sec:     3877, Lr: 0.000625\n",
            "2021-10-30 20:25:10,955 - INFO - joeynmt.training - Epoch   3, Step:     2600, Batch Loss:     3.632940, Tokens per Sec:     3910, Lr: 0.000613\n",
            "2021-10-30 20:25:15,368 - INFO - joeynmt.training - Epoch   3: total training loss 3248.63\n",
            "2021-10-30 20:25:15,368 - INFO - joeynmt.training - EPOCH 4\n",
            "2021-10-30 20:25:46,063 - INFO - joeynmt.training - Epoch   4, Step:     2700, Batch Loss:     3.582168, Tokens per Sec:     3852, Lr: 0.000601\n",
            "2021-10-30 20:26:20,902 - INFO - joeynmt.training - Epoch   4, Step:     2800, Batch Loss:     3.498535, Tokens per Sec:     3758, Lr: 0.000591\n",
            "2021-10-30 20:26:55,668 - INFO - joeynmt.training - Epoch   4, Step:     2900, Batch Loss:     3.470539, Tokens per Sec:     3822, Lr: 0.000580\n",
            "2021-10-30 20:27:30,426 - INFO - joeynmt.training - Epoch   4, Step:     3000, Batch Loss:     3.458661, Tokens per Sec:     3886, Lr: 0.000571\n",
            "2021-10-30 20:28:33,365 - WARNING - sacrebleu - That's 100 lines that end in a tokenized period ('.')\n",
            "2021-10-30 20:28:33,366 - WARNING - sacrebleu - It looks like you forgot to detokenize your test data, which may hurt your score.\n",
            "2021-10-30 20:28:33,366 - WARNING - sacrebleu - If you insist your data is detokenized, or don't care, you can suppress this message with the `force` parameter.\n",
            "2021-10-30 20:28:33,372 - INFO - joeynmt.training - Hooray! New best validation result [ppl]!\n",
            "2021-10-30 20:28:33,779 - INFO - joeynmt.training - Example #0\n",
            "2021-10-30 20:28:33,780 - INFO - joeynmt.training - \tSource:     153 . I-SART\n",
            "2021-10-30 20:28:33,780 - INFO - joeynmt.training - \tReference:  153 . SART\n",
            "2021-10-30 20:28:33,780 - INFO - joeynmt.training - \tHypothesis: 13 .\n",
            "2021-10-30 20:28:33,780 - INFO - joeynmt.training - Example #1\n",
            "2021-10-30 20:28:33,780 - INFO - joeynmt.training - \tSource:     Oku kungabangela okanye kwamkeleke emlilweni ngoku lumeka .\n",
            "2021-10-30 20:28:33,780 - INFO - joeynmt.training - \tReference:  This could cause or allow the fire to reignite .\n",
            "2021-10-30 20:28:33,780 - INFO - joeynmt.training - \tHypothesis: This is because the wind or the care not not not not not not reached .\n",
            "2021-10-30 20:28:33,781 - INFO - joeynmt.training - Example #2\n",
            "2021-10-30 20:28:33,781 - INFO - joeynmt.training - \tSource:     Kumele ukuba inqanawa zinesiqhubi esiphambili kwikqubo ekhawulezileyo .\n",
            "2021-10-30 20:28:33,781 - INFO - joeynmt.training - \tReference:  The details are required in order to refute or substantiate claims for loss or damage of gear subsequently made by the fishing vessels concerned .\n",
            "2021-10-30 20:28:33,781 - INFO - joeynmt.training - \tHypothesis: In the ship is to be a boat 's boat 's engine and the boat .\n",
            "2021-10-30 20:28:33,781 - INFO - joeynmt.training - Example #3\n",
            "2021-10-30 20:28:33,782 - INFO - joeynmt.training - \tSource:     Imigonyetho ixhathise ngemiqadi enabela inqamleze inqanawe phakatbi kwefreyimci .\n",
            "2021-10-30 20:28:33,782 - INFO - joeynmt.training - \tReference:  Decks are supported by beams which extend athwartships between the frames .\n",
            "2021-10-30 20:28:33,782 - INFO - joeynmt.training - \tHypothesis: The upper deck is then fitted with the hull and the ship 's side of the ship 's side .\n",
            "2021-10-30 20:28:33,782 - INFO - joeynmt.training - Validation result (greedy) at epoch   4, step     3000: bleu:   2.32, loss: 85527.9141, ppl:  29.2266, duration: 63.3560s\n",
            "2021-10-30 20:29:08,617 - INFO - joeynmt.training - Epoch   4, Step:     3100, Batch Loss:     3.490348, Tokens per Sec:     3797, Lr: 0.000561\n",
            "2021-10-30 20:29:43,337 - INFO - joeynmt.training - Epoch   4, Step:     3200, Batch Loss:     3.508632, Tokens per Sec:     3832, Lr: 0.000552\n",
            "2021-10-30 20:30:17,856 - INFO - joeynmt.training - Epoch   4, Step:     3300, Batch Loss:     3.553926, Tokens per Sec:     3899, Lr: 0.000544\n",
            "2021-10-30 20:30:52,548 - INFO - joeynmt.training - Epoch   4, Step:     3400, Batch Loss:     3.412952, Tokens per Sec:     3873, Lr: 0.000536\n",
            "2021-10-30 20:31:22,757 - INFO - joeynmt.training - Epoch   4: total training loss 3052.18\n",
            "2021-10-30 20:31:22,758 - INFO - joeynmt.training - EPOCH 5\n",
            "2021-10-30 20:31:27,298 - INFO - joeynmt.training - Epoch   5, Step:     3500, Batch Loss:     3.399956, Tokens per Sec:     3777, Lr: 0.000528\n",
            "2021-10-30 20:32:02,061 - INFO - joeynmt.training - Epoch   5, Step:     3600, Batch Loss:     3.289763, Tokens per Sec:     3839, Lr: 0.000521\n",
            "2021-10-30 20:32:36,731 - INFO - joeynmt.training - Epoch   5, Step:     3700, Batch Loss:     3.360067, Tokens per Sec:     3824, Lr: 0.000514\n",
            "2021-10-30 20:33:11,426 - INFO - joeynmt.training - Epoch   5, Step:     3800, Batch Loss:     3.374746, Tokens per Sec:     3891, Lr: 0.000507\n",
            "2021-10-30 20:33:46,260 - INFO - joeynmt.training - Epoch   5, Step:     3900, Batch Loss:     3.316361, Tokens per Sec:     3803, Lr: 0.000500\n",
            "2021-10-30 20:34:21,025 - INFO - joeynmt.training - Epoch   5, Step:     4000, Batch Loss:     3.213171, Tokens per Sec:     3855, Lr: 0.000494\n",
            "2021-10-30 20:35:12,867 - WARNING - sacrebleu - That's 100 lines that end in a tokenized period ('.')\n",
            "2021-10-30 20:35:12,867 - WARNING - sacrebleu - It looks like you forgot to detokenize your test data, which may hurt your score.\n",
            "2021-10-30 20:35:12,868 - WARNING - sacrebleu - If you insist your data is detokenized, or don't care, you can suppress this message with the `force` parameter.\n",
            "2021-10-30 20:35:12,878 - INFO - joeynmt.training - Hooray! New best validation result [ppl]!\n",
            "2021-10-30 20:35:13,302 - INFO - joeynmt.helpers - delete models/xhen_reverse_transformer/1000.ckpt\n",
            "2021-10-30 20:35:13,322 - INFO - joeynmt.training - Example #0\n",
            "2021-10-30 20:35:13,323 - INFO - joeynmt.training - \tSource:     153 . I-SART\n",
            "2021-10-30 20:35:13,323 - INFO - joeynmt.training - \tReference:  153 . SART\n",
            "2021-10-30 20:35:13,323 - INFO - joeynmt.training - \tHypothesis: 14 . TOF\n",
            "2021-10-30 20:35:13,323 - INFO - joeynmt.training - Example #1\n",
            "2021-10-30 20:35:13,323 - INFO - joeynmt.training - \tSource:     Oku kungabangela okanye kwamkeleke emlilweni ngoku lumeka .\n",
            "2021-10-30 20:35:13,323 - INFO - joeynmt.training - \tReference:  This could cause or allow the fire to reignite .\n",
            "2021-10-30 20:35:13,323 - INFO - joeynmt.training - \tHypothesis: This is because the tide or the tide is not not very much more than the tide .\n",
            "2021-10-30 20:35:13,324 - INFO - joeynmt.training - Example #2\n",
            "2021-10-30 20:35:13,324 - INFO - joeynmt.training - \tSource:     Kumele ukuba inqanawa zinesiqhubi esiphambili kwikqubo ekhawulezileyo .\n",
            "2021-10-30 20:35:13,324 - INFO - joeynmt.training - \tReference:  The details are required in order to refute or substantiate claims for loss or damage of gear subsequently made by the fishing vessels concerned .\n",
            "2021-10-30 20:35:13,324 - INFO - joeynmt.training - \tHypothesis: In order to keep the stern of the propeller .\n",
            "2021-10-30 20:35:13,324 - INFO - joeynmt.training - Example #3\n",
            "2021-10-30 20:35:13,324 - INFO - joeynmt.training - \tSource:     Imigonyetho ixhathise ngemiqadi enabela inqamleze inqanawe phakatbi kwefreyimci .\n",
            "2021-10-30 20:35:13,324 - INFO - joeynmt.training - \tReference:  Decks are supported by beams which extend athwartships between the frames .\n",
            "2021-10-30 20:35:13,325 - INFO - joeynmt.training - \tHypothesis: The upper deck is the forward and the stern of the ship 's side .\n",
            "2021-10-30 20:35:13,325 - INFO - joeynmt.training - Validation result (greedy) at epoch   5, step     4000: bleu:   3.60, loss: 80839.1484, ppl:  24.2897, duration: 52.2994s\n",
            "2021-10-30 20:35:47,495 - INFO - joeynmt.training - Epoch   5, Step:     4100, Batch Loss:     3.249196, Tokens per Sec:     3896, Lr: 0.000488\n",
            "2021-10-30 20:36:22,201 - INFO - joeynmt.training - Epoch   5, Step:     4200, Batch Loss:     3.205489, Tokens per Sec:     3816, Lr: 0.000482\n",
            "2021-10-30 20:36:56,872 - INFO - joeynmt.training - Epoch   5, Step:     4300, Batch Loss:     3.437944, Tokens per Sec:     3888, Lr: 0.000477\n",
            "2021-10-30 20:37:18,221 - INFO - joeynmt.training - Epoch   5: total training loss 2917.92\n",
            "2021-10-30 20:37:18,222 - INFO - joeynmt.training - EPOCH 6\n",
            "2021-10-30 20:37:31,020 - INFO - joeynmt.training - Epoch   6, Step:     4400, Batch Loss:     3.283921, Tokens per Sec:     3867, Lr: 0.000471\n",
            "2021-10-30 20:38:05,708 - INFO - joeynmt.training - Epoch   6, Step:     4500, Batch Loss:     3.250741, Tokens per Sec:     3810, Lr: 0.000466\n",
            "2021-10-30 20:38:40,355 - INFO - joeynmt.training - Epoch   6, Step:     4600, Batch Loss:     3.142713, Tokens per Sec:     3816, Lr: 0.000461\n",
            "2021-10-30 20:39:15,296 - INFO - joeynmt.training - Epoch   6, Step:     4700, Batch Loss:     3.195661, Tokens per Sec:     3895, Lr: 0.000456\n",
            "2021-10-30 20:39:50,050 - INFO - joeynmt.training - Epoch   6, Step:     4800, Batch Loss:     3.101444, Tokens per Sec:     3952, Lr: 0.000451\n",
            "2021-10-30 20:40:24,527 - INFO - joeynmt.training - Epoch   6, Step:     4900, Batch Loss:     3.204128, Tokens per Sec:     3846, Lr: 0.000446\n",
            "2021-10-30 20:40:59,013 - INFO - joeynmt.training - Epoch   6, Step:     5000, Batch Loss:     3.157361, Tokens per Sec:     3783, Lr: 0.000442\n",
            "2021-10-30 20:41:54,133 - WARNING - sacrebleu - That's 100 lines that end in a tokenized period ('.')\n",
            "2021-10-30 20:41:54,134 - WARNING - sacrebleu - It looks like you forgot to detokenize your test data, which may hurt your score.\n",
            "2021-10-30 20:41:54,134 - WARNING - sacrebleu - If you insist your data is detokenized, or don't care, you can suppress this message with the `force` parameter.\n",
            "2021-10-30 20:41:54,140 - INFO - joeynmt.training - Hooray! New best validation result [ppl]!\n",
            "2021-10-30 20:41:54,587 - INFO - joeynmt.helpers - delete models/xhen_reverse_transformer/2000.ckpt\n",
            "2021-10-30 20:41:54,608 - INFO - joeynmt.training - Example #0\n",
            "2021-10-30 20:41:54,608 - INFO - joeynmt.training - \tSource:     153 . I-SART\n",
            "2021-10-30 20:41:54,609 - INFO - joeynmt.training - \tReference:  153 . SART\n",
            "2021-10-30 20:41:54,609 - INFO - joeynmt.training - \tHypothesis: 14 . STAL\n",
            "2021-10-30 20:41:54,609 - INFO - joeynmt.training - Example #1\n",
            "2021-10-30 20:41:54,609 - INFO - joeynmt.training - \tSource:     Oku kungabangela okanye kwamkeleke emlilweni ngoku lumeka .\n",
            "2021-10-30 20:41:54,609 - INFO - joeynmt.training - \tReference:  This could cause or allow the fire to reignite .\n",
            "2021-10-30 20:41:54,609 - INFO - joeynmt.training - \tHypothesis: This is because the danger or the fire is not not brought to the cockpit .\n",
            "2021-10-30 20:41:54,609 - INFO - joeynmt.training - Example #2\n",
            "2021-10-30 20:41:54,610 - INFO - joeynmt.training - \tSource:     Kumele ukuba inqanawa zinesiqhubi esiphambili kwikqubo ekhawulezileyo .\n",
            "2021-10-30 20:41:54,610 - INFO - joeynmt.training - \tReference:  The details are required in order to refute or substantiate claims for loss or damage of gear subsequently made by the fishing vessels concerned .\n",
            "2021-10-30 20:41:54,610 - INFO - joeynmt.training - \tHypothesis: In order to be the propeller is the stern to the propeller .\n",
            "2021-10-30 20:41:54,610 - INFO - joeynmt.training - Example #3\n",
            "2021-10-30 20:41:54,610 - INFO - joeynmt.training - \tSource:     Imigonyetho ixhathise ngemiqadi enabela inqamleze inqanawe phakatbi kwefreyimci .\n",
            "2021-10-30 20:41:54,611 - INFO - joeynmt.training - \tReference:  Decks are supported by beams which extend athwartships between the frames .\n",
            "2021-10-30 20:41:54,611 - INFO - joeynmt.training - \tHypothesis: The big is the big and the big ship 's side .\n",
            "2021-10-30 20:41:54,611 - INFO - joeynmt.training - Validation result (greedy) at epoch   6, step     5000: bleu:   4.12, loss: 77384.5859, ppl:  21.1943, duration: 55.5970s\n",
            "2021-10-30 20:42:29,216 - INFO - joeynmt.training - Epoch   6, Step:     5100, Batch Loss:     3.027056, Tokens per Sec:     3809, Lr: 0.000438\n",
            "2021-10-30 20:43:03,909 - INFO - joeynmt.training - Epoch   6, Step:     5200, Batch Loss:     3.107924, Tokens per Sec:     3862, Lr: 0.000433\n",
            "2021-10-30 20:43:16,878 - INFO - joeynmt.training - Epoch   6: total training loss 2809.44\n",
            "2021-10-30 20:43:16,879 - INFO - joeynmt.training - EPOCH 7\n",
            "2021-10-30 20:43:38,407 - INFO - joeynmt.training - Epoch   7, Step:     5300, Batch Loss:     3.171821, Tokens per Sec:     3819, Lr: 0.000429\n",
            "2021-10-30 20:44:12,948 - INFO - joeynmt.training - Epoch   7, Step:     5400, Batch Loss:     3.114845, Tokens per Sec:     3941, Lr: 0.000425\n",
            "2021-10-30 20:44:47,828 - INFO - joeynmt.training - Epoch   7, Step:     5500, Batch Loss:     3.258389, Tokens per Sec:     3837, Lr: 0.000421\n",
            "2021-10-30 20:45:22,657 - INFO - joeynmt.training - Epoch   7, Step:     5600, Batch Loss:     3.047406, Tokens per Sec:     3809, Lr: 0.000418\n",
            "2021-10-30 20:45:57,435 - INFO - joeynmt.training - Epoch   7, Step:     5700, Batch Loss:     3.142052, Tokens per Sec:     3886, Lr: 0.000414\n",
            "2021-10-30 20:46:32,050 - INFO - joeynmt.training - Epoch   7, Step:     5800, Batch Loss:     3.136512, Tokens per Sec:     3846, Lr: 0.000410\n",
            "2021-10-30 20:47:06,785 - INFO - joeynmt.training - Epoch   7, Step:     5900, Batch Loss:     3.222504, Tokens per Sec:     3853, Lr: 0.000407\n",
            "2021-10-30 20:47:41,410 - INFO - joeynmt.training - Epoch   7, Step:     6000, Batch Loss:     3.078542, Tokens per Sec:     3777, Lr: 0.000403\n",
            "2021-10-30 20:48:37,821 - WARNING - sacrebleu - That's 100 lines that end in a tokenized period ('.')\n",
            "2021-10-30 20:48:37,821 - WARNING - sacrebleu - It looks like you forgot to detokenize your test data, which may hurt your score.\n",
            "2021-10-30 20:48:37,822 - WARNING - sacrebleu - If you insist your data is detokenized, or don't care, you can suppress this message with the `force` parameter.\n",
            "2021-10-30 20:48:37,828 - INFO - joeynmt.training - Hooray! New best validation result [ppl]!\n",
            "2021-10-30 20:48:38,244 - INFO - joeynmt.helpers - delete models/xhen_reverse_transformer/3000.ckpt\n",
            "2021-10-30 20:48:38,265 - INFO - joeynmt.training - Example #0\n",
            "2021-10-30 20:48:38,265 - INFO - joeynmt.training - \tSource:     153 . I-SART\n",
            "2021-10-30 20:48:38,265 - INFO - joeynmt.training - \tReference:  153 . SART\n",
            "2021-10-30 20:48:38,265 - INFO - joeynmt.training - \tHypothesis: 13 . STACK\n",
            "2021-10-30 20:48:38,265 - INFO - joeynmt.training - Example #1\n",
            "2021-10-30 20:48:38,266 - INFO - joeynmt.training - \tSource:     Oku kungabangela okanye kwamkeleke emlilweni ngoku lumeka .\n",
            "2021-10-30 20:48:38,266 - INFO - joeynmt.training - \tReference:  This could cause or allow the fire to reignite .\n",
            "2021-10-30 20:48:38,266 - INFO - joeynmt.training - \tHypothesis: This is because the fire is not impossible .\n",
            "2021-10-30 20:48:38,266 - INFO - joeynmt.training - Example #2\n",
            "2021-10-30 20:48:38,266 - INFO - joeynmt.training - \tSource:     Kumele ukuba inqanawa zinesiqhubi esiphambili kwikqubo ekhawulezileyo .\n",
            "2021-10-30 20:48:38,266 - INFO - joeynmt.training - \tReference:  The details are required in order to refute or substantiate claims for loss or damage of gear subsequently made by the fishing vessels concerned .\n",
            "2021-10-30 20:48:38,267 - INFO - joeynmt.training - \tHypothesis: In order to be the propeller is the stern of the rudder .\n",
            "2021-10-30 20:48:38,267 - INFO - joeynmt.training - Example #3\n",
            "2021-10-30 20:48:38,267 - INFO - joeynmt.training - \tSource:     Imigonyetho ixhathise ngemiqadi enabela inqamleze inqanawe phakatbi kwefreyimci .\n",
            "2021-10-30 20:48:38,267 - INFO - joeynmt.training - \tReference:  Decks are supported by beams which extend athwartships between the frames .\n",
            "2021-10-30 20:48:38,267 - INFO - joeynmt.training - \tHypothesis: The upper deck is the shaft of the ship 's side and the ship 's side .\n",
            "2021-10-30 20:48:38,267 - INFO - joeynmt.training - Validation result (greedy) at epoch   7, step     6000: bleu:   5.16, loss: 74894.3828, ppl:  19.2106, duration: 56.8570s\n",
            "2021-10-30 20:49:12,803 - INFO - joeynmt.training - Epoch   7, Step:     6100, Batch Loss:     2.988556, Tokens per Sec:     3853, Lr: 0.000400\n",
            "2021-10-30 20:49:17,007 - INFO - joeynmt.training - Epoch   7: total training loss 2723.39\n",
            "2021-10-30 20:49:17,007 - INFO - joeynmt.training - EPOCH 8\n",
            "2021-10-30 20:49:47,195 - INFO - joeynmt.training - Epoch   8, Step:     6200, Batch Loss:     3.153872, Tokens per Sec:     3778, Lr: 0.000397\n",
            "2021-10-30 20:50:21,852 - INFO - joeynmt.training - Epoch   8, Step:     6300, Batch Loss:     3.018283, Tokens per Sec:     3898, Lr: 0.000394\n",
            "2021-10-30 20:50:56,586 - INFO - joeynmt.training - Epoch   8, Step:     6400, Batch Loss:     2.951354, Tokens per Sec:     3744, Lr: 0.000391\n",
            "2021-10-30 20:51:31,500 - INFO - joeynmt.training - Epoch   8, Step:     6500, Batch Loss:     3.018554, Tokens per Sec:     3820, Lr: 0.000388\n",
            "2021-10-30 20:52:06,374 - INFO - joeynmt.training - Epoch   8, Step:     6600, Batch Loss:     3.058038, Tokens per Sec:     3755, Lr: 0.000385\n",
            "2021-10-30 20:52:41,298 - INFO - joeynmt.training - Epoch   8, Step:     6700, Batch Loss:     2.972967, Tokens per Sec:     3802, Lr: 0.000382\n",
            "2021-10-30 20:53:16,114 - INFO - joeynmt.training - Epoch   8, Step:     6800, Batch Loss:     2.907778, Tokens per Sec:     3876, Lr: 0.000379\n",
            "2021-10-30 20:53:50,798 - INFO - joeynmt.training - Epoch   8, Step:     6900, Batch Loss:     3.119585, Tokens per Sec:     3830, Lr: 0.000376\n",
            "2021-10-30 20:54:21,799 - INFO - joeynmt.training - Epoch   8: total training loss 2658.32\n",
            "2021-10-30 20:54:21,799 - INFO - joeynmt.training - EPOCH 9\n",
            "2021-10-30 20:54:25,757 - INFO - joeynmt.training - Epoch   9, Step:     7000, Batch Loss:     2.939897, Tokens per Sec:     3759, Lr: 0.000374\n",
            "2021-10-30 20:55:13,485 - WARNING - sacrebleu - That's 100 lines that end in a tokenized period ('.')\n",
            "2021-10-30 20:55:13,485 - WARNING - sacrebleu - It looks like you forgot to detokenize your test data, which may hurt your score.\n",
            "2021-10-30 20:55:13,485 - WARNING - sacrebleu - If you insist your data is detokenized, or don't care, you can suppress this message with the `force` parameter.\n",
            "2021-10-30 20:55:13,492 - INFO - joeynmt.training - Hooray! New best validation result [ppl]!\n",
            "2021-10-30 20:55:13,919 - INFO - joeynmt.helpers - delete models/xhen_reverse_transformer/4000.ckpt\n",
            "2021-10-30 20:55:13,945 - INFO - joeynmt.training - Example #0\n",
            "2021-10-30 20:55:13,945 - INFO - joeynmt.training - \tSource:     153 . I-SART\n",
            "2021-10-30 20:55:13,945 - INFO - joeynmt.training - \tReference:  153 . SART\n",
            "2021-10-30 20:55:13,945 - INFO - joeynmt.training - \tHypothesis: 13 . STER\n",
            "2021-10-30 20:55:13,946 - INFO - joeynmt.training - Example #1\n",
            "2021-10-30 20:55:13,946 - INFO - joeynmt.training - \tSource:     Oku kungabangela okanye kwamkeleke emlilweni ngoku lumeka .\n",
            "2021-10-30 20:55:13,946 - INFO - joeynmt.training - \tReference:  This could cause or allow the fire to reignite .\n",
            "2021-10-30 20:55:13,946 - INFO - joeynmt.training - \tHypothesis: This is because it is not possible to keep the fire .\n",
            "2021-10-30 20:55:13,946 - INFO - joeynmt.training - Example #2\n",
            "2021-10-30 20:55:13,946 - INFO - joeynmt.training - \tSource:     Kumele ukuba inqanawa zinesiqhubi esiphambili kwikqubo ekhawulezileyo .\n",
            "2021-10-30 20:55:13,947 - INFO - joeynmt.training - \tReference:  The details are required in order to refute or substantiate claims for loss or damage of gear subsequently made by the fishing vessels concerned .\n",
            "2021-10-30 20:55:13,947 - INFO - joeynmt.training - \tHypothesis: In order to ensure that the propeller is ahead of the propeller .\n",
            "2021-10-30 20:55:13,947 - INFO - joeynmt.training - Example #3\n",
            "2021-10-30 20:55:13,947 - INFO - joeynmt.training - \tSource:     Imigonyetho ixhathise ngemiqadi enabela inqamleze inqanawe phakatbi kwefreyimci .\n",
            "2021-10-30 20:55:13,947 - INFO - joeynmt.training - \tReference:  Decks are supported by beams which extend athwartships between the frames .\n",
            "2021-10-30 20:55:13,947 - INFO - joeynmt.training - \tHypothesis: The upper edge of the mast is the ship 's side and the ship 's side .\n",
            "2021-10-30 20:55:13,948 - INFO - joeynmt.training - Validation result (greedy) at epoch   9, step     7000: bleu:   5.78, loss: 72969.0625, ppl:  17.8051, duration: 48.1904s\n",
            "2021-10-30 20:55:48,562 - INFO - joeynmt.training - Epoch   9, Step:     7100, Batch Loss:     2.874321, Tokens per Sec:     3870, Lr: 0.000371\n",
            "2021-10-30 20:56:23,318 - INFO - joeynmt.training - Epoch   9, Step:     7200, Batch Loss:     2.940521, Tokens per Sec:     3862, Lr: 0.000368\n",
            "2021-10-30 20:56:58,372 - INFO - joeynmt.training - Epoch   9, Step:     7300, Batch Loss:     2.999492, Tokens per Sec:     3831, Lr: 0.000366\n",
            "2021-10-30 20:57:33,470 - INFO - joeynmt.training - Epoch   9, Step:     7400, Batch Loss:     2.957590, Tokens per Sec:     3917, Lr: 0.000363\n",
            "2021-10-30 20:58:08,069 - INFO - joeynmt.training - Epoch   9, Step:     7500, Batch Loss:     2.893090, Tokens per Sec:     3879, Lr: 0.000361\n",
            "2021-10-30 20:58:42,685 - INFO - joeynmt.training - Epoch   9, Step:     7600, Batch Loss:     3.044114, Tokens per Sec:     3892, Lr: 0.000358\n",
            "2021-10-30 20:59:17,667 - INFO - joeynmt.training - Epoch   9, Step:     7700, Batch Loss:     2.879042, Tokens per Sec:     3733, Lr: 0.000356\n",
            "2021-10-30 20:59:52,299 - INFO - joeynmt.training - Epoch   9, Step:     7800, Batch Loss:     2.873721, Tokens per Sec:     3817, Lr: 0.000354\n",
            "2021-10-30 21:00:13,358 - INFO - joeynmt.training - Epoch   9: total training loss 2585.41\n",
            "2021-10-30 21:00:13,359 - INFO - joeynmt.training - EPOCH 10\n",
            "2021-10-30 21:00:26,873 - INFO - joeynmt.training - Epoch  10, Step:     7900, Batch Loss:     2.855922, Tokens per Sec:     3781, Lr: 0.000352\n",
            "2021-10-30 21:01:01,705 - INFO - joeynmt.training - Epoch  10, Step:     8000, Batch Loss:     2.885174, Tokens per Sec:     3832, Lr: 0.000349\n",
            "2021-10-30 21:01:59,825 - WARNING - sacrebleu - That's 100 lines that end in a tokenized period ('.')\n",
            "2021-10-30 21:01:59,825 - WARNING - sacrebleu - It looks like you forgot to detokenize your test data, which may hurt your score.\n",
            "2021-10-30 21:01:59,825 - WARNING - sacrebleu - If you insist your data is detokenized, or don't care, you can suppress this message with the `force` parameter.\n",
            "2021-10-30 21:01:59,832 - INFO - joeynmt.training - Hooray! New best validation result [ppl]!\n",
            "2021-10-30 21:02:00,263 - INFO - joeynmt.helpers - delete models/xhen_reverse_transformer/5000.ckpt\n",
            "2021-10-30 21:02:00,282 - INFO - joeynmt.training - Example #0\n",
            "2021-10-30 21:02:00,282 - INFO - joeynmt.training - \tSource:     153 . I-SART\n",
            "2021-10-30 21:02:00,282 - INFO - joeynmt.training - \tReference:  153 . SART\n",
            "2021-10-30 21:02:00,282 - INFO - joeynmt.training - \tHypothesis: 13 . STECKER\n",
            "2021-10-30 21:02:00,282 - INFO - joeynmt.training - Example #1\n",
            "2021-10-30 21:02:00,283 - INFO - joeynmt.training - \tSource:     Oku kungabangela okanye kwamkeleke emlilweni ngoku lumeka .\n",
            "2021-10-30 21:02:00,283 - INFO - joeynmt.training - \tReference:  This could cause or allow the fire to reignite .\n",
            "2021-10-30 21:02:00,283 - INFO - joeynmt.training - \tHypothesis: This can be done by the danger of the fire or a fire .\n",
            "2021-10-30 21:02:00,283 - INFO - joeynmt.training - Example #2\n",
            "2021-10-30 21:02:00,283 - INFO - joeynmt.training - \tSource:     Kumele ukuba inqanawa zinesiqhubi esiphambili kwikqubo ekhawulezileyo .\n",
            "2021-10-30 21:02:00,283 - INFO - joeynmt.training - \tReference:  The details are required in order to refute or substantiate claims for loss or damage of gear subsequently made by the fishing vessels concerned .\n",
            "2021-10-30 21:02:00,284 - INFO - joeynmt.training - \tHypothesis: It is also that the ship is going ahead and the propeller is too fast .\n",
            "2021-10-30 21:02:00,284 - INFO - joeynmt.training - Example #3\n",
            "2021-10-30 21:02:00,284 - INFO - joeynmt.training - \tSource:     Imigonyetho ixhathise ngemiqadi enabela inqamleze inqanawe phakatbi kwefreyimci .\n",
            "2021-10-30 21:02:00,284 - INFO - joeynmt.training - \tReference:  Decks are supported by beams which extend athwartships between the frames .\n",
            "2021-10-30 21:02:00,284 - INFO - joeynmt.training - \tHypothesis: The bulwarks are then brought to the ship 's side .\n",
            "2021-10-30 21:02:00,284 - INFO - joeynmt.training - Validation result (greedy) at epoch  10, step     8000: bleu:   6.01, loss: 71347.2031, ppl:  16.7013, duration: 58.5786s\n",
            "2021-10-30 21:02:34,840 - INFO - joeynmt.training - Epoch  10, Step:     8100, Batch Loss:     2.956876, Tokens per Sec:     3850, Lr: 0.000347\n",
            "2021-10-30 21:03:09,453 - INFO - joeynmt.training - Epoch  10, Step:     8200, Batch Loss:     3.021714, Tokens per Sec:     3831, Lr: 0.000345\n",
            "2021-10-30 21:03:44,203 - INFO - joeynmt.training - Epoch  10, Step:     8300, Batch Loss:     2.738608, Tokens per Sec:     3833, Lr: 0.000343\n",
            "2021-10-30 21:04:19,076 - INFO - joeynmt.training - Epoch  10, Step:     8400, Batch Loss:     2.931631, Tokens per Sec:     3825, Lr: 0.000341\n",
            "2021-10-30 21:04:53,711 - INFO - joeynmt.training - Epoch  10, Step:     8500, Batch Loss:     2.827610, Tokens per Sec:     3801, Lr: 0.000339\n",
            "2021-10-30 21:05:28,402 - INFO - joeynmt.training - Epoch  10, Step:     8600, Batch Loss:     2.930889, Tokens per Sec:     3978, Lr: 0.000337\n",
            "2021-10-30 21:06:02,889 - INFO - joeynmt.training - Epoch  10, Step:     8700, Batch Loss:     2.768323, Tokens per Sec:     3760, Lr: 0.000335\n",
            "2021-10-30 21:06:15,648 - INFO - joeynmt.training - Epoch  10: total training loss 2546.72\n",
            "2021-10-30 21:06:15,648 - INFO - joeynmt.training - Training ended after  10 epochs.\n",
            "2021-10-30 21:06:15,648 - INFO - joeynmt.training - Best validation result (greedy) at step     8000:  16.70 ppl.\n",
            "2021-10-30 21:06:15,670 - INFO - joeynmt.prediction - Process device: cuda, n_gpu: 1, batch_size per device: 3600\n",
            "2021-10-30 21:06:15,670 - INFO - joeynmt.prediction - Loading model from models/xhen_reverse_transformer/8000.ckpt\n",
            "2021-10-30 21:06:15,874 - INFO - joeynmt.model - Building an encoder-decoder model...\n",
            "2021-10-30 21:06:16,107 - INFO - joeynmt.model - Enc-dec model built.\n",
            "2021-10-30 21:06:16,174 - INFO - joeynmt.prediction - Decoding on dev set (data/xhen/dev.bpe.en)...\n",
            "2021-10-30 21:08:01,744 - WARNING - sacrebleu - That's 100 lines that end in a tokenized period ('.')\n",
            "2021-10-30 21:08:01,745 - WARNING - sacrebleu - It looks like you forgot to detokenize your test data, which may hurt your score.\n",
            "2021-10-30 21:08:01,745 - WARNING - sacrebleu - If you insist your data is detokenized, or don't care, you can suppress this message with the `force` parameter.\n",
            "2021-10-30 21:08:01,750 - INFO - joeynmt.prediction -  dev bleu[13a]:   7.36 [Beam search decoding with beam size = 5 and alpha = 1.0]\n",
            "2021-10-30 21:08:01,750 - INFO - joeynmt.prediction - Translations saved to: models/xhen_reverse_transformer/00008000.hyps.dev\n",
            "2021-10-30 21:08:01,751 - INFO - joeynmt.prediction - Decoding on test set (data/xhen/test.bpe.en)...\n",
            "2021-10-30 21:13:33,756 - WARNING - sacrebleu - That's 100 lines that end in a tokenized period ('.')\n",
            "2021-10-30 21:13:33,757 - WARNING - sacrebleu - It looks like you forgot to detokenize your test data, which may hurt your score.\n",
            "2021-10-30 21:13:33,757 - WARNING - sacrebleu - If you insist your data is detokenized, or don't care, you can suppress this message with the `force` parameter.\n",
            "2021-10-30 21:13:33,770 - INFO - joeynmt.prediction - test bleu[13a]:   0.98 [Beam search decoding with beam size = 5 and alpha = 1.0]\n",
            "2021-10-30 21:13:33,772 - INFO - joeynmt.prediction - Translations saved to: models/xhen_reverse_transformer/00008000.hyps.test\n"
          ]
        }
      ]
    },
    {
      "cell_type": "code",
      "metadata": {
        "id": "Zr7zzMpEmCFA"
      },
      "source": [
        "# Copy the created models from the notebook storage to google drive for persistant storage \n",
        "!cp -r joeynmt/models/${tgt}${src}_reverse_transformer/ \"$gdrive_path/models/${tgt}${src}_reverse_transformer/\""
      ],
      "execution_count": 18,
      "outputs": []
    },
    {
      "cell_type": "code",
      "metadata": {
        "colab": {
          "base_uri": "https://localhost:8080/"
        },
        "id": "vx1eTU9umCuH",
        "outputId": "4cbf857d-7c1a-48c1-cb67-4e52bb1d51bf"
      },
      "source": [
        "# Output our validation accuracy\n",
        "! cat \"$gdrive_path/models/${tgt}${src}_reverse_transformer/${tgt}${src}_reverse_transformer/validations.txt\""
      ],
      "execution_count": 19,
      "outputs": [
        {
          "output_type": "stream",
          "name": "stdout",
          "text": [
            "Steps: 1000\tLoss: 109041.10156\tPPL: 73.91766\tbleu: 0.19118\tLR: 0.00098821\t*\n",
            "Steps: 2000\tLoss: 93268.50781\tPPL: 39.66772\tbleu: 1.56570\tLR: 0.00069877\t*\n",
            "Steps: 3000\tLoss: 85527.91406\tPPL: 29.22663\tbleu: 2.32087\tLR: 0.00057054\t*\n",
            "Steps: 4000\tLoss: 80839.14844\tPPL: 24.28973\tbleu: 3.60188\tLR: 0.00049411\t*\n",
            "Steps: 5000\tLoss: 77384.58594\tPPL: 21.19426\tbleu: 4.12418\tLR: 0.00044194\t*\n",
            "Steps: 6000\tLoss: 74894.38281\tPPL: 19.21061\tbleu: 5.16321\tLR: 0.00040344\t*\n",
            "Steps: 7000\tLoss: 72969.06250\tPPL: 17.80512\tbleu: 5.78062\tLR: 0.00037351\t*\n",
            "Steps: 8000\tLoss: 71347.20312\tPPL: 16.70127\tbleu: 6.01452\tLR: 0.00034939\t*\n"
          ]
        }
      ]
    },
    {
      "cell_type": "code",
      "metadata": {
        "colab": {
          "base_uri": "https://localhost:8080/"
        },
        "id": "TB8YB_ZKd-Go",
        "outputId": "f700a586-d83a-49aa-cd7b-56bc308fe69c"
      },
      "source": [
        "# Test our model\n",
        "! cd joeynmt; python3 -m joeynmt test \"$gdrive_path/models/${tgt}${src}_reverse_transformer/${tgt}${src}_reverse_transformer/config.yaml\""
      ],
      "execution_count": 20,
      "outputs": [
        {
          "output_type": "stream",
          "name": "stdout",
          "text": [
            "2021-10-30 21:13:39,934 - INFO - root - Hello! This is Joey-NMT (version 1.3).\n",
            "2021-10-30 21:13:39,935 - INFO - joeynmt.data - Building vocabulary...\n",
            "2021-10-30 21:13:40,194 - INFO - joeynmt.data - Loading dev data...\n",
            "2021-10-30 21:13:40,204 - INFO - joeynmt.data - Loading test data...\n",
            "2021-10-30 21:13:40,263 - INFO - joeynmt.data - Data loaded.\n",
            "2021-10-30 21:13:40,290 - INFO - joeynmt.prediction - Process device: cuda, n_gpu: 1, batch_size per device: 3600\n",
            "2021-10-30 21:13:40,291 - INFO - joeynmt.prediction - Loading model from models/xhen_reverse_transformer/best.ckpt\n",
            "2021-10-30 21:13:43,269 - INFO - joeynmt.model - Building an encoder-decoder model...\n",
            "2021-10-30 21:13:43,659 - INFO - joeynmt.model - Enc-dec model built.\n",
            "2021-10-30 21:13:43,738 - INFO - joeynmt.prediction - Decoding on dev set (data/xhen/dev.bpe.en)...\n",
            "2021-10-30 21:15:28,931 - WARNING - sacrebleu - That's 100 lines that end in a tokenized period ('.')\n",
            "2021-10-30 21:15:28,932 - WARNING - sacrebleu - It looks like you forgot to detokenize your test data, which may hurt your score.\n",
            "2021-10-30 21:15:28,932 - WARNING - sacrebleu - If you insist your data is detokenized, or don't care, you can suppress this message with the `force` parameter.\n",
            "2021-10-30 21:15:28,937 - INFO - joeynmt.prediction -  dev bleu[13a]:   7.36 [Beam search decoding with beam size = 5 and alpha = 1.0]\n",
            "2021-10-30 21:15:28,937 - INFO - joeynmt.prediction - Decoding on test set (data/xhen/test.bpe.en)...\n",
            "2021-10-30 21:21:00,859 - WARNING - sacrebleu - That's 100 lines that end in a tokenized period ('.')\n",
            "2021-10-30 21:21:00,859 - WARNING - sacrebleu - It looks like you forgot to detokenize your test data, which may hurt your score.\n",
            "2021-10-30 21:21:00,859 - WARNING - sacrebleu - If you insist your data is detokenized, or don't care, you can suppress this message with the `force` parameter.\n",
            "2021-10-30 21:21:00,872 - INFO - joeynmt.prediction - test bleu[13a]:   0.98 [Beam search decoding with beam size = 5 and alpha = 1.0]\n"
          ]
        }
      ]
    },
    {
      "cell_type": "code",
      "metadata": {
        "id": "8RwGhTxW_1iL",
        "colab": {
          "base_uri": "https://localhost:8080/"
        },
        "outputId": "75962823-7d50-47c4-c3ff-c26e599d7189"
      },
      "source": [
        "# Human eval test\n",
        "! cd joeynmt; touch my_input.txt\n",
        "! cd joeynmt; echo $'Esi sahluko sahlulwa - hlulwe kasixhenxe , zicalulwe ngokulandelayo' > my_input.txt\n",
        "! cd joeynmt; python3 -m joeynmt translate \"$gdrive_path/models/${tgt}${src}_reverse_transformer/${tgt}${src}_reverse_transformer/config.yaml\" < my_input.txt\n",
        "#! echo myinput.txt"
      ],
      "execution_count": 21,
      "outputs": [
        {
          "output_type": "stream",
          "name": "stdout",
          "text": [
            "2021-10-30 21:21:03,268 - INFO - root - Hello! This is Joey-NMT (version 1.3).\n",
            "2021-10-30 21:21:03,554 - INFO - joeynmt.prediction - Loading model from models/xhen_reverse_transformer/best.ckpt\n",
            "2021-10-30 21:21:05,979 - INFO - joeynmt.model - Building an encoder-decoder model...\n",
            "2021-10-30 21:21:06,254 - INFO - joeynmt.model - Enc-dec model built.\n",
            "This is a clockwise .\n"
          ]
        }
      ]
    },
    {
      "cell_type": "code",
      "metadata": {
        "id": "4E0LBTZyBPzT",
        "colab": {
          "base_uri": "https://localhost:8080/"
        },
        "outputId": "d16ce0bf-471f-4248-c4ad-b7ad7725359d"
      },
      "source": [
        "# Human eval test\n",
        "! cd joeynmt; touch my_input.txt\n",
        "! cd joeynmt; echo $'Ndilahlekelwe yi isingxobo' > my_input.txt\n",
        "! cd joeynmt; python3 -m joeynmt translate \"$gdrive_path/models/${tgt}${src}_reverse_transformer/${tgt}${src}_reverse_transformer/config.yaml\" < my_input.txt\n",
        "#! echo myinput.txt"
      ],
      "execution_count": 22,
      "outputs": [
        {
          "output_type": "stream",
          "name": "stdout",
          "text": [
            "2021-10-30 21:21:09,056 - INFO - root - Hello! This is Joey-NMT (version 1.3).\n",
            "2021-10-30 21:21:09,359 - INFO - joeynmt.prediction - Loading model from models/xhen_reverse_transformer/best.ckpt\n",
            "2021-10-30 21:21:11,839 - INFO - joeynmt.model - Building an encoder-decoder model...\n",
            "2021-10-30 21:21:12,132 - INFO - joeynmt.model - Enc-dec model built.\n",
            "Apparent .\n"
          ]
        }
      ]
    },
    {
      "cell_type": "code",
      "metadata": {
        "id": "U95HbfrPxhd7"
      },
      "source": [
        ""
      ],
      "execution_count": 22,
      "outputs": []
    }
  ]
}