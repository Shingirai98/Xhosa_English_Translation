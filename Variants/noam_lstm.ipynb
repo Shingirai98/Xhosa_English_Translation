{
  "nbformat": 4,
  "nbformat_minor": 0,
  "metadata": {
    "colab": {
      "name": "Copy of Xhosa<->English Translation.ipynb",
      "provenance": [],
      "authorship_tag": "ABX9TyPmElpkhEPuA84c1RA5hZhe",
      "include_colab_link": true
    },
    "kernelspec": {
      "name": "python3",
      "display_name": "Python 3"
    },
    "language_info": {
      "name": "python"
    },
    "accelerator": "GPU"
  },
  "cells": [
    {
      "cell_type": "markdown",
      "metadata": {
        "id": "view-in-github",
        "colab_type": "text"
      },
      "source": [
        "<a href=\"https://colab.research.google.com/github/Shingirai98/Xhosa_English_Translation/blob/main/noam_lstm.ipynb\" target=\"_parent\"><img src=\"https://colab.research.google.com/assets/colab-badge.svg\" alt=\"Open In Colab\"/></a>"
      ]
    },
    {
      "cell_type": "markdown",
      "metadata": {
        "id": "0yEFsvb0bX8T"
      },
      "source": [
        "Mount the drive to be used for storage of data"
      ]
    },
    {
      "cell_type": "code",
      "metadata": {
        "colab": {
          "base_uri": "https://localhost:8080/"
        },
        "id": "RROaiMCY0P1D",
        "outputId": "9b7d1553-cee3-420f-a69d-bed0871cc212"
      },
      "source": [
        "from google.colab import drive\n",
        "drive.mount('/content/drive')"
      ],
      "execution_count": 1,
      "outputs": [
        {
          "output_type": "stream",
          "name": "stdout",
          "text": [
            "Mounted at /content/drive\n"
          ]
        }
      ]
    },
    {
      "cell_type": "markdown",
      "metadata": {
        "id": "w9lQZ5hgbWN5"
      },
      "source": [
        "Setup source and target languages using the short hand from the JW300 JSON data"
      ]
    },
    {
      "cell_type": "code",
      "metadata": {
        "id": "azy86diBjeyT"
      },
      "source": [
        "# TODO: Set your source and target languages. Keep in mind, these traditionally use language codes as found here:\n",
        "# These will also become the suffix's of all vocab and corpus files used throughout\n",
        "import os\n",
        "source_language = \"en\"\n",
        "target_language = \"xh\" \n",
        "lc = False  # If True, lowercase the data.\n",
        "seed = 42  # Random seed for shuffling.\n",
        "tag = \"lstm\" # Give a unique name to your folder - this is to ensure you don't rewrite any models you've already submitted\n",
        "\n",
        "os.environ[\"src\"] = source_language # Sets them in bash as well, since we often use bash scripts\n",
        "os.environ[\"tgt\"] = target_language\n",
        "os.environ[\"tag\"] = tag\n",
        "\n",
        "# This will save it to a folder in our gdrive instead!\n",
        "!mkdir -p \"/content/drive/My Drive/m/$tgt-$src-$tag/models\"\n",
        "os.environ[\"gdrive_path\"] = \"/content/drive/My Drive/m/%s-%s-%s\" % (target_language, source_language, tag)"
      ],
      "execution_count": 2,
      "outputs": []
    },
    {
      "cell_type": "code",
      "metadata": {
        "colab": {
          "base_uri": "https://localhost:8080/"
        },
        "id": "G4dgTc-GoOvm",
        "outputId": "46f5a297-6544-4f1c-bea5-ca033626ea39"
      },
      "source": [
        "# confirm the availability of folder\n",
        "\n",
        "!echo $gdrive_path"
      ],
      "execution_count": 3,
      "outputs": [
        {
          "output_type": "stream",
          "name": "stdout",
          "text": [
            "/content/drive/My Drive/m/xh-en-lstm\n"
          ]
        }
      ]
    },
    {
      "cell_type": "code",
      "metadata": {
        "colab": {
          "base_uri": "https://localhost:8080/"
        },
        "id": "m5h1mMp1o-O5",
        "outputId": "e6f36e03-6955-40ad-dc45-dc9cf70863e9"
      },
      "source": [
        "# install the opus tools\n",
        "! pip install opustools-pkg"
      ],
      "execution_count": 4,
      "outputs": [
        {
          "output_type": "stream",
          "name": "stdout",
          "text": [
            "Collecting opustools-pkg\n",
            "  Downloading opustools_pkg-0.0.52-py3-none-any.whl (80 kB)\n",
            "\u001b[?25l\r\u001b[K     |████                            | 10 kB 20.2 MB/s eta 0:00:01\r\u001b[K     |████████                        | 20 kB 21.9 MB/s eta 0:00:01\r\u001b[K     |████████████▏                   | 30 kB 13.5 MB/s eta 0:00:01\r\u001b[K     |████████████████▏               | 40 kB 10.2 MB/s eta 0:00:01\r\u001b[K     |████████████████████▎           | 51 kB 5.1 MB/s eta 0:00:01\r\u001b[K     |████████████████████████▎       | 61 kB 5.4 MB/s eta 0:00:01\r\u001b[K     |████████████████████████████▎   | 71 kB 5.9 MB/s eta 0:00:01\r\u001b[K     |████████████████████████████████| 80 kB 4.1 MB/s \n",
            "\u001b[?25hInstalling collected packages: opustools-pkg\n",
            "Successfully installed opustools-pkg-0.0.52\n"
          ]
        }
      ]
    },
    {
      "cell_type": "code",
      "metadata": {
        "colab": {
          "base_uri": "https://localhost:8080/"
        },
        "id": "nLTDBzRbpMON",
        "outputId": "ad5033ab-694f-4955-9ae0-4155df6645fd"
      },
      "source": [
        "# Downloading our corpus\n",
        "! opus_read -d XhosaNavy -s $src -t $tgt -wm moses -w xhosanavy.$src xhosanavy.$tgt -q\n",
        "\n",
        "# extract the corpus file\n",
        "! gunzip XhosaNavy_latest_xml_$src-$tgt.xml.gz"
      ],
      "execution_count": 5,
      "outputs": [
        {
          "output_type": "stream",
          "name": "stdout",
          "text": [
            "\n",
            "Alignment file /proj/nlpl/data/OPUS/XhosaNavy/latest/xml/en-xh.xml.gz not found. The following files are available for downloading:\n",
            "\n",
            " 379 KB https://object.pouta.csc.fi/OPUS-XhosaNavy/v1/xml/en-xh.xml.gz\n",
            "  10 MB https://object.pouta.csc.fi/OPUS-XhosaNavy/v1/xml/en.zip\n",
            "   4 MB https://object.pouta.csc.fi/OPUS-XhosaNavy/v1/xml/xh.zip\n",
            "\n",
            "  14 MB Total size\n",
            "./XhosaNavy_latest_xml_en-xh.xml.gz ... 100% of 379 KB\n",
            "./XhosaNavy_latest_xml_en.zip ... 100% of 10 MB\n",
            "./XhosaNavy_latest_xml_xh.zip ... 100% of 4 MB\n"
          ]
        }
      ]
    },
    {
      "cell_type": "code",
      "metadata": {
        "colab": {
          "base_uri": "https://localhost:8080/"
        },
        "id": "VK10HwFNptkg",
        "outputId": "e1068e4f-52dc-41f8-ba5e-a390df8f9894"
      },
      "source": [
        "# Download the global test set.\n",
        "! wget https://raw.githubusercontent.com/juliakreutzer/masakhane/master/jw300_utils/test/test.en-any.en\n",
        "  \n",
        "# And the specific test set for this language pair.\n",
        "os.environ[\"trg\"] = target_language \n",
        "os.environ[\"src\"] = source_language \n",
        "\n",
        "! wget https://raw.githubusercontent.com/juliakreutzer/masakhane/master/jw300_utils/test/test.en-$trg.en \n",
        "! mv test.en-$trg.en test.en\n",
        "! wget https://raw.githubusercontent.com/juliakreutzer/masakhane/master/jw300_utils/test/test.en-$trg.$trg \n",
        "! mv test.en-$trg.$trg test.$trg"
      ],
      "execution_count": 6,
      "outputs": [
        {
          "output_type": "stream",
          "name": "stdout",
          "text": [
            "--2021-11-06 21:10:08--  https://raw.githubusercontent.com/juliakreutzer/masakhane/master/jw300_utils/test/test.en-any.en\n",
            "Resolving raw.githubusercontent.com (raw.githubusercontent.com)... 185.199.108.133, 185.199.109.133, 185.199.110.133, ...\n",
            "Connecting to raw.githubusercontent.com (raw.githubusercontent.com)|185.199.108.133|:443... connected.\n",
            "HTTP request sent, awaiting response... 200 OK\n",
            "Length: 277791 (271K) [text/plain]\n",
            "Saving to: ‘test.en-any.en’\n",
            "\n",
            "test.en-any.en      100%[===================>] 271.28K  --.-KB/s    in 0.03s   \n",
            "\n",
            "2021-11-06 21:10:08 (8.73 MB/s) - ‘test.en-any.en’ saved [277791/277791]\n",
            "\n",
            "--2021-11-06 21:10:08--  https://raw.githubusercontent.com/juliakreutzer/masakhane/master/jw300_utils/test/test.en-xh.en\n",
            "Resolving raw.githubusercontent.com (raw.githubusercontent.com)... 185.199.108.133, 185.199.109.133, 185.199.110.133, ...\n",
            "Connecting to raw.githubusercontent.com (raw.githubusercontent.com)|185.199.108.133|:443... connected.\n",
            "HTTP request sent, awaiting response... 200 OK\n",
            "Length: 206162 (201K) [text/plain]\n",
            "Saving to: ‘test.en-xh.en’\n",
            "\n",
            "test.en-xh.en       100%[===================>] 201.33K  --.-KB/s    in 0.02s   \n",
            "\n",
            "2021-11-06 21:10:08 (8.19 MB/s) - ‘test.en-xh.en’ saved [206162/206162]\n",
            "\n",
            "--2021-11-06 21:10:08--  https://raw.githubusercontent.com/juliakreutzer/masakhane/master/jw300_utils/test/test.en-xh.xh\n",
            "Resolving raw.githubusercontent.com (raw.githubusercontent.com)... 185.199.110.133, 185.199.108.133, 185.199.111.133, ...\n",
            "Connecting to raw.githubusercontent.com (raw.githubusercontent.com)|185.199.110.133|:443... connected.\n",
            "HTTP request sent, awaiting response... 200 OK\n",
            "Length: 211374 (206K) [text/plain]\n",
            "Saving to: ‘test.en-xh.xh’\n",
            "\n",
            "test.en-xh.xh       100%[===================>] 206.42K  --.-KB/s    in 0.03s   \n",
            "\n",
            "2021-11-06 21:10:09 (6.83 MB/s) - ‘test.en-xh.xh’ saved [211374/211374]\n",
            "\n"
          ]
        }
      ]
    },
    {
      "cell_type": "code",
      "metadata": {
        "colab": {
          "base_uri": "https://localhost:8080/"
        },
        "id": "BKbFyw8qrSnK",
        "outputId": "9da4d839-d936-48b0-8293-19a527b6e4fc"
      },
      "source": [
        "# Read the test data to filter from train and dev splits.\n",
        "# Store english portion in set for quick filtering checks.\n",
        "en_test_sents = set()\n",
        "filter_test_sents = \"test.en-any.en\"\n",
        "j = 0\n",
        "with open(filter_test_sents) as f:\n",
        "  for line in f:\n",
        "    en_test_sents.add(line.strip())\n",
        "    j += 1\n",
        "print('Loaded {} global test sentences to filter from the training/dev data.'.format(j))"
      ],
      "execution_count": 7,
      "outputs": [
        {
          "output_type": "stream",
          "name": "stdout",
          "text": [
            "Loaded 3571 global test sentences to filter from the training/dev data.\n"
          ]
        }
      ]
    },
    {
      "cell_type": "code",
      "metadata": {
        "colab": {
          "base_uri": "https://localhost:8080/",
          "height": 159
        },
        "id": "yCmVg7A_sC3O",
        "outputId": "1538d6cd-c7fc-4eff-ddf3-10220968e1d0"
      },
      "source": [
        "import pandas as pd\n",
        "\n",
        "# TMX file to dataframe\n",
        "source_file = 'xhosanavy.' + source_language\n",
        "target_file = 'xhosanavy.' + target_language\n",
        "\n",
        "source = []\n",
        "target = []\n",
        "skip_lines = []  # Collect the line numbers of the source portion to skip the same lines for the target portion.\n",
        "with open(source_file) as f:\n",
        "    for i, line in enumerate(f):\n",
        "        # Skip sentences that are contained in the test set.\n",
        "        if line.strip() not in en_test_sents:\n",
        "            source.append(line.strip())\n",
        "        else:\n",
        "            skip_lines.append(i)             \n",
        "with open(target_file) as f:\n",
        "    for j, line in enumerate(f):\n",
        "        # Only add to corpus if corresponding source was not skipped.\n",
        "        if j not in skip_lines:\n",
        "            target.append(line.strip())\n",
        "    \n",
        "print('Loaded data and skipped {}/{} lines since contained in test set.'.format(len(skip_lines), i))\n",
        "    \n",
        "df = pd.DataFrame(zip(source, target), columns=['source_sentence', 'target_sentence'])\n",
        "# if you get TypeError: data argument can't be an iterator is because of your zip version run this below\n",
        "#df = pd.DataFrame(list(zip(source, target)), columns=['source_sentence', 'target_sentence'])\n",
        "df.head(3)"
      ],
      "execution_count": 8,
      "outputs": [
        {
          "output_type": "stream",
          "name": "stdout",
          "text": [
            "Loaded data and skipped 1/50097 lines since contained in test set.\n"
          ]
        },
        {
          "output_type": "execute_result",
          "data": {
            "text/html": [
              "<div>\n",
              "<style scoped>\n",
              "    .dataframe tbody tr th:only-of-type {\n",
              "        vertical-align: middle;\n",
              "    }\n",
              "\n",
              "    .dataframe tbody tr th {\n",
              "        vertical-align: top;\n",
              "    }\n",
              "\n",
              "    .dataframe thead th {\n",
              "        text-align: right;\n",
              "    }\n",
              "</style>\n",
              "<table border=\"1\" class=\"dataframe\">\n",
              "  <thead>\n",
              "    <tr style=\"text-align: right;\">\n",
              "      <th></th>\n",
              "      <th>source_sentence</th>\n",
              "      <th>target_sentence</th>\n",
              "    </tr>\n",
              "  </thead>\n",
              "  <tbody>\n",
              "    <tr>\n",
              "      <th>0</th>\n",
              "      <td>Rope and its Usage</td>\n",
              "      <td>Intambo nomsebenzi ewenzayo .</td>\n",
              "    </tr>\n",
              "    <tr>\n",
              "      <th>1</th>\n",
              "      <td>In this chapter are described the various type...</td>\n",
              "      <td>Kwesi sahluko sixelelwa ngendindi zeentambo at...</td>\n",
              "    </tr>\n",
              "    <tr>\n",
              "      <th>2</th>\n",
              "      <td>The chapter has been divided into seven sectio...</td>\n",
              "      <td>Esi sahluko sahlulwa - hlulwe kasixhenxe , zic...</td>\n",
              "    </tr>\n",
              "  </tbody>\n",
              "</table>\n",
              "</div>"
            ],
            "text/plain": [
              "                                     source_sentence                                    target_sentence\n",
              "0                                 Rope and its Usage                      Intambo nomsebenzi ewenzayo .\n",
              "1  In this chapter are described the various type...  Kwesi sahluko sixelelwa ngendindi zeentambo at...\n",
              "2  The chapter has been divided into seven sectio...  Esi sahluko sahlulwa - hlulwe kasixhenxe , zic..."
            ]
          },
          "metadata": {},
          "execution_count": 8
        }
      ]
    },
    {
      "cell_type": "markdown",
      "metadata": {
        "id": "8ucF50K3zQPM"
      },
      "source": [
        "Preprocessing and Export"
      ]
    },
    {
      "cell_type": "code",
      "metadata": {
        "id": "__eSBoVBvaCR",
        "colab": {
          "base_uri": "https://localhost:8080/"
        },
        "outputId": "751a9cae-a8bf-431e-8f25-5eba327e5501"
      },
      "source": [
        "# drop duplicate translations\n",
        "df_pp = df.drop_duplicates()\n",
        "\n",
        "# drop conflicting translations\n",
        "# (this is optional and something that you might want to comment out \n",
        "# depending on the size of your corpus)\n",
        "df_pp.drop_duplicates(subset='source_sentence', inplace=True)\n",
        "df_pp.drop_duplicates(subset='target_sentence', inplace=True)\n",
        "\n",
        "# Shuffle the data to remove bias in dev set selection.\n",
        "df_pp = df_pp.sample(frac=1, random_state=seed).reset_index(drop=True)"
      ],
      "execution_count": 9,
      "outputs": [
        {
          "output_type": "stream",
          "name": "stderr",
          "text": [
            "/usr/local/lib/python3.7/dist-packages/ipykernel_launcher.py:7: SettingWithCopyWarning: \n",
            "A value is trying to be set on a copy of a slice from a DataFrame\n",
            "\n",
            "See the caveats in the documentation: https://pandas.pydata.org/pandas-docs/stable/user_guide/indexing.html#returning-a-view-versus-a-copy\n",
            "  import sys\n",
            "/usr/local/lib/python3.7/dist-packages/ipykernel_launcher.py:8: SettingWithCopyWarning: \n",
            "A value is trying to be set on a copy of a slice from a DataFrame\n",
            "\n",
            "See the caveats in the documentation: https://pandas.pydata.org/pandas-docs/stable/user_guide/indexing.html#returning-a-view-versus-a-copy\n",
            "  \n"
          ]
        }
      ]
    },
    {
      "cell_type": "markdown",
      "metadata": {
        "id": "qRebfZlF0-wn"
      },
      "source": [
        "Remove almost duplicate sentences in the test and training datasets"
      ]
    },
    {
      "cell_type": "code",
      "metadata": {
        "id": "qjpzlSEv1Fda",
        "colab": {
          "base_uri": "https://localhost:8080/"
        },
        "outputId": "11909422-f7c2-415c-f9c1-bc79750247af"
      },
      "source": [
        "# Install fuzzy wuzzy to remove \"almost duplicate\" sentences in the\n",
        "# test and training sets.\n",
        "! pip install fuzzywuzzy\n",
        "! pip install python-Levenshtein\n",
        "import time\n",
        "from fuzzywuzzy import process\n",
        "import numpy as np\n",
        "from os import cpu_count\n",
        "from functools import partial\n",
        "from multiprocessing import Pool\n",
        "\n",
        "\n",
        "# reset the index of the training set after previous filtering\n",
        "df_pp.reset_index(drop=False, inplace=True)\n",
        "\n",
        "# Remove samples from the training data set if they \"almost overlap\" with the\n",
        "# samples in the test set.\n",
        "\n",
        "# Filtering function. Adjust pad to narrow down the candidate matches to\n",
        "# within a certain length of characters of the given sample.\n",
        "def fuzzfilter(sample, candidates, pad):\n",
        "  candidates = [x for x in candidates if len(x) <= len(sample)+pad and len(x) >= len(sample)-pad] \n",
        "  if len(candidates) > 0:\n",
        "    return process.extractOne(sample, candidates)[1]\n",
        "  else:\n",
        "    return np.nan"
      ],
      "execution_count": 10,
      "outputs": [
        {
          "output_type": "stream",
          "name": "stdout",
          "text": [
            "Collecting fuzzywuzzy\n",
            "  Downloading fuzzywuzzy-0.18.0-py2.py3-none-any.whl (18 kB)\n",
            "Installing collected packages: fuzzywuzzy\n",
            "Successfully installed fuzzywuzzy-0.18.0\n",
            "Collecting python-Levenshtein\n",
            "  Downloading python-Levenshtein-0.12.2.tar.gz (50 kB)\n",
            "\u001b[K     |████████████████████████████████| 50 kB 3.1 MB/s \n",
            "\u001b[?25hRequirement already satisfied: setuptools in /usr/local/lib/python3.7/dist-packages (from python-Levenshtein) (57.4.0)\n",
            "Building wheels for collected packages: python-Levenshtein\n",
            "  Building wheel for python-Levenshtein (setup.py) ... \u001b[?25l\u001b[?25hdone\n",
            "  Created wheel for python-Levenshtein: filename=python_Levenshtein-0.12.2-cp37-cp37m-linux_x86_64.whl size=149861 sha256=d31994fbbbe02bec4eef42231d6926332479512e6d044910c86c14dc65349e27\n",
            "  Stored in directory: /root/.cache/pip/wheels/05/5f/ca/7c4367734892581bb5ff896f15027a932c551080b2abd3e00d\n",
            "Successfully built python-Levenshtein\n",
            "Installing collected packages: python-Levenshtein\n",
            "Successfully installed python-Levenshtein-0.12.2\n"
          ]
        }
      ]
    },
    {
      "cell_type": "markdown",
      "metadata": {
        "id": "zDD37_GmzO3n"
      },
      "source": [
        "Split between the train/dev for the parallel corpora them saves them as separate files\n"
      ]
    },
    {
      "cell_type": "code",
      "metadata": {
        "id": "FUlWNE5nhOXS"
      },
      "source": [
        "# start_time = time.time()\n",
        "# # ### iterating over pandas dataframe rows is not recomended, let use multi processing to apply the function\n",
        "\n",
        "# with Pool(cpu_count()-1) as pool:\n",
        "#     scores = pool.map(partial(fuzzfilter, candidates=list(en_test_sents), pad=5), df_pp['source_sentence'])\n",
        "# hours, rem = divmod(time.time() - start_time, 3600)\n",
        "# minutes, seconds = divmod(rem, 60)\n",
        "# print(\"done in {}h:{}min:{}seconds\".format(hours, minutes, seconds))\n",
        "\n",
        "# # Filter out \"almost overlapping samples\"\n",
        "# df_pp = df_pp.assign(scores=scores)\n",
        "# df_pp = df_pp[df_pp['scores'] < 95]"
      ],
      "execution_count": 11,
      "outputs": []
    },
    {
      "cell_type": "code",
      "metadata": {
        "id": "vZZ4pIQD1xJa",
        "colab": {
          "base_uri": "https://localhost:8080/"
        },
        "outputId": "2b81953d-8cbd-4339-da14-2f755bd8d62e"
      },
      "source": [
        "import csv\n",
        "\n",
        "# Do the split between dev/train and create parallel corpora\n",
        "num_dev_patterns = 1000\n",
        "\n",
        "# Optional: lower case the corpora - this will make it easier to generalize, but without proper casing.\n",
        "if lc:  # Julia: making lowercasing optional\n",
        "    df_pp[\"source_sentence\"] = df_pp[\"source_sentence\"].str.lower()\n",
        "    df_pp[\"target_sentence\"] = df_pp[\"target_sentence\"].str.lower()\n",
        "\n",
        "# Julia: test sets are already generated\n",
        "dev = df_pp.tail(num_dev_patterns) # Herman: Error in original\n",
        "stripped = df_pp.drop(df_pp.tail(num_dev_patterns).index)\n",
        "\n",
        "with open(\"train.\"+source_language, \"w\") as src_file, open(\"train.\"+target_language, \"w\") as trg_file:\n",
        "  for index, row in stripped.iterrows():\n",
        "    src_file.write(row[\"source_sentence\"]+\"\\n\")\n",
        "    trg_file.write(row[\"target_sentence\"]+\"\\n\")\n",
        "    \n",
        "with open(\"dev.\"+source_language, \"w\") as src_file, open(\"dev.\"+target_language, \"w\") as trg_file:\n",
        "  for index, row in dev.iterrows():\n",
        "    src_file.write(row[\"source_sentence\"]+\"\\n\")\n",
        "    trg_file.write(row[\"target_sentence\"]+\"\\n\")\n",
        "! head train.*\n",
        "! head dev.*"
      ],
      "execution_count": 12,
      "outputs": [
        {
          "output_type": "stream",
          "name": "stdout",
          "text": [
            "==> train.en <==\n",
            "It is advisable to stop engines , however , a little later than usual .\n",
            "Hermes , of the Highflyer class , was converted into a seaplane carrier just before the war .\n",
            "Countermine\n",
            "Even in the future , ships for the carriage of general cargo will not exceed a deadweight of 25,000 tons , with the majority having deadweights of about 12,000 to 15,000 tons .\n",
            "Their chief characteristic was speed .\n",
            "This naval strength declined a little after the war .\n",
            "He does not rebuke an inexperienced Officer of the Watch who occasionally calls him on some trivial pretext .\n",
            "For this remarkable instrument , could keep accurate time for a long period at sea despite changes of temperature and the motion of the vessel .\n",
            "To expedite the administration of a deceased 's estate , the following documents must be kept in a safe place .\n",
            "They are a type of portable walkway constructed of either wood or aluminium .\n",
            "\n",
            "==> train.xh <==\n",
            "Kucetyiswa ukuba umise i-injini , nakanjani kancinci kune siqhelo .\n",
            "Hermes ( isithunywa ) wodidi olunenjongo eziphakamileyo watshintshelwa kwinqwelo ntaka yolwandle ephathayo kanye phambi kwemfazwe .\n",
            "Ibhombu yokuzikhusela elwandle\n",
            "Nakubomi obuzayo , iinqanawa zokuthutha umthwalo jikelele azinakodlula ubunzima bomthuwalo wanqanawa wamashumi amabini anesihlanu amawaka eetoni , kwisininzi esinobunzima bomthwalo wenqanawa esinamalunga neshumi elinambini lamawaka ukuya kwishumi elinesihlanu seetoni .\n",
            "Eyona Nkosi iluphawu yayi sisantya .\n",
            "Oko komelela komkhosi waselwandle kehla kancinci emva kwemfazwe .\n",
            "Akalihlawuli igosa elingenamava nokumbiza kwenye yamampunge .\n",
            "Okukuqwalaseleka kwesisixhobo , kungagcina khuselekileyo ixesha elide behlala elwandle nangona bangamoshwa kukutshintsha kobushushu kunye neentshukumo zenqanawa .\n",
            "Ukukhawulezisa ukulawulwa komhlaba womfi ( kazi ) , la maxwebhu alandelayo kumele agcinwe kwindawo ekhuselekileyo .\n",
            "Kukho iintlobo eziphathekayo xa uhamba ezakhiwe ngamaplanga okanye ngohlobo lwesinyithi esimhlophe esilula esilushica .\n",
            "==> dev.en <==\n",
            "153 . SART\n",
            "This could cause or allow the fire to reignite .\n",
            "The details are required in order to refute or substantiate claims for loss or damage of gear subsequently made by the fishing vessels concerned .\n",
            "Decks are supported by beams which extend athwartships between the frames .\n",
            "Width is up to 50 miles .\n",
            "That part of a vessel where the planks begin to bend as they approach the stern .\n",
            "To unintentionally swing the ship around broadside to a wave .\n",
            "These were the Diadems of the late 1890s .\n",
            "99 . Radio repeater\n",
            "In practice , error can be calculated and applied in one 's head , but for reference it is always advisable to record the figures on the chart .\n",
            "\n",
            "==> dev.xh <==\n",
            "153 . I-SART\n",
            "Oku kungabangela okanye kwamkeleke emlilweni ngoku lumeka .\n",
            "Kumele ukuba inqanawa zinesiqhubi esiphambili kwikqubo ekhawulezileyo .\n",
            "Imigonyetho ixhathise ngemiqadi enabela inqamleze inqanawe phakatbi kwefreyimci .\n",
            "Ububanzi bumalunga neemayile ezingamashumi amahlanu .\n",
            "Indawo yesikhephe apho aqala khona amaplanga ukugoba njengoko efikelela kumva waso .\n",
            "Ukujikela inqanawe ngokungekho njongweni ngecala eliphezu kwamanzi ukuya kumaza .\n",
            "ZaziziDiadems zokuphela koo1980 .\n",
            "99 . Isiphithi sikanomathotholo\n",
            "Ekuziqhelaniseni , impazamo ingabalwa okanye isetyenziswe kwintloko , kodwa ukwenzela ukungalibeli okanye ukukhangela , kucetyiswa ukuba ubhale amanani kwitshati .\n"
          ]
        }
      ]
    },
    {
      "cell_type": "markdown",
      "metadata": {
        "id": "-vT1jHqGnLWS"
      },
      "source": [
        "## Installation of JoeyNMT\n",
        "This is a simple, minimal Neural Machine Translation package for learning and teaching"
      ]
    },
    {
      "cell_type": "code",
      "metadata": {
        "colab": {
          "base_uri": "https://localhost:8080/"
        },
        "id": "ndgKut6bmrmn",
        "outputId": "a9186ae2-4b94-4725-9fdf-dee633f462be"
      },
      "source": [
        "\n",
        "\n",
        "# Install JoeyNMT\n",
        "! git clone https://github.com/joeynmt/joeynmt.git\n",
        "! cd joeynmt; pip3 install .\n",
        "# Install Pytorch with GPU support v1.7.1.\n",
        "! pip3 install torch -f https://download.pytorch.org/whl/torch_stable.html"
      ],
      "execution_count": 13,
      "outputs": [
        {
          "output_type": "stream",
          "name": "stdout",
          "text": [
            "Cloning into 'joeynmt'...\n",
            "remote: Enumerating objects: 3224, done.\u001b[K\n",
            "remote: Counting objects: 100% (273/273), done.\u001b[K\n",
            "remote: Compressing objects: 100% (142/142), done.\u001b[K\n",
            "remote: Total 3224 (delta 155), reused 209 (delta 131), pack-reused 2951\u001b[K\n",
            "Receiving objects: 100% (3224/3224), 8.18 MiB | 16.15 MiB/s, done.\n",
            "Resolving deltas: 100% (2184/2184), done.\n",
            "Processing /content/joeynmt\n",
            "\u001b[33m  DEPRECATION: A future pip version will change local packages to be built in-place without first copying to a temporary directory. We recommend you use --use-feature=in-tree-build to test your packages with this new behavior before it becomes the default.\n",
            "   pip 21.3 will remove support for this functionality. You can find discussion regarding this at https://github.com/pypa/pip/issues/7555.\u001b[0m\n",
            "Requirement already satisfied: future in /usr/local/lib/python3.7/dist-packages (from joeynmt==1.3) (0.16.0)\n",
            "Requirement already satisfied: pillow in /usr/local/lib/python3.7/dist-packages (from joeynmt==1.3) (7.1.2)\n",
            "Requirement already satisfied: numpy>=1.19.5 in /usr/local/lib/python3.7/dist-packages (from joeynmt==1.3) (1.19.5)\n",
            "Requirement already satisfied: setuptools>=41.0.0 in /usr/local/lib/python3.7/dist-packages (from joeynmt==1.3) (57.4.0)\n",
            "Requirement already satisfied: torch>=1.9.0 in /usr/local/lib/python3.7/dist-packages (from joeynmt==1.3) (1.9.0+cu111)\n",
            "Requirement already satisfied: tensorboard>=1.15 in /usr/local/lib/python3.7/dist-packages (from joeynmt==1.3) (2.6.0)\n",
            "Requirement already satisfied: torchtext>=0.10.0 in /usr/local/lib/python3.7/dist-packages (from joeynmt==1.3) (0.10.0)\n",
            "Collecting sacrebleu>=2.0.0\n",
            "  Downloading sacrebleu-2.0.0-py3-none-any.whl (90 kB)\n",
            "\u001b[K     |████████████████████████████████| 90 kB 4.2 MB/s \n",
            "\u001b[?25hCollecting subword-nmt\n",
            "  Downloading subword_nmt-0.3.7-py2.py3-none-any.whl (26 kB)\n",
            "Requirement already satisfied: matplotlib in /usr/local/lib/python3.7/dist-packages (from joeynmt==1.3) (3.2.2)\n",
            "Requirement already satisfied: seaborn in /usr/local/lib/python3.7/dist-packages (from joeynmt==1.3) (0.11.2)\n",
            "Collecting pyyaml>=5.1\n",
            "  Downloading PyYAML-6.0-cp37-cp37m-manylinux_2_5_x86_64.manylinux1_x86_64.manylinux_2_12_x86_64.manylinux2010_x86_64.whl (596 kB)\n",
            "\u001b[K     |████████████████████████████████| 596 kB 32.5 MB/s \n",
            "\u001b[?25hCollecting pylint>=2.9.6\n",
            "  Downloading pylint-2.11.1-py3-none-any.whl (392 kB)\n",
            "\u001b[K     |████████████████████████████████| 392 kB 42.3 MB/s \n",
            "\u001b[?25hCollecting six==1.12\n",
            "  Downloading six-1.12.0-py2.py3-none-any.whl (10 kB)\n",
            "Collecting wrapt==1.11.1\n",
            "  Downloading wrapt-1.11.1.tar.gz (27 kB)\n",
            "Collecting typing-extensions>=3.10.0\n",
            "  Downloading typing_extensions-3.10.0.2-py3-none-any.whl (26 kB)\n",
            "Collecting astroid<2.9,>=2.8.0\n",
            "  Downloading astroid-2.8.4-py3-none-any.whl (246 kB)\n",
            "\u001b[K     |████████████████████████████████| 246 kB 46.0 MB/s \n",
            "\u001b[?25hCollecting platformdirs>=2.2.0\n",
            "  Downloading platformdirs-2.4.0-py3-none-any.whl (14 kB)\n",
            "Collecting mccabe<0.7,>=0.6\n",
            "  Downloading mccabe-0.6.1-py2.py3-none-any.whl (8.6 kB)\n",
            "Collecting isort<6,>=4.2.5\n",
            "  Downloading isort-5.10.0-py3-none-any.whl (103 kB)\n",
            "\u001b[K     |████████████████████████████████| 103 kB 51.2 MB/s \n",
            "\u001b[?25hRequirement already satisfied: toml>=0.7.1 in /usr/local/lib/python3.7/dist-packages (from pylint>=2.9.6->joeynmt==1.3) (0.10.2)\n",
            "Collecting typed-ast<1.5,>=1.4.0\n",
            "  Downloading typed_ast-1.4.3-cp37-cp37m-manylinux1_x86_64.whl (743 kB)\n",
            "\u001b[K     |████████████████████████████████| 743 kB 38.2 MB/s \n",
            "\u001b[?25hCollecting lazy-object-proxy>=1.4.0\n",
            "  Downloading lazy_object_proxy-1.6.0-cp37-cp37m-manylinux1_x86_64.whl (55 kB)\n",
            "\u001b[K     |████████████████████████████████| 55 kB 85 kB/s \n",
            "\u001b[?25hRequirement already satisfied: regex in /usr/local/lib/python3.7/dist-packages (from sacrebleu>=2.0.0->joeynmt==1.3) (2019.12.20)\n",
            "Collecting colorama\n",
            "  Downloading colorama-0.4.4-py2.py3-none-any.whl (16 kB)\n",
            "Collecting portalocker\n",
            "  Downloading portalocker-2.3.2-py2.py3-none-any.whl (15 kB)\n",
            "Requirement already satisfied: tabulate>=0.8.9 in /usr/local/lib/python3.7/dist-packages (from sacrebleu>=2.0.0->joeynmt==1.3) (0.8.9)\n",
            "Requirement already satisfied: google-auth-oauthlib<0.5,>=0.4.1 in /usr/local/lib/python3.7/dist-packages (from tensorboard>=1.15->joeynmt==1.3) (0.4.6)\n",
            "Requirement already satisfied: grpcio>=1.24.3 in /usr/local/lib/python3.7/dist-packages (from tensorboard>=1.15->joeynmt==1.3) (1.41.0)\n",
            "Requirement already satisfied: absl-py>=0.4 in /usr/local/lib/python3.7/dist-packages (from tensorboard>=1.15->joeynmt==1.3) (0.12.0)\n",
            "Requirement already satisfied: tensorboard-plugin-wit>=1.6.0 in /usr/local/lib/python3.7/dist-packages (from tensorboard>=1.15->joeynmt==1.3) (1.8.0)\n",
            "Requirement already satisfied: markdown>=2.6.8 in /usr/local/lib/python3.7/dist-packages (from tensorboard>=1.15->joeynmt==1.3) (3.3.4)\n",
            "Requirement already satisfied: google-auth<2,>=1.6.3 in /usr/local/lib/python3.7/dist-packages (from tensorboard>=1.15->joeynmt==1.3) (1.35.0)\n",
            "Requirement already satisfied: requests<3,>=2.21.0 in /usr/local/lib/python3.7/dist-packages (from tensorboard>=1.15->joeynmt==1.3) (2.23.0)\n",
            "Requirement already satisfied: tensorboard-data-server<0.7.0,>=0.6.0 in /usr/local/lib/python3.7/dist-packages (from tensorboard>=1.15->joeynmt==1.3) (0.6.1)\n",
            "Requirement already satisfied: wheel>=0.26 in /usr/local/lib/python3.7/dist-packages (from tensorboard>=1.15->joeynmt==1.3) (0.37.0)\n",
            "Requirement already satisfied: protobuf>=3.6.0 in /usr/local/lib/python3.7/dist-packages (from tensorboard>=1.15->joeynmt==1.3) (3.17.3)\n",
            "Requirement already satisfied: werkzeug>=0.11.15 in /usr/local/lib/python3.7/dist-packages (from tensorboard>=1.15->joeynmt==1.3) (1.0.1)\n",
            "Requirement already satisfied: rsa<5,>=3.1.4 in /usr/local/lib/python3.7/dist-packages (from google-auth<2,>=1.6.3->tensorboard>=1.15->joeynmt==1.3) (4.7.2)\n",
            "Requirement already satisfied: pyasn1-modules>=0.2.1 in /usr/local/lib/python3.7/dist-packages (from google-auth<2,>=1.6.3->tensorboard>=1.15->joeynmt==1.3) (0.2.8)\n",
            "Requirement already satisfied: cachetools<5.0,>=2.0.0 in /usr/local/lib/python3.7/dist-packages (from google-auth<2,>=1.6.3->tensorboard>=1.15->joeynmt==1.3) (4.2.4)\n",
            "Requirement already satisfied: requests-oauthlib>=0.7.0 in /usr/local/lib/python3.7/dist-packages (from google-auth-oauthlib<0.5,>=0.4.1->tensorboard>=1.15->joeynmt==1.3) (1.3.0)\n",
            "Requirement already satisfied: importlib-metadata in /usr/local/lib/python3.7/dist-packages (from markdown>=2.6.8->tensorboard>=1.15->joeynmt==1.3) (4.8.1)\n",
            "Requirement already satisfied: pyasn1<0.5.0,>=0.4.6 in /usr/local/lib/python3.7/dist-packages (from pyasn1-modules>=0.2.1->google-auth<2,>=1.6.3->tensorboard>=1.15->joeynmt==1.3) (0.4.8)\n",
            "Requirement already satisfied: idna<3,>=2.5 in /usr/local/lib/python3.7/dist-packages (from requests<3,>=2.21.0->tensorboard>=1.15->joeynmt==1.3) (2.10)\n",
            "Requirement already satisfied: certifi>=2017.4.17 in /usr/local/lib/python3.7/dist-packages (from requests<3,>=2.21.0->tensorboard>=1.15->joeynmt==1.3) (2021.5.30)\n",
            "Requirement already satisfied: urllib3!=1.25.0,!=1.25.1,<1.26,>=1.21.1 in /usr/local/lib/python3.7/dist-packages (from requests<3,>=2.21.0->tensorboard>=1.15->joeynmt==1.3) (1.24.3)\n",
            "Requirement already satisfied: chardet<4,>=3.0.2 in /usr/local/lib/python3.7/dist-packages (from requests<3,>=2.21.0->tensorboard>=1.15->joeynmt==1.3) (3.0.4)\n",
            "Requirement already satisfied: oauthlib>=3.0.0 in /usr/local/lib/python3.7/dist-packages (from requests-oauthlib>=0.7.0->google-auth-oauthlib<0.5,>=0.4.1->tensorboard>=1.15->joeynmt==1.3) (3.1.1)\n",
            "Requirement already satisfied: tqdm in /usr/local/lib/python3.7/dist-packages (from torchtext>=0.10.0->joeynmt==1.3) (4.62.3)\n",
            "Requirement already satisfied: zipp>=0.5 in /usr/local/lib/python3.7/dist-packages (from importlib-metadata->markdown>=2.6.8->tensorboard>=1.15->joeynmt==1.3) (3.6.0)\n",
            "Requirement already satisfied: pyparsing!=2.0.4,!=2.1.2,!=2.1.6,>=2.0.1 in /usr/local/lib/python3.7/dist-packages (from matplotlib->joeynmt==1.3) (2.4.7)\n",
            "Requirement already satisfied: python-dateutil>=2.1 in /usr/local/lib/python3.7/dist-packages (from matplotlib->joeynmt==1.3) (2.8.2)\n",
            "Requirement already satisfied: cycler>=0.10 in /usr/local/lib/python3.7/dist-packages (from matplotlib->joeynmt==1.3) (0.10.0)\n",
            "Requirement already satisfied: kiwisolver>=1.0.1 in /usr/local/lib/python3.7/dist-packages (from matplotlib->joeynmt==1.3) (1.3.2)\n",
            "Requirement already satisfied: scipy>=1.0 in /usr/local/lib/python3.7/dist-packages (from seaborn->joeynmt==1.3) (1.4.1)\n",
            "Requirement already satisfied: pandas>=0.23 in /usr/local/lib/python3.7/dist-packages (from seaborn->joeynmt==1.3) (1.1.5)\n",
            "Requirement already satisfied: pytz>=2017.2 in /usr/local/lib/python3.7/dist-packages (from pandas>=0.23->seaborn->joeynmt==1.3) (2018.9)\n",
            "Building wheels for collected packages: joeynmt, wrapt\n",
            "  Building wheel for joeynmt (setup.py) ... \u001b[?25l\u001b[?25hdone\n",
            "  Created wheel for joeynmt: filename=joeynmt-1.3-py3-none-any.whl size=86029 sha256=9d2d95e765d507997af6c3955402aa397f95c87cfe78921d677b9f846ec87cf8\n",
            "  Stored in directory: /tmp/pip-ephem-wheel-cache-y6yilku0/wheels/0a/f4/bf/6c9d3b8efbfece6cd209f865be37382b02e7c3584df2e28ca4\n",
            "  Building wheel for wrapt (setup.py) ... \u001b[?25l\u001b[?25hdone\n",
            "  Created wheel for wrapt: filename=wrapt-1.11.1-cp37-cp37m-linux_x86_64.whl size=68450 sha256=c8541f167cab11d28641f56e4c763003168723da45992ac34f2f7a16754ee6a9\n",
            "  Stored in directory: /root/.cache/pip/wheels/4e/58/9d/da8bad4545585ca52311498ff677647c95c7b690b3040171f8\n",
            "Successfully built joeynmt wrapt\n",
            "Installing collected packages: typing-extensions, six, wrapt, typed-ast, lazy-object-proxy, portalocker, platformdirs, mccabe, isort, colorama, astroid, subword-nmt, sacrebleu, pyyaml, pylint, joeynmt\n",
            "  Attempting uninstall: typing-extensions\n",
            "    Found existing installation: typing-extensions 3.7.4.3\n",
            "    Uninstalling typing-extensions-3.7.4.3:\n",
            "      Successfully uninstalled typing-extensions-3.7.4.3\n",
            "  Attempting uninstall: six\n",
            "    Found existing installation: six 1.15.0\n",
            "    Uninstalling six-1.15.0:\n",
            "      Successfully uninstalled six-1.15.0\n",
            "  Attempting uninstall: wrapt\n",
            "    Found existing installation: wrapt 1.12.1\n",
            "    Uninstalling wrapt-1.12.1:\n",
            "      Successfully uninstalled wrapt-1.12.1\n",
            "  Attempting uninstall: pyyaml\n",
            "    Found existing installation: PyYAML 3.13\n",
            "    Uninstalling PyYAML-3.13:\n",
            "      Successfully uninstalled PyYAML-3.13\n",
            "\u001b[31mERROR: pip's dependency resolver does not currently take into account all the packages that are installed. This behaviour is the source of the following dependency conflicts.\n",
            "tensorflow 2.6.0 requires six~=1.15.0, but you have six 1.12.0 which is incompatible.\n",
            "tensorflow 2.6.0 requires typing-extensions~=3.7.4, but you have typing-extensions 3.10.0.2 which is incompatible.\n",
            "tensorflow 2.6.0 requires wrapt~=1.12.1, but you have wrapt 1.11.1 which is incompatible.\n",
            "google-colab 1.0.0 requires six~=1.15.0, but you have six 1.12.0 which is incompatible.\n",
            "google-api-python-client 1.12.8 requires six<2dev,>=1.13.0, but you have six 1.12.0 which is incompatible.\n",
            "google-api-core 1.26.3 requires six>=1.13.0, but you have six 1.12.0 which is incompatible.\n",
            "datascience 0.10.6 requires folium==0.2.1, but you have folium 0.8.3 which is incompatible.\n",
            "albumentations 0.1.12 requires imgaug<0.2.7,>=0.2.5, but you have imgaug 0.2.9 which is incompatible.\u001b[0m\n",
            "Successfully installed astroid-2.8.4 colorama-0.4.4 isort-5.10.0 joeynmt-1.3 lazy-object-proxy-1.6.0 mccabe-0.6.1 platformdirs-2.4.0 portalocker-2.3.2 pylint-2.11.1 pyyaml-6.0 sacrebleu-2.0.0 six-1.12.0 subword-nmt-0.3.7 typed-ast-1.4.3 typing-extensions-3.10.0.2 wrapt-1.11.1\n",
            "Looking in links: https://download.pytorch.org/whl/torch_stable.html\n",
            "Requirement already satisfied: torch in /usr/local/lib/python3.7/dist-packages (1.9.0+cu111)\n",
            "Requirement already satisfied: typing-extensions in /usr/local/lib/python3.7/dist-packages (from torch) (3.10.0.2)\n"
          ]
        }
      ]
    },
    {
      "cell_type": "markdown",
      "metadata": {
        "id": "v8pDGN3RnKHS"
      },
      "source": [
        "##Preprocessing the data into Subword BPE Tokens"
      ]
    },
    {
      "cell_type": "code",
      "metadata": {
        "colab": {
          "base_uri": "https://localhost:8080/"
        },
        "id": "afbLspNgpR3p",
        "outputId": "6b6fefd5-9953-486b-d405-e0fc5ede20b8"
      },
      "source": [
        "from os import path\n",
        "os.environ[\"src\"] = source_language # Sets them in bash as well, since we often use bash scripts\n",
        "os.environ[\"tgt\"] = target_language\n",
        "\n",
        "# Learn BPEs on the training data.\n",
        "os.environ[\"data_path\"] = path.join(\"joeynmt\", \"data\",target_language + source_language ) # Herman! \n",
        "! subword-nmt learn-joint-bpe-and-vocab --input train.$src train.$tgt -s 4000 -o bpe.codes.4000 --write-vocabulary vocab.$src vocab.$tgt\n",
        "\n",
        "# Apply BPE splits to the development and test data.\n",
        "! subword-nmt apply-bpe -c bpe.codes.4000 --vocabulary vocab.$src < train.$src > train.bpe.$src\n",
        "! subword-nmt apply-bpe -c bpe.codes.4000 --vocabulary vocab.$tgt < train.$tgt > train.bpe.$tgt\n",
        "\n",
        "! subword-nmt apply-bpe -c bpe.codes.4000 --vocabulary vocab.$src < dev.$src > dev.bpe.$src\n",
        "! subword-nmt apply-bpe -c bpe.codes.4000 --vocabulary vocab.$tgt < dev.$tgt > dev.bpe.$tgt\n",
        "! subword-nmt apply-bpe -c bpe.codes.4000 --vocabulary vocab.$src < test.$src > test.bpe.$src\n",
        "! subword-nmt apply-bpe -c bpe.codes.4000 --vocabulary vocab.$tgt < test.$tgt > test.bpe.$tgt\n",
        "\n",
        "# Create directory, move everyone we care about to the correct location\n",
        "! mkdir -p $data_path\n",
        "! cp train.* $data_path\n",
        "! cp test.* $data_path\n",
        "! cp dev.* $data_path\n",
        "! cp bpe.codes.4000 $data_path\n",
        "! ls $data_path\n",
        "\n",
        "! cp train.* \"$gdrive_path\"\n",
        "! cp test.* \"$gdrive_path\"\n",
        "! cp dev.* \"$gdrive_path\"\n",
        "! cp bpe.codes.4000 \"$gdrive_path\"\n",
        "! ls \"$gdrive_path\"\n",
        "\n",
        "# Create that vocab using build_vocab\n",
        "! sudo chmod 777 joeynmt/scripts/build_vocab.py\n",
        "! joeynmt/scripts/build_vocab.py joeynmt/data/$tgt$src/train.bpe.$src joeynmt/data/$tgt$src/train.bpe.$tgt --output_path joeynmt/data/$tgt$src/vocab.txt\n",
        "\n",
        "# Some output\n",
        "! echo \"BPE isiXhosa Sentences\"\n",
        "! tail -n 5 test.bpe.$tgt\n",
        "! echo \"Combined BPE Vocab\"\n",
        "! tail -n 10 joeynmt/data/$tgt$src/vocab.txt  # Herman"
      ],
      "execution_count": 14,
      "outputs": [
        {
          "output_type": "stream",
          "name": "stdout",
          "text": [
            "bpe.codes.4000\tdev.en\t     test.bpe.xh     test.xh\t   train.en\n",
            "dev.bpe.en\tdev.xh\t     test.en\t     train.bpe.en  train.xh\n",
            "dev.bpe.xh\ttest.bpe.en  test.en-any.en  train.bpe.xh\n",
            "bpe.codes.4000\tdev.en\ttest.bpe.en  test.en-any.en  train.bpe.xh\n",
            "dev.bpe.en\tdev.xh\ttest.bpe.xh  test.xh\t     train.en\n",
            "dev.bpe.xh\tmodels\ttest.en      train.bpe.en    train.xh\n",
            "BPE isiXhosa Sentences\n",
            "Oku kw@@ aph@@ umela ekub@@ eni nd@@ id@@ ume njengom@@ ntu ong@@ any@@ anis@@ ekanga .\n",
            "Xa nd@@ af@@ und@@ a iny@@ aniso , and@@ iz@@ ange nd@@ iph@@ inde nd@@ iv@@ ume uku@@ qhub@@ eka n@@ dis@@ enza oko , naku@@ b@@ eni nd@@ and@@ ihl@@ awulwa um@@ v@@ uzo on@@ c@@ um@@ isayo .\n",
            "N@@ d@@ ing@@ umzekelo om@@ hle ko@@ ony@@ ana b@@ am ab@@ abini yaye n@@ di@@ ye nd@@ af@@ an@@ elek@@ ela am@@ alung@@ elo ang@@ akumbi eb@@ andl@@ eni .\n",
            "N@@ d@@ aziwa njengom@@ ntu ony@@ anis@@ ekileyo ngab@@ antu end@@ ish@@ ish@@ ina kunye n@@ abo kwan@@ ab@@ ahl@@ ol@@ i boku@@ m@@ a kwem@@ ali ye@@ enk@@ amp@@ ani ( ta@@ x a@@ ud@@ it@@ ors ) . ”\n",
            "U@@ R@@ ute w@@ af@@ ud@@ ukela kwa@@ S@@ ir@@ ay@@ eli apho way@@ eza ku@@ kw@@ azi ukun@@ q@@ ula oy@@ ena Th@@ ix@@ o wo@@ kw@@ eny@@ aniso .\n",
            "Combined BPE Vocab\n",
            "ﾲ\n",
            "¾@@\n",
            ">\n",
            "•\n",
            "IEE@@\n",
            "ü@@\n",
            "ﾅ\n",
            "trib@@\n",
            "<\n",
            "\n"
          ]
        }
      ]
    },
    {
      "cell_type": "code",
      "metadata": {
        "colab": {
          "base_uri": "https://localhost:8080/"
        },
        "id": "AMOouv3K183J",
        "outputId": "31d37ff3-2310-4c40-d9d9-4e36e5ccc219"
      },
      "source": [
        "# Also move everything we care about to a mounted location in google drive (relevant if running in colab) at gdrive_path\n",
        "! cp train.* \"$gdrive_path\"\n",
        "! cp test.* \"$gdrive_path\"\n",
        "! cp dev.* \"$gdrive_path\"\n",
        "! cp bpe.codes.4000 \"$gdrive_path\"\n",
        "! ls \"$gdrive_path\""
      ],
      "execution_count": 15,
      "outputs": [
        {
          "output_type": "stream",
          "name": "stdout",
          "text": [
            "bpe.codes.4000\tdev.en\ttest.bpe.en  test.en-any.en  train.bpe.xh\n",
            "dev.bpe.en\tdev.xh\ttest.bpe.xh  test.xh\t     train.en\n",
            "dev.bpe.xh\tmodels\ttest.en      train.bpe.en    train.xh\n"
          ]
        }
      ]
    },
    {
      "cell_type": "code",
      "metadata": {
        "id": "eqk_sgJz7Cky"
      },
      "source": [
        "name = '%s%s' % (target_language, source_language)\n",
        "# gdrive_path = os.environ[\"gdrive_path\"]\n",
        "\n",
        "# Create the config\n",
        "config = \"\"\"\n",
        "name: \"{target_language}{source_language}_reverse_transformer\"\n",
        "\n",
        "data:\n",
        "    src: \"{target_language}\"\n",
        "    trg: \"{source_language}\"\n",
        "    train: \"data/{name}/train.bpe\"\n",
        "    dev:   \"data/{name}/dev.bpe\"\n",
        "    test:  \"data/{name}/test.bpe\"\n",
        "    level: \"bpe\"\n",
        "    lowercase: False\n",
        "    max_sent_length: 100\n",
        "    src_vocab: \"data/{name}/vocab.txt\"\n",
        "    trg_vocab: \"data/{name}/vocab.txt\"\n",
        "\n",
        "testing:\n",
        "    beam_size: 5\n",
        "    alpha: 1.0\n",
        "\n",
        "training:\n",
        "    #load_model: \"{gdrive_path}/models/{name}_transformer/1.ckpt\" # if uncommented, load a pre-trained model from this checkpoint\n",
        "    random_seed: 42\n",
        "    optimizer: \"adam\"\n",
        "    normalization: \"tokens\"\n",
        "    adam_betas: [0.9, 0.999] \n",
        "    scheduling: \"noam\"           \n",
        "    patience: 5                     \n",
        "    learning_rate_factor: 0.5       \n",
        "    learning_rate_warmup: 1000      \n",
        "    decrease_factor: 0.9\n",
        "    loss: \"crossentropy\"\n",
        "    learning_rate: 0.0003\n",
        "    learning_rate_min: 0.00000001\n",
        "    weight_decay: 0.0\n",
        "    label_smoothing: 0.1\n",
        "    batch_size: 4096\n",
        "    batch_type: \"token\"\n",
        "    eval_batch_size: 3600\n",
        "    eval_batch_type: \"token\"\n",
        "    batch_multiplier: 1\n",
        "    early_stopping_metric: \"ppl\"\n",
        "    epochs: 10                  \n",
        "    validation_freq: 1000          \n",
        "    logging_freq: 100\n",
        "    eval_metric: \"bleu\"\n",
        "    model_dir: \"models/{name}_reverse_transformer\"\n",
        "    overwrite: True              \n",
        "    shuffle: True\n",
        "    use_cuda: True\n",
        "    max_output_length: 100\n",
        "    print_valid_sents: [0, 1, 2, 3]\n",
        "    keep_last_ckpts: 3\n",
        "\n",
        "model:\n",
        "    initializer: \"xavier\"\n",
        "    bias_initializer: \"zeros\"\n",
        "    init_gain: 1.0\n",
        "    embed_initializer: \"xavier\"\n",
        "    embed_init_gain: 1.0\n",
        "    tied_embeddings: True\n",
        "    tied_softmax: True\n",
        "    encoder:\n",
        "        type: \"lstm\"\n",
        "        num_layers: 6\n",
        "        num_heads: 4             \n",
        "        embeddings:\n",
        "            embedding_dim: 256   \n",
        "            scale: True\n",
        "            dropout: 0.2\n",
        "        # typically ff_size = 4 x hidden_size\n",
        "        hidden_size: 256         \n",
        "        ff_size: 1024            \n",
        "        dropout: 0.3\n",
        "    decoder:\n",
        "        type: \"lstm\"\n",
        "        num_layers: 6\n",
        "        num_heads: 4              \n",
        "        embeddings:\n",
        "            embedding_dim: 256    \n",
        "            scale: True\n",
        "            dropout: 0.2\n",
        "        # typically ff_size = 4 x hidden_size\n",
        "        hidden_size: 256         \n",
        "        ff_size: 1024            \n",
        "        dropout: 0.3\n",
        "\"\"\".format(name=name, gdrive_path=os.environ[\"gdrive_path\"], source_language=source_language, target_language=target_language)\n",
        "with open(\"joeynmt/configs/transformer_reverse_{name}.yaml\".format(name=name),'w') as f:\n",
        "    f.write(config)\n"
      ],
      "execution_count": 16,
      "outputs": []
    },
    {
      "cell_type": "code",
      "metadata": {
        "colab": {
          "base_uri": "https://localhost:8080/"
        },
        "id": "umCeTzsc7XA7",
        "outputId": "f469ad68-b2fb-49c1-ed8c-cd900652f5d3"
      },
      "source": [
        "# Train the model\n",
        "# You can press Ctrl-C to stop. And then run the next cell to save your checkpoints! \n",
        "!cd joeynmt; python3 -m joeynmt train configs/transformer_reverse_$tgt$src.yaml"
      ],
      "execution_count": 17,
      "outputs": [
        {
          "output_type": "stream",
          "name": "stdout",
          "text": [
            "2021-11-06 21:11:59,223 - INFO - root - Hello! This is Joey-NMT (version 1.3).\n",
            "2021-11-06 21:11:59,294 - INFO - joeynmt.data - Loading training data...\n",
            "2021-11-06 21:11:59,901 - INFO - joeynmt.data - Building vocabulary...\n",
            "2021-11-06 21:12:00,208 - INFO - joeynmt.data - Loading dev data...\n",
            "2021-11-06 21:12:00,221 - INFO - joeynmt.data - Loading test data...\n",
            "2021-11-06 21:12:00,376 - INFO - joeynmt.data - Data loaded.\n",
            "2021-11-06 21:12:00,377 - INFO - joeynmt.model - Building an encoder-decoder model...\n",
            "2021-11-06 21:12:00,669 - INFO - joeynmt.model - Enc-dec model built.\n",
            "2021-11-06 21:12:02,172 - INFO - joeynmt.training - Total params: 10868480\n",
            "2021-11-06 21:12:02,173 - WARNING - joeynmt.training - `keep_last_ckpts` option is outdated. Please use `keep_best_ckpts`, instead.\n",
            "2021-11-06 21:12:21,525 - INFO - joeynmt.helpers - cfg.name                           : xhen_reverse_transformer\n",
            "2021-11-06 21:12:21,525 - INFO - joeynmt.helpers - cfg.data.src                       : xh\n",
            "2021-11-06 21:12:21,525 - INFO - joeynmt.helpers - cfg.data.trg                       : en\n",
            "2021-11-06 21:12:21,525 - INFO - joeynmt.helpers - cfg.data.train                     : data/xhen/train.bpe\n",
            "2021-11-06 21:12:21,525 - INFO - joeynmt.helpers - cfg.data.dev                       : data/xhen/dev.bpe\n",
            "2021-11-06 21:12:21,525 - INFO - joeynmt.helpers - cfg.data.test                      : data/xhen/test.bpe\n",
            "2021-11-06 21:12:21,525 - INFO - joeynmt.helpers - cfg.data.level                     : bpe\n",
            "2021-11-06 21:12:21,526 - INFO - joeynmt.helpers - cfg.data.lowercase                 : False\n",
            "2021-11-06 21:12:21,526 - INFO - joeynmt.helpers - cfg.data.max_sent_length           : 100\n",
            "2021-11-06 21:12:21,526 - INFO - joeynmt.helpers - cfg.data.src_vocab                 : data/xhen/vocab.txt\n",
            "2021-11-06 21:12:21,526 - INFO - joeynmt.helpers - cfg.data.trg_vocab                 : data/xhen/vocab.txt\n",
            "2021-11-06 21:12:21,526 - INFO - joeynmt.helpers - cfg.testing.beam_size              : 5\n",
            "2021-11-06 21:12:21,526 - INFO - joeynmt.helpers - cfg.testing.alpha                  : 1.0\n",
            "2021-11-06 21:12:21,526 - INFO - joeynmt.helpers - cfg.training.random_seed           : 42\n",
            "2021-11-06 21:12:21,526 - INFO - joeynmt.helpers - cfg.training.optimizer             : adam\n",
            "2021-11-06 21:12:21,526 - INFO - joeynmt.helpers - cfg.training.normalization         : tokens\n",
            "2021-11-06 21:12:21,527 - INFO - joeynmt.helpers - cfg.training.adam_betas            : [0.9, 0.999]\n",
            "2021-11-06 21:12:21,527 - INFO - joeynmt.helpers - cfg.training.scheduling            : noam\n",
            "2021-11-06 21:12:21,527 - INFO - joeynmt.helpers - cfg.training.patience              : 5\n",
            "2021-11-06 21:12:21,527 - INFO - joeynmt.helpers - cfg.training.learning_rate_factor  : 0.5\n",
            "2021-11-06 21:12:21,527 - INFO - joeynmt.helpers - cfg.training.learning_rate_warmup  : 1000\n",
            "2021-11-06 21:12:21,527 - INFO - joeynmt.helpers - cfg.training.decrease_factor       : 0.9\n",
            "2021-11-06 21:12:21,527 - INFO - joeynmt.helpers - cfg.training.loss                  : crossentropy\n",
            "2021-11-06 21:12:21,527 - INFO - joeynmt.helpers - cfg.training.learning_rate         : 0.0003\n",
            "2021-11-06 21:12:21,527 - INFO - joeynmt.helpers - cfg.training.learning_rate_min     : 1e-08\n",
            "2021-11-06 21:12:21,528 - INFO - joeynmt.helpers - cfg.training.weight_decay          : 0.0\n",
            "2021-11-06 21:12:21,528 - INFO - joeynmt.helpers - cfg.training.label_smoothing       : 0.1\n",
            "2021-11-06 21:12:21,528 - INFO - joeynmt.helpers - cfg.training.batch_size            : 4096\n",
            "2021-11-06 21:12:21,528 - INFO - joeynmt.helpers - cfg.training.batch_type            : token\n",
            "2021-11-06 21:12:21,528 - INFO - joeynmt.helpers - cfg.training.eval_batch_size       : 3600\n",
            "2021-11-06 21:12:21,528 - INFO - joeynmt.helpers - cfg.training.eval_batch_type       : token\n",
            "2021-11-06 21:12:21,528 - INFO - joeynmt.helpers - cfg.training.batch_multiplier      : 1\n",
            "2021-11-06 21:12:21,528 - INFO - joeynmt.helpers - cfg.training.early_stopping_metric : ppl\n",
            "2021-11-06 21:12:21,528 - INFO - joeynmt.helpers - cfg.training.epochs                : 10\n",
            "2021-11-06 21:12:21,528 - INFO - joeynmt.helpers - cfg.training.validation_freq       : 1000\n",
            "2021-11-06 21:12:21,529 - INFO - joeynmt.helpers - cfg.training.logging_freq          : 100\n",
            "2021-11-06 21:12:21,529 - INFO - joeynmt.helpers - cfg.training.eval_metric           : bleu\n",
            "2021-11-06 21:12:21,529 - INFO - joeynmt.helpers - cfg.training.model_dir             : models/xhen_reverse_transformer\n",
            "2021-11-06 21:12:21,529 - INFO - joeynmt.helpers - cfg.training.overwrite             : True\n",
            "2021-11-06 21:12:21,529 - INFO - joeynmt.helpers - cfg.training.shuffle               : True\n",
            "2021-11-06 21:12:21,529 - INFO - joeynmt.helpers - cfg.training.use_cuda              : True\n",
            "2021-11-06 21:12:21,529 - INFO - joeynmt.helpers - cfg.training.max_output_length     : 100\n",
            "2021-11-06 21:12:21,529 - INFO - joeynmt.helpers - cfg.training.print_valid_sents     : [0, 1, 2, 3]\n",
            "2021-11-06 21:12:21,529 - INFO - joeynmt.helpers - cfg.training.keep_last_ckpts       : 3\n",
            "2021-11-06 21:12:21,530 - INFO - joeynmt.helpers - cfg.model.initializer              : xavier\n",
            "2021-11-06 21:12:21,530 - INFO - joeynmt.helpers - cfg.model.bias_initializer         : zeros\n",
            "2021-11-06 21:12:21,530 - INFO - joeynmt.helpers - cfg.model.init_gain                : 1.0\n",
            "2021-11-06 21:12:21,530 - INFO - joeynmt.helpers - cfg.model.embed_initializer        : xavier\n",
            "2021-11-06 21:12:21,530 - INFO - joeynmt.helpers - cfg.model.embed_init_gain          : 1.0\n",
            "2021-11-06 21:12:21,530 - INFO - joeynmt.helpers - cfg.model.tied_embeddings          : True\n",
            "2021-11-06 21:12:21,530 - INFO - joeynmt.helpers - cfg.model.tied_softmax             : True\n",
            "2021-11-06 21:12:21,530 - INFO - joeynmt.helpers - cfg.model.encoder.type             : lstm\n",
            "2021-11-06 21:12:21,530 - INFO - joeynmt.helpers - cfg.model.encoder.num_layers       : 6\n",
            "2021-11-06 21:12:21,531 - INFO - joeynmt.helpers - cfg.model.encoder.num_heads        : 4\n",
            "2021-11-06 21:12:21,531 - INFO - joeynmt.helpers - cfg.model.encoder.embeddings.embedding_dim : 256\n",
            "2021-11-06 21:12:21,531 - INFO - joeynmt.helpers - cfg.model.encoder.embeddings.scale : True\n",
            "2021-11-06 21:12:21,531 - INFO - joeynmt.helpers - cfg.model.encoder.embeddings.dropout : 0.2\n",
            "2021-11-06 21:12:21,531 - INFO - joeynmt.helpers - cfg.model.encoder.hidden_size      : 256\n",
            "2021-11-06 21:12:21,531 - INFO - joeynmt.helpers - cfg.model.encoder.ff_size          : 1024\n",
            "2021-11-06 21:12:21,531 - INFO - joeynmt.helpers - cfg.model.encoder.dropout          : 0.3\n",
            "2021-11-06 21:12:21,531 - INFO - joeynmt.helpers - cfg.model.decoder.type             : lstm\n",
            "2021-11-06 21:12:21,531 - INFO - joeynmt.helpers - cfg.model.decoder.num_layers       : 6\n",
            "2021-11-06 21:12:21,531 - INFO - joeynmt.helpers - cfg.model.decoder.num_heads        : 4\n",
            "2021-11-06 21:12:21,532 - INFO - joeynmt.helpers - cfg.model.decoder.embeddings.embedding_dim : 256\n",
            "2021-11-06 21:12:21,532 - INFO - joeynmt.helpers - cfg.model.decoder.embeddings.scale : True\n",
            "2021-11-06 21:12:21,532 - INFO - joeynmt.helpers - cfg.model.decoder.embeddings.dropout : 0.2\n",
            "2021-11-06 21:12:21,532 - INFO - joeynmt.helpers - cfg.model.decoder.hidden_size      : 256\n",
            "2021-11-06 21:12:21,532 - INFO - joeynmt.helpers - cfg.model.decoder.ff_size          : 1024\n",
            "2021-11-06 21:12:21,532 - INFO - joeynmt.helpers - cfg.model.decoder.dropout          : 0.3\n",
            "2021-11-06 21:12:21,532 - INFO - joeynmt.helpers - Data set sizes: \n",
            "\ttrain 45749,\n",
            "\tvalid 1000,\n",
            "\ttest 2711\n",
            "2021-11-06 21:12:21,532 - INFO - joeynmt.helpers - First training example:\n",
            "\t[SRC] K@@ uc@@ ety@@ iswa ukuba um@@ ise i-injini , nak@@ anj@@ ani kancinci kun@@ e s@@ iqhelo .\n",
            "\t[TRG] It is adv@@ is@@ able to st@@ op engines , however , a little later than us@@ ual .\n",
            "2021-11-06 21:12:21,533 - INFO - joeynmt.helpers - First 10 words (src): (0) <unk> (1) <pad> (2) <s> (3) </s> (4) . (5) the (6) , (7) of (8) a (9) to\n",
            "2021-11-06 21:12:21,533 - INFO - joeynmt.helpers - First 10 words (trg): (0) <unk> (1) <pad> (2) <s> (3) </s> (4) . (5) the (6) , (7) of (8) a (9) to\n",
            "2021-11-06 21:12:21,533 - INFO - joeynmt.helpers - Number of Src words (types): 4200\n",
            "2021-11-06 21:12:21,533 - INFO - joeynmt.helpers - Number of Trg words (types): 4200\n",
            "2021-11-06 21:12:21,533 - INFO - joeynmt.training - Model(\n",
            "\tencoder=RecurrentEncoder(GRU(256, 256, num_layers=6, batch_first=True, dropout=0.3, bidirectional=True)),\n",
            "\tdecoder=RecurrentDecoder(rnn=GRU(512, 256, num_layers=6, batch_first=True, dropout=0.3), attention=BahdanauAttention),\n",
            "\tsrc_embed=Embeddings(embedding_dim=256, vocab_size=4200),\n",
            "\ttrg_embed=Embeddings(embedding_dim=256, vocab_size=4200))\n",
            "2021-11-06 21:12:21,538 - INFO - joeynmt.training - Train stats:\n",
            "\tdevice: cuda\n",
            "\tn_gpu: 1\n",
            "\t16-bits training: False\n",
            "\tgradient accumulation: 1\n",
            "\tbatch size per device: 4096\n",
            "\ttotal batch size (w. parallel & accumulation): 4096\n",
            "2021-11-06 21:12:21,538 - INFO - joeynmt.training - EPOCH 1\n",
            "2021-11-06 21:13:39,571 - INFO - joeynmt.training - Epoch   1, Step:      100, Batch Loss:     5.966591, Tokens per Sec:     1665, Lr: 0.000099\n",
            "2021-11-06 21:14:56,821 - INFO - joeynmt.training - Epoch   1, Step:      200, Batch Loss:     5.597768, Tokens per Sec:     1722, Lr: 0.000198\n",
            "2021-11-06 21:16:12,736 - INFO - joeynmt.training - Epoch   1, Step:      300, Batch Loss:     5.649826, Tokens per Sec:     1793, Lr: 0.000296\n",
            "2021-11-06 21:17:31,281 - INFO - joeynmt.training - Epoch   1, Step:      400, Batch Loss:     5.531210, Tokens per Sec:     1687, Lr: 0.000395\n",
            "2021-11-06 21:18:47,774 - INFO - joeynmt.training - Epoch   1, Step:      500, Batch Loss:     5.429269, Tokens per Sec:     1749, Lr: 0.000494\n",
            "2021-11-06 21:20:03,666 - INFO - joeynmt.training - Epoch   1, Step:      600, Batch Loss:     5.392043, Tokens per Sec:     1793, Lr: 0.000593\n",
            "2021-11-06 21:21:20,463 - INFO - joeynmt.training - Epoch   1, Step:      700, Batch Loss:     5.272644, Tokens per Sec:     1724, Lr: 0.000692\n",
            "2021-11-06 21:22:36,171 - INFO - joeynmt.training - Epoch   1, Step:      800, Batch Loss:     4.987370, Tokens per Sec:     1794, Lr: 0.000791\n",
            "2021-11-06 21:23:30,283 - INFO - joeynmt.training - Epoch   1: total training loss 4853.68\n",
            "2021-11-06 21:23:30,283 - INFO - joeynmt.training - EPOCH 2\n",
            "2021-11-06 21:23:51,944 - INFO - joeynmt.training - Epoch   2, Step:      900, Batch Loss:     4.684704, Tokens per Sec:     1688, Lr: 0.000889\n",
            "2021-11-06 21:25:08,258 - INFO - joeynmt.training - Epoch   2, Step:     1000, Batch Loss:     4.645171, Tokens per Sec:     1764, Lr: 0.000988\n",
            "2021-11-06 21:25:20,597 - WARNING - sacrebleu - That's 100 lines that end in a tokenized period ('.')\n",
            "2021-11-06 21:25:20,597 - WARNING - sacrebleu - It looks like you forgot to detokenize your test data, which may hurt your score.\n",
            "2021-11-06 21:25:20,597 - WARNING - sacrebleu - If you insist your data is detokenized, or don't care, you can suppress this message with the `force` parameter.\n",
            "2021-11-06 21:25:20,606 - INFO - joeynmt.training - Hooray! New best validation result [ppl]!\n",
            "2021-11-06 21:25:20,922 - INFO - joeynmt.training - Example #0\n",
            "2021-11-06 21:25:20,922 - INFO - joeynmt.training - \tSource:     153 . I-SART\n",
            "2021-11-06 21:25:20,922 - INFO - joeynmt.training - \tReference:  153 . SART\n",
            "2021-11-06 21:25:20,922 - INFO - joeynmt.training - \tHypothesis: Aee-R.AOS .\n",
            "2021-11-06 21:25:20,922 - INFO - joeynmt.training - Example #1\n",
            "2021-11-06 21:25:20,923 - INFO - joeynmt.training - \tSource:     Oku kungabangela okanye kwamkeleke emlilweni ngoku lumeka .\n",
            "2021-11-06 21:25:20,923 - INFO - joeynmt.training - \tReference:  This could cause or allow the fire to reignite .\n",
            "2021-11-06 21:25:20,923 - INFO - joeynmt.training - \tHypothesis: This is be be be be be be the ship of the ship .\n",
            "2021-11-06 21:25:20,923 - INFO - joeynmt.training - Example #2\n",
            "2021-11-06 21:25:20,924 - INFO - joeynmt.training - \tSource:     Kumele ukuba inqanawa zinesiqhubi esiphambili kwikqubo ekhawulezileyo .\n",
            "2021-11-06 21:25:20,924 - INFO - joeynmt.training - \tReference:  The details are required in order to refute or substantiate claims for loss or damage of gear subsequently made by the fishing vessels concerned .\n",
            "2021-11-06 21:25:20,924 - INFO - joeynmt.training - \tHypothesis: In the ship is be be be be be the ship .\n",
            "2021-11-06 21:25:20,924 - INFO - joeynmt.training - Example #3\n",
            "2021-11-06 21:25:20,924 - INFO - joeynmt.training - \tSource:     Imigonyetho ixhathise ngemiqadi enabela inqamleze inqanawe phakatbi kwefreyimci .\n",
            "2021-11-06 21:25:20,925 - INFO - joeynmt.training - \tReference:  Decks are supported by beams which extend athwartships between the frames .\n",
            "2021-11-06 21:25:20,925 - INFO - joeynmt.training - \tHypothesis: The ship of the ship of the ship of the ship of the ship of the ship of the ship .\n",
            "2021-11-06 21:25:20,925 - INFO - joeynmt.training - Validation result (greedy) at epoch   2, step     1000: bleu:   0.47, loss: 117694.2500, ppl: 104.0030, duration: 12.6669s\n",
            "2021-11-06 21:26:40,475 - INFO - joeynmt.training - Epoch   2, Step:     1100, Batch Loss:     4.645670, Tokens per Sec:     1684, Lr: 0.000942\n",
            "2021-11-06 21:27:57,671 - INFO - joeynmt.training - Epoch   2, Step:     1200, Batch Loss:     4.497399, Tokens per Sec:     1706, Lr: 0.000902\n",
            "2021-11-06 21:29:14,496 - INFO - joeynmt.training - Epoch   2, Step:     1300, Batch Loss:     4.460526, Tokens per Sec:     1744, Lr: 0.000867\n",
            "2021-11-06 21:30:32,132 - INFO - joeynmt.training - Epoch   2, Step:     1400, Batch Loss:     4.472286, Tokens per Sec:     1726, Lr: 0.000835\n",
            "2021-11-06 21:31:48,347 - INFO - joeynmt.training - Epoch   2, Step:     1500, Batch Loss:     4.249389, Tokens per Sec:     1785, Lr: 0.000807\n",
            "2021-11-06 21:33:04,696 - INFO - joeynmt.training - Epoch   2, Step:     1600, Batch Loss:     4.246810, Tokens per Sec:     1781, Lr: 0.000781\n",
            "2021-11-06 21:34:22,399 - INFO - joeynmt.training - Epoch   2, Step:     1700, Batch Loss:     4.211854, Tokens per Sec:     1721, Lr: 0.000758\n",
            "2021-11-06 21:34:54,285 - INFO - joeynmt.training - Epoch   2: total training loss 3849.75\n",
            "2021-11-06 21:34:54,285 - INFO - joeynmt.training - EPOCH 3\n",
            "2021-11-06 21:35:39,076 - INFO - joeynmt.training - Epoch   3, Step:     1800, Batch Loss:     4.145472, Tokens per Sec:     1739, Lr: 0.000737\n",
            "2021-11-06 21:36:56,774 - INFO - joeynmt.training - Epoch   3, Step:     1900, Batch Loss:     4.146678, Tokens per Sec:     1703, Lr: 0.000717\n",
            "2021-11-06 21:38:12,433 - INFO - joeynmt.training - Epoch   3, Step:     2000, Batch Loss:     4.035313, Tokens per Sec:     1774, Lr: 0.000699\n",
            "2021-11-06 21:38:23,767 - WARNING - sacrebleu - That's 100 lines that end in a tokenized period ('.')\n",
            "2021-11-06 21:38:23,767 - WARNING - sacrebleu - It looks like you forgot to detokenize your test data, which may hurt your score.\n",
            "2021-11-06 21:38:23,767 - WARNING - sacrebleu - If you insist your data is detokenized, or don't care, you can suppress this message with the `force` parameter.\n",
            "2021-11-06 21:38:23,773 - INFO - joeynmt.training - Hooray! New best validation result [ppl]!\n",
            "2021-11-06 21:38:24,065 - INFO - joeynmt.training - Example #0\n",
            "2021-11-06 21:38:24,065 - INFO - joeynmt.training - \tSource:     153 . I-SART\n",
            "2021-11-06 21:38:24,065 - INFO - joeynmt.training - \tReference:  153 . SART\n",
            "2021-11-06 21:38:24,065 - INFO - joeynmt.training - \tHypothesis: 11 .\n",
            "2021-11-06 21:38:24,066 - INFO - joeynmt.training - Example #1\n",
            "2021-11-06 21:38:24,066 - INFO - joeynmt.training - \tSource:     Oku kungabangela okanye kwamkeleke emlilweni ngoku lumeka .\n",
            "2021-11-06 21:38:24,066 - INFO - joeynmt.training - \tReference:  This could cause or allow the fire to reignite .\n",
            "2021-11-06 21:38:24,066 - INFO - joeynmt.training - \tHypothesis: This is because or or or of the sarp .\n",
            "2021-11-06 21:38:24,066 - INFO - joeynmt.training - Example #2\n",
            "2021-11-06 21:38:24,067 - INFO - joeynmt.training - \tSource:     Kumele ukuba inqanawa zinesiqhubi esiphambili kwikqubo ekhawulezileyo .\n",
            "2021-11-06 21:38:24,067 - INFO - joeynmt.training - \tReference:  The details are required in order to refute or substantiate claims for loss or damage of gear subsequently made by the fishing vessels concerned .\n",
            "2021-11-06 21:38:24,067 - INFO - joeynmt.training - \tHypothesis: In the ship is the ship of the ship is the boat to the boat .\n",
            "2021-11-06 21:38:24,067 - INFO - joeynmt.training - Example #3\n",
            "2021-11-06 21:38:24,067 - INFO - joeynmt.training - \tSource:     Imigonyetho ixhathise ngemiqadi enabela inqamleze inqanawe phakatbi kwefreyimci .\n",
            "2021-11-06 21:38:24,068 - INFO - joeynmt.training - \tReference:  Decks are supported by beams which extend athwartships between the frames .\n",
            "2021-11-06 21:38:24,068 - INFO - joeynmt.training - \tHypothesis: The carter are usually fitted with the barp and the ship and the ship .\n",
            "2021-11-06 21:38:24,068 - INFO - joeynmt.training - Validation result (greedy) at epoch   3, step     2000: bleu:   1.58, loss: 102885.3906, ppl:  57.9764, duration: 11.6348s\n",
            "2021-11-06 21:39:43,881 - INFO - joeynmt.training - Epoch   3, Step:     2100, Batch Loss:     4.028026, Tokens per Sec:     1690, Lr: 0.000682\n",
            "2021-11-06 21:41:02,797 - INFO - joeynmt.training - Epoch   3, Step:     2200, Batch Loss:     4.057809, Tokens per Sec:     1671, Lr: 0.000666\n",
            "2021-11-06 21:42:20,828 - INFO - joeynmt.training - Epoch   3, Step:     2300, Batch Loss:     4.144870, Tokens per Sec:     1738, Lr: 0.000652\n",
            "2021-11-06 21:43:37,802 - INFO - joeynmt.training - Epoch   3, Step:     2400, Batch Loss:     4.010172, Tokens per Sec:     1743, Lr: 0.000638\n",
            "2021-11-06 21:44:53,401 - INFO - joeynmt.training - Epoch   3, Step:     2500, Batch Loss:     3.933669, Tokens per Sec:     1765, Lr: 0.000625\n",
            "2021-11-06 21:46:09,443 - INFO - joeynmt.training - Epoch   3, Step:     2600, Batch Loss:     3.986132, Tokens per Sec:     1787, Lr: 0.000613\n",
            "2021-11-06 21:46:19,019 - INFO - joeynmt.training - Epoch   3: total training loss 3523.03\n",
            "2021-11-06 21:46:19,019 - INFO - joeynmt.training - EPOCH 4\n",
            "2021-11-06 21:47:26,599 - INFO - joeynmt.training - Epoch   4, Step:     2700, Batch Loss:     3.894114, Tokens per Sec:     1750, Lr: 0.000601\n",
            "2021-11-06 21:48:43,315 - INFO - joeynmt.training - Epoch   4, Step:     2800, Batch Loss:     3.907256, Tokens per Sec:     1707, Lr: 0.000591\n",
            "2021-11-06 21:49:59,949 - INFO - joeynmt.training - Epoch   4, Step:     2900, Batch Loss:     3.811519, Tokens per Sec:     1734, Lr: 0.000580\n",
            "2021-11-06 21:51:15,761 - INFO - joeynmt.training - Epoch   4, Step:     3000, Batch Loss:     3.812094, Tokens per Sec:     1781, Lr: 0.000571\n",
            "2021-11-06 21:51:27,452 - WARNING - sacrebleu - That's 100 lines that end in a tokenized period ('.')\n",
            "2021-11-06 21:51:27,452 - WARNING - sacrebleu - It looks like you forgot to detokenize your test data, which may hurt your score.\n",
            "2021-11-06 21:51:27,452 - WARNING - sacrebleu - If you insist your data is detokenized, or don't care, you can suppress this message with the `force` parameter.\n",
            "2021-11-06 21:51:27,458 - INFO - joeynmt.training - Hooray! New best validation result [ppl]!\n",
            "2021-11-06 21:51:27,752 - INFO - joeynmt.training - Example #0\n",
            "2021-11-06 21:51:27,752 - INFO - joeynmt.training - \tSource:     153 . I-SART\n",
            "2021-11-06 21:51:27,752 - INFO - joeynmt.training - \tReference:  153 . SART\n",
            "2021-11-06 21:51:27,753 - INFO - joeynmt.training - \tHypothesis: 14 . SOAS .\n",
            "2021-11-06 21:51:27,753 - INFO - joeynmt.training - Example #1\n",
            "2021-11-06 21:51:27,753 - INFO - joeynmt.training - \tSource:     Oku kungabangela okanye kwamkeleke emlilweni ngoku lumeka .\n",
            "2021-11-06 21:51:27,753 - INFO - joeynmt.training - \tReference:  This could cause or allow the fire to reignite .\n",
            "2021-11-06 21:51:27,753 - INFO - joeynmt.training - \tHypothesis: This is because or a tark of the tarself are not reduced .\n",
            "2021-11-06 21:51:27,754 - INFO - joeynmt.training - Example #2\n",
            "2021-11-06 21:51:27,754 - INFO - joeynmt.training - \tSource:     Kumele ukuba inqanawa zinesiqhubi esiphambili kwikqubo ekhawulezileyo .\n",
            "2021-11-06 21:51:27,754 - INFO - joeynmt.training - \tReference:  The details are required in order to refute or substantiate claims for loss or damage of gear subsequently made by the fishing vessels concerned .\n",
            "2021-11-06 21:51:27,754 - INFO - joeynmt.training - \tHypothesis: It is because the ship is a ship 's side to the tarp .\n",
            "2021-11-06 21:51:27,754 - INFO - joeynmt.training - Example #3\n",
            "2021-11-06 21:51:27,755 - INFO - joeynmt.training - \tSource:     Imigonyetho ixhathise ngemiqadi enabela inqamleze inqanawe phakatbi kwefreyimci .\n",
            "2021-11-06 21:51:27,755 - INFO - joeynmt.training - \tReference:  Decks are supported by beams which extend athwartships between the frames .\n",
            "2021-11-06 21:51:27,755 - INFO - joeynmt.training - \tHypothesis: The tarp is fitted to the ship 's side to the ship .\n",
            "2021-11-06 21:51:27,755 - INFO - joeynmt.training - Validation result (greedy) at epoch   4, step     3000: bleu:   2.94, loss: 96730.2812, ppl:  45.4742, duration: 11.9933s\n",
            "2021-11-06 21:52:47,475 - INFO - joeynmt.training - Epoch   4, Step:     3100, Batch Loss:     3.763649, Tokens per Sec:     1659, Lr: 0.000561\n",
            "2021-11-06 21:54:03,615 - INFO - joeynmt.training - Epoch   4, Step:     3200, Batch Loss:     3.886332, Tokens per Sec:     1747, Lr: 0.000552\n",
            "2021-11-06 21:55:19,729 - INFO - joeynmt.training - Epoch   4, Step:     3300, Batch Loss:     3.891484, Tokens per Sec:     1768, Lr: 0.000544\n",
            "2021-11-06 21:56:35,912 - INFO - joeynmt.training - Epoch   4, Step:     3400, Batch Loss:     3.823966, Tokens per Sec:     1764, Lr: 0.000536\n",
            "2021-11-06 21:57:42,099 - INFO - joeynmt.training - Epoch   4: total training loss 3354.68\n",
            "2021-11-06 21:57:42,100 - INFO - joeynmt.training - EPOCH 5\n",
            "2021-11-06 21:57:51,925 - INFO - joeynmt.training - Epoch   5, Step:     3500, Batch Loss:     3.799321, Tokens per Sec:     1745, Lr: 0.000528\n",
            "2021-11-06 21:59:08,558 - INFO - joeynmt.training - Epoch   5, Step:     3600, Batch Loss:     3.574265, Tokens per Sec:     1742, Lr: 0.000521\n",
            "2021-11-06 22:00:25,492 - INFO - joeynmt.training - Epoch   5, Step:     3700, Batch Loss:     3.675966, Tokens per Sec:     1723, Lr: 0.000514\n",
            "2021-11-06 22:01:42,023 - INFO - joeynmt.training - Epoch   5, Step:     3800, Batch Loss:     3.770521, Tokens per Sec:     1764, Lr: 0.000507\n",
            "2021-11-06 22:02:58,598 - INFO - joeynmt.training - Epoch   5, Step:     3900, Batch Loss:     3.701984, Tokens per Sec:     1730, Lr: 0.000500\n",
            "2021-11-06 22:04:15,690 - INFO - joeynmt.training - Epoch   5, Step:     4000, Batch Loss:     3.623782, Tokens per Sec:     1738, Lr: 0.000494\n",
            "2021-11-06 22:04:27,867 - WARNING - sacrebleu - That's 100 lines that end in a tokenized period ('.')\n",
            "2021-11-06 22:04:27,867 - WARNING - sacrebleu - It looks like you forgot to detokenize your test data, which may hurt your score.\n",
            "2021-11-06 22:04:27,868 - WARNING - sacrebleu - If you insist your data is detokenized, or don't care, you can suppress this message with the `force` parameter.\n",
            "2021-11-06 22:04:27,873 - INFO - joeynmt.training - Hooray! New best validation result [ppl]!\n",
            "2021-11-06 22:04:28,161 - INFO - joeynmt.helpers - delete models/xhen_reverse_transformer/1000.ckpt\n",
            "2021-11-06 22:04:28,188 - INFO - joeynmt.training - Example #0\n",
            "2021-11-06 22:04:28,189 - INFO - joeynmt.training - \tSource:     153 . I-SART\n",
            "2021-11-06 22:04:28,189 - INFO - joeynmt.training - \tReference:  153 . SART\n",
            "2021-11-06 22:04:28,189 - INFO - joeynmt.training - \tHypothesis: 11 . DOOS\n",
            "2021-11-06 22:04:28,189 - INFO - joeynmt.training - Example #1\n",
            "2021-11-06 22:04:28,189 - INFO - joeynmt.training - \tSource:     Oku kungabangela okanye kwamkeleke emlilweni ngoku lumeka .\n",
            "2021-11-06 22:04:28,190 - INFO - joeynmt.training - \tReference:  This could cause or allow the fire to reignite .\n",
            "2021-11-06 22:04:28,190 - INFO - joeynmt.training - \tHypothesis: This is not to be able or the tark of the tark .\n",
            "2021-11-06 22:04:28,190 - INFO - joeynmt.training - Example #2\n",
            "2021-11-06 22:04:28,190 - INFO - joeynmt.training - \tSource:     Kumele ukuba inqanawa zinesiqhubi esiphambili kwikqubo ekhawulezileyo .\n",
            "2021-11-06 22:04:28,190 - INFO - joeynmt.training - \tReference:  The details are required in order to refute or substantiate claims for loss or damage of gear subsequently made by the fishing vessels concerned .\n",
            "2021-11-06 22:04:28,190 - INFO - joeynmt.training - \tHypothesis: It is because the ship is the ship 's side of the stern .\n",
            "2021-11-06 22:04:28,190 - INFO - joeynmt.training - Example #3\n",
            "2021-11-06 22:04:28,191 - INFO - joeynmt.training - \tSource:     Imigonyetho ixhathise ngemiqadi enabela inqamleze inqanawe phakatbi kwefreyimci .\n",
            "2021-11-06 22:04:28,191 - INFO - joeynmt.training - \tReference:  Decks are supported by beams which extend athwartships between the frames .\n",
            "2021-11-06 22:04:28,191 - INFO - joeynmt.training - \tHypothesis: The tarp is usually fitted by the barp of the ship 's barp .\n",
            "2021-11-06 22:04:28,191 - INFO - joeynmt.training - Validation result (greedy) at epoch   5, step     4000: bleu:   3.29, loss: 92952.6641, ppl:  39.1764, duration: 12.5006s\n",
            "2021-11-06 22:05:46,737 - INFO - joeynmt.training - Epoch   5, Step:     4100, Batch Loss:     3.558746, Tokens per Sec:     1695, Lr: 0.000488\n",
            "2021-11-06 22:07:03,847 - INFO - joeynmt.training - Epoch   5, Step:     4200, Batch Loss:     3.544488, Tokens per Sec:     1718, Lr: 0.000482\n",
            "2021-11-06 22:08:20,677 - INFO - joeynmt.training - Epoch   5, Step:     4300, Batch Loss:     3.828718, Tokens per Sec:     1755, Lr: 0.000477\n",
            "2021-11-06 22:09:07,989 - INFO - joeynmt.training - Epoch   5: total training loss 3236.35\n",
            "2021-11-06 22:09:07,990 - INFO - joeynmt.training - EPOCH 6\n",
            "2021-11-06 22:09:36,139 - INFO - joeynmt.training - Epoch   6, Step:     4400, Batch Loss:     3.676111, Tokens per Sec:     1758, Lr: 0.000471\n",
            "2021-11-06 22:10:53,610 - INFO - joeynmt.training - Epoch   6, Step:     4500, Batch Loss:     3.660198, Tokens per Sec:     1706, Lr: 0.000466\n",
            "2021-11-06 22:12:11,124 - INFO - joeynmt.training - Epoch   6, Step:     4600, Batch Loss:     3.589251, Tokens per Sec:     1706, Lr: 0.000461\n",
            "2021-11-06 22:13:27,361 - INFO - joeynmt.training - Epoch   6, Step:     4700, Batch Loss:     3.551733, Tokens per Sec:     1785, Lr: 0.000456\n",
            "2021-11-06 22:14:43,140 - INFO - joeynmt.training - Epoch   6, Step:     4800, Batch Loss:     3.475688, Tokens per Sec:     1813, Lr: 0.000451\n",
            "2021-11-06 22:16:00,163 - INFO - joeynmt.training - Epoch   6, Step:     4900, Batch Loss:     3.518837, Tokens per Sec:     1722, Lr: 0.000446\n",
            "2021-11-06 22:17:17,489 - INFO - joeynmt.training - Epoch   6, Step:     5000, Batch Loss:     3.491739, Tokens per Sec:     1687, Lr: 0.000442\n",
            "2021-11-06 22:17:28,851 - WARNING - sacrebleu - That's 100 lines that end in a tokenized period ('.')\n",
            "2021-11-06 22:17:28,852 - WARNING - sacrebleu - It looks like you forgot to detokenize your test data, which may hurt your score.\n",
            "2021-11-06 22:17:28,852 - WARNING - sacrebleu - If you insist your data is detokenized, or don't care, you can suppress this message with the `force` parameter.\n",
            "2021-11-06 22:17:28,858 - INFO - joeynmt.training - Hooray! New best validation result [ppl]!\n",
            "2021-11-06 22:17:29,138 - INFO - joeynmt.helpers - delete models/xhen_reverse_transformer/2000.ckpt\n",
            "2021-11-06 22:17:29,164 - INFO - joeynmt.training - Example #0\n",
            "2021-11-06 22:17:29,165 - INFO - joeynmt.training - \tSource:     153 . I-SART\n",
            "2021-11-06 22:17:29,165 - INFO - joeynmt.training - \tReference:  153 . SART\n",
            "2021-11-06 22:17:29,165 - INFO - joeynmt.training - \tHypothesis: 18 . TOOS\n",
            "2021-11-06 22:17:29,165 - INFO - joeynmt.training - Example #1\n",
            "2021-11-06 22:17:29,165 - INFO - joeynmt.training - \tSource:     Oku kungabangela okanye kwamkeleke emlilweni ngoku lumeka .\n",
            "2021-11-06 22:17:29,166 - INFO - joeynmt.training - \tReference:  This could cause or allow the fire to reignite .\n",
            "2021-11-06 22:17:29,166 - INFO - joeynmt.training - \tHypothesis: This can be able or to be a fire of the fire .\n",
            "2021-11-06 22:17:29,166 - INFO - joeynmt.training - Example #2\n",
            "2021-11-06 22:17:29,166 - INFO - joeynmt.training - \tSource:     Kumele ukuba inqanawa zinesiqhubi esiphambili kwikqubo ekhawulezileyo .\n",
            "2021-11-06 22:17:29,167 - INFO - joeynmt.training - \tReference:  The details are required in order to refute or substantiate claims for loss or damage of gear subsequently made by the fishing vessels concerned .\n",
            "2021-11-06 22:17:29,167 - INFO - joeynmt.training - \tHypothesis: It is because the ship is the ship 's stern to the bows .\n",
            "2021-11-06 22:17:29,167 - INFO - joeynmt.training - Example #3\n",
            "2021-11-06 22:17:29,167 - INFO - joeynmt.training - \tSource:     Imigonyetho ixhathise ngemiqadi enabela inqamleze inqanawe phakatbi kwefreyimci .\n",
            "2021-11-06 22:17:29,167 - INFO - joeynmt.training - \tReference:  Decks are supported by beams which extend athwartships between the frames .\n",
            "2021-11-06 22:17:29,168 - INFO - joeynmt.training - \tHypothesis: The lifts is then passed by the bocks which are the ship 's side .\n",
            "2021-11-06 22:17:29,168 - INFO - joeynmt.training - Validation result (greedy) at epoch   6, step     5000: bleu:   4.22, loss: 90238.1328, ppl:  35.1968, duration: 11.6778s\n",
            "2021-11-06 22:18:48,530 - INFO - joeynmt.training - Epoch   6, Step:     5100, Batch Loss:     3.388832, Tokens per Sec:     1661, Lr: 0.000438\n",
            "2021-11-06 22:20:05,083 - INFO - joeynmt.training - Epoch   6, Step:     5200, Batch Loss:     3.477758, Tokens per Sec:     1750, Lr: 0.000433\n",
            "2021-11-06 22:20:33,473 - INFO - joeynmt.training - Epoch   6: total training loss 3137.00\n",
            "2021-11-06 22:20:33,473 - INFO - joeynmt.training - EPOCH 7\n",
            "2021-11-06 22:21:20,866 - INFO - joeynmt.training - Epoch   7, Step:     5300, Batch Loss:     3.561497, Tokens per Sec:     1735, Lr: 0.000429\n",
            "2021-11-06 22:22:36,714 - INFO - joeynmt.training - Epoch   7, Step:     5400, Batch Loss:     3.452748, Tokens per Sec:     1795, Lr: 0.000425\n",
            "2021-11-06 22:23:53,743 - INFO - joeynmt.training - Epoch   7, Step:     5500, Batch Loss:     3.628359, Tokens per Sec:     1738, Lr: 0.000421\n",
            "2021-11-06 22:25:10,933 - INFO - joeynmt.training - Epoch   7, Step:     5600, Batch Loss:     3.496352, Tokens per Sec:     1718, Lr: 0.000418\n",
            "2021-11-06 22:26:27,108 - INFO - joeynmt.training - Epoch   7, Step:     5700, Batch Loss:     3.537986, Tokens per Sec:     1774, Lr: 0.000414\n",
            "2021-11-06 22:27:43,968 - INFO - joeynmt.training - Epoch   7, Step:     5800, Batch Loss:     3.568524, Tokens per Sec:     1732, Lr: 0.000410\n",
            "2021-11-06 22:29:01,158 - INFO - joeynmt.training - Epoch   7, Step:     5900, Batch Loss:     3.599962, Tokens per Sec:     1734, Lr: 0.000407\n",
            "2021-11-06 22:30:18,670 - INFO - joeynmt.training - Epoch   7, Step:     6000, Batch Loss:     3.450723, Tokens per Sec:     1687, Lr: 0.000403\n",
            "2021-11-06 22:30:30,044 - WARNING - sacrebleu - That's 100 lines that end in a tokenized period ('.')\n",
            "2021-11-06 22:30:30,044 - WARNING - sacrebleu - It looks like you forgot to detokenize your test data, which may hurt your score.\n",
            "2021-11-06 22:30:30,044 - WARNING - sacrebleu - If you insist your data is detokenized, or don't care, you can suppress this message with the `force` parameter.\n",
            "2021-11-06 22:30:30,050 - INFO - joeynmt.training - Hooray! New best validation result [ppl]!\n",
            "2021-11-06 22:30:30,307 - INFO - joeynmt.helpers - delete models/xhen_reverse_transformer/3000.ckpt\n",
            "2021-11-06 22:30:30,333 - INFO - joeynmt.training - Example #0\n",
            "2021-11-06 22:30:30,334 - INFO - joeynmt.training - \tSource:     153 . I-SART\n",
            "2021-11-06 22:30:30,334 - INFO - joeynmt.training - \tReference:  153 . SART\n",
            "2021-11-06 22:30:30,334 - INFO - joeynmt.training - \tHypothesis: 13 . SOOS\n",
            "2021-11-06 22:30:30,334 - INFO - joeynmt.training - Example #1\n",
            "2021-11-06 22:30:30,334 - INFO - joeynmt.training - \tSource:     Oku kungabangela okanye kwamkeleke emlilweni ngoku lumeka .\n",
            "2021-11-06 22:30:30,334 - INFO - joeynmt.training - \tReference:  This could cause or allow the fire to reignite .\n",
            "2021-11-06 22:30:30,334 - INFO - joeynmt.training - \tHypothesis: This is not to be a strong or more power is not required .\n",
            "2021-11-06 22:30:30,334 - INFO - joeynmt.training - Example #2\n",
            "2021-11-06 22:30:30,335 - INFO - joeynmt.training - \tSource:     Kumele ukuba inqanawa zinesiqhubi esiphambili kwikqubo ekhawulezileyo .\n",
            "2021-11-06 22:30:30,335 - INFO - joeynmt.training - \tReference:  The details are required in order to refute or substantiate claims for loss or damage of gear subsequently made by the fishing vessels concerned .\n",
            "2021-11-06 22:30:30,335 - INFO - joeynmt.training - \tHypothesis: It is because the ship is the stern of the stern .\n",
            "2021-11-06 22:30:30,335 - INFO - joeynmt.training - Example #3\n",
            "2021-11-06 22:30:30,336 - INFO - joeynmt.training - \tSource:     Imigonyetho ixhathise ngemiqadi enabela inqamleze inqanawe phakatbi kwefreyimci .\n",
            "2021-11-06 22:30:30,336 - INFO - joeynmt.training - \tReference:  Decks are supported by beams which extend athwartships between the frames .\n",
            "2021-11-06 22:30:30,336 - INFO - joeynmt.training - \tHypothesis: The plarks is then hauled by the bar of the ship 's side .\n",
            "2021-11-06 22:30:30,336 - INFO - joeynmt.training - Validation result (greedy) at epoch   7, step     6000: bleu:   4.85, loss: 88137.8438, ppl:  32.3972, duration: 11.6661s\n",
            "2021-11-06 22:31:49,568 - INFO - joeynmt.training - Epoch   7, Step:     6100, Batch Loss:     3.349269, Tokens per Sec:     1680, Lr: 0.000400\n",
            "2021-11-06 22:31:59,180 - INFO - joeynmt.training - Epoch   7: total training loss 3058.06\n",
            "2021-11-06 22:31:59,180 - INFO - joeynmt.training - EPOCH 8\n",
            "2021-11-06 22:33:06,415 - INFO - joeynmt.training - Epoch   8, Step:     6200, Batch Loss:     3.561363, Tokens per Sec:     1696, Lr: 0.000397\n",
            "2021-11-06 22:34:23,298 - INFO - joeynmt.training - Epoch   8, Step:     6300, Batch Loss:     3.392666, Tokens per Sec:     1757, Lr: 0.000394\n",
            "2021-11-06 22:35:40,784 - INFO - joeynmt.training - Epoch   8, Step:     6400, Batch Loss:     3.440687, Tokens per Sec:     1678, Lr: 0.000391\n",
            "2021-11-06 22:36:58,260 - INFO - joeynmt.training - Epoch   8, Step:     6500, Batch Loss:     3.385566, Tokens per Sec:     1721, Lr: 0.000388\n",
            "2021-11-06 22:38:17,095 - INFO - joeynmt.training - Epoch   8, Step:     6600, Batch Loss:     3.448612, Tokens per Sec:     1661, Lr: 0.000385\n",
            "2021-11-06 22:39:34,631 - INFO - joeynmt.training - Epoch   8, Step:     6700, Batch Loss:     3.297195, Tokens per Sec:     1712, Lr: 0.000382\n",
            "2021-11-06 22:40:51,004 - INFO - joeynmt.training - Epoch   8, Step:     6800, Batch Loss:     3.394916, Tokens per Sec:     1767, Lr: 0.000379\n",
            "2021-11-06 22:42:07,523 - INFO - joeynmt.training - Epoch   8, Step:     6900, Batch Loss:     3.485102, Tokens per Sec:     1736, Lr: 0.000376\n",
            "2021-11-06 22:43:14,572 - INFO - joeynmt.training - Epoch   8: total training loss 2999.84\n",
            "2021-11-06 22:43:14,572 - INFO - joeynmt.training - EPOCH 9\n",
            "2021-11-06 22:43:23,367 - INFO - joeynmt.training - Epoch   9, Step:     7000, Batch Loss:     3.382393, Tokens per Sec:     1691, Lr: 0.000374\n",
            "2021-11-06 22:43:34,074 - WARNING - sacrebleu - That's 100 lines that end in a tokenized period ('.')\n",
            "2021-11-06 22:43:34,074 - WARNING - sacrebleu - It looks like you forgot to detokenize your test data, which may hurt your score.\n",
            "2021-11-06 22:43:34,074 - WARNING - sacrebleu - If you insist your data is detokenized, or don't care, you can suppress this message with the `force` parameter.\n",
            "2021-11-06 22:43:34,080 - INFO - joeynmt.training - Hooray! New best validation result [ppl]!\n",
            "2021-11-06 22:43:34,355 - INFO - joeynmt.helpers - delete models/xhen_reverse_transformer/4000.ckpt\n",
            "2021-11-06 22:43:34,390 - INFO - joeynmt.training - Example #0\n",
            "2021-11-06 22:43:34,390 - INFO - joeynmt.training - \tSource:     153 . I-SART\n",
            "2021-11-06 22:43:34,390 - INFO - joeynmt.training - \tReference:  153 . SART\n",
            "2021-11-06 22:43:34,390 - INFO - joeynmt.training - \tHypothesis: 143 .\n",
            "2021-11-06 22:43:34,391 - INFO - joeynmt.training - Example #1\n",
            "2021-11-06 22:43:34,391 - INFO - joeynmt.training - \tSource:     Oku kungabangela okanye kwamkeleke emlilweni ngoku lumeka .\n",
            "2021-11-06 22:43:34,391 - INFO - joeynmt.training - \tReference:  This could cause or allow the fire to reignite .\n",
            "2021-11-06 22:43:34,391 - INFO - joeynmt.training - \tHypothesis: This can be able or more of the fire is not required .\n",
            "2021-11-06 22:43:34,391 - INFO - joeynmt.training - Example #2\n",
            "2021-11-06 22:43:34,392 - INFO - joeynmt.training - \tSource:     Kumele ukuba inqanawa zinesiqhubi esiphambili kwikqubo ekhawulezileyo .\n",
            "2021-11-06 22:43:34,392 - INFO - joeynmt.training - \tReference:  The details are required in order to refute or substantiate claims for loss or damage of gear subsequently made by the fishing vessels concerned .\n",
            "2021-11-06 22:43:34,392 - INFO - joeynmt.training - \tHypothesis: It is because the ship has the stern of the stern .\n",
            "2021-11-06 22:43:34,392 - INFO - joeynmt.training - Example #3\n",
            "2021-11-06 22:43:34,393 - INFO - joeynmt.training - \tSource:     Imigonyetho ixhathise ngemiqadi enabela inqamleze inqanawe phakatbi kwefreyimci .\n",
            "2021-11-06 22:43:34,393 - INFO - joeynmt.training - \tReference:  Decks are supported by beams which extend athwartships between the frames .\n",
            "2021-11-06 22:43:34,393 - INFO - joeynmt.training - \tHypothesis: The main tulls is to be passed in the ship 's side .\n",
            "2021-11-06 22:43:34,393 - INFO - joeynmt.training - Validation result (greedy) at epoch   9, step     7000: bleu:   5.56, loss: 86765.4922, ppl:  30.6894, duration: 11.0255s\n",
            "2021-11-06 22:44:53,236 - INFO - joeynmt.training - Epoch   9, Step:     7100, Batch Loss:     3.332499, Tokens per Sec:     1699, Lr: 0.000371\n",
            "2021-11-06 22:46:09,735 - INFO - joeynmt.training - Epoch   9, Step:     7200, Batch Loss:     3.272459, Tokens per Sec:     1754, Lr: 0.000368\n",
            "2021-11-06 22:47:27,031 - INFO - joeynmt.training - Epoch   9, Step:     7300, Batch Loss:     3.384621, Tokens per Sec:     1737, Lr: 0.000366\n",
            "2021-11-06 22:48:43,637 - INFO - joeynmt.training - Epoch   9, Step:     7400, Batch Loss:     3.369537, Tokens per Sec:     1794, Lr: 0.000363\n",
            "2021-11-06 22:50:00,232 - INFO - joeynmt.training - Epoch   9, Step:     7500, Batch Loss:     3.280536, Tokens per Sec:     1752, Lr: 0.000361\n",
            "2021-11-06 22:51:16,118 - INFO - joeynmt.training - Epoch   9, Step:     7600, Batch Loss:     3.412477, Tokens per Sec:     1775, Lr: 0.000358\n",
            "2021-11-06 22:52:33,856 - INFO - joeynmt.training - Epoch   9, Step:     7700, Batch Loss:     3.273733, Tokens per Sec:     1680, Lr: 0.000356\n",
            "2021-11-06 22:53:51,083 - INFO - joeynmt.training - Epoch   9, Step:     7800, Batch Loss:     3.336245, Tokens per Sec:     1712, Lr: 0.000354\n",
            "2021-11-06 22:54:38,005 - INFO - joeynmt.training - Epoch   9: total training loss 2931.91\n",
            "2021-11-06 22:54:38,005 - INFO - joeynmt.training - EPOCH 10\n",
            "2021-11-06 22:55:08,303 - INFO - joeynmt.training - Epoch  10, Step:     7900, Batch Loss:     3.124076, Tokens per Sec:     1686, Lr: 0.000352\n",
            "2021-11-06 22:56:25,472 - INFO - joeynmt.training - Epoch  10, Step:     8000, Batch Loss:     3.282237, Tokens per Sec:     1730, Lr: 0.000349\n",
            "2021-11-06 22:56:36,552 - WARNING - sacrebleu - That's 100 lines that end in a tokenized period ('.')\n",
            "2021-11-06 22:56:36,552 - WARNING - sacrebleu - It looks like you forgot to detokenize your test data, which may hurt your score.\n",
            "2021-11-06 22:56:36,552 - WARNING - sacrebleu - If you insist your data is detokenized, or don't care, you can suppress this message with the `force` parameter.\n",
            "2021-11-06 22:56:36,559 - INFO - joeynmt.training - Hooray! New best validation result [ppl]!\n",
            "2021-11-06 22:56:36,829 - INFO - joeynmt.helpers - delete models/xhen_reverse_transformer/5000.ckpt\n",
            "2021-11-06 22:56:36,857 - INFO - joeynmt.training - Example #0\n",
            "2021-11-06 22:56:36,858 - INFO - joeynmt.training - \tSource:     153 . I-SART\n",
            "2021-11-06 22:56:36,858 - INFO - joeynmt.training - \tReference:  153 . SART\n",
            "2021-11-06 22:56:36,858 - INFO - joeynmt.training - \tHypothesis: 154 .\n",
            "2021-11-06 22:56:36,858 - INFO - joeynmt.training - Example #1\n",
            "2021-11-06 22:56:36,859 - INFO - joeynmt.training - \tSource:     Oku kungabangela okanye kwamkeleke emlilweni ngoku lumeka .\n",
            "2021-11-06 22:56:36,859 - INFO - joeynmt.training - \tReference:  This could cause or allow the fire to reignite .\n",
            "2021-11-06 22:56:36,859 - INFO - joeynmt.training - \tHypothesis: This may be able or by a fire of the fire is required .\n",
            "2021-11-06 22:56:36,859 - INFO - joeynmt.training - Example #2\n",
            "2021-11-06 22:56:36,859 - INFO - joeynmt.training - \tSource:     Kumele ukuba inqanawa zinesiqhubi esiphambili kwikqubo ekhawulezileyo .\n",
            "2021-11-06 22:56:36,859 - INFO - joeynmt.training - \tReference:  The details are required in order to refute or substantiate claims for loss or damage of gear subsequently made by the fishing vessels concerned .\n",
            "2021-11-06 22:56:36,860 - INFO - joeynmt.training - \tHypothesis: It is so that the ship are the stern of the stern .\n",
            "2021-11-06 22:56:36,860 - INFO - joeynmt.training - Example #3\n",
            "2021-11-06 22:56:36,860 - INFO - joeynmt.training - \tSource:     Imigonyetho ixhathise ngemiqadi enabela inqamleze inqanawe phakatbi kwefreyimci .\n",
            "2021-11-06 22:56:36,860 - INFO - joeynmt.training - \tReference:  Decks are supported by beams which extend athwartships between the frames .\n",
            "2021-11-06 22:56:36,860 - INFO - joeynmt.training - \tHypothesis: The barrow is then passed by the dock which is to take the ship 's side .\n",
            "2021-11-06 22:56:36,861 - INFO - joeynmt.training - Validation result (greedy) at epoch  10, step     8000: bleu:   6.20, loss: 85209.6641, ppl:  28.8619, duration: 11.3876s\n",
            "2021-11-06 22:57:54,572 - INFO - joeynmt.training - Epoch  10, Step:     8100, Batch Loss:     3.360638, Tokens per Sec:     1712, Lr: 0.000347\n",
            "2021-11-06 22:59:11,103 - INFO - joeynmt.training - Epoch  10, Step:     8200, Batch Loss:     3.514976, Tokens per Sec:     1733, Lr: 0.000345\n",
            "2021-11-06 23:00:28,059 - INFO - joeynmt.training - Epoch  10, Step:     8300, Batch Loss:     3.191491, Tokens per Sec:     1731, Lr: 0.000343\n",
            "2021-11-06 23:01:45,843 - INFO - joeynmt.training - Epoch  10, Step:     8400, Batch Loss:     3.312951, Tokens per Sec:     1715, Lr: 0.000341\n",
            "2021-11-06 23:03:03,035 - INFO - joeynmt.training - Epoch  10, Step:     8500, Batch Loss:     3.163617, Tokens per Sec:     1706, Lr: 0.000339\n",
            "2021-11-06 23:04:18,208 - INFO - joeynmt.training - Epoch  10, Step:     8600, Batch Loss:     3.424957, Tokens per Sec:     1836, Lr: 0.000337\n",
            "2021-11-06 23:05:35,500 - INFO - joeynmt.training - Epoch  10, Step:     8700, Batch Loss:     3.188783, Tokens per Sec:     1678, Lr: 0.000335\n",
            "2021-11-06 23:06:04,021 - INFO - joeynmt.training - Epoch  10: total training loss 2899.60\n",
            "2021-11-06 23:06:04,022 - INFO - joeynmt.training - Training ended after  10 epochs.\n",
            "2021-11-06 23:06:04,022 - INFO - joeynmt.training - Best validation result (greedy) at step     8000:  28.86 ppl.\n",
            "2021-11-06 23:06:04,042 - INFO - joeynmt.prediction - Process device: cuda, n_gpu: 1, batch_size per device: 3600\n",
            "2021-11-06 23:06:04,042 - INFO - joeynmt.prediction - Loading model from models/xhen_reverse_transformer/8000.ckpt\n",
            "2021-11-06 23:06:04,135 - INFO - joeynmt.model - Building an encoder-decoder model...\n",
            "2021-11-06 23:06:04,295 - INFO - joeynmt.model - Enc-dec model built.\n",
            "2021-11-06 23:06:04,327 - INFO - joeynmt.prediction - Decoding on dev set (data/xhen/dev.bpe.en)...\n",
            "2021-11-06 23:06:18,862 - WARNING - sacrebleu - That's 100 lines that end in a tokenized period ('.')\n",
            "2021-11-06 23:06:18,862 - WARNING - sacrebleu - It looks like you forgot to detokenize your test data, which may hurt your score.\n",
            "2021-11-06 23:06:18,862 - WARNING - sacrebleu - If you insist your data is detokenized, or don't care, you can suppress this message with the `force` parameter.\n",
            "2021-11-06 23:06:18,865 - INFO - joeynmt.prediction -  dev bleu[13a]:   6.75 [Beam search decoding with beam size = 5 and alpha = 1.0]\n",
            "2021-11-06 23:06:18,866 - INFO - joeynmt.prediction - Translations saved to: models/xhen_reverse_transformer/00008000.hyps.dev\n",
            "2021-11-06 23:06:18,866 - INFO - joeynmt.prediction - Decoding on test set (data/xhen/test.bpe.en)...\n",
            "2021-11-06 23:06:54,845 - WARNING - sacrebleu - That's 100 lines that end in a tokenized period ('.')\n",
            "2021-11-06 23:06:54,845 - WARNING - sacrebleu - It looks like you forgot to detokenize your test data, which may hurt your score.\n",
            "2021-11-06 23:06:54,845 - WARNING - sacrebleu - If you insist your data is detokenized, or don't care, you can suppress this message with the `force` parameter.\n",
            "2021-11-06 23:06:54,858 - INFO - joeynmt.prediction - test bleu[13a]:   1.03 [Beam search decoding with beam size = 5 and alpha = 1.0]\n",
            "2021-11-06 23:06:54,859 - INFO - joeynmt.prediction - Translations saved to: models/xhen_reverse_transformer/00008000.hyps.test\n"
          ]
        }
      ]
    },
    {
      "cell_type": "code",
      "metadata": {
        "id": "Zr7zzMpEmCFA"
      },
      "source": [
        "# Copy the created models from the notebook storage to google drive for persistant storage \n",
        "!cp -r joeynmt/models/${tgt}${src}_reverse_transformer/ \"$gdrive_path/models/${tgt}${src}_reverse_transformer/\""
      ],
      "execution_count": 18,
      "outputs": []
    },
    {
      "cell_type": "code",
      "metadata": {
        "colab": {
          "base_uri": "https://localhost:8080/"
        },
        "id": "vx1eTU9umCuH",
        "outputId": "5fa0fb27-9beb-45eb-d3ac-c8a4e39b6c8a"
      },
      "source": [
        "# Output our validation accuracy\n",
        "! cat \"$gdrive_path/models/${tgt}${src}_reverse_transformer/validations.txt\""
      ],
      "execution_count": 23,
      "outputs": [
        {
          "output_type": "stream",
          "name": "stdout",
          "text": [
            "Steps: 1000\tLoss: 117694.25000\tPPL: 104.00304\tbleu: 0.46691\tLR: 0.00098821\t*\n",
            "Steps: 2000\tLoss: 102885.39062\tPPL: 57.97644\tbleu: 1.58242\tLR: 0.00069877\t*\n",
            "Steps: 3000\tLoss: 96730.28125\tPPL: 45.47421\tbleu: 2.93827\tLR: 0.00057054\t*\n",
            "Steps: 4000\tLoss: 92952.66406\tPPL: 39.17638\tbleu: 3.28838\tLR: 0.00049411\t*\n",
            "Steps: 5000\tLoss: 90238.13281\tPPL: 35.19675\tbleu: 4.21614\tLR: 0.00044194\t*\n",
            "Steps: 6000\tLoss: 88137.84375\tPPL: 32.39723\tbleu: 4.85036\tLR: 0.00040344\t*\n",
            "Steps: 7000\tLoss: 86765.49219\tPPL: 30.68941\tbleu: 5.55594\tLR: 0.00037351\t*\n",
            "Steps: 8000\tLoss: 85209.66406\tPPL: 28.86188\tbleu: 6.19709\tLR: 0.00034939\t*\n"
          ]
        }
      ]
    },
    {
      "cell_type": "code",
      "metadata": {
        "colab": {
          "base_uri": "https://localhost:8080/"
        },
        "id": "TB8YB_ZKd-Go",
        "outputId": "740a913e-9bad-4cfa-b061-f10658bb69f4"
      },
      "source": [
        "# Test our model\n",
        "! cd joeynmt; python3 -m joeynmt test \"$gdrive_path/models/${tgt}${src}_reverse_transformer/config.yaml\""
      ],
      "execution_count": 24,
      "outputs": [
        {
          "output_type": "stream",
          "name": "stdout",
          "text": [
            "2021-11-06 23:22:56,280 - INFO - root - Hello! This is Joey-NMT (version 1.3).\n",
            "2021-11-06 23:22:56,281 - INFO - joeynmt.data - Building vocabulary...\n",
            "2021-11-06 23:22:56,595 - INFO - joeynmt.data - Loading dev data...\n",
            "2021-11-06 23:22:56,605 - INFO - joeynmt.data - Loading test data...\n",
            "2021-11-06 23:22:56,662 - INFO - joeynmt.data - Data loaded.\n",
            "2021-11-06 23:22:56,686 - INFO - joeynmt.prediction - Process device: cuda, n_gpu: 1, batch_size per device: 3600\n",
            "2021-11-06 23:22:56,686 - INFO - joeynmt.prediction - Loading model from models/xhen_reverse_transformer/latest.ckpt\n",
            "2021-11-06 23:22:59,048 - INFO - joeynmt.model - Building an encoder-decoder model...\n",
            "2021-11-06 23:22:59,232 - INFO - joeynmt.model - Enc-dec model built.\n",
            "2021-11-06 23:22:59,279 - INFO - joeynmt.prediction - Decoding on dev set (data/xhen/dev.bpe.en)...\n",
            "2021-11-06 23:23:13,648 - WARNING - sacrebleu - That's 100 lines that end in a tokenized period ('.')\n",
            "2021-11-06 23:23:13,648 - WARNING - sacrebleu - It looks like you forgot to detokenize your test data, which may hurt your score.\n",
            "2021-11-06 23:23:13,648 - WARNING - sacrebleu - If you insist your data is detokenized, or don't care, you can suppress this message with the `force` parameter.\n",
            "2021-11-06 23:23:13,652 - INFO - joeynmt.prediction -  dev bleu[13a]:   6.75 [Beam search decoding with beam size = 5 and alpha = 1.0]\n",
            "2021-11-06 23:23:13,652 - INFO - joeynmt.prediction - Decoding on test set (data/xhen/test.bpe.en)...\n",
            "2021-11-06 23:23:49,005 - WARNING - sacrebleu - That's 100 lines that end in a tokenized period ('.')\n",
            "2021-11-06 23:23:49,005 - WARNING - sacrebleu - It looks like you forgot to detokenize your test data, which may hurt your score.\n",
            "2021-11-06 23:23:49,005 - WARNING - sacrebleu - If you insist your data is detokenized, or don't care, you can suppress this message with the `force` parameter.\n",
            "2021-11-06 23:23:49,020 - INFO - joeynmt.prediction - test bleu[13a]:   1.03 [Beam search decoding with beam size = 5 and alpha = 1.0]\n"
          ]
        }
      ]
    },
    {
      "cell_type": "code",
      "metadata": {
        "id": "8RwGhTxW_1iL",
        "colab": {
          "base_uri": "https://localhost:8080/"
        },
        "outputId": "64329fd5-0fba-4211-8501-22fc875dd500"
      },
      "source": [
        "# Human eval test\n",
        "! cd joeynmt; touch my_input.txt\n",
        "! cd joeynmt; echo $'Esi sahluko sahlulwa - hlulwe kasixhenxe , zicalulwe ngokulandelayo' > my_input.txt\n",
        "! cd joeynmt; python3 -m joeynmt translate \"$gdrive_path/models/${tgt}${src}_reverse_transformer/config.yaml\" < my_input.txt\n",
        "#! echo myinput.txt"
      ],
      "execution_count": 25,
      "outputs": [
        {
          "output_type": "stream",
          "name": "stdout",
          "text": [
            "2021-11-06 23:23:51,430 - INFO - root - Hello! This is Joey-NMT (version 1.3).\n",
            "2021-11-06 23:23:51,737 - INFO - joeynmt.prediction - Loading model from models/xhen_reverse_transformer/latest.ckpt\n",
            "2021-11-06 23:23:54,086 - INFO - joeynmt.model - Building an encoder-decoder model...\n",
            "2021-11-06 23:23:54,282 - INFO - joeynmt.model - Enc-dec model built.\n",
            "This , Reipe ,\n"
          ]
        }
      ]
    },
    {
      "cell_type": "code",
      "metadata": {
        "id": "4E0LBTZyBPzT",
        "colab": {
          "base_uri": "https://localhost:8080/"
        },
        "outputId": "bfa355ae-acab-4a69-9a09-09beb7a68403"
      },
      "source": [
        "# Human eval test\n",
        "! cd joeynmt; touch my_input.txt\n",
        "! cd joeynmt; echo $'Ndilahlekelwe yi isingxobo' > my_input.txt\n",
        "! cd joeynmt; python3 -m joeynmt translate \"$gdrive_path/models/${tgt}${src}_reverse_transformer/config.yaml\" < my_input.txt\n",
        "#! echo myinput.txt"
      ],
      "execution_count": 26,
      "outputs": [
        {
          "output_type": "stream",
          "name": "stdout",
          "text": [
            "2021-11-06 23:23:56,721 - INFO - root - Hello! This is Joey-NMT (version 1.3).\n",
            "2021-11-06 23:23:57,040 - INFO - joeynmt.prediction - Loading model from models/xhen_reverse_transformer/latest.ckpt\n",
            "2021-11-06 23:23:59,375 - INFO - joeynmt.model - Building an encoder-decoder model...\n",
            "2021-11-06 23:23:59,559 - INFO - joeynmt.model - Enc-dec model built.\n",
            "Aeiping\n"
          ]
        }
      ]
    },
    {
      "cell_type": "code",
      "metadata": {
        "id": "U95HbfrPxhd7"
      },
      "source": [
        ""
      ],
      "execution_count": 22,
      "outputs": []
    }
  ]
}
