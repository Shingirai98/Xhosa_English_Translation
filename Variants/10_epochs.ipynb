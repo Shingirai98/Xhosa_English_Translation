{
  "nbformat": 4,
  "nbformat_minor": 0,
  "metadata": {
    "colab": {
      "name": "Xhosa<->English Translation.ipynb",
      "provenance": [],
      "authorship_tag": "ABX9TyNC2EOdbsApxGWTNOZuRZCK",
      "include_colab_link": true
    },
    "kernelspec": {
      "name": "python3",
      "display_name": "Python 3"
    },
    "language_info": {
      "name": "python"
    },
    "accelerator": "GPU"
  },
  "cells": [
    {
      "cell_type": "markdown",
      "metadata": {
        "id": "view-in-github",
        "colab_type": "text"
      },
      "source": [
        "<a href=\"https://colab.research.google.com/github/Shingirai98/Xhosa_English_Translation/blob/main/10_epochs.ipynb\" target=\"_parent\"><img src=\"https://colab.research.google.com/assets/colab-badge.svg\" alt=\"Open In Colab\"/></a>"
      ]
    },
    {
      "cell_type": "markdown",
      "metadata": {
        "id": "0yEFsvb0bX8T"
      },
      "source": [
        "Mount the drive to be used for storage of data"
      ]
    },
    {
      "cell_type": "code",
      "metadata": {
        "colab": {
          "base_uri": "https://localhost:8080/"
        },
        "id": "RROaiMCY0P1D",
        "outputId": "507e39c1-d8ed-4986-c424-b9b1d17b9366"
      },
      "source": [
        "from google.colab import drive\n",
        "drive.mount('/content/drive')"
      ],
      "execution_count": 1,
      "outputs": [
        {
          "output_type": "stream",
          "name": "stdout",
          "text": [
            "Mounted at /content/drive\n"
          ]
        }
      ]
    },
    {
      "cell_type": "markdown",
      "metadata": {
        "id": "w9lQZ5hgbWN5"
      },
      "source": [
        "Setup source and target languages using the short hand from the JW300 JSON data"
      ]
    },
    {
      "cell_type": "code",
      "metadata": {
        "id": "azy86diBjeyT"
      },
      "source": [
        "# TODO: Set your source and target languages. Keep in mind, these traditionally use language codes as found here:\n",
        "# These will also become the suffix's of all vocab and corpus files used throughout\n",
        "import os\n",
        "source_language = \"en\"\n",
        "target_language = \"xh\" \n",
        "lc = False  # If True, lowercase the data.\n",
        "seed = 42  # Random seed for shuffling.\n",
        "tag = \"baseline\" # Give a unique name to your folder - this is to ensure you don't rewrite any models you've already submitted\n",
        "\n",
        "os.environ[\"src\"] = source_language # Sets them in bash as well, since we often use bash scripts\n",
        "os.environ[\"tgt\"] = target_language\n",
        "os.environ[\"tag\"] = tag\n",
        "\n",
        "# This will save it to a folder in our gdrive instead!\n",
        "!mkdir -p \"/content/drive/My Drive/m/$tgt-$src-$tag\"\n",
        "os.environ[\"gdrive_path\"] = \"/content/drive/My Drive/m/%s-%s-%s\" % (target_language, source_language, tag)"
      ],
      "execution_count": 2,
      "outputs": []
    },
    {
      "cell_type": "code",
      "metadata": {
        "colab": {
          "base_uri": "https://localhost:8080/"
        },
        "id": "G4dgTc-GoOvm",
        "outputId": "3afc0d3b-590a-493a-e3ba-1b461fb37587"
      },
      "source": [
        "# confirm the availability of folder\n",
        "\n",
        "!echo $gdrive_path"
      ],
      "execution_count": 3,
      "outputs": [
        {
          "output_type": "stream",
          "name": "stdout",
          "text": [
            "/content/drive/My Drive/m/xh-en-baseline\n"
          ]
        }
      ]
    },
    {
      "cell_type": "code",
      "metadata": {
        "colab": {
          "base_uri": "https://localhost:8080/"
        },
        "id": "m5h1mMp1o-O5",
        "outputId": "18e8e4b2-fe20-425c-ec69-e54f0cd42ccb"
      },
      "source": [
        "# install the opus tools\n",
        "! pip install opustools-pkg"
      ],
      "execution_count": 4,
      "outputs": [
        {
          "output_type": "stream",
          "name": "stdout",
          "text": [
            "Collecting opustools-pkg\n",
            "  Downloading opustools_pkg-0.0.52-py3-none-any.whl (80 kB)\n",
            "\u001b[?25l\r\u001b[K     |████                            | 10 kB 30.4 MB/s eta 0:00:01\r\u001b[K     |████████                        | 20 kB 8.7 MB/s eta 0:00:01\r\u001b[K     |████████████▏                   | 30 kB 7.8 MB/s eta 0:00:01\r\u001b[K     |████████████████▏               | 40 kB 7.4 MB/s eta 0:00:01\r\u001b[K     |████████████████████▎           | 51 kB 4.1 MB/s eta 0:00:01\r\u001b[K     |████████████████████████▎       | 61 kB 4.3 MB/s eta 0:00:01\r\u001b[K     |████████████████████████████▎   | 71 kB 4.4 MB/s eta 0:00:01\r\u001b[K     |████████████████████████████████| 80 kB 3.3 MB/s \n",
            "\u001b[?25hInstalling collected packages: opustools-pkg\n",
            "Successfully installed opustools-pkg-0.0.52\n"
          ]
        }
      ]
    },
    {
      "cell_type": "code",
      "metadata": {
        "colab": {
          "base_uri": "https://localhost:8080/"
        },
        "id": "nLTDBzRbpMON",
        "outputId": "efb901ea-9d3f-4d57-f70c-3ad110031106"
      },
      "source": [
        "# Downloading our corpus\n",
        "! opus_read -d XhosaNavy -s $src -t $tgt -wm moses -w xhosanavy.$src xhosanavy.$tgt -q\n",
        "\n",
        "# extract the corpus file\n",
        "! gunzip XhosaNavy_latest_xml_$src-$tgt.xml.gz"
      ],
      "execution_count": 5,
      "outputs": [
        {
          "output_type": "stream",
          "name": "stdout",
          "text": [
            "\n",
            "Alignment file /proj/nlpl/data/OPUS/XhosaNavy/latest/xml/en-xh.xml.gz not found. The following files are available for downloading:\n",
            "\n",
            " 379 KB https://object.pouta.csc.fi/OPUS-XhosaNavy/v1/xml/en-xh.xml.gz\n",
            "  10 MB https://object.pouta.csc.fi/OPUS-XhosaNavy/v1/xml/en.zip\n",
            "   4 MB https://object.pouta.csc.fi/OPUS-XhosaNavy/v1/xml/xh.zip\n",
            "\n",
            "  14 MB Total size\n",
            "./XhosaNavy_latest_xml_en-xh.xml.gz ... 100% of 379 KB\n",
            "./XhosaNavy_latest_xml_en.zip ... 100% of 10 MB\n",
            "./XhosaNavy_latest_xml_xh.zip ... 100% of 4 MB\n"
          ]
        }
      ]
    },
    {
      "cell_type": "code",
      "metadata": {
        "colab": {
          "base_uri": "https://localhost:8080/"
        },
        "id": "VK10HwFNptkg",
        "outputId": "5237a897-cd08-4a37-e69a-993a07a2890e"
      },
      "source": [
        "# Download the global test set.\n",
        "! wget https://raw.githubusercontent.com/juliakreutzer/masakhane/master/jw300_utils/test/test.en-any.en\n",
        "  \n",
        "# And the specific test set for this language pair.\n",
        "os.environ[\"trg\"] = target_language \n",
        "os.environ[\"src\"] = source_language \n",
        "\n",
        "! wget https://raw.githubusercontent.com/juliakreutzer/masakhane/master/jw300_utils/test/test.en-$trg.en \n",
        "! mv test.en-$trg.en test.en\n",
        "! wget https://raw.githubusercontent.com/juliakreutzer/masakhane/master/jw300_utils/test/test.en-$trg.$trg \n",
        "! mv test.en-$trg.$trg test.$trg"
      ],
      "execution_count": 6,
      "outputs": [
        {
          "output_type": "stream",
          "name": "stdout",
          "text": [
            "--2021-10-23 16:39:06--  https://raw.githubusercontent.com/juliakreutzer/masakhane/master/jw300_utils/test/test.en-any.en\n",
            "Resolving raw.githubusercontent.com (raw.githubusercontent.com)... 185.199.108.133, 185.199.109.133, 185.199.110.133, ...\n",
            "Connecting to raw.githubusercontent.com (raw.githubusercontent.com)|185.199.108.133|:443... connected.\n",
            "HTTP request sent, awaiting response... 200 OK\n",
            "Length: 277791 (271K) [text/plain]\n",
            "Saving to: ‘test.en-any.en’\n",
            "\n",
            "test.en-any.en      100%[===================>] 271.28K  --.-KB/s    in 0.04s   \n",
            "\n",
            "2021-10-23 16:39:06 (6.84 MB/s) - ‘test.en-any.en’ saved [277791/277791]\n",
            "\n",
            "--2021-10-23 16:39:06--  https://raw.githubusercontent.com/juliakreutzer/masakhane/master/jw300_utils/test/test.en-xh.en\n",
            "Resolving raw.githubusercontent.com (raw.githubusercontent.com)... 185.199.110.133, 185.199.108.133, 185.199.111.133, ...\n",
            "Connecting to raw.githubusercontent.com (raw.githubusercontent.com)|185.199.110.133|:443... connected.\n",
            "HTTP request sent, awaiting response... 200 OK\n",
            "Length: 206162 (201K) [text/plain]\n",
            "Saving to: ‘test.en-xh.en’\n",
            "\n",
            "test.en-xh.en       100%[===================>] 201.33K  --.-KB/s    in 0.03s   \n",
            "\n",
            "2021-10-23 16:39:07 (6.57 MB/s) - ‘test.en-xh.en’ saved [206162/206162]\n",
            "\n",
            "--2021-10-23 16:39:07--  https://raw.githubusercontent.com/juliakreutzer/masakhane/master/jw300_utils/test/test.en-xh.xh\n",
            "Resolving raw.githubusercontent.com (raw.githubusercontent.com)... 185.199.108.133, 185.199.109.133, 185.199.110.133, ...\n",
            "Connecting to raw.githubusercontent.com (raw.githubusercontent.com)|185.199.108.133|:443... connected.\n",
            "HTTP request sent, awaiting response... 200 OK\n",
            "Length: 211374 (206K) [text/plain]\n",
            "Saving to: ‘test.en-xh.xh’\n",
            "\n",
            "test.en-xh.xh       100%[===================>] 206.42K  --.-KB/s    in 0.03s   \n",
            "\n",
            "2021-10-23 16:39:07 (6.03 MB/s) - ‘test.en-xh.xh’ saved [211374/211374]\n",
            "\n"
          ]
        }
      ]
    },
    {
      "cell_type": "code",
      "metadata": {
        "colab": {
          "base_uri": "https://localhost:8080/"
        },
        "id": "BKbFyw8qrSnK",
        "outputId": "56b502eb-b5ed-4b46-8989-28cd1c54cf88"
      },
      "source": [
        "# Read the test data to filter from train and dev splits.\n",
        "# Store english portion in set for quick filtering checks.\n",
        "en_test_sents = set()\n",
        "filter_test_sents = \"test.en-any.en\"\n",
        "j = 0\n",
        "with open(filter_test_sents) as f:\n",
        "  for line in f:\n",
        "    en_test_sents.add(line.strip())\n",
        "    j += 1\n",
        "print('Loaded {} global test sentences to filter from the training/dev data.'.format(j))"
      ],
      "execution_count": 7,
      "outputs": [
        {
          "output_type": "stream",
          "name": "stdout",
          "text": [
            "Loaded 3571 global test sentences to filter from the training/dev data.\n"
          ]
        }
      ]
    },
    {
      "cell_type": "code",
      "metadata": {
        "colab": {
          "base_uri": "https://localhost:8080/",
          "height": 159
        },
        "id": "yCmVg7A_sC3O",
        "outputId": "48d07291-939c-4589-abe2-deb6497d0c91"
      },
      "source": [
        "import pandas as pd\n",
        "\n",
        "# TMX file to dataframe\n",
        "source_file = 'xhosanavy.' + source_language\n",
        "target_file = 'xhosanavy.' + target_language\n",
        "\n",
        "source = []\n",
        "target = []\n",
        "skip_lines = []  # Collect the line numbers of the source portion to skip the same lines for the target portion.\n",
        "with open(source_file) as f:\n",
        "    for i, line in enumerate(f):\n",
        "        # Skip sentences that are contained in the test set.\n",
        "        if line.strip() not in en_test_sents:\n",
        "            source.append(line.strip())\n",
        "        else:\n",
        "            skip_lines.append(i)             \n",
        "with open(target_file) as f:\n",
        "    for j, line in enumerate(f):\n",
        "        # Only add to corpus if corresponding source was not skipped.\n",
        "        if j not in skip_lines:\n",
        "            target.append(line.strip())\n",
        "    \n",
        "print('Loaded data and skipped {}/{} lines since contained in test set.'.format(len(skip_lines), i))\n",
        "    \n",
        "df = pd.DataFrame(zip(source, target), columns=['source_sentence', 'target_sentence'])\n",
        "# if you get TypeError: data argument can't be an iterator is because of your zip version run this below\n",
        "#df = pd.DataFrame(list(zip(source, target)), columns=['source_sentence', 'target_sentence'])\n",
        "df.head(3)"
      ],
      "execution_count": 8,
      "outputs": [
        {
          "output_type": "stream",
          "name": "stdout",
          "text": [
            "Loaded data and skipped 1/50097 lines since contained in test set.\n"
          ]
        },
        {
          "output_type": "execute_result",
          "data": {
            "text/html": [
              "<div>\n",
              "<style scoped>\n",
              "    .dataframe tbody tr th:only-of-type {\n",
              "        vertical-align: middle;\n",
              "    }\n",
              "\n",
              "    .dataframe tbody tr th {\n",
              "        vertical-align: top;\n",
              "    }\n",
              "\n",
              "    .dataframe thead th {\n",
              "        text-align: right;\n",
              "    }\n",
              "</style>\n",
              "<table border=\"1\" class=\"dataframe\">\n",
              "  <thead>\n",
              "    <tr style=\"text-align: right;\">\n",
              "      <th></th>\n",
              "      <th>source_sentence</th>\n",
              "      <th>target_sentence</th>\n",
              "    </tr>\n",
              "  </thead>\n",
              "  <tbody>\n",
              "    <tr>\n",
              "      <th>0</th>\n",
              "      <td>Rope and its Usage</td>\n",
              "      <td>Intambo nomsebenzi ewenzayo .</td>\n",
              "    </tr>\n",
              "    <tr>\n",
              "      <th>1</th>\n",
              "      <td>In this chapter are described the various type...</td>\n",
              "      <td>Kwesi sahluko sixelelwa ngendindi zeentambo at...</td>\n",
              "    </tr>\n",
              "    <tr>\n",
              "      <th>2</th>\n",
              "      <td>The chapter has been divided into seven sectio...</td>\n",
              "      <td>Esi sahluko sahlulwa - hlulwe kasixhenxe , zic...</td>\n",
              "    </tr>\n",
              "  </tbody>\n",
              "</table>\n",
              "</div>"
            ],
            "text/plain": [
              "                                     source_sentence                                    target_sentence\n",
              "0                                 Rope and its Usage                      Intambo nomsebenzi ewenzayo .\n",
              "1  In this chapter are described the various type...  Kwesi sahluko sixelelwa ngendindi zeentambo at...\n",
              "2  The chapter has been divided into seven sectio...  Esi sahluko sahlulwa - hlulwe kasixhenxe , zic..."
            ]
          },
          "metadata": {},
          "execution_count": 8
        }
      ]
    },
    {
      "cell_type": "markdown",
      "metadata": {
        "id": "8ucF50K3zQPM"
      },
      "source": [
        "Preprocessing and Export"
      ]
    },
    {
      "cell_type": "code",
      "metadata": {
        "id": "__eSBoVBvaCR",
        "colab": {
          "base_uri": "https://localhost:8080/"
        },
        "outputId": "263b0c99-3afb-4afb-fc9d-9baa63dfff1d"
      },
      "source": [
        "# drop duplicate translations\n",
        "df_pp = df.drop_duplicates()\n",
        "\n",
        "# drop conflicting translations\n",
        "# (this is optional and something that you might want to comment out \n",
        "# depending on the size of your corpus)\n",
        "df_pp.drop_duplicates(subset='source_sentence', inplace=True)\n",
        "df_pp.drop_duplicates(subset='target_sentence', inplace=True)\n",
        "\n",
        "# Shuffle the data to remove bias in dev set selection.\n",
        "df_pp = df_pp.sample(frac=1, random_state=seed).reset_index(drop=True)"
      ],
      "execution_count": 9,
      "outputs": [
        {
          "output_type": "stream",
          "name": "stderr",
          "text": [
            "/usr/local/lib/python3.7/dist-packages/ipykernel_launcher.py:7: SettingWithCopyWarning: \n",
            "A value is trying to be set on a copy of a slice from a DataFrame\n",
            "\n",
            "See the caveats in the documentation: https://pandas.pydata.org/pandas-docs/stable/user_guide/indexing.html#returning-a-view-versus-a-copy\n",
            "  import sys\n",
            "/usr/local/lib/python3.7/dist-packages/ipykernel_launcher.py:8: SettingWithCopyWarning: \n",
            "A value is trying to be set on a copy of a slice from a DataFrame\n",
            "\n",
            "See the caveats in the documentation: https://pandas.pydata.org/pandas-docs/stable/user_guide/indexing.html#returning-a-view-versus-a-copy\n",
            "  \n"
          ]
        }
      ]
    },
    {
      "cell_type": "markdown",
      "metadata": {
        "id": "qRebfZlF0-wn"
      },
      "source": [
        "Remove almost duplicate sentences in the test and training datasets"
      ]
    },
    {
      "cell_type": "code",
      "metadata": {
        "id": "qjpzlSEv1Fda",
        "colab": {
          "base_uri": "https://localhost:8080/"
        },
        "outputId": "1b3e1bb3-c316-449a-9053-a417d24b9f45"
      },
      "source": [
        "# Install fuzzy wuzzy to remove \"almost duplicate\" sentences in the\n",
        "# test and training sets.\n",
        "! pip install fuzzywuzzy\n",
        "! pip install python-Levenshtein\n",
        "import time\n",
        "from fuzzywuzzy import process\n",
        "import numpy as np\n",
        "from os import cpu_count\n",
        "from functools import partial\n",
        "from multiprocessing import Pool\n",
        "\n",
        "\n",
        "# reset the index of the training set after previous filtering\n",
        "df_pp.reset_index(drop=False, inplace=True)\n",
        "\n",
        "# Remove samples from the training data set if they \"almost overlap\" with the\n",
        "# samples in the test set.\n",
        "\n",
        "# Filtering function. Adjust pad to narrow down the candidate matches to\n",
        "# within a certain length of characters of the given sample.\n",
        "def fuzzfilter(sample, candidates, pad):\n",
        "  candidates = [x for x in candidates if len(x) <= len(sample)+pad and len(x) >= len(sample)-pad] \n",
        "  if len(candidates) > 0:\n",
        "    return process.extractOne(sample, candidates)[1]\n",
        "  else:\n",
        "    return np.nan"
      ],
      "execution_count": 10,
      "outputs": [
        {
          "output_type": "stream",
          "name": "stdout",
          "text": [
            "Collecting fuzzywuzzy\n",
            "  Downloading fuzzywuzzy-0.18.0-py2.py3-none-any.whl (18 kB)\n",
            "Installing collected packages: fuzzywuzzy\n",
            "Successfully installed fuzzywuzzy-0.18.0\n",
            "Collecting python-Levenshtein\n",
            "  Downloading python-Levenshtein-0.12.2.tar.gz (50 kB)\n",
            "\u001b[K     |████████████████████████████████| 50 kB 2.4 MB/s \n",
            "\u001b[?25hRequirement already satisfied: setuptools in /usr/local/lib/python3.7/dist-packages (from python-Levenshtein) (57.4.0)\n",
            "Building wheels for collected packages: python-Levenshtein\n",
            "  Building wheel for python-Levenshtein (setup.py) ... \u001b[?25l\u001b[?25hdone\n",
            "  Created wheel for python-Levenshtein: filename=python_Levenshtein-0.12.2-cp37-cp37m-linux_x86_64.whl size=149869 sha256=2654aeb886d137479bdb9f823beafd220954cbd393ba0179202a9cf5ec2e697b\n",
            "  Stored in directory: /root/.cache/pip/wheels/05/5f/ca/7c4367734892581bb5ff896f15027a932c551080b2abd3e00d\n",
            "Successfully built python-Levenshtein\n",
            "Installing collected packages: python-Levenshtein\n",
            "Successfully installed python-Levenshtein-0.12.2\n"
          ]
        }
      ]
    },
    {
      "cell_type": "markdown",
      "metadata": {
        "id": "zDD37_GmzO3n"
      },
      "source": [
        "Split between the train/dev for the parallel corpora them saves them as separate files\n"
      ]
    },
    {
      "cell_type": "code",
      "metadata": {
        "id": "FUlWNE5nhOXS"
      },
      "source": [
        "# start_time = time.time()\n",
        "# # ### iterating over pandas dataframe rows is not recomended, let use multi processing to apply the function\n",
        "\n",
        "# with Pool(cpu_count()-1) as pool:\n",
        "#     scores = pool.map(partial(fuzzfilter, candidates=list(en_test_sents), pad=5), df_pp['source_sentence'])\n",
        "# hours, rem = divmod(time.time() - start_time, 3600)\n",
        "# minutes, seconds = divmod(rem, 60)\n",
        "# print(\"done in {}h:{}min:{}seconds\".format(hours, minutes, seconds))\n",
        "\n",
        "# # Filter out \"almost overlapping samples\"\n",
        "# df_pp = df_pp.assign(scores=scores)\n",
        "# df_pp = df_pp[df_pp['scores'] < 95]"
      ],
      "execution_count": 11,
      "outputs": []
    },
    {
      "cell_type": "code",
      "metadata": {
        "id": "vZZ4pIQD1xJa",
        "colab": {
          "base_uri": "https://localhost:8080/"
        },
        "outputId": "608d32af-89d3-47a9-d452-40f6ecc9e900"
      },
      "source": [
        "import csv\n",
        "\n",
        "# Do the split between dev/train and create parallel corpora\n",
        "num_dev_patterns = 1000\n",
        "\n",
        "# Optional: lower case the corpora - this will make it easier to generalize, but without proper casing.\n",
        "if lc:  # Julia: making lowercasing optional\n",
        "    df_pp[\"source_sentence\"] = df_pp[\"source_sentence\"].str.lower()\n",
        "    df_pp[\"target_sentence\"] = df_pp[\"target_sentence\"].str.lower()\n",
        "\n",
        "# Julia: test sets are already generated\n",
        "dev = df_pp.tail(num_dev_patterns) # Herman: Error in original\n",
        "stripped = df_pp.drop(df_pp.tail(num_dev_patterns).index)\n",
        "\n",
        "with open(\"train.\"+source_language, \"w\") as src_file, open(\"train.\"+target_language, \"w\") as trg_file:\n",
        "  for index, row in stripped.iterrows():\n",
        "    src_file.write(row[\"source_sentence\"]+\"\\n\")\n",
        "    trg_file.write(row[\"target_sentence\"]+\"\\n\")\n",
        "    \n",
        "with open(\"dev.\"+source_language, \"w\") as src_file, open(\"dev.\"+target_language, \"w\") as trg_file:\n",
        "  for index, row in dev.iterrows():\n",
        "    src_file.write(row[\"source_sentence\"]+\"\\n\")\n",
        "    trg_file.write(row[\"target_sentence\"]+\"\\n\")\n",
        "! head train.*\n",
        "! head dev.*"
      ],
      "execution_count": 12,
      "outputs": [
        {
          "output_type": "stream",
          "name": "stdout",
          "text": [
            "==> train.en <==\n",
            "It is advisable to stop engines , however , a little later than usual .\n",
            "Hermes , of the Highflyer class , was converted into a seaplane carrier just before the war .\n",
            "Countermine\n",
            "Even in the future , ships for the carriage of general cargo will not exceed a deadweight of 25,000 tons , with the majority having deadweights of about 12,000 to 15,000 tons .\n",
            "Their chief characteristic was speed .\n",
            "This naval strength declined a little after the war .\n",
            "He does not rebuke an inexperienced Officer of the Watch who occasionally calls him on some trivial pretext .\n",
            "For this remarkable instrument , could keep accurate time for a long period at sea despite changes of temperature and the motion of the vessel .\n",
            "To expedite the administration of a deceased 's estate , the following documents must be kept in a safe place .\n",
            "They are a type of portable walkway constructed of either wood or aluminium .\n",
            "\n",
            "==> train.xh <==\n",
            "Kucetyiswa ukuba umise i-injini , nakanjani kancinci kune siqhelo .\n",
            "Hermes ( isithunywa ) wodidi olunenjongo eziphakamileyo watshintshelwa kwinqwelo ntaka yolwandle ephathayo kanye phambi kwemfazwe .\n",
            "Ibhombu yokuzikhusela elwandle\n",
            "Nakubomi obuzayo , iinqanawa zokuthutha umthwalo jikelele azinakodlula ubunzima bomthuwalo wanqanawa wamashumi amabini anesihlanu amawaka eetoni , kwisininzi esinobunzima bomthwalo wenqanawa esinamalunga neshumi elinambini lamawaka ukuya kwishumi elinesihlanu seetoni .\n",
            "Eyona Nkosi iluphawu yayi sisantya .\n",
            "Oko komelela komkhosi waselwandle kehla kancinci emva kwemfazwe .\n",
            "Akalihlawuli igosa elingenamava nokumbiza kwenye yamampunge .\n",
            "Okukuqwalaseleka kwesisixhobo , kungagcina khuselekileyo ixesha elide behlala elwandle nangona bangamoshwa kukutshintsha kobushushu kunye neentshukumo zenqanawa .\n",
            "Ukukhawulezisa ukulawulwa komhlaba womfi ( kazi ) , la maxwebhu alandelayo kumele agcinwe kwindawo ekhuselekileyo .\n",
            "Kukho iintlobo eziphathekayo xa uhamba ezakhiwe ngamaplanga okanye ngohlobo lwesinyithi esimhlophe esilula esilushica .\n",
            "==> dev.en <==\n",
            "153 . SART\n",
            "This could cause or allow the fire to reignite .\n",
            "The details are required in order to refute or substantiate claims for loss or damage of gear subsequently made by the fishing vessels concerned .\n",
            "Decks are supported by beams which extend athwartships between the frames .\n",
            "Width is up to 50 miles .\n",
            "That part of a vessel where the planks begin to bend as they approach the stern .\n",
            "To unintentionally swing the ship around broadside to a wave .\n",
            "These were the Diadems of the late 1890s .\n",
            "99 . Radio repeater\n",
            "In practice , error can be calculated and applied in one 's head , but for reference it is always advisable to record the figures on the chart .\n",
            "\n",
            "==> dev.xh <==\n",
            "153 . I-SART\n",
            "Oku kungabangela okanye kwamkeleke emlilweni ngoku lumeka .\n",
            "Kumele ukuba inqanawa zinesiqhubi esiphambili kwikqubo ekhawulezileyo .\n",
            "Imigonyetho ixhathise ngemiqadi enabela inqamleze inqanawe phakatbi kwefreyimci .\n",
            "Ububanzi bumalunga neemayile ezingamashumi amahlanu .\n",
            "Indawo yesikhephe apho aqala khona amaplanga ukugoba njengoko efikelela kumva waso .\n",
            "Ukujikela inqanawe ngokungekho njongweni ngecala eliphezu kwamanzi ukuya kumaza .\n",
            "ZaziziDiadems zokuphela koo1980 .\n",
            "99 . Isiphithi sikanomathotholo\n",
            "Ekuziqhelaniseni , impazamo ingabalwa okanye isetyenziswe kwintloko , kodwa ukwenzela ukungalibeli okanye ukukhangela , kucetyiswa ukuba ubhale amanani kwitshati .\n"
          ]
        }
      ]
    },
    {
      "cell_type": "markdown",
      "metadata": {
        "id": "-vT1jHqGnLWS"
      },
      "source": [
        "## Installation of JoeyNMT\n",
        "This is a simple, minimal Neural Machine Translation package for learning and teaching"
      ]
    },
    {
      "cell_type": "code",
      "metadata": {
        "colab": {
          "base_uri": "https://localhost:8080/"
        },
        "id": "ndgKut6bmrmn",
        "outputId": "1b4c5b1a-0db6-4010-d554-f5305899dee1"
      },
      "source": [
        "\n",
        "\n",
        "# Install JoeyNMT\n",
        "! git clone https://github.com/joeynmt/joeynmt.git\n",
        "! cd joeynmt; pip3 install .\n",
        "# Install Pytorch with GPU support v1.7.1.\n",
        "! pip3 install torch -f https://download.pytorch.org/whl/torch_stable.html"
      ],
      "execution_count": 13,
      "outputs": [
        {
          "output_type": "stream",
          "name": "stdout",
          "text": [
            "Cloning into 'joeynmt'...\n",
            "remote: Enumerating objects: 3224, done.\u001b[K\n",
            "remote: Counting objects: 100% (273/273), done.\u001b[K\n",
            "remote: Compressing objects: 100% (139/139), done.\u001b[K\n",
            "remote: Total 3224 (delta 157), reused 206 (delta 134), pack-reused 2951\u001b[K\n",
            "Receiving objects: 100% (3224/3224), 8.17 MiB | 7.70 MiB/s, done.\n",
            "Resolving deltas: 100% (2186/2186), done.\n",
            "Processing /content/joeynmt\n",
            "\u001b[33m  DEPRECATION: A future pip version will change local packages to be built in-place without first copying to a temporary directory. We recommend you use --use-feature=in-tree-build to test your packages with this new behavior before it becomes the default.\n",
            "   pip 21.3 will remove support for this functionality. You can find discussion regarding this at https://github.com/pypa/pip/issues/7555.\u001b[0m\n",
            "Requirement already satisfied: future in /usr/local/lib/python3.7/dist-packages (from joeynmt==1.3) (0.16.0)\n",
            "Requirement already satisfied: pillow in /usr/local/lib/python3.7/dist-packages (from joeynmt==1.3) (7.1.2)\n",
            "Requirement already satisfied: numpy>=1.19.5 in /usr/local/lib/python3.7/dist-packages (from joeynmt==1.3) (1.19.5)\n",
            "Requirement already satisfied: setuptools>=41.0.0 in /usr/local/lib/python3.7/dist-packages (from joeynmt==1.3) (57.4.0)\n",
            "Requirement already satisfied: torch>=1.9.0 in /usr/local/lib/python3.7/dist-packages (from joeynmt==1.3) (1.9.0+cu111)\n",
            "Requirement already satisfied: tensorboard>=1.15 in /usr/local/lib/python3.7/dist-packages (from joeynmt==1.3) (2.6.0)\n",
            "Requirement already satisfied: torchtext>=0.10.0 in /usr/local/lib/python3.7/dist-packages (from joeynmt==1.3) (0.10.0)\n",
            "Collecting sacrebleu>=2.0.0\n",
            "  Downloading sacrebleu-2.0.0-py3-none-any.whl (90 kB)\n",
            "\u001b[K     |████████████████████████████████| 90 kB 3.6 MB/s \n",
            "\u001b[?25hCollecting subword-nmt\n",
            "  Downloading subword_nmt-0.3.7-py2.py3-none-any.whl (26 kB)\n",
            "Requirement already satisfied: matplotlib in /usr/local/lib/python3.7/dist-packages (from joeynmt==1.3) (3.2.2)\n",
            "Requirement already satisfied: seaborn in /usr/local/lib/python3.7/dist-packages (from joeynmt==1.3) (0.11.2)\n",
            "Collecting pyyaml>=5.1\n",
            "  Downloading PyYAML-6.0-cp37-cp37m-manylinux_2_5_x86_64.manylinux1_x86_64.manylinux_2_12_x86_64.manylinux2010_x86_64.whl (596 kB)\n",
            "\u001b[K     |████████████████████████████████| 596 kB 24.5 MB/s \n",
            "\u001b[?25hCollecting pylint>=2.9.6\n",
            "  Downloading pylint-2.11.1-py3-none-any.whl (392 kB)\n",
            "\u001b[K     |████████████████████████████████| 392 kB 36.2 MB/s \n",
            "\u001b[?25hCollecting six==1.12\n",
            "  Downloading six-1.12.0-py2.py3-none-any.whl (10 kB)\n",
            "Collecting wrapt==1.11.1\n",
            "  Downloading wrapt-1.11.1.tar.gz (27 kB)\n",
            "Requirement already satisfied: toml>=0.7.1 in /usr/local/lib/python3.7/dist-packages (from pylint>=2.9.6->joeynmt==1.3) (0.10.2)\n",
            "Collecting typing-extensions>=3.10.0\n",
            "  Downloading typing_extensions-3.10.0.2-py3-none-any.whl (26 kB)\n",
            "Collecting isort<6,>=4.2.5\n",
            "  Downloading isort-5.9.3-py3-none-any.whl (106 kB)\n",
            "\u001b[K     |████████████████████████████████| 106 kB 39.3 MB/s \n",
            "\u001b[?25hCollecting platformdirs>=2.2.0\n",
            "  Downloading platformdirs-2.4.0-py3-none-any.whl (14 kB)\n",
            "Collecting mccabe<0.7,>=0.6\n",
            "  Downloading mccabe-0.6.1-py2.py3-none-any.whl (8.6 kB)\n",
            "Collecting astroid<2.9,>=2.8.0\n",
            "  Downloading astroid-2.8.3-py3-none-any.whl (246 kB)\n",
            "\u001b[K     |████████████████████████████████| 246 kB 44.4 MB/s \n",
            "\u001b[?25hCollecting typed-ast<1.5,>=1.4.0\n",
            "  Downloading typed_ast-1.4.3-cp37-cp37m-manylinux1_x86_64.whl (743 kB)\n",
            "\u001b[K     |████████████████████████████████| 743 kB 32.7 MB/s \n",
            "\u001b[?25hCollecting lazy-object-proxy>=1.4.0\n",
            "  Downloading lazy_object_proxy-1.6.0-cp37-cp37m-manylinux1_x86_64.whl (55 kB)\n",
            "\u001b[K     |████████████████████████████████| 55 kB 3.6 MB/s \n",
            "\u001b[?25hCollecting portalocker\n",
            "  Downloading portalocker-2.3.2-py2.py3-none-any.whl (15 kB)\n",
            "Requirement already satisfied: regex in /usr/local/lib/python3.7/dist-packages (from sacrebleu>=2.0.0->joeynmt==1.3) (2019.12.20)\n",
            "Requirement already satisfied: tabulate>=0.8.9 in /usr/local/lib/python3.7/dist-packages (from sacrebleu>=2.0.0->joeynmt==1.3) (0.8.9)\n",
            "Collecting colorama\n",
            "  Downloading colorama-0.4.4-py2.py3-none-any.whl (16 kB)\n",
            "Requirement already satisfied: grpcio>=1.24.3 in /usr/local/lib/python3.7/dist-packages (from tensorboard>=1.15->joeynmt==1.3) (1.41.0)\n",
            "Requirement already satisfied: werkzeug>=0.11.15 in /usr/local/lib/python3.7/dist-packages (from tensorboard>=1.15->joeynmt==1.3) (1.0.1)\n",
            "Requirement already satisfied: tensorboard-plugin-wit>=1.6.0 in /usr/local/lib/python3.7/dist-packages (from tensorboard>=1.15->joeynmt==1.3) (1.8.0)\n",
            "Requirement already satisfied: absl-py>=0.4 in /usr/local/lib/python3.7/dist-packages (from tensorboard>=1.15->joeynmt==1.3) (0.12.0)\n",
            "Requirement already satisfied: google-auth-oauthlib<0.5,>=0.4.1 in /usr/local/lib/python3.7/dist-packages (from tensorboard>=1.15->joeynmt==1.3) (0.4.6)\n",
            "Requirement already satisfied: tensorboard-data-server<0.7.0,>=0.6.0 in /usr/local/lib/python3.7/dist-packages (from tensorboard>=1.15->joeynmt==1.3) (0.6.1)\n",
            "Requirement already satisfied: protobuf>=3.6.0 in /usr/local/lib/python3.7/dist-packages (from tensorboard>=1.15->joeynmt==1.3) (3.17.3)\n",
            "Requirement already satisfied: requests<3,>=2.21.0 in /usr/local/lib/python3.7/dist-packages (from tensorboard>=1.15->joeynmt==1.3) (2.23.0)\n",
            "Requirement already satisfied: google-auth<2,>=1.6.3 in /usr/local/lib/python3.7/dist-packages (from tensorboard>=1.15->joeynmt==1.3) (1.35.0)\n",
            "Requirement already satisfied: wheel>=0.26 in /usr/local/lib/python3.7/dist-packages (from tensorboard>=1.15->joeynmt==1.3) (0.37.0)\n",
            "Requirement already satisfied: markdown>=2.6.8 in /usr/local/lib/python3.7/dist-packages (from tensorboard>=1.15->joeynmt==1.3) (3.3.4)\n",
            "Requirement already satisfied: pyasn1-modules>=0.2.1 in /usr/local/lib/python3.7/dist-packages (from google-auth<2,>=1.6.3->tensorboard>=1.15->joeynmt==1.3) (0.2.8)\n",
            "Requirement already satisfied: cachetools<5.0,>=2.0.0 in /usr/local/lib/python3.7/dist-packages (from google-auth<2,>=1.6.3->tensorboard>=1.15->joeynmt==1.3) (4.2.4)\n",
            "Requirement already satisfied: rsa<5,>=3.1.4 in /usr/local/lib/python3.7/dist-packages (from google-auth<2,>=1.6.3->tensorboard>=1.15->joeynmt==1.3) (4.7.2)\n",
            "Requirement already satisfied: requests-oauthlib>=0.7.0 in /usr/local/lib/python3.7/dist-packages (from google-auth-oauthlib<0.5,>=0.4.1->tensorboard>=1.15->joeynmt==1.3) (1.3.0)\n",
            "Requirement already satisfied: importlib-metadata in /usr/local/lib/python3.7/dist-packages (from markdown>=2.6.8->tensorboard>=1.15->joeynmt==1.3) (4.8.1)\n",
            "Requirement already satisfied: pyasn1<0.5.0,>=0.4.6 in /usr/local/lib/python3.7/dist-packages (from pyasn1-modules>=0.2.1->google-auth<2,>=1.6.3->tensorboard>=1.15->joeynmt==1.3) (0.4.8)\n",
            "Requirement already satisfied: idna<3,>=2.5 in /usr/local/lib/python3.7/dist-packages (from requests<3,>=2.21.0->tensorboard>=1.15->joeynmt==1.3) (2.10)\n",
            "Requirement already satisfied: chardet<4,>=3.0.2 in /usr/local/lib/python3.7/dist-packages (from requests<3,>=2.21.0->tensorboard>=1.15->joeynmt==1.3) (3.0.4)\n",
            "Requirement already satisfied: certifi>=2017.4.17 in /usr/local/lib/python3.7/dist-packages (from requests<3,>=2.21.0->tensorboard>=1.15->joeynmt==1.3) (2021.5.30)\n",
            "Requirement already satisfied: urllib3!=1.25.0,!=1.25.1,<1.26,>=1.21.1 in /usr/local/lib/python3.7/dist-packages (from requests<3,>=2.21.0->tensorboard>=1.15->joeynmt==1.3) (1.24.3)\n",
            "Requirement already satisfied: oauthlib>=3.0.0 in /usr/local/lib/python3.7/dist-packages (from requests-oauthlib>=0.7.0->google-auth-oauthlib<0.5,>=0.4.1->tensorboard>=1.15->joeynmt==1.3) (3.1.1)\n",
            "Requirement already satisfied: tqdm in /usr/local/lib/python3.7/dist-packages (from torchtext>=0.10.0->joeynmt==1.3) (4.62.3)\n",
            "Requirement already satisfied: zipp>=0.5 in /usr/local/lib/python3.7/dist-packages (from importlib-metadata->markdown>=2.6.8->tensorboard>=1.15->joeynmt==1.3) (3.6.0)\n",
            "Requirement already satisfied: python-dateutil>=2.1 in /usr/local/lib/python3.7/dist-packages (from matplotlib->joeynmt==1.3) (2.8.2)\n",
            "Requirement already satisfied: kiwisolver>=1.0.1 in /usr/local/lib/python3.7/dist-packages (from matplotlib->joeynmt==1.3) (1.3.2)\n",
            "Requirement already satisfied: cycler>=0.10 in /usr/local/lib/python3.7/dist-packages (from matplotlib->joeynmt==1.3) (0.10.0)\n",
            "Requirement already satisfied: pyparsing!=2.0.4,!=2.1.2,!=2.1.6,>=2.0.1 in /usr/local/lib/python3.7/dist-packages (from matplotlib->joeynmt==1.3) (2.4.7)\n",
            "Requirement already satisfied: scipy>=1.0 in /usr/local/lib/python3.7/dist-packages (from seaborn->joeynmt==1.3) (1.4.1)\n",
            "Requirement already satisfied: pandas>=0.23 in /usr/local/lib/python3.7/dist-packages (from seaborn->joeynmt==1.3) (1.1.5)\n",
            "Requirement already satisfied: pytz>=2017.2 in /usr/local/lib/python3.7/dist-packages (from pandas>=0.23->seaborn->joeynmt==1.3) (2018.9)\n",
            "Building wheels for collected packages: joeynmt, wrapt\n",
            "  Building wheel for joeynmt (setup.py) ... \u001b[?25l\u001b[?25hdone\n",
            "  Created wheel for joeynmt: filename=joeynmt-1.3-py3-none-any.whl size=86029 sha256=46dc0e403152b07d6c14d4cda94114fba2c67c24200fd7377e0205964e56ee04\n",
            "  Stored in directory: /tmp/pip-ephem-wheel-cache-52m_yujr/wheels/0a/f4/bf/6c9d3b8efbfece6cd209f865be37382b02e7c3584df2e28ca4\n",
            "  Building wheel for wrapt (setup.py) ... \u001b[?25l\u001b[?25hdone\n",
            "  Created wheel for wrapt: filename=wrapt-1.11.1-cp37-cp37m-linux_x86_64.whl size=68432 sha256=dfd1c729f1d3eba3ab72447471f701b62981c9f2844cdddbc139245fe99d12f2\n",
            "  Stored in directory: /root/.cache/pip/wheels/4e/58/9d/da8bad4545585ca52311498ff677647c95c7b690b3040171f8\n",
            "Successfully built joeynmt wrapt\n",
            "Installing collected packages: typing-extensions, six, wrapt, typed-ast, lazy-object-proxy, portalocker, platformdirs, mccabe, isort, colorama, astroid, subword-nmt, sacrebleu, pyyaml, pylint, joeynmt\n",
            "  Attempting uninstall: typing-extensions\n",
            "    Found existing installation: typing-extensions 3.7.4.3\n",
            "    Uninstalling typing-extensions-3.7.4.3:\n",
            "      Successfully uninstalled typing-extensions-3.7.4.3\n",
            "  Attempting uninstall: six\n",
            "    Found existing installation: six 1.15.0\n",
            "    Uninstalling six-1.15.0:\n",
            "      Successfully uninstalled six-1.15.0\n",
            "  Attempting uninstall: wrapt\n",
            "    Found existing installation: wrapt 1.12.1\n",
            "    Uninstalling wrapt-1.12.1:\n",
            "      Successfully uninstalled wrapt-1.12.1\n",
            "  Attempting uninstall: pyyaml\n",
            "    Found existing installation: PyYAML 3.13\n",
            "    Uninstalling PyYAML-3.13:\n",
            "      Successfully uninstalled PyYAML-3.13\n",
            "\u001b[31mERROR: pip's dependency resolver does not currently take into account all the packages that are installed. This behaviour is the source of the following dependency conflicts.\n",
            "tensorflow 2.6.0 requires six~=1.15.0, but you have six 1.12.0 which is incompatible.\n",
            "tensorflow 2.6.0 requires typing-extensions~=3.7.4, but you have typing-extensions 3.10.0.2 which is incompatible.\n",
            "tensorflow 2.6.0 requires wrapt~=1.12.1, but you have wrapt 1.11.1 which is incompatible.\n",
            "google-colab 1.0.0 requires six~=1.15.0, but you have six 1.12.0 which is incompatible.\n",
            "google-api-python-client 1.12.8 requires six<2dev,>=1.13.0, but you have six 1.12.0 which is incompatible.\n",
            "google-api-core 1.26.3 requires six>=1.13.0, but you have six 1.12.0 which is incompatible.\n",
            "datascience 0.10.6 requires folium==0.2.1, but you have folium 0.8.3 which is incompatible.\n",
            "albumentations 0.1.12 requires imgaug<0.2.7,>=0.2.5, but you have imgaug 0.2.9 which is incompatible.\u001b[0m\n",
            "Successfully installed astroid-2.8.3 colorama-0.4.4 isort-5.9.3 joeynmt-1.3 lazy-object-proxy-1.6.0 mccabe-0.6.1 platformdirs-2.4.0 portalocker-2.3.2 pylint-2.11.1 pyyaml-6.0 sacrebleu-2.0.0 six-1.12.0 subword-nmt-0.3.7 typed-ast-1.4.3 typing-extensions-3.10.0.2 wrapt-1.11.1\n",
            "Looking in links: https://download.pytorch.org/whl/torch_stable.html\n",
            "Requirement already satisfied: torch in /usr/local/lib/python3.7/dist-packages (1.9.0+cu111)\n",
            "Requirement already satisfied: typing-extensions in /usr/local/lib/python3.7/dist-packages (from torch) (3.10.0.2)\n"
          ]
        }
      ]
    },
    {
      "cell_type": "markdown",
      "metadata": {
        "id": "v8pDGN3RnKHS"
      },
      "source": [
        "##Preprocessing the data into Subword BPE Tokens"
      ]
    },
    {
      "cell_type": "code",
      "metadata": {
        "colab": {
          "base_uri": "https://localhost:8080/"
        },
        "id": "afbLspNgpR3p",
        "outputId": "5a3325f1-0a9f-48a2-e52c-0cf2e6fddf20"
      },
      "source": [
        "from os import path\n",
        "os.environ[\"src\"] = source_language # Sets them in bash as well, since we often use bash scripts\n",
        "os.environ[\"tgt\"] = target_language\n",
        "\n",
        "# Learn BPEs on the training data.\n",
        "os.environ[\"data_path\"] = path.join(\"joeynmt\", \"data\",target_language + source_language ) # Herman! \n",
        "! subword-nmt learn-joint-bpe-and-vocab --input train.$src train.$tgt -s 4000 -o bpe.codes.4000 --write-vocabulary vocab.$src vocab.$tgt\n",
        "\n",
        "# Apply BPE splits to the development and test data.\n",
        "! subword-nmt apply-bpe -c bpe.codes.4000 --vocabulary vocab.$src < train.$src > train.bpe.$src\n",
        "! subword-nmt apply-bpe -c bpe.codes.4000 --vocabulary vocab.$tgt < train.$tgt > train.bpe.$tgt\n",
        "\n",
        "! subword-nmt apply-bpe -c bpe.codes.4000 --vocabulary vocab.$src < dev.$src > dev.bpe.$src\n",
        "! subword-nmt apply-bpe -c bpe.codes.4000 --vocabulary vocab.$tgt < dev.$tgt > dev.bpe.$tgt\n",
        "! subword-nmt apply-bpe -c bpe.codes.4000 --vocabulary vocab.$src < test.$src > test.bpe.$src\n",
        "! subword-nmt apply-bpe -c bpe.codes.4000 --vocabulary vocab.$tgt < test.$tgt > test.bpe.$tgt\n",
        "\n",
        "# Create directory, move everyone we care about to the correct location\n",
        "! mkdir -p $data_path\n",
        "! cp train.* $data_path\n",
        "! cp test.* $data_path\n",
        "! cp dev.* $data_path\n",
        "! cp bpe.codes.4000 $data_path\n",
        "! ls $data_path\n",
        "\n",
        "! cp train.* \"$gdrive_path\"\n",
        "! cp test.* \"$gdrive_path\"\n",
        "! cp dev.* \"$gdrive_path\"\n",
        "! cp bpe.codes.4000 \"$gdrive_path\"\n",
        "! ls \"$gdrive_path\"\n",
        "\n",
        "# Create that vocab using build_vocab\n",
        "! sudo chmod 777 joeynmt/scripts/build_vocab.py\n",
        "! joeynmt/scripts/build_vocab.py joeynmt/data/$tgt$src/train.bpe.$src joeynmt/data/$tgt$src/train.bpe.$tgt --output_path joeynmt/data/$tgt$src/vocab.txt\n",
        "\n",
        "# Some output\n",
        "! echo \"BPE isiXhosa Sentences\"\n",
        "! tail -n 5 test.bpe.$tgt\n",
        "! echo \"Combined BPE Vocab\"\n",
        "! tail -n 10 joeynmt/data/$tgt$src/vocab.txt  # Herman"
      ],
      "execution_count": 14,
      "outputs": [
        {
          "output_type": "stream",
          "name": "stdout",
          "text": [
            "bpe.codes.4000\tdev.en\t     test.bpe.xh     test.xh\t   train.en\n",
            "dev.bpe.en\tdev.xh\t     test.en\t     train.bpe.en  train.xh\n",
            "dev.bpe.xh\ttest.bpe.en  test.en-any.en  train.bpe.xh\n",
            "bpe.codes.4000\tdev.en\ttest.bpe.en  test.en-any.en    test.xh\t     train.en\n",
            "dev.bpe.en\tdev.xh\ttest.bpe.xh  test.en-any.en.1  train.bpe.en  train.xh\n",
            "dev.bpe.xh\tmodels\ttest.en      test.en-any.en.2  train.bpe.xh\n",
            "BPE isiXhosa Sentences\n",
            "Oku kw@@ aph@@ umela ekub@@ eni nd@@ id@@ ume njengom@@ ntu ong@@ any@@ anis@@ ekanga .\n",
            "Xa nd@@ af@@ und@@ a iny@@ aniso , and@@ iz@@ ange nd@@ iph@@ inde nd@@ iv@@ ume uku@@ qhub@@ eka n@@ dis@@ enza oko , naku@@ b@@ eni nd@@ and@@ ihl@@ awulwa um@@ v@@ uzo on@@ c@@ um@@ isayo .\n",
            "N@@ d@@ ing@@ umzekelo om@@ hle ko@@ ony@@ ana b@@ am ab@@ abini yaye n@@ di@@ ye nd@@ af@@ an@@ elek@@ ela am@@ alung@@ elo ang@@ akumbi eb@@ andl@@ eni .\n",
            "N@@ d@@ aziwa njengom@@ ntu ony@@ anis@@ ekileyo ngab@@ antu end@@ ish@@ ish@@ ina kunye n@@ abo kwan@@ ab@@ ahl@@ ol@@ i boku@@ m@@ a kwem@@ ali ye@@ enk@@ amp@@ ani ( ta@@ x a@@ ud@@ it@@ ors ) . ”\n",
            "U@@ R@@ ute w@@ af@@ ud@@ ukela kwa@@ S@@ ir@@ ay@@ eli apho way@@ eza ku@@ kw@@ azi ukun@@ q@@ ula oy@@ ena Th@@ ix@@ o wo@@ kw@@ eny@@ aniso .\n",
            "Combined BPE Vocab\n",
            "ﾲ\n",
            "¾@@\n",
            ">\n",
            "•\n",
            "IEE@@\n",
            "ü@@\n",
            "ﾅ\n",
            "trib@@\n",
            "<\n",
            "\n"
          ]
        }
      ]
    },
    {
      "cell_type": "code",
      "metadata": {
        "colab": {
          "base_uri": "https://localhost:8080/"
        },
        "id": "AMOouv3K183J",
        "outputId": "8514c3a5-3e68-45a3-9ac7-1141651c49ef"
      },
      "source": [
        "# Also move everything we care about to a mounted location in google drive (relevant if running in colab) at gdrive_path\n",
        "! cp train.* \"$gdrive_path\"\n",
        "! cp test.* \"$gdrive_path\"\n",
        "! cp dev.* \"$gdrive_path\"\n",
        "! cp bpe.codes.4000 \"$gdrive_path\"\n",
        "! ls \"$gdrive_path\""
      ],
      "execution_count": 15,
      "outputs": [
        {
          "output_type": "stream",
          "name": "stdout",
          "text": [
            "bpe.codes.4000\tdev.en\ttest.bpe.en  test.en-any.en    test.xh\t     train.en\n",
            "dev.bpe.en\tdev.xh\ttest.bpe.xh  test.en-any.en.1  train.bpe.en  train.xh\n",
            "dev.bpe.xh\tmodels\ttest.en      test.en-any.en.2  train.bpe.xh\n"
          ]
        }
      ]
    },
    {
      "cell_type": "code",
      "metadata": {
        "id": "eqk_sgJz7Cky"
      },
      "source": [
        "name = '%s%s' % (target_language, source_language)\n",
        "# gdrive_path = os.environ[\"gdrive_path\"]\n",
        "\n",
        "# Create the config\n",
        "config = \"\"\"\n",
        "name: \"{target_language}{source_language}_reverse_transformer\"\n",
        "\n",
        "data:\n",
        "    src: \"{target_language}\"\n",
        "    trg: \"{source_language}\"\n",
        "    train: \"data/{name}/train.bpe\"\n",
        "    dev:   \"data/{name}/dev.bpe\"\n",
        "    test:  \"data/{name}/test.bpe\"\n",
        "    level: \"bpe\"\n",
        "    lowercase: False\n",
        "    max_sent_length: 100\n",
        "    src_vocab: \"data/{name}/vocab.txt\"\n",
        "    trg_vocab: \"data/{name}/vocab.txt\"\n",
        "\n",
        "testing:\n",
        "    beam_size: 5\n",
        "    alpha: 1.0\n",
        "\n",
        "training:\n",
        "    #load_model: \"{gdrive_path}/models/{name}_transformer/1.ckpt\" # if uncommented, load a pre-trained model from this checkpoint\n",
        "    random_seed: 42\n",
        "    optimizer: \"adam\"\n",
        "    normalization: \"tokens\"\n",
        "    adam_betas: [0.9, 0.999] \n",
        "    scheduling: \"plateau\"           # TODO: try switching from plateau to Noam scheduling\n",
        "    patience: 5                     # For plateau: decrease learning rate by decrease_factor if validation score has not improved for this many validation rounds.\n",
        "    learning_rate_factor: 0.5       # factor for Noam scheduler (used with Transformer)\n",
        "    learning_rate_warmup: 1000      # warmup steps for Noam scheduler (used with Transformer)\n",
        "    decrease_factor: 0.7\n",
        "    loss: \"crossentropy\"\n",
        "    learning_rate: 0.0003\n",
        "    learning_rate_min: 0.00000001\n",
        "    weight_decay: 0.0\n",
        "    label_smoothing: 0.1\n",
        "    batch_size: 4096\n",
        "    batch_type: \"token\"\n",
        "    eval_batch_size: 3600\n",
        "    eval_batch_type: \"token\"\n",
        "    batch_multiplier: 1\n",
        "    early_stopping_metric: \"ppl\"\n",
        "    epochs: 10                  # TODO: Decrease for when playing around and checking of working. Around 30 is sufficient to check if its working at all\n",
        "    validation_freq: 1000          # TODO: Set to at least once per epoch.\n",
        "    logging_freq: 100\n",
        "    eval_metric: \"bleu\"\n",
        "    model_dir: \"models/{name}_reverse_transformer\"\n",
        "    overwrite: True              # TODO: Set to True if you want to overwrite possibly existing models. \n",
        "    shuffle: True\n",
        "    use_cuda: True\n",
        "    max_output_length: 100\n",
        "    print_valid_sents: [0, 1, 2, 3]\n",
        "    keep_last_ckpts: 3\n",
        "\n",
        "model:\n",
        "    initializer: \"xavier\"\n",
        "    bias_initializer: \"zeros\"\n",
        "    init_gain: 1.0\n",
        "    embed_initializer: \"xavier\"\n",
        "    embed_init_gain: 1.0\n",
        "    tied_embeddings: True\n",
        "    tied_softmax: True\n",
        "    encoder:\n",
        "        type: \"transformer\"\n",
        "        num_layers: 6\n",
        "        num_heads: 4             # TODO: Increase to 8 for larger data.\n",
        "        embeddings:\n",
        "            embedding_dim: 256   # TODO: Increase to 512 for larger data.\n",
        "            scale: True\n",
        "            dropout: 0.2\n",
        "        # typically ff_size = 4 x hidden_size\n",
        "        hidden_size: 256         # TODO: Increase to 512 for larger data.\n",
        "        ff_size: 1024            # TODO: Increase to 2048 for larger data.\n",
        "        dropout: 0.3\n",
        "    decoder:\n",
        "        type: \"transformer\"\n",
        "        num_layers: 6\n",
        "        num_heads: 4              # TODO: Increase to 8 for larger data.\n",
        "        embeddings:\n",
        "            embedding_dim: 256    # TODO: Increase to 512 for larger data.\n",
        "            scale: True\n",
        "            dropout: 0.2\n",
        "        # typically ff_size = 4 x hidden_size\n",
        "        hidden_size: 256         # TODO: Increase to 512 for larger data.\n",
        "        ff_size: 1024            # TODO: Increase to 2048 for larger data.\n",
        "        dropout: 0.3\n",
        "\"\"\".format(name=name, gdrive_path=os.environ[\"gdrive_path\"], source_language=source_language, target_language=target_language)\n",
        "with open(\"joeynmt/configs/transformer_reverse_{name}.yaml\".format(name=name),'w') as f:\n",
        "    f.write(config)\n"
      ],
      "execution_count": 16,
      "outputs": []
    },
    {
      "cell_type": "code",
      "metadata": {
        "colab": {
          "base_uri": "https://localhost:8080/"
        },
        "id": "umCeTzsc7XA7",
        "outputId": "ece5efcf-d069-4aba-9018-7e5b01ef509f"
      },
      "source": [
        "# Train the model\n",
        "# You can press Ctrl-C to stop. And then run the next cell to save your checkpoints! \n",
        "!cd joeynmt; python3 -m joeynmt train configs/transformer_reverse_$tgt$src.yaml"
      ],
      "execution_count": 17,
      "outputs": [
        {
          "output_type": "stream",
          "name": "stdout",
          "text": [
            "2021-10-23 16:41:11,543 - INFO - root - Hello! This is Joey-NMT (version 1.3).\n",
            "2021-10-23 16:41:11,605 - INFO - joeynmt.data - Loading training data...\n",
            "2021-10-23 16:41:12,227 - INFO - joeynmt.data - Building vocabulary...\n",
            "2021-10-23 16:41:12,512 - INFO - joeynmt.data - Loading dev data...\n",
            "2021-10-23 16:41:12,525 - INFO - joeynmt.data - Loading test data...\n",
            "2021-10-23 16:41:12,688 - INFO - joeynmt.data - Data loaded.\n",
            "2021-10-23 16:41:12,688 - INFO - joeynmt.model - Building an encoder-decoder model...\n",
            "2021-10-23 16:41:13,112 - INFO - joeynmt.model - Enc-dec model built.\n",
            "2021-10-23 16:41:14,556 - INFO - joeynmt.training - Total params: 12135424\n",
            "2021-10-23 16:41:14,558 - WARNING - joeynmt.training - `keep_last_ckpts` option is outdated. Please use `keep_best_ckpts`, instead.\n",
            "2021-10-23 16:41:33,863 - INFO - joeynmt.helpers - cfg.name                           : xhen_reverse_transformer\n",
            "2021-10-23 16:41:33,863 - INFO - joeynmt.helpers - cfg.data.src                       : xh\n",
            "2021-10-23 16:41:33,864 - INFO - joeynmt.helpers - cfg.data.trg                       : en\n",
            "2021-10-23 16:41:33,864 - INFO - joeynmt.helpers - cfg.data.train                     : data/xhen/train.bpe\n",
            "2021-10-23 16:41:33,864 - INFO - joeynmt.helpers - cfg.data.dev                       : data/xhen/dev.bpe\n",
            "2021-10-23 16:41:33,864 - INFO - joeynmt.helpers - cfg.data.test                      : data/xhen/test.bpe\n",
            "2021-10-23 16:41:33,864 - INFO - joeynmt.helpers - cfg.data.level                     : bpe\n",
            "2021-10-23 16:41:33,864 - INFO - joeynmt.helpers - cfg.data.lowercase                 : False\n",
            "2021-10-23 16:41:33,864 - INFO - joeynmt.helpers - cfg.data.max_sent_length           : 100\n",
            "2021-10-23 16:41:33,865 - INFO - joeynmt.helpers - cfg.data.src_vocab                 : data/xhen/vocab.txt\n",
            "2021-10-23 16:41:33,865 - INFO - joeynmt.helpers - cfg.data.trg_vocab                 : data/xhen/vocab.txt\n",
            "2021-10-23 16:41:33,865 - INFO - joeynmt.helpers - cfg.testing.beam_size              : 5\n",
            "2021-10-23 16:41:33,865 - INFO - joeynmt.helpers - cfg.testing.alpha                  : 1.0\n",
            "2021-10-23 16:41:33,865 - INFO - joeynmt.helpers - cfg.training.random_seed           : 42\n",
            "2021-10-23 16:41:33,865 - INFO - joeynmt.helpers - cfg.training.optimizer             : adam\n",
            "2021-10-23 16:41:33,866 - INFO - joeynmt.helpers - cfg.training.normalization         : tokens\n",
            "2021-10-23 16:41:33,866 - INFO - joeynmt.helpers - cfg.training.adam_betas            : [0.9, 0.999]\n",
            "2021-10-23 16:41:33,866 - INFO - joeynmt.helpers - cfg.training.scheduling            : plateau\n",
            "2021-10-23 16:41:33,866 - INFO - joeynmt.helpers - cfg.training.patience              : 5\n",
            "2021-10-23 16:41:33,866 - INFO - joeynmt.helpers - cfg.training.learning_rate_factor  : 0.5\n",
            "2021-10-23 16:41:33,866 - INFO - joeynmt.helpers - cfg.training.learning_rate_warmup  : 1000\n",
            "2021-10-23 16:41:33,866 - INFO - joeynmt.helpers - cfg.training.decrease_factor       : 0.7\n",
            "2021-10-23 16:41:33,867 - INFO - joeynmt.helpers - cfg.training.loss                  : crossentropy\n",
            "2021-10-23 16:41:33,867 - INFO - joeynmt.helpers - cfg.training.learning_rate         : 0.0003\n",
            "2021-10-23 16:41:33,867 - INFO - joeynmt.helpers - cfg.training.learning_rate_min     : 1e-08\n",
            "2021-10-23 16:41:33,867 - INFO - joeynmt.helpers - cfg.training.weight_decay          : 0.0\n",
            "2021-10-23 16:41:33,867 - INFO - joeynmt.helpers - cfg.training.label_smoothing       : 0.1\n",
            "2021-10-23 16:41:33,867 - INFO - joeynmt.helpers - cfg.training.batch_size            : 4096\n",
            "2021-10-23 16:41:33,867 - INFO - joeynmt.helpers - cfg.training.batch_type            : token\n",
            "2021-10-23 16:41:33,867 - INFO - joeynmt.helpers - cfg.training.eval_batch_size       : 3600\n",
            "2021-10-23 16:41:33,867 - INFO - joeynmt.helpers - cfg.training.eval_batch_type       : token\n",
            "2021-10-23 16:41:33,868 - INFO - joeynmt.helpers - cfg.training.batch_multiplier      : 1\n",
            "2021-10-23 16:41:33,868 - INFO - joeynmt.helpers - cfg.training.early_stopping_metric : ppl\n",
            "2021-10-23 16:41:33,868 - INFO - joeynmt.helpers - cfg.training.epochs                : 10\n",
            "2021-10-23 16:41:33,868 - INFO - joeynmt.helpers - cfg.training.validation_freq       : 1000\n",
            "2021-10-23 16:41:33,868 - INFO - joeynmt.helpers - cfg.training.logging_freq          : 100\n",
            "2021-10-23 16:41:33,868 - INFO - joeynmt.helpers - cfg.training.eval_metric           : bleu\n",
            "2021-10-23 16:41:33,868 - INFO - joeynmt.helpers - cfg.training.model_dir             : models/xhen_reverse_transformer\n",
            "2021-10-23 16:41:33,868 - INFO - joeynmt.helpers - cfg.training.overwrite             : True\n",
            "2021-10-23 16:41:33,869 - INFO - joeynmt.helpers - cfg.training.shuffle               : True\n",
            "2021-10-23 16:41:33,869 - INFO - joeynmt.helpers - cfg.training.use_cuda              : True\n",
            "2021-10-23 16:41:33,869 - INFO - joeynmt.helpers - cfg.training.max_output_length     : 100\n",
            "2021-10-23 16:41:33,869 - INFO - joeynmt.helpers - cfg.training.print_valid_sents     : [0, 1, 2, 3]\n",
            "2021-10-23 16:41:33,869 - INFO - joeynmt.helpers - cfg.training.keep_last_ckpts       : 3\n",
            "2021-10-23 16:41:33,869 - INFO - joeynmt.helpers - cfg.model.initializer              : xavier\n",
            "2021-10-23 16:41:33,870 - INFO - joeynmt.helpers - cfg.model.bias_initializer         : zeros\n",
            "2021-10-23 16:41:33,870 - INFO - joeynmt.helpers - cfg.model.init_gain                : 1.0\n",
            "2021-10-23 16:41:33,870 - INFO - joeynmt.helpers - cfg.model.embed_initializer        : xavier\n",
            "2021-10-23 16:41:33,870 - INFO - joeynmt.helpers - cfg.model.embed_init_gain          : 1.0\n",
            "2021-10-23 16:41:33,870 - INFO - joeynmt.helpers - cfg.model.tied_embeddings          : True\n",
            "2021-10-23 16:41:33,870 - INFO - joeynmt.helpers - cfg.model.tied_softmax             : True\n",
            "2021-10-23 16:41:33,870 - INFO - joeynmt.helpers - cfg.model.encoder.type             : transformer\n",
            "2021-10-23 16:41:33,871 - INFO - joeynmt.helpers - cfg.model.encoder.num_layers       : 6\n",
            "2021-10-23 16:41:33,871 - INFO - joeynmt.helpers - cfg.model.encoder.num_heads        : 4\n",
            "2021-10-23 16:41:33,871 - INFO - joeynmt.helpers - cfg.model.encoder.embeddings.embedding_dim : 256\n",
            "2021-10-23 16:41:33,871 - INFO - joeynmt.helpers - cfg.model.encoder.embeddings.scale : True\n",
            "2021-10-23 16:41:33,871 - INFO - joeynmt.helpers - cfg.model.encoder.embeddings.dropout : 0.2\n",
            "2021-10-23 16:41:33,871 - INFO - joeynmt.helpers - cfg.model.encoder.hidden_size      : 256\n",
            "2021-10-23 16:41:33,872 - INFO - joeynmt.helpers - cfg.model.encoder.ff_size          : 1024\n",
            "2021-10-23 16:41:33,872 - INFO - joeynmt.helpers - cfg.model.encoder.dropout          : 0.3\n",
            "2021-10-23 16:41:33,872 - INFO - joeynmt.helpers - cfg.model.decoder.type             : transformer\n",
            "2021-10-23 16:41:33,872 - INFO - joeynmt.helpers - cfg.model.decoder.num_layers       : 6\n",
            "2021-10-23 16:41:33,872 - INFO - joeynmt.helpers - cfg.model.decoder.num_heads        : 4\n",
            "2021-10-23 16:41:33,872 - INFO - joeynmt.helpers - cfg.model.decoder.embeddings.embedding_dim : 256\n",
            "2021-10-23 16:41:33,873 - INFO - joeynmt.helpers - cfg.model.decoder.embeddings.scale : True\n",
            "2021-10-23 16:41:33,873 - INFO - joeynmt.helpers - cfg.model.decoder.embeddings.dropout : 0.2\n",
            "2021-10-23 16:41:33,873 - INFO - joeynmt.helpers - cfg.model.decoder.hidden_size      : 256\n",
            "2021-10-23 16:41:33,873 - INFO - joeynmt.helpers - cfg.model.decoder.ff_size          : 1024\n",
            "2021-10-23 16:41:33,873 - INFO - joeynmt.helpers - cfg.model.decoder.dropout          : 0.3\n",
            "2021-10-23 16:41:33,873 - INFO - joeynmt.helpers - Data set sizes: \n",
            "\ttrain 45749,\n",
            "\tvalid 1000,\n",
            "\ttest 2711\n",
            "2021-10-23 16:41:33,873 - INFO - joeynmt.helpers - First training example:\n",
            "\t[SRC] K@@ uc@@ ety@@ iswa ukuba um@@ ise i-injini , nak@@ anj@@ ani kancinci kun@@ e s@@ iqhelo .\n",
            "\t[TRG] It is adv@@ is@@ able to st@@ op engines , however , a little later than us@@ ual .\n",
            "2021-10-23 16:41:33,874 - INFO - joeynmt.helpers - First 10 words (src): (0) <unk> (1) <pad> (2) <s> (3) </s> (4) . (5) the (6) , (7) of (8) a (9) to\n",
            "2021-10-23 16:41:33,874 - INFO - joeynmt.helpers - First 10 words (trg): (0) <unk> (1) <pad> (2) <s> (3) </s> (4) . (5) the (6) , (7) of (8) a (9) to\n",
            "2021-10-23 16:41:33,874 - INFO - joeynmt.helpers - Number of Src words (types): 4200\n",
            "2021-10-23 16:41:33,875 - INFO - joeynmt.helpers - Number of Trg words (types): 4200\n",
            "2021-10-23 16:41:33,875 - INFO - joeynmt.training - Model(\n",
            "\tencoder=TransformerEncoder(num_layers=6, num_heads=4),\n",
            "\tdecoder=TransformerDecoder(num_layers=6, num_heads=4),\n",
            "\tsrc_embed=Embeddings(embedding_dim=256, vocab_size=4200),\n",
            "\ttrg_embed=Embeddings(embedding_dim=256, vocab_size=4200))\n",
            "2021-10-23 16:41:33,880 - INFO - joeynmt.training - Train stats:\n",
            "\tdevice: cuda\n",
            "\tn_gpu: 1\n",
            "\t16-bits training: False\n",
            "\tgradient accumulation: 1\n",
            "\tbatch size per device: 4096\n",
            "\ttotal batch size (w. parallel & accumulation): 4096\n",
            "2021-10-23 16:41:33,880 - INFO - joeynmt.training - EPOCH 1\n",
            "2021-10-23 16:42:09,190 - INFO - joeynmt.training - Epoch   1, Step:      100, Batch Loss:     5.539069, Tokens per Sec:     3679, Lr: 0.000300\n",
            "2021-10-23 16:42:44,284 - INFO - joeynmt.training - Epoch   1, Step:      200, Batch Loss:     5.293499, Tokens per Sec:     3791, Lr: 0.000300\n",
            "2021-10-23 16:43:19,384 - INFO - joeynmt.training - Epoch   1, Step:      300, Batch Loss:     5.304306, Tokens per Sec:     3878, Lr: 0.000300\n",
            "2021-10-23 16:43:54,700 - INFO - joeynmt.training - Epoch   1, Step:      400, Batch Loss:     4.967784, Tokens per Sec:     3752, Lr: 0.000300\n",
            "2021-10-23 16:44:29,981 - INFO - joeynmt.training - Epoch   1, Step:      500, Batch Loss:     4.751131, Tokens per Sec:     3793, Lr: 0.000300\n",
            "2021-10-23 16:45:04,982 - INFO - joeynmt.training - Epoch   1, Step:      600, Batch Loss:     4.664276, Tokens per Sec:     3887, Lr: 0.000300\n",
            "2021-10-23 16:45:39,992 - INFO - joeynmt.training - Epoch   1, Step:      700, Batch Loss:     4.724704, Tokens per Sec:     3782, Lr: 0.000300\n",
            "2021-10-23 16:46:15,283 - INFO - joeynmt.training - Epoch   1, Step:      800, Batch Loss:     4.614201, Tokens per Sec:     3848, Lr: 0.000300\n",
            "2021-10-23 16:46:40,319 - INFO - joeynmt.training - Epoch   1: total training loss 4378.94\n",
            "2021-10-23 16:46:40,320 - INFO - joeynmt.training - EPOCH 2\n",
            "2021-10-23 16:46:50,293 - INFO - joeynmt.training - Epoch   2, Step:      900, Batch Loss:     4.445341, Tokens per Sec:     3667, Lr: 0.000300\n",
            "2021-10-23 16:47:25,559 - INFO - joeynmt.training - Epoch   2, Step:     1000, Batch Loss:     4.484203, Tokens per Sec:     3817, Lr: 0.000300\n",
            "2021-10-23 16:49:06,827 - WARNING - sacrebleu - That's 100 lines that end in a tokenized period ('.')\n",
            "2021-10-23 16:49:06,827 - WARNING - sacrebleu - It looks like you forgot to detokenize your test data, which may hurt your score.\n",
            "2021-10-23 16:49:06,827 - WARNING - sacrebleu - If you insist your data is detokenized, or don't care, you can suppress this message with the `force` parameter.\n",
            "2021-10-23 16:49:06,838 - INFO - joeynmt.training - Hooray! New best validation result [ppl]!\n",
            "2021-10-23 16:49:07,275 - INFO - joeynmt.training - Example #0\n",
            "2021-10-23 16:49:07,276 - INFO - joeynmt.training - \tSource:     153 . I-SART\n",
            "2021-10-23 16:49:07,276 - INFO - joeynmt.training - \tReference:  153 . SART\n",
            "2021-10-23 16:49:07,276 - INFO - joeynmt.training - \tHypothesis: BOOOOOS .\n",
            "2021-10-23 16:49:07,276 - INFO - joeynmt.training - Example #1\n",
            "2021-10-23 16:49:07,276 - INFO - joeynmt.training - \tSource:     Oku kungabangela okanye kwamkeleke emlilweni ngoku lumeka .\n",
            "2021-10-23 16:49:07,276 - INFO - joeynmt.training - \tReference:  This could cause or allow the fire to reignite .\n",
            "2021-10-23 16:49:07,276 - INFO - joeynmt.training - \tHypothesis: This is used to the ship is to be used to the ship .\n",
            "2021-10-23 16:49:07,277 - INFO - joeynmt.training - Example #2\n",
            "2021-10-23 16:49:07,277 - INFO - joeynmt.training - \tSource:     Kumele ukuba inqanawa zinesiqhubi esiphambili kwikqubo ekhawulezileyo .\n",
            "2021-10-23 16:49:07,277 - INFO - joeynmt.training - \tReference:  The details are required in order to refute or substantiate claims for loss or damage of gear subsequently made by the fishing vessels concerned .\n",
            "2021-10-23 16:49:07,277 - INFO - joeynmt.training - \tHypothesis: This is used to be used to the ship is to the ship is to the ship .\n",
            "2021-10-23 16:49:07,277 - INFO - joeynmt.training - Example #3\n",
            "2021-10-23 16:49:07,277 - INFO - joeynmt.training - \tSource:     Imigonyetho ixhathise ngemiqadi enabela inqamleze inqanawe phakatbi kwefreyimci .\n",
            "2021-10-23 16:49:07,277 - INFO - joeynmt.training - \tReference:  Decks are supported by beams which extend athwartships between the frames .\n",
            "2021-10-23 16:49:07,278 - INFO - joeynmt.training - \tHypothesis: The ship is used to be used to the ship is used to the ship is to the ship .\n",
            "2021-10-23 16:49:07,278 - INFO - joeynmt.training - Validation result (greedy) at epoch   2, step     1000: bleu:   0.32, loss: 112401.5000, ppl:  84.3993, duration: 101.7182s\n",
            "2021-10-23 16:49:42,312 - INFO - joeynmt.training - Epoch   2, Step:     1100, Batch Loss:     4.552646, Tokens per Sec:     3824, Lr: 0.000300\n",
            "2021-10-23 16:50:17,327 - INFO - joeynmt.training - Epoch   2, Step:     1200, Batch Loss:     4.439776, Tokens per Sec:     3761, Lr: 0.000300\n",
            "2021-10-23 16:50:52,574 - INFO - joeynmt.training - Epoch   2, Step:     1300, Batch Loss:     4.436277, Tokens per Sec:     3802, Lr: 0.000300\n",
            "2021-10-23 16:51:27,853 - INFO - joeynmt.training - Epoch   2, Step:     1400, Batch Loss:     4.413223, Tokens per Sec:     3799, Lr: 0.000300\n",
            "2021-10-23 16:52:03,139 - INFO - joeynmt.training - Epoch   2, Step:     1500, Batch Loss:     4.208372, Tokens per Sec:     3855, Lr: 0.000300\n",
            "2021-10-23 16:52:38,374 - INFO - joeynmt.training - Epoch   2, Step:     1600, Batch Loss:     4.238627, Tokens per Sec:     3859, Lr: 0.000300\n",
            "2021-10-23 16:53:13,808 - INFO - joeynmt.training - Epoch   2, Step:     1700, Batch Loss:     4.145131, Tokens per Sec:     3774, Lr: 0.000300\n",
            "2021-10-23 16:53:28,555 - INFO - joeynmt.training - Epoch   2: total training loss 3776.32\n",
            "2021-10-23 16:53:28,556 - INFO - joeynmt.training - EPOCH 3\n",
            "2021-10-23 16:53:49,138 - INFO - joeynmt.training - Epoch   3, Step:     1800, Batch Loss:     4.103918, Tokens per Sec:     3785, Lr: 0.000300\n",
            "2021-10-23 16:54:24,376 - INFO - joeynmt.training - Epoch   3, Step:     1900, Batch Loss:     4.133606, Tokens per Sec:     3755, Lr: 0.000300\n",
            "2021-10-23 16:54:59,145 - INFO - joeynmt.training - Epoch   3, Step:     2000, Batch Loss:     3.937415, Tokens per Sec:     3860, Lr: 0.000300\n",
            "2021-10-23 16:56:40,721 - WARNING - sacrebleu - That's 100 lines that end in a tokenized period ('.')\n",
            "2021-10-23 16:56:40,721 - WARNING - sacrebleu - It looks like you forgot to detokenize your test data, which may hurt your score.\n",
            "2021-10-23 16:56:40,721 - WARNING - sacrebleu - If you insist your data is detokenized, or don't care, you can suppress this message with the `force` parameter.\n",
            "2021-10-23 16:56:40,727 - INFO - joeynmt.training - Hooray! New best validation result [ppl]!\n",
            "2021-10-23 16:56:41,157 - INFO - joeynmt.training - Example #0\n",
            "2021-10-23 16:56:41,157 - INFO - joeynmt.training - \tSource:     153 . I-SART\n",
            "2021-10-23 16:56:41,157 - INFO - joeynmt.training - \tReference:  153 . SART\n",
            "2021-10-23 16:56:41,157 - INFO - joeynmt.training - \tHypothesis: 11 .\n",
            "2021-10-23 16:56:41,157 - INFO - joeynmt.training - Example #1\n",
            "2021-10-23 16:56:41,158 - INFO - joeynmt.training - \tSource:     Oku kungabangela okanye kwamkeleke emlilweni ngoku lumeka .\n",
            "2021-10-23 16:56:41,158 - INFO - joeynmt.training - \tReference:  This could cause or allow the fire to reignite .\n",
            "2021-10-23 16:56:41,158 - INFO - joeynmt.training - \tHypothesis: This is because the ship is not not to be used .\n",
            "2021-10-23 16:56:41,158 - INFO - joeynmt.training - Example #2\n",
            "2021-10-23 16:56:41,158 - INFO - joeynmt.training - \tSource:     Kumele ukuba inqanawa zinesiqhubi esiphambili kwikqubo ekhawulezileyo .\n",
            "2021-10-23 16:56:41,158 - INFO - joeynmt.training - \tReference:  The details are required in order to refute or substantiate claims for loss or damage of gear subsequently made by the fishing vessels concerned .\n",
            "2021-10-23 16:56:41,158 - INFO - joeynmt.training - \tHypothesis: In the ship is the ship 's ship 's ship 's ship 's ship 's ship 's ship 's ship 's ship 's ship 's ship 's ship 's ship .\n",
            "2021-10-23 16:56:41,159 - INFO - joeynmt.training - Example #3\n",
            "2021-10-23 16:56:41,159 - INFO - joeynmt.training - \tSource:     Imigonyetho ixhathise ngemiqadi enabela inqamleze inqanawe phakatbi kwefreyimci .\n",
            "2021-10-23 16:56:41,159 - INFO - joeynmt.training - \tReference:  Decks are supported by beams which extend athwartships between the frames .\n",
            "2021-10-23 16:56:41,159 - INFO - joeynmt.training - \tHypothesis: The ship 's cable is a ship 's bart-and-aft and the ship 's boat 's side .\n",
            "2021-10-23 16:56:41,159 - INFO - joeynmt.training - Validation result (greedy) at epoch   3, step     2000: bleu:   0.81, loss: 99845.1406, ppl:  51.4219, duration: 102.0133s\n",
            "2021-10-23 16:57:16,367 - INFO - joeynmt.training - Epoch   3, Step:     2100, Batch Loss:     3.947480, Tokens per Sec:     3832, Lr: 0.000300\n",
            "2021-10-23 16:57:51,749 - INFO - joeynmt.training - Epoch   3, Step:     2200, Batch Loss:     3.972103, Tokens per Sec:     3726, Lr: 0.000300\n",
            "2021-10-23 16:58:27,480 - INFO - joeynmt.training - Epoch   3, Step:     2300, Batch Loss:     4.023247, Tokens per Sec:     3796, Lr: 0.000300\n",
            "2021-10-23 16:59:02,984 - INFO - joeynmt.training - Epoch   3, Step:     2400, Batch Loss:     3.971685, Tokens per Sec:     3778, Lr: 0.000300\n",
            "2021-10-23 16:59:37,954 - INFO - joeynmt.training - Epoch   3, Step:     2500, Batch Loss:     3.856965, Tokens per Sec:     3816, Lr: 0.000300\n",
            "2021-10-23 17:00:13,103 - INFO - joeynmt.training - Epoch   3, Step:     2600, Batch Loss:     3.894750, Tokens per Sec:     3866, Lr: 0.000300\n",
            "2021-10-23 17:00:17,525 - INFO - joeynmt.training - Epoch   3: total training loss 3468.75\n",
            "2021-10-23 17:00:17,525 - INFO - joeynmt.training - EPOCH 4\n",
            "2021-10-23 17:00:48,488 - INFO - joeynmt.training - Epoch   4, Step:     2700, Batch Loss:     3.834599, Tokens per Sec:     3819, Lr: 0.000300\n",
            "2021-10-23 17:01:23,638 - INFO - joeynmt.training - Epoch   4, Step:     2800, Batch Loss:     3.782424, Tokens per Sec:     3725, Lr: 0.000300\n",
            "2021-10-23 17:01:58,888 - INFO - joeynmt.training - Epoch   4, Step:     2900, Batch Loss:     3.713613, Tokens per Sec:     3770, Lr: 0.000300\n",
            "2021-10-23 17:02:34,110 - INFO - joeynmt.training - Epoch   4, Step:     3000, Batch Loss:     3.691934, Tokens per Sec:     3835, Lr: 0.000300\n",
            "2021-10-23 17:03:50,399 - WARNING - sacrebleu - That's 100 lines that end in a tokenized period ('.')\n",
            "2021-10-23 17:03:50,400 - WARNING - sacrebleu - It looks like you forgot to detokenize your test data, which may hurt your score.\n",
            "2021-10-23 17:03:50,400 - WARNING - sacrebleu - If you insist your data is detokenized, or don't care, you can suppress this message with the `force` parameter.\n",
            "2021-10-23 17:03:50,407 - INFO - joeynmt.training - Hooray! New best validation result [ppl]!\n",
            "2021-10-23 17:03:50,829 - INFO - joeynmt.training - Example #0\n",
            "2021-10-23 17:03:50,830 - INFO - joeynmt.training - \tSource:     153 . I-SART\n",
            "2021-10-23 17:03:50,830 - INFO - joeynmt.training - \tReference:  153 . SART\n",
            "2021-10-23 17:03:50,830 - INFO - joeynmt.training - \tHypothesis: 16 .\n",
            "2021-10-23 17:03:50,830 - INFO - joeynmt.training - Example #1\n",
            "2021-10-23 17:03:50,830 - INFO - joeynmt.training - \tSource:     Oku kungabangela okanye kwamkeleke emlilweni ngoku lumeka .\n",
            "2021-10-23 17:03:50,830 - INFO - joeynmt.training - \tReference:  This could cause or allow the fire to reignite .\n",
            "2021-10-23 17:03:50,830 - INFO - joeynmt.training - \tHypothesis: This is used for the wind or not not not referred .\n",
            "2021-10-23 17:03:50,830 - INFO - joeynmt.training - Example #2\n",
            "2021-10-23 17:03:50,831 - INFO - joeynmt.training - \tSource:     Kumele ukuba inqanawa zinesiqhubi esiphambili kwikqubo ekhawulezileyo .\n",
            "2021-10-23 17:03:50,831 - INFO - joeynmt.training - \tReference:  The details are required in order to refute or substantiate claims for loss or damage of gear subsequently made by the fishing vessels concerned .\n",
            "2021-10-23 17:03:50,831 - INFO - joeynmt.training - \tHypothesis: In the ship is the ship 's side of the ship 's side and the ship 's stern .\n",
            "2021-10-23 17:03:50,831 - INFO - joeynmt.training - Example #3\n",
            "2021-10-23 17:03:50,831 - INFO - joeynmt.training - \tSource:     Imigonyetho ixhathise ngemiqadi enabela inqamleze inqanawe phakatbi kwefreyimci .\n",
            "2021-10-23 17:03:50,831 - INFO - joeynmt.training - \tReference:  Decks are supported by beams which extend athwartships between the frames .\n",
            "2021-10-23 17:03:50,831 - INFO - joeynmt.training - \tHypothesis: The main deck is fitted with the ship 's side of the ship 's side and the ship 's side of the ship 's side .\n",
            "2021-10-23 17:03:50,831 - INFO - joeynmt.training - Validation result (greedy) at epoch   4, step     3000: bleu:   1.80, loss: 91615.4062, ppl:  37.1626, duration: 76.7206s\n",
            "2021-10-23 17:04:26,018 - INFO - joeynmt.training - Epoch   4, Step:     3100, Batch Loss:     3.711876, Tokens per Sec:     3759, Lr: 0.000300\n",
            "2021-10-23 17:05:01,159 - INFO - joeynmt.training - Epoch   4, Step:     3200, Batch Loss:     3.738452, Tokens per Sec:     3786, Lr: 0.000300\n",
            "2021-10-23 17:05:36,124 - INFO - joeynmt.training - Epoch   4, Step:     3300, Batch Loss:     3.770688, Tokens per Sec:     3849, Lr: 0.000300\n",
            "2021-10-23 17:06:11,293 - INFO - joeynmt.training - Epoch   4, Step:     3400, Batch Loss:     3.657460, Tokens per Sec:     3821, Lr: 0.000300\n",
            "2021-10-23 17:06:41,803 - INFO - joeynmt.training - Epoch   4: total training loss 3254.99\n",
            "2021-10-23 17:06:41,803 - INFO - joeynmt.training - EPOCH 5\n",
            "2021-10-23 17:06:46,410 - INFO - joeynmt.training - Epoch   5, Step:     3500, Batch Loss:     3.621089, Tokens per Sec:     3723, Lr: 0.000300\n",
            "2021-10-23 17:07:21,633 - INFO - joeynmt.training - Epoch   5, Step:     3600, Batch Loss:     3.501827, Tokens per Sec:     3789, Lr: 0.000300\n",
            "2021-10-23 17:07:56,751 - INFO - joeynmt.training - Epoch   5, Step:     3700, Batch Loss:     3.554419, Tokens per Sec:     3775, Lr: 0.000300\n",
            "2021-10-23 17:08:31,956 - INFO - joeynmt.training - Epoch   5, Step:     3800, Batch Loss:     3.550711, Tokens per Sec:     3835, Lr: 0.000300\n",
            "2021-10-23 17:09:07,222 - INFO - joeynmt.training - Epoch   5, Step:     3900, Batch Loss:     3.511497, Tokens per Sec:     3756, Lr: 0.000300\n",
            "2021-10-23 17:09:42,411 - INFO - joeynmt.training - Epoch   5, Step:     4000, Batch Loss:     3.427324, Tokens per Sec:     3809, Lr: 0.000300\n",
            "2021-10-23 17:10:42,021 - WARNING - sacrebleu - That's 100 lines that end in a tokenized period ('.')\n",
            "2021-10-23 17:10:42,022 - WARNING - sacrebleu - It looks like you forgot to detokenize your test data, which may hurt your score.\n",
            "2021-10-23 17:10:42,022 - WARNING - sacrebleu - If you insist your data is detokenized, or don't care, you can suppress this message with the `force` parameter.\n",
            "2021-10-23 17:10:42,028 - INFO - joeynmt.training - Hooray! New best validation result [ppl]!\n",
            "2021-10-23 17:10:42,445 - INFO - joeynmt.helpers - delete models/xhen_reverse_transformer/1000.ckpt\n",
            "2021-10-23 17:10:42,467 - INFO - joeynmt.training - Example #0\n",
            "2021-10-23 17:10:42,467 - INFO - joeynmt.training - \tSource:     153 . I-SART\n",
            "2021-10-23 17:10:42,467 - INFO - joeynmt.training - \tReference:  153 . SART\n",
            "2021-10-23 17:10:42,467 - INFO - joeynmt.training - \tHypothesis: 14 .\n",
            "2021-10-23 17:10:42,467 - INFO - joeynmt.training - Example #1\n",
            "2021-10-23 17:10:42,468 - INFO - joeynmt.training - \tSource:     Oku kungabangela okanye kwamkeleke emlilweni ngoku lumeka .\n",
            "2021-10-23 17:10:42,468 - INFO - joeynmt.training - \tReference:  This could cause or allow the fire to reignite .\n",
            "2021-10-23 17:10:42,468 - INFO - joeynmt.training - \tHypothesis: This is because the wind or not reached .\n",
            "2021-10-23 17:10:42,468 - INFO - joeynmt.training - Example #2\n",
            "2021-10-23 17:10:42,468 - INFO - joeynmt.training - \tSource:     Kumele ukuba inqanawa zinesiqhubi esiphambili kwikqubo ekhawulezileyo .\n",
            "2021-10-23 17:10:42,468 - INFO - joeynmt.training - \tReference:  The details are required in order to refute or substantiate claims for loss or damage of gear subsequently made by the fishing vessels concerned .\n",
            "2021-10-23 17:10:42,468 - INFO - joeynmt.training - \tHypothesis: In addition to the ship 's boat is the boat 's stern .\n",
            "2021-10-23 17:10:42,468 - INFO - joeynmt.training - Example #3\n",
            "2021-10-23 17:10:42,469 - INFO - joeynmt.training - \tSource:     Imigonyetho ixhathise ngemiqadi enabela inqamleze inqanawe phakatbi kwefreyimci .\n",
            "2021-10-23 17:10:42,469 - INFO - joeynmt.training - \tReference:  Decks are supported by beams which extend athwartships between the frames .\n",
            "2021-10-23 17:10:42,469 - INFO - joeynmt.training - \tHypothesis: The upper deck is fitted with a ship 's side of a vessel 's side of the ship 's side .\n",
            "2021-10-23 17:10:42,469 - INFO - joeynmt.training - Validation result (greedy) at epoch   5, step     4000: bleu:   2.67, loss: 85857.5703, ppl:  29.6093, duration: 60.0578s\n",
            "2021-10-23 17:11:17,155 - INFO - joeynmt.training - Epoch   5, Step:     4100, Batch Loss:     3.435435, Tokens per Sec:     3838, Lr: 0.000300\n",
            "2021-10-23 17:11:52,445 - INFO - joeynmt.training - Epoch   5, Step:     4200, Batch Loss:     3.429083, Tokens per Sec:     3753, Lr: 0.000300\n",
            "2021-10-23 17:12:27,759 - INFO - joeynmt.training - Epoch   5, Step:     4300, Batch Loss:     3.622120, Tokens per Sec:     3817, Lr: 0.000300\n",
            "2021-10-23 17:12:49,423 - INFO - joeynmt.training - Epoch   5: total training loss 3093.01\n",
            "2021-10-23 17:12:49,424 - INFO - joeynmt.training - EPOCH 6\n",
            "2021-10-23 17:13:02,449 - INFO - joeynmt.training - Epoch   6, Step:     4400, Batch Loss:     3.479253, Tokens per Sec:     3800, Lr: 0.000300\n",
            "2021-10-23 17:13:37,670 - INFO - joeynmt.training - Epoch   6, Step:     4500, Batch Loss:     3.448726, Tokens per Sec:     3752, Lr: 0.000300\n",
            "2021-10-23 17:14:12,868 - INFO - joeynmt.training - Epoch   6, Step:     4600, Batch Loss:     3.327986, Tokens per Sec:     3756, Lr: 0.000300\n",
            "2021-10-23 17:14:48,315 - INFO - joeynmt.training - Epoch   6, Step:     4700, Batch Loss:     3.384207, Tokens per Sec:     3839, Lr: 0.000300\n",
            "2021-10-23 17:15:23,501 - INFO - joeynmt.training - Epoch   6, Step:     4800, Batch Loss:     3.256745, Tokens per Sec:     3904, Lr: 0.000300\n",
            "2021-10-23 17:15:58,377 - INFO - joeynmt.training - Epoch   6, Step:     4900, Batch Loss:     3.374959, Tokens per Sec:     3802, Lr: 0.000300\n",
            "2021-10-23 17:16:33,281 - INFO - joeynmt.training - Epoch   6, Step:     5000, Batch Loss:     3.360000, Tokens per Sec:     3737, Lr: 0.000300\n",
            "2021-10-23 17:17:36,685 - WARNING - sacrebleu - That's 100 lines that end in a tokenized period ('.')\n",
            "2021-10-23 17:17:36,685 - WARNING - sacrebleu - It looks like you forgot to detokenize your test data, which may hurt your score.\n",
            "2021-10-23 17:17:36,685 - WARNING - sacrebleu - If you insist your data is detokenized, or don't care, you can suppress this message with the `force` parameter.\n",
            "2021-10-23 17:17:36,690 - INFO - joeynmt.training - Hooray! New best validation result [ppl]!\n",
            "2021-10-23 17:17:37,141 - INFO - joeynmt.helpers - delete models/xhen_reverse_transformer/2000.ckpt\n",
            "2021-10-23 17:17:37,160 - INFO - joeynmt.training - Example #0\n",
            "2021-10-23 17:17:37,160 - INFO - joeynmt.training - \tSource:     153 . I-SART\n",
            "2021-10-23 17:17:37,160 - INFO - joeynmt.training - \tReference:  153 . SART\n",
            "2021-10-23 17:17:37,161 - INFO - joeynmt.training - \tHypothesis: 14 .\n",
            "2021-10-23 17:17:37,161 - INFO - joeynmt.training - Example #1\n",
            "2021-10-23 17:17:37,161 - INFO - joeynmt.training - \tSource:     Oku kungabangela okanye kwamkeleke emlilweni ngoku lumeka .\n",
            "2021-10-23 17:17:37,161 - INFO - joeynmt.training - \tReference:  This could cause or allow the fire to reignite .\n",
            "2021-10-23 17:17:37,161 - INFO - joeynmt.training - \tHypothesis: This is because the wind is not brought to the slow .\n",
            "2021-10-23 17:17:37,161 - INFO - joeynmt.training - Example #2\n",
            "2021-10-23 17:17:37,161 - INFO - joeynmt.training - \tSource:     Kumele ukuba inqanawa zinesiqhubi esiphambili kwikqubo ekhawulezileyo .\n",
            "2021-10-23 17:17:37,161 - INFO - joeynmt.training - \tReference:  The details are required in order to refute or substantiate claims for loss or damage of gear subsequently made by the fishing vessels concerned .\n",
            "2021-10-23 17:17:37,162 - INFO - joeynmt.training - \tHypothesis: In order to be the boat to be the bows of the boat .\n",
            "2021-10-23 17:17:37,162 - INFO - joeynmt.training - Example #3\n",
            "2021-10-23 17:17:37,162 - INFO - joeynmt.training - \tSource:     Imigonyetho ixhathise ngemiqadi enabela inqamleze inqanawe phakatbi kwefreyimci .\n",
            "2021-10-23 17:17:37,162 - INFO - joeynmt.training - \tReference:  Decks are supported by beams which extend athwartships between the frames .\n",
            "2021-10-23 17:17:37,162 - INFO - joeynmt.training - \tHypothesis: The upper deck is then fitted with a ship 's side of a ship 's side .\n",
            "2021-10-23 17:17:37,162 - INFO - joeynmt.training - Validation result (greedy) at epoch   6, step     5000: bleu:   3.06, loss: 81840.1484, ppl:  25.2684, duration: 63.8805s\n",
            "2021-10-23 17:18:12,173 - INFO - joeynmt.training - Epoch   6, Step:     5100, Batch Loss:     3.200874, Tokens per Sec:     3765, Lr: 0.000300\n",
            "2021-10-23 17:18:47,275 - INFO - joeynmt.training - Epoch   6, Step:     5200, Batch Loss:     3.252530, Tokens per Sec:     3817, Lr: 0.000300\n",
            "2021-10-23 17:19:00,414 - INFO - joeynmt.training - Epoch   6: total training loss 2961.48\n",
            "2021-10-23 17:19:00,414 - INFO - joeynmt.training - EPOCH 7\n",
            "2021-10-23 17:19:22,279 - INFO - joeynmt.training - Epoch   7, Step:     5300, Batch Loss:     3.325630, Tokens per Sec:     3760, Lr: 0.000300\n",
            "2021-10-23 17:19:57,316 - INFO - joeynmt.training - Epoch   7, Step:     5400, Batch Loss:     3.282501, Tokens per Sec:     3885, Lr: 0.000300\n",
            "2021-10-23 17:20:32,607 - INFO - joeynmt.training - Epoch   7, Step:     5500, Batch Loss:     3.433800, Tokens per Sec:     3793, Lr: 0.000300\n",
            "2021-10-23 17:21:07,832 - INFO - joeynmt.training - Epoch   7, Step:     5600, Batch Loss:     3.254654, Tokens per Sec:     3766, Lr: 0.000300\n",
            "2021-10-23 17:21:43,067 - INFO - joeynmt.training - Epoch   7, Step:     5700, Batch Loss:     3.310264, Tokens per Sec:     3836, Lr: 0.000300\n",
            "2021-10-23 17:22:18,173 - INFO - joeynmt.training - Epoch   7, Step:     5800, Batch Loss:     3.281832, Tokens per Sec:     3792, Lr: 0.000300\n",
            "2021-10-23 17:22:53,420 - INFO - joeynmt.training - Epoch   7, Step:     5900, Batch Loss:     3.382681, Tokens per Sec:     3797, Lr: 0.000300\n",
            "2021-10-23 17:23:28,496 - INFO - joeynmt.training - Epoch   7, Step:     6000, Batch Loss:     3.192350, Tokens per Sec:     3729, Lr: 0.000300\n",
            "2021-10-23 17:24:18,178 - WARNING - sacrebleu - That's 100 lines that end in a tokenized period ('.')\n",
            "2021-10-23 17:24:18,178 - WARNING - sacrebleu - It looks like you forgot to detokenize your test data, which may hurt your score.\n",
            "2021-10-23 17:24:18,178 - WARNING - sacrebleu - If you insist your data is detokenized, or don't care, you can suppress this message with the `force` parameter.\n",
            "2021-10-23 17:24:18,184 - INFO - joeynmt.training - Hooray! New best validation result [ppl]!\n",
            "2021-10-23 17:24:18,616 - INFO - joeynmt.helpers - delete models/xhen_reverse_transformer/3000.ckpt\n",
            "2021-10-23 17:24:18,636 - INFO - joeynmt.training - Example #0\n",
            "2021-10-23 17:24:18,636 - INFO - joeynmt.training - \tSource:     153 . I-SART\n",
            "2021-10-23 17:24:18,636 - INFO - joeynmt.training - \tReference:  153 . SART\n",
            "2021-10-23 17:24:18,637 - INFO - joeynmt.training - \tHypothesis: 133 .\n",
            "2021-10-23 17:24:18,637 - INFO - joeynmt.training - Example #1\n",
            "2021-10-23 17:24:18,637 - INFO - joeynmt.training - \tSource:     Oku kungabangela okanye kwamkeleke emlilweni ngoku lumeka .\n",
            "2021-10-23 17:24:18,637 - INFO - joeynmt.training - \tReference:  This could cause or allow the fire to reignite .\n",
            "2021-10-23 17:24:18,637 - INFO - joeynmt.training - \tHypothesis: This is because the wind is not brought to the pivoting .\n",
            "2021-10-23 17:24:18,637 - INFO - joeynmt.training - Example #2\n",
            "2021-10-23 17:24:18,637 - INFO - joeynmt.training - \tSource:     Kumele ukuba inqanawa zinesiqhubi esiphambili kwikqubo ekhawulezileyo .\n",
            "2021-10-23 17:24:18,637 - INFO - joeynmt.training - \tReference:  The details are required in order to refute or substantiate claims for loss or damage of gear subsequently made by the fishing vessels concerned .\n",
            "2021-10-23 17:24:18,638 - INFO - joeynmt.training - \tHypothesis: In order to be the boat 's stern to be reduced .\n",
            "2021-10-23 17:24:18,638 - INFO - joeynmt.training - Example #3\n",
            "2021-10-23 17:24:18,638 - INFO - joeynmt.training - \tSource:     Imigonyetho ixhathise ngemiqadi enabela inqamleze inqanawe phakatbi kwefreyimci .\n",
            "2021-10-23 17:24:18,638 - INFO - joeynmt.training - \tReference:  Decks are supported by beams which extend athwartships between the frames .\n",
            "2021-10-23 17:24:18,638 - INFO - joeynmt.training - \tHypothesis: The upper deck is the bank of the ship 's side of the ship 's side .\n",
            "2021-10-23 17:24:18,638 - INFO - joeynmt.training - Validation result (greedy) at epoch   7, step     6000: bleu:   4.07, loss: 78571.0859, ppl:  22.2102, duration: 50.1417s\n",
            "2021-10-23 17:24:53,746 - INFO - joeynmt.training - Epoch   7, Step:     6100, Batch Loss:     3.120695, Tokens per Sec:     3791, Lr: 0.000300\n",
            "2021-10-23 17:24:58,004 - INFO - joeynmt.training - Epoch   7: total training loss 2858.27\n",
            "2021-10-23 17:24:58,004 - INFO - joeynmt.training - EPOCH 8\n",
            "2021-10-23 17:25:28,725 - INFO - joeynmt.training - Epoch   8, Step:     6200, Batch Loss:     3.280938, Tokens per Sec:     3713, Lr: 0.000300\n",
            "2021-10-23 17:26:04,053 - INFO - joeynmt.training - Epoch   8, Step:     6300, Batch Loss:     3.185344, Tokens per Sec:     3824, Lr: 0.000300\n",
            "2021-10-23 17:26:39,432 - INFO - joeynmt.training - Epoch   8, Step:     6400, Batch Loss:     3.105372, Tokens per Sec:     3676, Lr: 0.000300\n",
            "2021-10-23 17:27:14,870 - INFO - joeynmt.training - Epoch   8, Step:     6500, Batch Loss:     3.174854, Tokens per Sec:     3763, Lr: 0.000300\n",
            "2021-10-23 17:27:50,373 - INFO - joeynmt.training - Epoch   8, Step:     6600, Batch Loss:     3.211567, Tokens per Sec:     3688, Lr: 0.000300\n",
            "2021-10-23 17:28:25,788 - INFO - joeynmt.training - Epoch   8, Step:     6700, Batch Loss:     3.087256, Tokens per Sec:     3749, Lr: 0.000300\n",
            "2021-10-23 17:29:00,941 - INFO - joeynmt.training - Epoch   8, Step:     6800, Batch Loss:     3.036353, Tokens per Sec:     3839, Lr: 0.000300\n",
            "2021-10-23 17:29:36,089 - INFO - joeynmt.training - Epoch   8, Step:     6900, Batch Loss:     3.261426, Tokens per Sec:     3779, Lr: 0.000300\n",
            "2021-10-23 17:30:07,479 - INFO - joeynmt.training - Epoch   8: total training loss 2778.67\n",
            "2021-10-23 17:30:07,479 - INFO - joeynmt.training - EPOCH 9\n",
            "2021-10-23 17:30:11,520 - INFO - joeynmt.training - Epoch   9, Step:     7000, Batch Loss:     3.093666, Tokens per Sec:     3682, Lr: 0.000300\n",
            "2021-10-23 17:31:05,358 - WARNING - sacrebleu - That's 100 lines that end in a tokenized period ('.')\n",
            "2021-10-23 17:31:05,358 - WARNING - sacrebleu - It looks like you forgot to detokenize your test data, which may hurt your score.\n",
            "2021-10-23 17:31:05,358 - WARNING - sacrebleu - If you insist your data is detokenized, or don't care, you can suppress this message with the `force` parameter.\n",
            "2021-10-23 17:31:05,365 - INFO - joeynmt.training - Hooray! New best validation result [ppl]!\n",
            "2021-10-23 17:31:05,791 - INFO - joeynmt.helpers - delete models/xhen_reverse_transformer/4000.ckpt\n",
            "2021-10-23 17:31:05,810 - INFO - joeynmt.training - Example #0\n",
            "2021-10-23 17:31:05,810 - INFO - joeynmt.training - \tSource:     153 . I-SART\n",
            "2021-10-23 17:31:05,810 - INFO - joeynmt.training - \tReference:  153 . SART\n",
            "2021-10-23 17:31:05,811 - INFO - joeynmt.training - \tHypothesis: 11 . TER\n",
            "2021-10-23 17:31:05,811 - INFO - joeynmt.training - Example #1\n",
            "2021-10-23 17:31:05,811 - INFO - joeynmt.training - \tSource:     Oku kungabangela okanye kwamkeleke emlilweni ngoku lumeka .\n",
            "2021-10-23 17:31:05,811 - INFO - joeynmt.training - \tReference:  This could cause or allow the fire to reignite .\n",
            "2021-10-23 17:31:05,811 - INFO - joeynmt.training - \tHypothesis: This is because the fire is usually reduced by the fire .\n",
            "2021-10-23 17:31:05,811 - INFO - joeynmt.training - Example #2\n",
            "2021-10-23 17:31:05,811 - INFO - joeynmt.training - \tSource:     Kumele ukuba inqanawa zinesiqhubi esiphambili kwikqubo ekhawulezileyo .\n",
            "2021-10-23 17:31:05,812 - INFO - joeynmt.training - \tReference:  The details are required in order to refute or substantiate claims for loss or damage of gear subsequently made by the fishing vessels concerned .\n",
            "2021-10-23 17:31:05,812 - INFO - joeynmt.training - \tHypothesis: In order to ensure that the propeller is to be reduced .\n",
            "2021-10-23 17:31:05,812 - INFO - joeynmt.training - Example #3\n",
            "2021-10-23 17:31:05,812 - INFO - joeynmt.training - \tSource:     Imigonyetho ixhathise ngemiqadi enabela inqamleze inqanawe phakatbi kwefreyimci .\n",
            "2021-10-23 17:31:05,812 - INFO - joeynmt.training - \tReference:  Decks are supported by beams which extend athwartships between the frames .\n",
            "2021-10-23 17:31:05,812 - INFO - joeynmt.training - \tHypothesis: The upper deck of the mast is the ship 's side of the ship 's side .\n",
            "2021-10-23 17:31:05,812 - INFO - joeynmt.training - Validation result (greedy) at epoch   9, step     7000: bleu:   5.12, loss: 75983.1016, ppl:  20.0539, duration: 54.2924s\n",
            "2021-10-23 17:31:40,777 - INFO - joeynmt.training - Epoch   9, Step:     7100, Batch Loss:     3.045624, Tokens per Sec:     3831, Lr: 0.000300\n",
            "2021-10-23 17:32:16,053 - INFO - joeynmt.training - Epoch   9, Step:     7200, Batch Loss:     3.054103, Tokens per Sec:     3805, Lr: 0.000300\n",
            "2021-10-23 17:32:51,569 - INFO - joeynmt.training - Epoch   9, Step:     7300, Batch Loss:     3.152484, Tokens per Sec:     3781, Lr: 0.000300\n",
            "2021-10-23 17:33:27,150 - INFO - joeynmt.training - Epoch   9, Step:     7400, Batch Loss:     3.062986, Tokens per Sec:     3864, Lr: 0.000300\n",
            "2021-10-23 17:34:02,237 - INFO - joeynmt.training - Epoch   9, Step:     7500, Batch Loss:     3.009018, Tokens per Sec:     3825, Lr: 0.000300\n",
            "2021-10-23 17:34:37,399 - INFO - joeynmt.training - Epoch   9, Step:     7600, Batch Loss:     3.173305, Tokens per Sec:     3831, Lr: 0.000300\n",
            "2021-10-23 17:35:12,967 - INFO - joeynmt.training - Epoch   9, Step:     7700, Batch Loss:     3.000495, Tokens per Sec:     3671, Lr: 0.000300\n",
            "2021-10-23 17:35:48,225 - INFO - joeynmt.training - Epoch   9, Step:     7800, Batch Loss:     3.010051, Tokens per Sec:     3749, Lr: 0.000300\n",
            "2021-10-23 17:36:09,533 - INFO - joeynmt.training - Epoch   9: total training loss 2694.19\n",
            "2021-10-23 17:36:09,533 - INFO - joeynmt.training - EPOCH 10\n",
            "2021-10-23 17:36:23,286 - INFO - joeynmt.training - Epoch  10, Step:     7900, Batch Loss:     2.928428, Tokens per Sec:     3715, Lr: 0.000300\n",
            "2021-10-23 17:36:58,601 - INFO - joeynmt.training - Epoch  10, Step:     8000, Batch Loss:     3.027466, Tokens per Sec:     3780, Lr: 0.000300\n",
            "2021-10-23 17:37:54,613 - WARNING - sacrebleu - That's 100 lines that end in a tokenized period ('.')\n",
            "2021-10-23 17:37:54,613 - WARNING - sacrebleu - It looks like you forgot to detokenize your test data, which may hurt your score.\n",
            "2021-10-23 17:37:54,613 - WARNING - sacrebleu - If you insist your data is detokenized, or don't care, you can suppress this message with the `force` parameter.\n",
            "2021-10-23 17:37:54,620 - INFO - joeynmt.training - Hooray! New best validation result [ppl]!\n",
            "2021-10-23 17:37:55,026 - INFO - joeynmt.helpers - delete models/xhen_reverse_transformer/5000.ckpt\n",
            "2021-10-23 17:37:55,045 - INFO - joeynmt.training - Example #0\n",
            "2021-10-23 17:37:55,046 - INFO - joeynmt.training - \tSource:     153 . I-SART\n",
            "2021-10-23 17:37:55,046 - INFO - joeynmt.training - \tReference:  153 . SART\n",
            "2021-10-23 17:37:55,046 - INFO - joeynmt.training - \tHypothesis: 119 . TRER\n",
            "2021-10-23 17:37:55,046 - INFO - joeynmt.training - Example #1\n",
            "2021-10-23 17:37:55,046 - INFO - joeynmt.training - \tSource:     Oku kungabangela okanye kwamkeleke emlilweni ngoku lumeka .\n",
            "2021-10-23 17:37:55,046 - INFO - joeynmt.training - \tReference:  This could cause or allow the fire to reignite .\n",
            "2021-10-23 17:37:55,046 - INFO - joeynmt.training - \tHypothesis: This can be done by a fire or more easily easily .\n",
            "2021-10-23 17:37:55,047 - INFO - joeynmt.training - Example #2\n",
            "2021-10-23 17:37:55,047 - INFO - joeynmt.training - \tSource:     Kumele ukuba inqanawa zinesiqhubi esiphambili kwikqubo ekhawulezileyo .\n",
            "2021-10-23 17:37:55,047 - INFO - joeynmt.training - \tReference:  The details are required in order to refute or substantiate claims for loss or damage of gear subsequently made by the fishing vessels concerned .\n",
            "2021-10-23 17:37:55,047 - INFO - joeynmt.training - \tHypothesis: In order to be the ship 's propeller is a considerable speed .\n",
            "2021-10-23 17:37:55,047 - INFO - joeynmt.training - Example #3\n",
            "2021-10-23 17:37:55,047 - INFO - joeynmt.training - \tSource:     Imigonyetho ixhathise ngemiqadi enabela inqamleze inqanawe phakatbi kwefreyimci .\n",
            "2021-10-23 17:37:55,047 - INFO - joeynmt.training - \tReference:  Decks are supported by beams which extend athwartships between the frames .\n",
            "2021-10-23 17:37:55,048 - INFO - joeynmt.training - \tHypothesis: The upper deck is a big big to the ship 's side .\n",
            "2021-10-23 17:37:55,048 - INFO - joeynmt.training - Validation result (greedy) at epoch  10, step     8000: bleu:   5.43, loss: 74091.5469, ppl:  18.6115, duration: 56.4465s\n",
            "2021-10-23 17:38:30,070 - INFO - joeynmt.training - Epoch  10, Step:     8100, Batch Loss:     3.084546, Tokens per Sec:     3799, Lr: 0.000300\n",
            "2021-10-23 17:39:05,208 - INFO - joeynmt.training - Epoch  10, Step:     8200, Batch Loss:     3.162289, Tokens per Sec:     3774, Lr: 0.000300\n",
            "2021-10-23 17:39:40,377 - INFO - joeynmt.training - Epoch  10, Step:     8300, Batch Loss:     2.880425, Tokens per Sec:     3787, Lr: 0.000300\n",
            "2021-10-23 17:40:15,664 - INFO - joeynmt.training - Epoch  10, Step:     8400, Batch Loss:     3.054981, Tokens per Sec:     3780, Lr: 0.000300\n",
            "2021-10-23 17:40:50,790 - INFO - joeynmt.training - Epoch  10, Step:     8500, Batch Loss:     2.889705, Tokens per Sec:     3748, Lr: 0.000300\n",
            "2021-10-23 17:41:26,062 - INFO - joeynmt.training - Epoch  10, Step:     8600, Batch Loss:     3.019602, Tokens per Sec:     3912, Lr: 0.000300\n",
            "2021-10-23 17:42:01,110 - INFO - joeynmt.training - Epoch  10, Step:     8700, Batch Loss:     2.839996, Tokens per Sec:     3700, Lr: 0.000300\n",
            "2021-10-23 17:42:14,078 - INFO - joeynmt.training - Epoch  10: total training loss 2642.84\n",
            "2021-10-23 17:42:14,078 - INFO - joeynmt.training - Training ended after  10 epochs.\n",
            "2021-10-23 17:42:14,078 - INFO - joeynmt.training - Best validation result (greedy) at step     8000:  18.61 ppl.\n",
            "2021-10-23 17:42:14,104 - INFO - joeynmt.prediction - Process device: cuda, n_gpu: 1, batch_size per device: 3600\n",
            "2021-10-23 17:42:14,104 - INFO - joeynmt.prediction - Loading model from models/xhen_reverse_transformer/8000.ckpt\n",
            "2021-10-23 17:42:14,287 - INFO - joeynmt.model - Building an encoder-decoder model...\n",
            "2021-10-23 17:42:14,516 - INFO - joeynmt.model - Enc-dec model built.\n",
            "2021-10-23 17:42:14,580 - INFO - joeynmt.prediction - Decoding on dev set (data/xhen/dev.bpe.en)...\n",
            "2021-10-23 17:45:21,364 - WARNING - sacrebleu - That's 100 lines that end in a tokenized period ('.')\n",
            "2021-10-23 17:45:21,364 - WARNING - sacrebleu - It looks like you forgot to detokenize your test data, which may hurt your score.\n",
            "2021-10-23 17:45:21,364 - WARNING - sacrebleu - If you insist your data is detokenized, or don't care, you can suppress this message with the `force` parameter.\n",
            "2021-10-23 17:45:21,370 - INFO - joeynmt.prediction -  dev bleu[13a]:   6.53 [Beam search decoding with beam size = 5 and alpha = 1.0]\n",
            "2021-10-23 17:45:21,371 - INFO - joeynmt.prediction - Translations saved to: models/xhen_reverse_transformer/00008000.hyps.dev\n",
            "2021-10-23 17:45:21,371 - INFO - joeynmt.prediction - Decoding on test set (data/xhen/test.bpe.en)...\n",
            "2021-10-23 17:54:40,890 - WARNING - sacrebleu - That's 100 lines that end in a tokenized period ('.')\n",
            "2021-10-23 17:54:40,890 - WARNING - sacrebleu - It looks like you forgot to detokenize your test data, which may hurt your score.\n",
            "2021-10-23 17:54:40,890 - WARNING - sacrebleu - If you insist your data is detokenized, or don't care, you can suppress this message with the `force` parameter.\n",
            "2021-10-23 17:54:40,904 - INFO - joeynmt.prediction - test bleu[13a]:   0.83 [Beam search decoding with beam size = 5 and alpha = 1.0]\n",
            "2021-10-23 17:54:40,906 - INFO - joeynmt.prediction - Translations saved to: models/xhen_reverse_transformer/00008000.hyps.test\n"
          ]
        }
      ]
    },
    {
      "cell_type": "code",
      "metadata": {
        "id": "Zr7zzMpEmCFA"
      },
      "source": [
        "# Copy the created models from the notebook storage to google drive for persistant storage \n",
        "!cp -r joeynmt/models/${tgt}${src}_reverse_transformer/ \"$gdrive_path/models/${tgt}${src}_reverse_transformer/\""
      ],
      "execution_count": 18,
      "outputs": []
    },
    {
      "cell_type": "code",
      "metadata": {
        "colab": {
          "base_uri": "https://localhost:8080/"
        },
        "id": "vx1eTU9umCuH",
        "outputId": "3ce344d8-74f1-4127-8e26-9a912b32907a"
      },
      "source": [
        "# Output our validation accuracy\n",
        "! cat \"$gdrive_path/models/${tgt}${src}_reverse_transformer/validations.txt\""
      ],
      "execution_count": 19,
      "outputs": [
        {
          "output_type": "stream",
          "name": "stdout",
          "text": [
            "Steps: 1000\tLoss: 112401.50000\tPPL: 84.39928\tbleu: 0.31721\tLR: 0.00030000\t*\n",
            "Steps: 2000\tLoss: 99845.14062\tPPL: 51.42185\tbleu: 0.80554\tLR: 0.00030000\t*\n",
            "Steps: 3000\tLoss: 91615.40625\tPPL: 37.16262\tbleu: 1.80184\tLR: 0.00030000\t*\n",
            "Steps: 4000\tLoss: 85857.57031\tPPL: 29.60932\tbleu: 2.66721\tLR: 0.00030000\t*\n",
            "Steps: 5000\tLoss: 81840.14844\tPPL: 25.26841\tbleu: 3.06048\tLR: 0.00030000\t*\n",
            "Steps: 6000\tLoss: 78571.08594\tPPL: 22.21020\tbleu: 4.06724\tLR: 0.00030000\t*\n",
            "Steps: 7000\tLoss: 75983.10156\tPPL: 20.05394\tbleu: 5.11519\tLR: 0.00030000\t*\n",
            "Steps: 8000\tLoss: 74091.54688\tPPL: 18.61153\tbleu: 5.42913\tLR: 0.00030000\t*\n"
          ]
        }
      ]
    },
    {
      "cell_type": "code",
      "metadata": {
        "colab": {
          "base_uri": "https://localhost:8080/"
        },
        "id": "TB8YB_ZKd-Go",
        "outputId": "0e5158da-0b42-4020-8e53-7931eb6ffc07"
      },
      "source": [
        "# Test our model\n",
        "! cd joeynmt; python3 -m joeynmt test \"$gdrive_path/models/${tgt}${src}_reverse_transformer/config.yaml\""
      ],
      "execution_count": 20,
      "outputs": [
        {
          "output_type": "stream",
          "name": "stdout",
          "text": [
            "2021-10-23 17:54:52,707 - INFO - root - Hello! This is Joey-NMT (version 1.3).\n",
            "2021-10-23 17:54:52,709 - INFO - joeynmt.data - Building vocabulary...\n",
            "2021-10-23 17:54:52,986 - INFO - joeynmt.data - Loading dev data...\n",
            "2021-10-23 17:54:53,000 - INFO - joeynmt.data - Loading test data...\n",
            "2021-10-23 17:54:53,066 - INFO - joeynmt.data - Data loaded.\n",
            "2021-10-23 17:54:53,090 - INFO - joeynmt.prediction - Process device: cuda, n_gpu: 1, batch_size per device: 3600\n",
            "2021-10-23 17:54:53,090 - INFO - joeynmt.prediction - Loading model from models/xhen_reverse_transformer/best.ckpt\n",
            "2021-10-23 17:54:56,152 - INFO - joeynmt.model - Building an encoder-decoder model...\n",
            "2021-10-23 17:54:56,587 - INFO - joeynmt.model - Enc-dec model built.\n",
            "2021-10-23 17:54:56,701 - INFO - joeynmt.prediction - Decoding on dev set (data/xhen/dev.bpe.en)...\n",
            "2021-10-23 17:58:04,722 - WARNING - sacrebleu - That's 100 lines that end in a tokenized period ('.')\n",
            "2021-10-23 17:58:04,722 - WARNING - sacrebleu - It looks like you forgot to detokenize your test data, which may hurt your score.\n",
            "2021-10-23 17:58:04,723 - WARNING - sacrebleu - If you insist your data is detokenized, or don't care, you can suppress this message with the `force` parameter.\n",
            "2021-10-23 17:58:04,727 - INFO - joeynmt.prediction -  dev bleu[13a]:   6.53 [Beam search decoding with beam size = 5 and alpha = 1.0]\n",
            "2021-10-23 17:58:04,727 - INFO - joeynmt.prediction - Decoding on test set (data/xhen/test.bpe.en)...\n",
            "2021-10-23 18:07:26,180 - WARNING - sacrebleu - That's 100 lines that end in a tokenized period ('.')\n",
            "2021-10-23 18:07:26,180 - WARNING - sacrebleu - It looks like you forgot to detokenize your test data, which may hurt your score.\n",
            "2021-10-23 18:07:26,181 - WARNING - sacrebleu - If you insist your data is detokenized, or don't care, you can suppress this message with the `force` parameter.\n",
            "2021-10-23 18:07:26,194 - INFO - joeynmt.prediction - test bleu[13a]:   0.83 [Beam search decoding with beam size = 5 and alpha = 1.0]\n"
          ]
        }
      ]
    },
    {
      "cell_type": "code",
      "metadata": {
        "id": "8RwGhTxW_1iL",
        "colab": {
          "base_uri": "https://localhost:8080/"
        },
        "outputId": "0d7a72cc-46f7-417d-cb1e-df68ba4f1f58"
      },
      "source": [
        "# Human eval test\n",
        "! cd joeynmt; touch my_input.txt\n",
        "! cd joeynmt; echo $'Esi sahluko sahlulwa - hlulwe kasixhenxe , zicalulwe ngokulandelayo' > my_input.txt\n",
        "! cd joeynmt; python3 -m joeynmt translate \"$gdrive_path/models/${tgt}${src}_reverse_transformer/config.yaml\" < my_input.txt\n",
        "#! echo myinput.txt"
      ],
      "execution_count": 21,
      "outputs": [
        {
          "output_type": "stream",
          "name": "stdout",
          "text": [
            "2021-10-23 18:07:28,634 - INFO - root - Hello! This is Joey-NMT (version 1.3).\n",
            "2021-10-23 18:07:28,940 - INFO - joeynmt.prediction - Loading model from models/xhen_reverse_transformer/best.ckpt\n",
            "2021-10-23 18:07:31,477 - INFO - joeynmt.model - Building an encoder-decoder model...\n",
            "2021-10-23 18:07:31,753 - INFO - joeynmt.model - Enc-dec model built.\n",
            "This is the case of the tendency , however , which is the same .\n"
          ]
        }
      ]
    },
    {
      "cell_type": "code",
      "metadata": {
        "id": "4E0LBTZyBPzT",
        "colab": {
          "base_uri": "https://localhost:8080/"
        },
        "outputId": "db0df771-ff71-4549-f6f2-e7ab2c44ff99"
      },
      "source": [
        "# Human eval test\n",
        "! cd joeynmt; touch my_input.txt\n",
        "! cd joeynmt; echo $'Ewe' > my_input.txt\n",
        "! cd joeynmt; python3 -m joeynmt translate \"$gdrive_path/models/${tgt}${src}_reverse_transformer/config.yaml\" < my_input.txt\n",
        "#! echo myinput.txt"
      ],
      "execution_count": 23,
      "outputs": [
        {
          "output_type": "stream",
          "name": "stdout",
          "text": [
            "2021-10-23 18:12:17,091 - INFO - root - Hello! This is Joey-NMT (version 1.3).\n",
            "2021-10-23 18:12:17,388 - INFO - joeynmt.prediction - Loading model from models/xhen_reverse_transformer/best.ckpt\n",
            "2021-10-23 18:12:19,932 - INFO - joeynmt.model - Building an encoder-decoder model...\n",
            "2021-10-23 18:12:20,216 - INFO - joeynmt.model - Enc-dec model built.\n",
            "Antity .\n"
          ]
        }
      ]
    },
    {
      "cell_type": "code",
      "metadata": {
        "colab": {
          "base_uri": "https://localhost:8080/"
        },
        "id": "J7Gw1uUnH9Bk",
        "outputId": "afae3694-661f-4ee0-9e97-9eb129f18807"
      },
      "source": [
        "# Human eval test\n",
        "! cd joeynmt; touch my_input.txt\n",
        "! cd joeynmt; echo $'' > my_input.txt\n",
        "! cd joeynmt; python3 -m joeynmt translate \"$gdrive_path/models/${tgt}${src}_reverse_transformer/config.yaml\" < my_input.txt\n",
        "#! echo myinput.txt"
      ],
      "execution_count": 22,
      "outputs": [
        {
          "output_type": "stream",
          "name": "stdout",
          "text": [
            "2021-10-23 18:09:33,311 - INFO - root - Hello! This is Joey-NMT (version 1.3).\n",
            "2021-10-23 18:09:33,616 - INFO - joeynmt.prediction - Loading model from models/xhen_reverse_transformer/best.ckpt\n",
            "2021-10-23 18:09:36,162 - INFO - joeynmt.model - Building an encoder-decoder model...\n",
            "2021-10-23 18:09:36,453 - INFO - joeynmt.model - Enc-dec model built.\n"
          ]
        }
      ]
    }
  ]
}
